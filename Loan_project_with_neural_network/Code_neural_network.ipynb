{
 "cells": [
  {
   "cell_type": "markdown",
   "metadata": {},
   "source": [
    "# Loan default detection using Neural network"
   ]
  },
  {
   "cell_type": "markdown",
   "metadata": {},
   "source": [
    "## Our Goal\n",
    "\n",
    "- A model can predict wether or not a borrower will pay back his/her loan. The model is trained with a given historical data that has information on whether or not the borrowers defaulted. The model can be used in the future to assess if a new customer is likely to pay back the loan. "
   ]
  },
  {
   "cell_type": "markdown",
   "metadata": {},
   "source": [
    "## Method\n",
    "- A deep neural network is used to address the problem. Since the data is imbalanced, it will be resampled (both under-sampled and over-sampled) to get better results of prediction. A random forest model is also performed for a comparison.  "
   ]
  },
  {
   "cell_type": "markdown",
   "metadata": {},
   "source": [
    "## Results\n",
    "- A deep neural network with a early stop method and Dropout shows a good performance.\n",
    "- Resampling the imbalanced data helps to improve the prediction on the minor class (class with a small number of observations). \n",
    "- A random forest model also performs well in this imbalanced dataset. However it underperforms the newral network trained by resampled data."
   ]
  },
  {
   "cell_type": "markdown",
   "metadata": {},
   "source": [
    "## Work flow\n",
    "- First, exploratory data analysis\n",
    "- Handle the missing data\n",
    "- Feature engineering\n",
    "- Data prepossessing\n",
    "- Train and evaluate a deep neural network\n",
    "- Tune the model with resampled data\n",
    "- Train a random forest model for a comparison."
   ]
  },
  {
   "cell_type": "code",
   "execution_count": 1,
   "metadata": {},
   "outputs": [],
   "source": [
    "# import libaraies\n",
    "import pandas as pd\n",
    "import seaborn as sns\n",
    "import matplotlib.pyplot as plt\n",
    "%matplotlib inline"
   ]
  },
  {
   "cell_type": "code",
   "execution_count": 2,
   "metadata": {},
   "outputs": [],
   "source": [
    "pd.set_option('display.max_columns', None)"
   ]
  },
  {
   "cell_type": "code",
   "execution_count": 228,
   "metadata": {},
   "outputs": [
    {
     "data": {
      "text/html": [
       "<div>\n",
       "<style scoped>\n",
       "    .dataframe tbody tr th:only-of-type {\n",
       "        vertical-align: middle;\n",
       "    }\n",
       "\n",
       "    .dataframe tbody tr th {\n",
       "        vertical-align: top;\n",
       "    }\n",
       "\n",
       "    .dataframe thead th {\n",
       "        text-align: right;\n",
       "    }\n",
       "</style>\n",
       "<table border=\"1\" class=\"dataframe\">\n",
       "  <thead>\n",
       "    <tr style=\"text-align: right;\">\n",
       "      <th></th>\n",
       "      <th>LoanStatNew</th>\n",
       "      <th>Description</th>\n",
       "    </tr>\n",
       "  </thead>\n",
       "  <tbody>\n",
       "    <tr>\n",
       "      <th>0</th>\n",
       "      <td>loan_amnt</td>\n",
       "      <td>The listed amount of the loan applied for by t...</td>\n",
       "    </tr>\n",
       "    <tr>\n",
       "      <th>1</th>\n",
       "      <td>term</td>\n",
       "      <td>The number of payments on the loan. Values are...</td>\n",
       "    </tr>\n",
       "    <tr>\n",
       "      <th>2</th>\n",
       "      <td>int_rate</td>\n",
       "      <td>Interest Rate on the loan</td>\n",
       "    </tr>\n",
       "    <tr>\n",
       "      <th>3</th>\n",
       "      <td>installment</td>\n",
       "      <td>The monthly payment owed by the borrower if th...</td>\n",
       "    </tr>\n",
       "    <tr>\n",
       "      <th>4</th>\n",
       "      <td>grade</td>\n",
       "      <td>LC assigned loan grade</td>\n",
       "    </tr>\n",
       "    <tr>\n",
       "      <th>5</th>\n",
       "      <td>sub_grade</td>\n",
       "      <td>LC assigned loan subgrade</td>\n",
       "    </tr>\n",
       "    <tr>\n",
       "      <th>6</th>\n",
       "      <td>emp_title</td>\n",
       "      <td>The job title supplied by the Borrower when ap...</td>\n",
       "    </tr>\n",
       "    <tr>\n",
       "      <th>7</th>\n",
       "      <td>emp_length</td>\n",
       "      <td>Employment length in years. Possible values ar...</td>\n",
       "    </tr>\n",
       "    <tr>\n",
       "      <th>8</th>\n",
       "      <td>home_ownership</td>\n",
       "      <td>The home ownership status provided by the borr...</td>\n",
       "    </tr>\n",
       "    <tr>\n",
       "      <th>9</th>\n",
       "      <td>annual_inc</td>\n",
       "      <td>The self-reported annual income provided by th...</td>\n",
       "    </tr>\n",
       "    <tr>\n",
       "      <th>10</th>\n",
       "      <td>verification_status</td>\n",
       "      <td>Indicates if income was verified by LC, not ve...</td>\n",
       "    </tr>\n",
       "    <tr>\n",
       "      <th>11</th>\n",
       "      <td>issue_d</td>\n",
       "      <td>The month which the loan was funded</td>\n",
       "    </tr>\n",
       "    <tr>\n",
       "      <th>12</th>\n",
       "      <td>loan_status</td>\n",
       "      <td>Current status of the loan</td>\n",
       "    </tr>\n",
       "    <tr>\n",
       "      <th>13</th>\n",
       "      <td>purpose</td>\n",
       "      <td>A category provided by the borrower for the lo...</td>\n",
       "    </tr>\n",
       "    <tr>\n",
       "      <th>14</th>\n",
       "      <td>title</td>\n",
       "      <td>The loan title provided by the borrower</td>\n",
       "    </tr>\n",
       "    <tr>\n",
       "      <th>15</th>\n",
       "      <td>zip_code</td>\n",
       "      <td>The first 3 numbers of the zip code provided b...</td>\n",
       "    </tr>\n",
       "    <tr>\n",
       "      <th>16</th>\n",
       "      <td>addr_state</td>\n",
       "      <td>The state provided by the borrower in the loan...</td>\n",
       "    </tr>\n",
       "    <tr>\n",
       "      <th>17</th>\n",
       "      <td>dti</td>\n",
       "      <td>A ratio calculated using the borrower’s total ...</td>\n",
       "    </tr>\n",
       "    <tr>\n",
       "      <th>18</th>\n",
       "      <td>earliest_cr_line</td>\n",
       "      <td>The month the borrower's earliest reported cre...</td>\n",
       "    </tr>\n",
       "    <tr>\n",
       "      <th>19</th>\n",
       "      <td>open_acc</td>\n",
       "      <td>The number of open credit lines in the borrowe...</td>\n",
       "    </tr>\n",
       "    <tr>\n",
       "      <th>20</th>\n",
       "      <td>pub_rec</td>\n",
       "      <td>Number of derogatory public records</td>\n",
       "    </tr>\n",
       "    <tr>\n",
       "      <th>21</th>\n",
       "      <td>revol_bal</td>\n",
       "      <td>Total credit revolving balance</td>\n",
       "    </tr>\n",
       "    <tr>\n",
       "      <th>22</th>\n",
       "      <td>revol_util</td>\n",
       "      <td>Revolving line utilization rate, or the amount...</td>\n",
       "    </tr>\n",
       "    <tr>\n",
       "      <th>23</th>\n",
       "      <td>total_acc</td>\n",
       "      <td>The total number of credit lines currently in ...</td>\n",
       "    </tr>\n",
       "    <tr>\n",
       "      <th>24</th>\n",
       "      <td>initial_list_status</td>\n",
       "      <td>The initial listing status of the loan. Possib...</td>\n",
       "    </tr>\n",
       "    <tr>\n",
       "      <th>25</th>\n",
       "      <td>application_type</td>\n",
       "      <td>Indicates whether the loan is an individual ap...</td>\n",
       "    </tr>\n",
       "    <tr>\n",
       "      <th>26</th>\n",
       "      <td>mort_acc</td>\n",
       "      <td>Number of mortgage accounts.</td>\n",
       "    </tr>\n",
       "    <tr>\n",
       "      <th>27</th>\n",
       "      <td>pub_rec_bankruptcies</td>\n",
       "      <td>Number of public record bankruptcies</td>\n",
       "    </tr>\n",
       "  </tbody>\n",
       "</table>\n",
       "</div>"
      ],
      "text/plain": [
       "             LoanStatNew                                        Description\n",
       "0              loan_amnt  The listed amount of the loan applied for by t...\n",
       "1                   term  The number of payments on the loan. Values are...\n",
       "2               int_rate                          Interest Rate on the loan\n",
       "3            installment  The monthly payment owed by the borrower if th...\n",
       "4                  grade                             LC assigned loan grade\n",
       "5              sub_grade                          LC assigned loan subgrade\n",
       "6              emp_title  The job title supplied by the Borrower when ap...\n",
       "7             emp_length  Employment length in years. Possible values ar...\n",
       "8         home_ownership  The home ownership status provided by the borr...\n",
       "9             annual_inc  The self-reported annual income provided by th...\n",
       "10   verification_status  Indicates if income was verified by LC, not ve...\n",
       "11               issue_d                The month which the loan was funded\n",
       "12           loan_status                         Current status of the loan\n",
       "13               purpose  A category provided by the borrower for the lo...\n",
       "14                 title            The loan title provided by the borrower\n",
       "15              zip_code  The first 3 numbers of the zip code provided b...\n",
       "16            addr_state  The state provided by the borrower in the loan...\n",
       "17                   dti  A ratio calculated using the borrower’s total ...\n",
       "18      earliest_cr_line  The month the borrower's earliest reported cre...\n",
       "19              open_acc  The number of open credit lines in the borrowe...\n",
       "20               pub_rec                Number of derogatory public records\n",
       "21             revol_bal                     Total credit revolving balance\n",
       "22            revol_util  Revolving line utilization rate, or the amount...\n",
       "23             total_acc  The total number of credit lines currently in ...\n",
       "24   initial_list_status  The initial listing status of the loan. Possib...\n",
       "25      application_type  Indicates whether the loan is an individual ap...\n",
       "26              mort_acc                       Number of mortgage accounts.\n",
       "27  pub_rec_bankruptcies               Number of public record bankruptcies"
      ]
     },
     "execution_count": 228,
     "metadata": {},
     "output_type": "execute_result"
    }
   ],
   "source": [
    "# check information (explanation) of the data columns\n",
    "df_schemma = pd.read_csv('../DATA/lending_club_info.csv')\n",
    "df_schemma"
   ]
  },
  {
   "cell_type": "code",
   "execution_count": 4,
   "metadata": {
    "scrolled": true
   },
   "outputs": [
    {
     "data": {
      "text/html": [
       "<div>\n",
       "<style scoped>\n",
       "    .dataframe tbody tr th:only-of-type {\n",
       "        vertical-align: middle;\n",
       "    }\n",
       "\n",
       "    .dataframe tbody tr th {\n",
       "        vertical-align: top;\n",
       "    }\n",
       "\n",
       "    .dataframe thead th {\n",
       "        text-align: right;\n",
       "    }\n",
       "</style>\n",
       "<table border=\"1\" class=\"dataframe\">\n",
       "  <thead>\n",
       "    <tr style=\"text-align: right;\">\n",
       "      <th></th>\n",
       "      <th>loan_amnt</th>\n",
       "      <th>term</th>\n",
       "      <th>int_rate</th>\n",
       "      <th>installment</th>\n",
       "      <th>grade</th>\n",
       "      <th>sub_grade</th>\n",
       "      <th>emp_title</th>\n",
       "      <th>emp_length</th>\n",
       "      <th>home_ownership</th>\n",
       "      <th>annual_inc</th>\n",
       "      <th>verification_status</th>\n",
       "      <th>issue_d</th>\n",
       "      <th>loan_status</th>\n",
       "      <th>purpose</th>\n",
       "      <th>title</th>\n",
       "      <th>dti</th>\n",
       "      <th>earliest_cr_line</th>\n",
       "      <th>open_acc</th>\n",
       "      <th>pub_rec</th>\n",
       "      <th>revol_bal</th>\n",
       "      <th>revol_util</th>\n",
       "      <th>total_acc</th>\n",
       "      <th>initial_list_status</th>\n",
       "      <th>application_type</th>\n",
       "      <th>mort_acc</th>\n",
       "      <th>pub_rec_bankruptcies</th>\n",
       "      <th>address</th>\n",
       "    </tr>\n",
       "  </thead>\n",
       "  <tbody>\n",
       "    <tr>\n",
       "      <th>0</th>\n",
       "      <td>10000.0</td>\n",
       "      <td>36 months</td>\n",
       "      <td>11.44</td>\n",
       "      <td>329.48</td>\n",
       "      <td>B</td>\n",
       "      <td>B4</td>\n",
       "      <td>Marketing</td>\n",
       "      <td>10+ years</td>\n",
       "      <td>RENT</td>\n",
       "      <td>117000.0</td>\n",
       "      <td>Not Verified</td>\n",
       "      <td>Jan-2015</td>\n",
       "      <td>Fully Paid</td>\n",
       "      <td>vacation</td>\n",
       "      <td>Vacation</td>\n",
       "      <td>26.24</td>\n",
       "      <td>Jun-1990</td>\n",
       "      <td>16.0</td>\n",
       "      <td>0.0</td>\n",
       "      <td>36369.0</td>\n",
       "      <td>41.8</td>\n",
       "      <td>25.0</td>\n",
       "      <td>w</td>\n",
       "      <td>INDIVIDUAL</td>\n",
       "      <td>0.0</td>\n",
       "      <td>0.0</td>\n",
       "      <td>0174 Michelle Gateway\\nMendozaberg, OK 22690</td>\n",
       "    </tr>\n",
       "    <tr>\n",
       "      <th>1</th>\n",
       "      <td>8000.0</td>\n",
       "      <td>36 months</td>\n",
       "      <td>11.99</td>\n",
       "      <td>265.68</td>\n",
       "      <td>B</td>\n",
       "      <td>B5</td>\n",
       "      <td>Credit analyst</td>\n",
       "      <td>4 years</td>\n",
       "      <td>MORTGAGE</td>\n",
       "      <td>65000.0</td>\n",
       "      <td>Not Verified</td>\n",
       "      <td>Jan-2015</td>\n",
       "      <td>Fully Paid</td>\n",
       "      <td>debt_consolidation</td>\n",
       "      <td>Debt consolidation</td>\n",
       "      <td>22.05</td>\n",
       "      <td>Jul-2004</td>\n",
       "      <td>17.0</td>\n",
       "      <td>0.0</td>\n",
       "      <td>20131.0</td>\n",
       "      <td>53.3</td>\n",
       "      <td>27.0</td>\n",
       "      <td>f</td>\n",
       "      <td>INDIVIDUAL</td>\n",
       "      <td>3.0</td>\n",
       "      <td>0.0</td>\n",
       "      <td>1076 Carney Fort Apt. 347\\nLoganmouth, SD 05113</td>\n",
       "    </tr>\n",
       "    <tr>\n",
       "      <th>2</th>\n",
       "      <td>15600.0</td>\n",
       "      <td>36 months</td>\n",
       "      <td>10.49</td>\n",
       "      <td>506.97</td>\n",
       "      <td>B</td>\n",
       "      <td>B3</td>\n",
       "      <td>Statistician</td>\n",
       "      <td>&lt; 1 year</td>\n",
       "      <td>RENT</td>\n",
       "      <td>43057.0</td>\n",
       "      <td>Source Verified</td>\n",
       "      <td>Jan-2015</td>\n",
       "      <td>Fully Paid</td>\n",
       "      <td>credit_card</td>\n",
       "      <td>Credit card refinancing</td>\n",
       "      <td>12.79</td>\n",
       "      <td>Aug-2007</td>\n",
       "      <td>13.0</td>\n",
       "      <td>0.0</td>\n",
       "      <td>11987.0</td>\n",
       "      <td>92.2</td>\n",
       "      <td>26.0</td>\n",
       "      <td>f</td>\n",
       "      <td>INDIVIDUAL</td>\n",
       "      <td>0.0</td>\n",
       "      <td>0.0</td>\n",
       "      <td>87025 Mark Dale Apt. 269\\nNew Sabrina, WV 05113</td>\n",
       "    </tr>\n",
       "    <tr>\n",
       "      <th>3</th>\n",
       "      <td>7200.0</td>\n",
       "      <td>36 months</td>\n",
       "      <td>6.49</td>\n",
       "      <td>220.65</td>\n",
       "      <td>A</td>\n",
       "      <td>A2</td>\n",
       "      <td>Client Advocate</td>\n",
       "      <td>6 years</td>\n",
       "      <td>RENT</td>\n",
       "      <td>54000.0</td>\n",
       "      <td>Not Verified</td>\n",
       "      <td>Nov-2014</td>\n",
       "      <td>Fully Paid</td>\n",
       "      <td>credit_card</td>\n",
       "      <td>Credit card refinancing</td>\n",
       "      <td>2.60</td>\n",
       "      <td>Sep-2006</td>\n",
       "      <td>6.0</td>\n",
       "      <td>0.0</td>\n",
       "      <td>5472.0</td>\n",
       "      <td>21.5</td>\n",
       "      <td>13.0</td>\n",
       "      <td>f</td>\n",
       "      <td>INDIVIDUAL</td>\n",
       "      <td>0.0</td>\n",
       "      <td>0.0</td>\n",
       "      <td>823 Reid Ford\\nDelacruzside, MA 00813</td>\n",
       "    </tr>\n",
       "    <tr>\n",
       "      <th>4</th>\n",
       "      <td>24375.0</td>\n",
       "      <td>60 months</td>\n",
       "      <td>17.27</td>\n",
       "      <td>609.33</td>\n",
       "      <td>C</td>\n",
       "      <td>C5</td>\n",
       "      <td>Destiny Management Inc.</td>\n",
       "      <td>9 years</td>\n",
       "      <td>MORTGAGE</td>\n",
       "      <td>55000.0</td>\n",
       "      <td>Verified</td>\n",
       "      <td>Apr-2013</td>\n",
       "      <td>Charged Off</td>\n",
       "      <td>credit_card</td>\n",
       "      <td>Credit Card Refinance</td>\n",
       "      <td>33.95</td>\n",
       "      <td>Mar-1999</td>\n",
       "      <td>13.0</td>\n",
       "      <td>0.0</td>\n",
       "      <td>24584.0</td>\n",
       "      <td>69.8</td>\n",
       "      <td>43.0</td>\n",
       "      <td>f</td>\n",
       "      <td>INDIVIDUAL</td>\n",
       "      <td>1.0</td>\n",
       "      <td>0.0</td>\n",
       "      <td>679 Luna Roads\\nGreggshire, VA 11650</td>\n",
       "    </tr>\n",
       "  </tbody>\n",
       "</table>\n",
       "</div>"
      ],
      "text/plain": [
       "   loan_amnt        term  int_rate  installment grade sub_grade  \\\n",
       "0    10000.0   36 months     11.44       329.48     B        B4   \n",
       "1     8000.0   36 months     11.99       265.68     B        B5   \n",
       "2    15600.0   36 months     10.49       506.97     B        B3   \n",
       "3     7200.0   36 months      6.49       220.65     A        A2   \n",
       "4    24375.0   60 months     17.27       609.33     C        C5   \n",
       "\n",
       "                 emp_title emp_length home_ownership  annual_inc  \\\n",
       "0                Marketing  10+ years           RENT    117000.0   \n",
       "1          Credit analyst     4 years       MORTGAGE     65000.0   \n",
       "2             Statistician   < 1 year           RENT     43057.0   \n",
       "3          Client Advocate    6 years           RENT     54000.0   \n",
       "4  Destiny Management Inc.    9 years       MORTGAGE     55000.0   \n",
       "\n",
       "  verification_status   issue_d  loan_status             purpose  \\\n",
       "0        Not Verified  Jan-2015   Fully Paid            vacation   \n",
       "1        Not Verified  Jan-2015   Fully Paid  debt_consolidation   \n",
       "2     Source Verified  Jan-2015   Fully Paid         credit_card   \n",
       "3        Not Verified  Nov-2014   Fully Paid         credit_card   \n",
       "4            Verified  Apr-2013  Charged Off         credit_card   \n",
       "\n",
       "                     title    dti earliest_cr_line  open_acc  pub_rec  \\\n",
       "0                 Vacation  26.24         Jun-1990      16.0      0.0   \n",
       "1       Debt consolidation  22.05         Jul-2004      17.0      0.0   \n",
       "2  Credit card refinancing  12.79         Aug-2007      13.0      0.0   \n",
       "3  Credit card refinancing   2.60         Sep-2006       6.0      0.0   \n",
       "4    Credit Card Refinance  33.95         Mar-1999      13.0      0.0   \n",
       "\n",
       "   revol_bal  revol_util  total_acc initial_list_status application_type  \\\n",
       "0    36369.0        41.8       25.0                   w       INDIVIDUAL   \n",
       "1    20131.0        53.3       27.0                   f       INDIVIDUAL   \n",
       "2    11987.0        92.2       26.0                   f       INDIVIDUAL   \n",
       "3     5472.0        21.5       13.0                   f       INDIVIDUAL   \n",
       "4    24584.0        69.8       43.0                   f       INDIVIDUAL   \n",
       "\n",
       "   mort_acc  pub_rec_bankruptcies  \\\n",
       "0       0.0                   0.0   \n",
       "1       3.0                   0.0   \n",
       "2       0.0                   0.0   \n",
       "3       0.0                   0.0   \n",
       "4       1.0                   0.0   \n",
       "\n",
       "                                           address  \n",
       "0     0174 Michelle Gateway\\nMendozaberg, OK 22690  \n",
       "1  1076 Carney Fort Apt. 347\\nLoganmouth, SD 05113  \n",
       "2  87025 Mark Dale Apt. 269\\nNew Sabrina, WV 05113  \n",
       "3            823 Reid Ford\\nDelacruzside, MA 00813  \n",
       "4             679 Luna Roads\\nGreggshire, VA 11650  "
      ]
     },
     "execution_count": 4,
     "metadata": {},
     "output_type": "execute_result"
    }
   ],
   "source": [
    "# load the data\n",
    "df = pd.read_csv('../DATA/lending_club_loan_two.csv')\n",
    "df.head()"
   ]
  },
  {
   "cell_type": "markdown",
   "metadata": {},
   "source": [
    "# Exploratory data analysis and handling the missing values"
   ]
  },
  {
   "cell_type": "code",
   "execution_count": 5,
   "metadata": {},
   "outputs": [
    {
     "name": "stdout",
     "output_type": "stream",
     "text": [
      "<class 'pandas.core.frame.DataFrame'>\n",
      "RangeIndex: 396030 entries, 0 to 396029\n",
      "Data columns (total 27 columns):\n",
      " #   Column                Non-Null Count   Dtype  \n",
      "---  ------                --------------   -----  \n",
      " 0   loan_amnt             396030 non-null  float64\n",
      " 1   term                  396030 non-null  object \n",
      " 2   int_rate              396030 non-null  float64\n",
      " 3   installment           396030 non-null  float64\n",
      " 4   grade                 396030 non-null  object \n",
      " 5   sub_grade             396030 non-null  object \n",
      " 6   emp_title             373103 non-null  object \n",
      " 7   emp_length            377729 non-null  object \n",
      " 8   home_ownership        396030 non-null  object \n",
      " 9   annual_inc            396030 non-null  float64\n",
      " 10  verification_status   396030 non-null  object \n",
      " 11  issue_d               396030 non-null  object \n",
      " 12  loan_status           396030 non-null  object \n",
      " 13  purpose               396030 non-null  object \n",
      " 14  title                 394275 non-null  object \n",
      " 15  dti                   396030 non-null  float64\n",
      " 16  earliest_cr_line      396030 non-null  object \n",
      " 17  open_acc              396030 non-null  float64\n",
      " 18  pub_rec               396030 non-null  float64\n",
      " 19  revol_bal             396030 non-null  float64\n",
      " 20  revol_util            395754 non-null  float64\n",
      " 21  total_acc             396030 non-null  float64\n",
      " 22  initial_list_status   396030 non-null  object \n",
      " 23  application_type      396030 non-null  object \n",
      " 24  mort_acc              358235 non-null  float64\n",
      " 25  pub_rec_bankruptcies  395495 non-null  float64\n",
      " 26  address               396030 non-null  object \n",
      "dtypes: float64(12), object(15)\n",
      "memory usage: 81.6+ MB\n"
     ]
    }
   ],
   "source": [
    "# get the data info\n",
    "df.info()"
   ]
  },
  {
   "cell_type": "code",
   "execution_count": 6,
   "metadata": {},
   "outputs": [
    {
     "data": {
      "text/plain": [
       "<matplotlib.axes._subplots.AxesSubplot at 0x1a279ad650>"
      ]
     },
     "execution_count": 6,
     "metadata": {},
     "output_type": "execute_result"
    },
    {
     "data": {
      "image/png": "[encoded data removed]",
      "text/plain": [
       "<Figure size 432x288 with 1 Axes>"
      ]
     },
     "metadata": {
      "needs_background": "light"
     },
     "output_type": "display_data"
    }
   ],
   "source": [
    "# check the class distribution\n",
    "sns.countplot(x='loan_status',data = df)"
   ]
  },
  {
   "cell_type": "code",
   "execution_count": 7,
   "metadata": {},
   "outputs": [
    {
     "data": {
      "text/plain": [
       "loan_amnt                   0\n",
       "term                        0\n",
       "int_rate                    0\n",
       "installment                 0\n",
       "grade                       0\n",
       "sub_grade                   0\n",
       "emp_title               22927\n",
       "emp_length              18301\n",
       "home_ownership              0\n",
       "annual_inc                  0\n",
       "verification_status         0\n",
       "issue_d                     0\n",
       "loan_status                 0\n",
       "purpose                     0\n",
       "title                    1755\n",
       "dti                         0\n",
       "earliest_cr_line            0\n",
       "open_acc                    0\n",
       "pub_rec                     0\n",
       "revol_bal                   0\n",
       "revol_util                276\n",
       "total_acc                   0\n",
       "initial_list_status         0\n",
       "application_type            0\n",
       "mort_acc                37795\n",
       "pub_rec_bankruptcies      535\n",
       "address                     0\n",
       "dtype: int64"
      ]
     },
     "execution_count": 7,
     "metadata": {},
     "output_type": "execute_result"
    }
   ],
   "source": [
    "# check for missing value\n",
    "df.isnull().sum()"
   ]
  },
  {
   "cell_type": "markdown",
   "metadata": {},
   "source": [
    "### 'emp_title' column"
   ]
  },
  {
   "cell_type": "code",
   "execution_count": 8,
   "metadata": {},
   "outputs": [
    {
     "data": {
      "text/plain": [
       "173105"
      ]
     },
     "execution_count": 8,
     "metadata": {},
     "output_type": "execute_result"
    }
   ],
   "source": [
    "df['emp_title'].nunique()"
   ]
  },
  {
   "cell_type": "markdown",
   "metadata": {},
   "source": [
    "- The 'emp_title' column has high number of unique values. It's hard to use one-hot encoding. We'll drop the column. "
   ]
  },
  {
   "cell_type": "code",
   "execution_count": 9,
   "metadata": {},
   "outputs": [],
   "source": [
    "df = df.drop('emp_title', axis = 1)"
   ]
  },
  {
   "cell_type": "markdown",
   "metadata": {},
   "source": [
    "### 'emp_length' column\n",
    "- We will check if emp_length features will affect the outcome."
   ]
  },
  {
   "cell_type": "code",
   "execution_count": 10,
   "metadata": {},
   "outputs": [
    {
     "data": {
      "text/plain": [
       "array(['10+ years', '4 years', '< 1 year', '6 years', '9 years',\n",
       "       '2 years', '3 years', '8 years', '7 years', '5 years', '1 year',\n",
       "       nan], dtype=object)"
      ]
     },
     "execution_count": 10,
     "metadata": {},
     "output_type": "execute_result"
    }
   ],
   "source": [
    "df['emp_length'].unique()"
   ]
  },
  {
   "cell_type": "markdown",
   "metadata": {},
   "source": [
    "- Extract the number from the strings. "
   ]
  },
  {
   "cell_type": "code",
   "execution_count": 11,
   "metadata": {},
   "outputs": [],
   "source": [
    "df['emp_length'] = df['emp_length'].str.extract('(\\d+)').astype(float)"
   ]
  },
  {
   "cell_type": "code",
   "execution_count": 12,
   "metadata": {},
   "outputs": [
    {
     "data": {
      "text/plain": [
       "<matplotlib.axes._subplots.AxesSubplot at 0x1a1b9adb10>"
      ]
     },
     "execution_count": 12,
     "metadata": {},
     "output_type": "execute_result"
    },
    {
     "data": {
      "image/png": "[encoded data removed]",
      "text/plain": [
       "<Figure size 864x432 with 1 Axes>"
      ]
     },
     "metadata": {
      "needs_background": "light"
     },
     "output_type": "display_data"
    }
   ],
   "source": [
    "fig = plt.figure(figsize=(12,6))\n",
    "sns.countplot(x='emp_length',data = df, hue = 'loan_status')"
   ]
  },
  {
   "cell_type": "code",
   "execution_count": 13,
   "metadata": {},
   "outputs": [],
   "source": [
    "emp_fully_paid = df[df['loan_status'] == 'Fully Paid'].groupby('emp_length')['loan_status'].count()\n",
    "emp_charged_off = df[df['loan_status'] == 'Charged Off'].groupby('emp_length')['loan_status'].count()"
   ]
  },
  {
   "cell_type": "code",
   "execution_count": 14,
   "metadata": {},
   "outputs": [
    {
     "data": {
      "text/plain": [
       "emp_length\n",
       "1.0     0.203395\n",
       "2.0     0.193262\n",
       "3.0     0.195231\n",
       "4.0     0.192385\n",
       "5.0     0.192187\n",
       "6.0     0.189194\n",
       "7.0     0.194774\n",
       "8.0     0.199760\n",
       "9.0     0.200470\n",
       "10.0    0.184186\n",
       "Name: loan_status, dtype: float64"
      ]
     },
     "execution_count": 14,
     "metadata": {},
     "output_type": "execute_result"
    }
   ],
   "source": [
    "# Percentage of 'charged off'  of each 'emp_length' group\n",
    "emp_charged_off/(emp_fully_paid + emp_charged_off)"
   ]
  },
  {
   "cell_type": "markdown",
   "metadata": {},
   "source": [
    "- we get almost the same percentage for all the 'emp_length' groups. So the features might not affect the outcome. we will drop the feature."
   ]
  },
  {
   "cell_type": "code",
   "execution_count": 15,
   "metadata": {},
   "outputs": [],
   "source": [
    "df = df.drop('emp_length',axis = 1)"
   ]
  },
  {
   "cell_type": "markdown",
   "metadata": {},
   "source": [
    "### 'title' column"
   ]
  },
  {
   "cell_type": "code",
   "execution_count": 16,
   "metadata": {},
   "outputs": [
    {
     "data": {
      "text/plain": [
       "Debt consolidation           152472\n",
       "Credit card refinancing       51487\n",
       "Home improvement              15264\n",
       "Other                         12930\n",
       "Debt Consolidation            11608\n",
       "Major purchase                 4769\n",
       "Consolidation                  3852\n",
       "debt consolidation             3547\n",
       "Business                       2949\n",
       "Debt Consolidation Loan        2864\n",
       "Medical expenses               2742\n",
       "Car financing                  2139\n",
       "Credit Card Consolidation      1775\n",
       "Vacation                       1717\n",
       "Moving and relocation          1689\n",
       "consolidation                  1595\n",
       "Personal Loan                  1591\n",
       "Consolidation Loan             1299\n",
       "Home Improvement               1268\n",
       "Home buying                    1183\n",
       "Credit Card Refinance          1094\n",
       "Credit Card Payoff             1052\n",
       "Consolidate                     919\n",
       "Personal                        858\n",
       "Loan                            751\n",
       "Credit Card Loan                627\n",
       "Freedom                         579\n",
       "consolidate                     564\n",
       "personal                        557\n",
       "personal loan                   550\n",
       "Name: title, dtype: int64"
      ]
     },
     "execution_count": 16,
     "metadata": {},
     "output_type": "execute_result"
    }
   ],
   "source": [
    "df['title'].value_counts().sort_values(ascending = False)[0:30]"
   ]
  },
  {
   "cell_type": "markdown",
   "metadata": {},
   "source": [
    "- Drop the column"
   ]
  },
  {
   "cell_type": "code",
   "execution_count": 17,
   "metadata": {},
   "outputs": [],
   "source": [
    "df = df.drop('title', axis = 1)"
   ]
  },
  {
   "cell_type": "markdown",
   "metadata": {},
   "source": [
    "### 'revol_util' column"
   ]
  },
  {
   "cell_type": "code",
   "execution_count": 18,
   "metadata": {},
   "outputs": [
    {
     "data": {
      "text/plain": [
       "loan_amnt                   0\n",
       "term                        0\n",
       "int_rate                    0\n",
       "installment                 0\n",
       "grade                       0\n",
       "sub_grade                   0\n",
       "home_ownership              0\n",
       "annual_inc                  0\n",
       "verification_status         0\n",
       "issue_d                     0\n",
       "loan_status                 0\n",
       "purpose                     0\n",
       "dti                         0\n",
       "earliest_cr_line            0\n",
       "open_acc                    0\n",
       "pub_rec                     0\n",
       "revol_bal                   0\n",
       "revol_util                276\n",
       "total_acc                   0\n",
       "initial_list_status         0\n",
       "application_type            0\n",
       "mort_acc                37795\n",
       "pub_rec_bankruptcies      535\n",
       "address                     0\n",
       "dtype: int64"
      ]
     },
     "execution_count": 18,
     "metadata": {},
     "output_type": "execute_result"
    }
   ],
   "source": [
    "df.isnull().sum()"
   ]
  },
  {
   "cell_type": "code",
   "execution_count": 19,
   "metadata": {},
   "outputs": [
    {
     "data": {
      "text/plain": [
       "22    Revolving line utilization rate, or the amount...\n",
       "Name: Description, dtype: object"
      ]
     },
     "execution_count": 19,
     "metadata": {},
     "output_type": "execute_result"
    }
   ],
   "source": [
    "df_schemma[df_schemma['LoanStatNew']=='revol_util']['Description']"
   ]
  },
  {
   "cell_type": "code",
   "execution_count": 20,
   "metadata": {},
   "outputs": [
    {
     "data": {
      "text/plain": [
       "array([ 41.8 ,  53.3 ,  92.2 , ...,  56.26, 111.4 , 128.1 ])"
      ]
     },
     "execution_count": 20,
     "metadata": {},
     "output_type": "execute_result"
    }
   ],
   "source": [
    "df['revol_util'].unique()"
   ]
  },
  {
   "cell_type": "markdown",
   "metadata": {},
   "source": [
    "- Fill in the missing values with mean. "
   ]
  },
  {
   "cell_type": "code",
   "execution_count": 21,
   "metadata": {},
   "outputs": [],
   "source": [
    "mean_revol_util = df['revol_util'].mean()\n",
    "df['revol_util'] = df['revol_util'].fillna(mean_revol_util)"
   ]
  },
  {
   "cell_type": "code",
   "execution_count": 22,
   "metadata": {},
   "outputs": [
    {
     "data": {
      "text/plain": [
       "0"
      ]
     },
     "execution_count": 22,
     "metadata": {},
     "output_type": "execute_result"
    }
   ],
   "source": [
    "df['revol_util'].isnull().sum()"
   ]
  },
  {
   "cell_type": "markdown",
   "metadata": {},
   "source": [
    "### 'mort_acc' column"
   ]
  },
  {
   "cell_type": "code",
   "execution_count": 23,
   "metadata": {},
   "outputs": [
    {
     "data": {
      "text/plain": [
       "array([ 0.,  3.,  1.,  4.,  2.,  6.,  5., nan, 10.,  7., 12., 11.,  8.,\n",
       "        9., 13., 14., 22., 34., 15., 25., 19., 16., 17., 32., 18., 24.,\n",
       "       21., 20., 31., 28., 30., 23., 26., 27.])"
      ]
     },
     "execution_count": 23,
     "metadata": {},
     "output_type": "execute_result"
    }
   ],
   "source": [
    "df['mort_acc'].unique()"
   ]
  },
  {
   "cell_type": "code",
   "execution_count": 24,
   "metadata": {},
   "outputs": [
    {
     "data": {
      "text/plain": [
       "<matplotlib.axes._subplots.AxesSubplot at 0x1a1a4fae10>"
      ]
     },
     "execution_count": 24,
     "metadata": {},
     "output_type": "execute_result"
    },
    {
     "data": {
      "image/png": "[encoded data removed]",
      "text/plain": [
       "<Figure size 1080x432 with 1 Axes>"
      ]
     },
     "metadata": {
      "needs_background": "light"
     },
     "output_type": "display_data"
    }
   ],
   "source": [
    "fig = plt.figure(figsize=(15,6))\n",
    "sns.countplot(x='mort_acc',data=df)"
   ]
  },
  {
   "cell_type": "markdown",
   "metadata": {},
   "source": [
    "- Fill in the missing values with mode. "
   ]
  },
  {
   "cell_type": "code",
   "execution_count": 25,
   "metadata": {},
   "outputs": [],
   "source": [
    "mode_mort_acc = df['mort_acc'].mode()[0]\n",
    "df['mort_acc'] = df['mort_acc'].fillna(mode_mort_acc)"
   ]
  },
  {
   "cell_type": "code",
   "execution_count": 26,
   "metadata": {},
   "outputs": [
    {
     "data": {
      "text/plain": [
       "0"
      ]
     },
     "execution_count": 26,
     "metadata": {},
     "output_type": "execute_result"
    }
   ],
   "source": [
    "df['mort_acc'].isnull().sum()"
   ]
  },
  {
   "cell_type": "markdown",
   "metadata": {},
   "source": [
    "### 'pub_rec_bankruptcies' column"
   ]
  },
  {
   "cell_type": "code",
   "execution_count": 27,
   "metadata": {},
   "outputs": [
    {
     "data": {
      "text/plain": [
       "loan_amnt                 0\n",
       "term                      0\n",
       "int_rate                  0\n",
       "installment               0\n",
       "grade                     0\n",
       "sub_grade                 0\n",
       "home_ownership            0\n",
       "annual_inc                0\n",
       "verification_status       0\n",
       "issue_d                   0\n",
       "loan_status               0\n",
       "purpose                   0\n",
       "dti                       0\n",
       "earliest_cr_line          0\n",
       "open_acc                  0\n",
       "pub_rec                   0\n",
       "revol_bal                 0\n",
       "revol_util                0\n",
       "total_acc                 0\n",
       "initial_list_status       0\n",
       "application_type          0\n",
       "mort_acc                  0\n",
       "pub_rec_bankruptcies    535\n",
       "address                   0\n",
       "dtype: int64"
      ]
     },
     "execution_count": 27,
     "metadata": {},
     "output_type": "execute_result"
    }
   ],
   "source": [
    "df.isnull().sum()"
   ]
  },
  {
   "cell_type": "code",
   "execution_count": 28,
   "metadata": {},
   "outputs": [
    {
     "data": {
      "text/plain": [
       "0         0.0\n",
       "1         0.0\n",
       "2         0.0\n",
       "3         0.0\n",
       "4         0.0\n",
       "         ... \n",
       "396025    0.0\n",
       "396026    0.0\n",
       "396027    0.0\n",
       "396028    0.0\n",
       "396029    0.0\n",
       "Name: pub_rec_bankruptcies, Length: 396030, dtype: float64"
      ]
     },
     "execution_count": 28,
     "metadata": {},
     "output_type": "execute_result"
    }
   ],
   "source": [
    "df['pub_rec_bankruptcies']"
   ]
  },
  {
   "cell_type": "code",
   "execution_count": 29,
   "metadata": {},
   "outputs": [
    {
     "data": {
      "text/plain": [
       "<matplotlib.axes._subplots.AxesSubplot at 0x1a1b86f590>"
      ]
     },
     "execution_count": 29,
     "metadata": {},
     "output_type": "execute_result"
    },
    {
     "data": {
      "image/png": "[encoded data removed]",
      "text/plain": [
       "<Figure size 1080x432 with 1 Axes>"
      ]
     },
     "metadata": {
      "needs_background": "light"
     },
     "output_type": "display_data"
    }
   ],
   "source": [
    "fig = plt.figure(figsize=(15,6))\n",
    "sns.countplot(x='pub_rec_bankruptcies',data=df)"
   ]
  },
  {
   "cell_type": "markdown",
   "metadata": {},
   "source": [
    "- Fill in the missing values with mode. "
   ]
  },
  {
   "cell_type": "code",
   "execution_count": 30,
   "metadata": {},
   "outputs": [],
   "source": [
    "mode_pub_rec_bankruptcies = df['pub_rec_bankruptcies'].mode()[0]\n",
    "df['pub_rec_bankruptcies'] = df['pub_rec_bankruptcies'].fillna(mode_pub_rec_bankruptcies)"
   ]
  },
  {
   "cell_type": "code",
   "execution_count": 31,
   "metadata": {},
   "outputs": [
    {
     "data": {
      "text/plain": [
       "0"
      ]
     },
     "execution_count": 31,
     "metadata": {},
     "output_type": "execute_result"
    }
   ],
   "source": [
    "df['pub_rec_bankruptcies'].isnull().sum()"
   ]
  },
  {
   "cell_type": "markdown",
   "metadata": {},
   "source": [
    "# Feature engineering"
   ]
  },
  {
   "cell_type": "code",
   "execution_count": 32,
   "metadata": {},
   "outputs": [],
   "source": [
    "# create a copy of the dataframe\n",
    "df_fea = df.copy()"
   ]
  },
  {
   "cell_type": "markdown",
   "metadata": {},
   "source": [
    "## 'term' column\n",
    "- Extract the number from the objects"
   ]
  },
  {
   "cell_type": "code",
   "execution_count": 33,
   "metadata": {},
   "outputs": [
    {
     "data": {
      "text/plain": [
       "0         36.0\n",
       "1         36.0\n",
       "2         36.0\n",
       "3         36.0\n",
       "4         60.0\n",
       "          ... \n",
       "396025    60.0\n",
       "396026    36.0\n",
       "396027    36.0\n",
       "396028    60.0\n",
       "396029    36.0\n",
       "Name: term, Length: 396030, dtype: float64"
      ]
     },
     "execution_count": 33,
     "metadata": {},
     "output_type": "execute_result"
    }
   ],
   "source": [
    "df_fea['term'] = df_fea['term'].apply(lambda x: str(x).split()[0])\n",
    "df_fea['term'] = df_fea['term'].astype(float)\n",
    "df_fea['term']"
   ]
  },
  {
   "cell_type": "markdown",
   "metadata": {},
   "source": [
    "## 'grade' column\n",
    "- Using one-hot encoding for the column "
   ]
  },
  {
   "cell_type": "code",
   "execution_count": 34,
   "metadata": {},
   "outputs": [
    {
     "data": {
      "text/plain": [
       "array(['B', 'A', 'C', 'E', 'D', 'F', 'G'], dtype=object)"
      ]
     },
     "execution_count": 34,
     "metadata": {},
     "output_type": "execute_result"
    }
   ],
   "source": [
    "df_fea['grade'].unique()"
   ]
  },
  {
   "cell_type": "code",
   "execution_count": 35,
   "metadata": {},
   "outputs": [
    {
     "data": {
      "text/plain": [
       "Index(['A', 'B', 'C', 'D', 'E', 'F', 'G'], dtype='object')"
      ]
     },
     "execution_count": 35,
     "metadata": {},
     "output_type": "execute_result"
    }
   ],
   "source": [
    "dummy_grade = pd.get_dummies(df_fea['grade'])\n",
    "\n",
    "dummy_columns = dummy_grade.columns\n",
    "dummy_columns"
   ]
  },
  {
   "cell_type": "code",
   "execution_count": 36,
   "metadata": {},
   "outputs": [
    {
     "data": {
      "text/html": [
       "<div>\n",
       "<style scoped>\n",
       "    .dataframe tbody tr th:only-of-type {\n",
       "        vertical-align: middle;\n",
       "    }\n",
       "\n",
       "    .dataframe tbody tr th {\n",
       "        vertical-align: top;\n",
       "    }\n",
       "\n",
       "    .dataframe thead th {\n",
       "        text-align: right;\n",
       "    }\n",
       "</style>\n",
       "<table border=\"1\" class=\"dataframe\">\n",
       "  <thead>\n",
       "    <tr style=\"text-align: right;\">\n",
       "      <th></th>\n",
       "      <th>loan_amnt</th>\n",
       "      <th>term</th>\n",
       "      <th>int_rate</th>\n",
       "      <th>installment</th>\n",
       "      <th>grade</th>\n",
       "      <th>sub_grade</th>\n",
       "      <th>home_ownership</th>\n",
       "      <th>annual_inc</th>\n",
       "      <th>verification_status</th>\n",
       "      <th>issue_d</th>\n",
       "      <th>loan_status</th>\n",
       "      <th>purpose</th>\n",
       "      <th>dti</th>\n",
       "      <th>earliest_cr_line</th>\n",
       "      <th>open_acc</th>\n",
       "      <th>pub_rec</th>\n",
       "      <th>revol_bal</th>\n",
       "      <th>revol_util</th>\n",
       "      <th>total_acc</th>\n",
       "      <th>initial_list_status</th>\n",
       "      <th>application_type</th>\n",
       "      <th>mort_acc</th>\n",
       "      <th>pub_rec_bankruptcies</th>\n",
       "      <th>address</th>\n",
       "      <th>grade_A</th>\n",
       "      <th>grade_B</th>\n",
       "      <th>grade_C</th>\n",
       "      <th>grade_D</th>\n",
       "      <th>grade_E</th>\n",
       "      <th>grade_F</th>\n",
       "      <th>grade_G</th>\n",
       "    </tr>\n",
       "  </thead>\n",
       "  <tbody>\n",
       "    <tr>\n",
       "      <th>0</th>\n",
       "      <td>10000.0</td>\n",
       "      <td>36.0</td>\n",
       "      <td>11.44</td>\n",
       "      <td>329.48</td>\n",
       "      <td>B</td>\n",
       "      <td>B4</td>\n",
       "      <td>RENT</td>\n",
       "      <td>117000.0</td>\n",
       "      <td>Not Verified</td>\n",
       "      <td>Jan-2015</td>\n",
       "      <td>Fully Paid</td>\n",
       "      <td>vacation</td>\n",
       "      <td>26.24</td>\n",
       "      <td>Jun-1990</td>\n",
       "      <td>16.0</td>\n",
       "      <td>0.0</td>\n",
       "      <td>36369.0</td>\n",
       "      <td>41.8</td>\n",
       "      <td>25.0</td>\n",
       "      <td>w</td>\n",
       "      <td>INDIVIDUAL</td>\n",
       "      <td>0.0</td>\n",
       "      <td>0.0</td>\n",
       "      <td>0174 Michelle Gateway\\nMendozaberg, OK 22690</td>\n",
       "      <td>0</td>\n",
       "      <td>1</td>\n",
       "      <td>0</td>\n",
       "      <td>0</td>\n",
       "      <td>0</td>\n",
       "      <td>0</td>\n",
       "      <td>0</td>\n",
       "    </tr>\n",
       "    <tr>\n",
       "      <th>1</th>\n",
       "      <td>8000.0</td>\n",
       "      <td>36.0</td>\n",
       "      <td>11.99</td>\n",
       "      <td>265.68</td>\n",
       "      <td>B</td>\n",
       "      <td>B5</td>\n",
       "      <td>MORTGAGE</td>\n",
       "      <td>65000.0</td>\n",
       "      <td>Not Verified</td>\n",
       "      <td>Jan-2015</td>\n",
       "      <td>Fully Paid</td>\n",
       "      <td>debt_consolidation</td>\n",
       "      <td>22.05</td>\n",
       "      <td>Jul-2004</td>\n",
       "      <td>17.0</td>\n",
       "      <td>0.0</td>\n",
       "      <td>20131.0</td>\n",
       "      <td>53.3</td>\n",
       "      <td>27.0</td>\n",
       "      <td>f</td>\n",
       "      <td>INDIVIDUAL</td>\n",
       "      <td>3.0</td>\n",
       "      <td>0.0</td>\n",
       "      <td>1076 Carney Fort Apt. 347\\nLoganmouth, SD 05113</td>\n",
       "      <td>0</td>\n",
       "      <td>1</td>\n",
       "      <td>0</td>\n",
       "      <td>0</td>\n",
       "      <td>0</td>\n",
       "      <td>0</td>\n",
       "      <td>0</td>\n",
       "    </tr>\n",
       "  </tbody>\n",
       "</table>\n",
       "</div>"
      ],
      "text/plain": [
       "   loan_amnt  term  int_rate  installment grade sub_grade home_ownership  \\\n",
       "0    10000.0  36.0     11.44       329.48     B        B4           RENT   \n",
       "1     8000.0  36.0     11.99       265.68     B        B5       MORTGAGE   \n",
       "\n",
       "   annual_inc verification_status   issue_d loan_status             purpose  \\\n",
       "0    117000.0        Not Verified  Jan-2015  Fully Paid            vacation   \n",
       "1     65000.0        Not Verified  Jan-2015  Fully Paid  debt_consolidation   \n",
       "\n",
       "     dti earliest_cr_line  open_acc  pub_rec  revol_bal  revol_util  \\\n",
       "0  26.24         Jun-1990      16.0      0.0    36369.0        41.8   \n",
       "1  22.05         Jul-2004      17.0      0.0    20131.0        53.3   \n",
       "\n",
       "   total_acc initial_list_status application_type  mort_acc  \\\n",
       "0       25.0                   w       INDIVIDUAL       0.0   \n",
       "1       27.0                   f       INDIVIDUAL       3.0   \n",
       "\n",
       "   pub_rec_bankruptcies                                          address  \\\n",
       "0                   0.0     0174 Michelle Gateway\\nMendozaberg, OK 22690   \n",
       "1                   0.0  1076 Carney Fort Apt. 347\\nLoganmouth, SD 05113   \n",
       "\n",
       "   grade_A  grade_B  grade_C  grade_D  grade_E  grade_F  grade_G  \n",
       "0        0        1        0        0        0        0        0  \n",
       "1        0        1        0        0        0        0        0  "
      ]
     },
     "execution_count": 36,
     "metadata": {},
     "output_type": "execute_result"
    }
   ],
   "source": [
    "df_fea[['grade_A', 'grade_B', 'grade_C', 'grade_D', 'grade_E', 'grade_F', 'grade_G']] = dummy_grade\n",
    "df_fea.head(2)"
   ]
  },
  {
   "cell_type": "code",
   "execution_count": 37,
   "metadata": {},
   "outputs": [],
   "source": [
    "# drop the 'grade' column \n",
    "df_fea = df_fea.drop('grade',axis = 1)"
   ]
  },
  {
   "cell_type": "markdown",
   "metadata": {},
   "source": [
    "## 'sub_grade' column"
   ]
  },
  {
   "cell_type": "code",
   "execution_count": 38,
   "metadata": {},
   "outputs": [
    {
     "data": {
      "text/plain": [
       "array(['B4', 'B5', 'B3', 'A2', 'C5', 'C3', 'A1', 'B2', 'C1', 'A5', 'E4',\n",
       "       'A4', 'A3', 'D1', 'C2', 'B1', 'D3', 'D5', 'D2', 'E1', 'E2', 'E5',\n",
       "       'F4', 'E3', 'D4', 'G1', 'F5', 'G2', 'C4', 'F1', 'F3', 'G5', 'G4',\n",
       "       'F2', 'G3'], dtype=object)"
      ]
     },
     "execution_count": 38,
     "metadata": {},
     "output_type": "execute_result"
    }
   ],
   "source": [
    "df_fea['sub_grade'].unique()"
   ]
  },
  {
   "cell_type": "code",
   "execution_count": 39,
   "metadata": {},
   "outputs": [
    {
     "data": {
      "text/plain": [
       "<matplotlib.axes._subplots.AxesSubplot at 0x1a1b269ad0>"
      ]
     },
     "execution_count": 39,
     "metadata": {},
     "output_type": "execute_result"
    },
    {
     "data": {
      "image/png": "[encoded data removed]",
      "text/plain": [
       "<Figure size 1080x432 with 1 Axes>"
      ]
     },
     "metadata": {
      "needs_background": "light"
     },
     "output_type": "display_data"
    }
   ],
   "source": [
    "fig = plt.figure(figsize=(15,6))\n",
    "sns.countplot(x='sub_grade',data = df_fea, order = df_fea['sub_grade'].value_counts().index)"
   ]
  },
  {
   "cell_type": "markdown",
   "metadata": {},
   "source": [
    "- Map the column values with a numerical grade A1 =  1, A2 = 2, ..., G5 = 35."
   ]
  },
  {
   "cell_type": "code",
   "execution_count": 40,
   "metadata": {},
   "outputs": [],
   "source": [
    "# Map the column values with a numerical grade A1: 1, A2: 2, ...G5 = 35\n",
    "map_values = {'B4':9, 'B5':10, 'B3':8, 'A2':2, 'C5':15, 'C3':13, 'A1':1, 'B2':7, 'C1':11, 'A5':5, 'E4':24,\n",
    "       'A4':4, 'A3':3, 'D1':16, 'C2':12, 'B1':6, 'D3':18, 'D5':20, 'D2':17, 'E1':21, 'E2':22, 'E5':25,\n",
    "       'F4':29, 'E3':23, 'D4':19, 'G1':31, 'F5':30, 'G2':32, 'C4':14, 'F1':26, 'F3':28, 'G5':35, 'G4':34,\n",
    "       'F2':27, 'G3':33}"
   ]
  },
  {
   "cell_type": "code",
   "execution_count": 41,
   "metadata": {},
   "outputs": [],
   "source": [
    "df_fea['sub_grade'] = df_fea['sub_grade'].map(map_values)"
   ]
  },
  {
   "cell_type": "code",
   "execution_count": 42,
   "metadata": {},
   "outputs": [
    {
     "data": {
      "text/plain": [
       "35"
      ]
     },
     "execution_count": 42,
     "metadata": {},
     "output_type": "execute_result"
    }
   ],
   "source": [
    "df_fea['sub_grade'].nunique()"
   ]
  },
  {
   "cell_type": "code",
   "execution_count": 43,
   "metadata": {},
   "outputs": [],
   "source": [
    "# drop the 'sub_grade' column \n",
    "df_fea = df_fea.drop('sub_grade',axis = 1)"
   ]
  },
  {
   "cell_type": "markdown",
   "metadata": {},
   "source": [
    "## 'home_ownership' column"
   ]
  },
  {
   "cell_type": "code",
   "execution_count": 44,
   "metadata": {},
   "outputs": [
    {
     "data": {
      "text/plain": [
       "<matplotlib.axes._subplots.AxesSubplot at 0x1a1b414fd0>"
      ]
     },
     "execution_count": 44,
     "metadata": {},
     "output_type": "execute_result"
    },
    {
     "data": {
      "image/png": "[encoded data removed]",
      "text/plain": [
       "<Figure size 432x288 with 1 Axes>"
      ]
     },
     "metadata": {
      "needs_background": "light"
     },
     "output_type": "display_data"
    }
   ],
   "source": [
    "sns.countplot(data=df_fea, x = 'home_ownership')\n",
    "#df_fea['home_ownership'].plot(x= kind='bar')"
   ]
  },
  {
   "cell_type": "code",
   "execution_count": 45,
   "metadata": {},
   "outputs": [
    {
     "data": {
      "text/plain": [
       "MORTGAGE    198348\n",
       "RENT        159790\n",
       "OWN          37746\n",
       "OTHER          112\n",
       "NONE            31\n",
       "ANY              3\n",
       "Name: home_ownership, dtype: int64"
      ]
     },
     "execution_count": 45,
     "metadata": {},
     "output_type": "execute_result"
    }
   ],
   "source": [
    "df_fea['home_ownership'].value_counts()"
   ]
  },
  {
   "cell_type": "code",
   "execution_count": 46,
   "metadata": {},
   "outputs": [
    {
     "data": {
      "text/plain": [
       "array(['RENT', 'MORTGAGE', 'OWN', 'OTHER', 'NONE', 'ANY'], dtype=object)"
      ]
     },
     "execution_count": 46,
     "metadata": {},
     "output_type": "execute_result"
    }
   ],
   "source": [
    "df_fea['home_ownership'].unique()"
   ]
  },
  {
   "cell_type": "markdown",
   "metadata": {},
   "source": [
    "- we combine 'OTHER', 'NONE', and 'ANY' and call them 'OTHER'"
   ]
  },
  {
   "cell_type": "code",
   "execution_count": 47,
   "metadata": {},
   "outputs": [],
   "source": [
    "inds = df[df['home_ownership']=='ANY'].index\n",
    "for ind in inds:\n",
    "   df_fea.loc[ind,'home_ownership'] = 'OTHER'"
   ]
  },
  {
   "cell_type": "code",
   "execution_count": 48,
   "metadata": {},
   "outputs": [],
   "source": [
    "inds = df[df['home_ownership']=='NONE'].index\n",
    "for ind in inds:\n",
    "   df_fea.loc[ind,'home_ownership'] = 'OTHER'"
   ]
  },
  {
   "cell_type": "code",
   "execution_count": 49,
   "metadata": {},
   "outputs": [
    {
     "data": {
      "text/plain": [
       "MORTGAGE    198348\n",
       "RENT        159790\n",
       "OWN          37746\n",
       "OTHER          146\n",
       "Name: home_ownership, dtype: int64"
      ]
     },
     "execution_count": 49,
     "metadata": {},
     "output_type": "execute_result"
    }
   ],
   "source": [
    "df_fea['home_ownership'].value_counts()"
   ]
  },
  {
   "cell_type": "markdown",
   "metadata": {},
   "source": [
    "- Using one-hot encoding for this column"
   ]
  },
  {
   "cell_type": "code",
   "execution_count": 50,
   "metadata": {},
   "outputs": [
    {
     "data": {
      "text/plain": [
       "Index(['MORTGAGE', 'OTHER', 'OWN', 'RENT'], dtype='object')"
      ]
     },
     "execution_count": 50,
     "metadata": {},
     "output_type": "execute_result"
    }
   ],
   "source": [
    "dummy_home = pd.get_dummies(df_fea['home_ownership'])\n",
    "\n",
    "dummy_columns = dummy_home.columns\n",
    "dummy_columns"
   ]
  },
  {
   "cell_type": "code",
   "execution_count": 51,
   "metadata": {},
   "outputs": [],
   "source": [
    "df_fea[['home_MORTGAGE', 'home_OTHER', 'home_OWN', 'home_RENT']] = dummy_home"
   ]
  },
  {
   "cell_type": "code",
   "execution_count": 52,
   "metadata": {},
   "outputs": [
    {
     "data": {
      "text/html": [
       "<div>\n",
       "<style scoped>\n",
       "    .dataframe tbody tr th:only-of-type {\n",
       "        vertical-align: middle;\n",
       "    }\n",
       "\n",
       "    .dataframe tbody tr th {\n",
       "        vertical-align: top;\n",
       "    }\n",
       "\n",
       "    .dataframe thead th {\n",
       "        text-align: right;\n",
       "    }\n",
       "</style>\n",
       "<table border=\"1\" class=\"dataframe\">\n",
       "  <thead>\n",
       "    <tr style=\"text-align: right;\">\n",
       "      <th></th>\n",
       "      <th>loan_amnt</th>\n",
       "      <th>term</th>\n",
       "      <th>int_rate</th>\n",
       "      <th>installment</th>\n",
       "      <th>home_ownership</th>\n",
       "      <th>annual_inc</th>\n",
       "      <th>verification_status</th>\n",
       "      <th>issue_d</th>\n",
       "      <th>loan_status</th>\n",
       "      <th>purpose</th>\n",
       "      <th>dti</th>\n",
       "      <th>earliest_cr_line</th>\n",
       "      <th>open_acc</th>\n",
       "      <th>pub_rec</th>\n",
       "      <th>revol_bal</th>\n",
       "      <th>revol_util</th>\n",
       "      <th>total_acc</th>\n",
       "      <th>initial_list_status</th>\n",
       "      <th>application_type</th>\n",
       "      <th>mort_acc</th>\n",
       "      <th>pub_rec_bankruptcies</th>\n",
       "      <th>address</th>\n",
       "      <th>grade_A</th>\n",
       "      <th>grade_B</th>\n",
       "      <th>grade_C</th>\n",
       "      <th>grade_D</th>\n",
       "      <th>grade_E</th>\n",
       "      <th>grade_F</th>\n",
       "      <th>grade_G</th>\n",
       "      <th>home_MORTGAGE</th>\n",
       "      <th>home_OTHER</th>\n",
       "      <th>home_OWN</th>\n",
       "      <th>home_RENT</th>\n",
       "    </tr>\n",
       "  </thead>\n",
       "  <tbody>\n",
       "    <tr>\n",
       "      <th>0</th>\n",
       "      <td>10000.0</td>\n",
       "      <td>36.0</td>\n",
       "      <td>11.44</td>\n",
       "      <td>329.48</td>\n",
       "      <td>RENT</td>\n",
       "      <td>117000.0</td>\n",
       "      <td>Not Verified</td>\n",
       "      <td>Jan-2015</td>\n",
       "      <td>Fully Paid</td>\n",
       "      <td>vacation</td>\n",
       "      <td>26.24</td>\n",
       "      <td>Jun-1990</td>\n",
       "      <td>16.0</td>\n",
       "      <td>0.0</td>\n",
       "      <td>36369.0</td>\n",
       "      <td>41.8</td>\n",
       "      <td>25.0</td>\n",
       "      <td>w</td>\n",
       "      <td>INDIVIDUAL</td>\n",
       "      <td>0.0</td>\n",
       "      <td>0.0</td>\n",
       "      <td>0174 Michelle Gateway\\nMendozaberg, OK 22690</td>\n",
       "      <td>0</td>\n",
       "      <td>1</td>\n",
       "      <td>0</td>\n",
       "      <td>0</td>\n",
       "      <td>0</td>\n",
       "      <td>0</td>\n",
       "      <td>0</td>\n",
       "      <td>0</td>\n",
       "      <td>0</td>\n",
       "      <td>0</td>\n",
       "      <td>1</td>\n",
       "    </tr>\n",
       "    <tr>\n",
       "      <th>1</th>\n",
       "      <td>8000.0</td>\n",
       "      <td>36.0</td>\n",
       "      <td>11.99</td>\n",
       "      <td>265.68</td>\n",
       "      <td>MORTGAGE</td>\n",
       "      <td>65000.0</td>\n",
       "      <td>Not Verified</td>\n",
       "      <td>Jan-2015</td>\n",
       "      <td>Fully Paid</td>\n",
       "      <td>debt_consolidation</td>\n",
       "      <td>22.05</td>\n",
       "      <td>Jul-2004</td>\n",
       "      <td>17.0</td>\n",
       "      <td>0.0</td>\n",
       "      <td>20131.0</td>\n",
       "      <td>53.3</td>\n",
       "      <td>27.0</td>\n",
       "      <td>f</td>\n",
       "      <td>INDIVIDUAL</td>\n",
       "      <td>3.0</td>\n",
       "      <td>0.0</td>\n",
       "      <td>1076 Carney Fort Apt. 347\\nLoganmouth, SD 05113</td>\n",
       "      <td>0</td>\n",
       "      <td>1</td>\n",
       "      <td>0</td>\n",
       "      <td>0</td>\n",
       "      <td>0</td>\n",
       "      <td>0</td>\n",
       "      <td>0</td>\n",
       "      <td>1</td>\n",
       "      <td>0</td>\n",
       "      <td>0</td>\n",
       "      <td>0</td>\n",
       "    </tr>\n",
       "  </tbody>\n",
       "</table>\n",
       "</div>"
      ],
      "text/plain": [
       "   loan_amnt  term  int_rate  installment home_ownership  annual_inc  \\\n",
       "0    10000.0  36.0     11.44       329.48           RENT    117000.0   \n",
       "1     8000.0  36.0     11.99       265.68       MORTGAGE     65000.0   \n",
       "\n",
       "  verification_status   issue_d loan_status             purpose    dti  \\\n",
       "0        Not Verified  Jan-2015  Fully Paid            vacation  26.24   \n",
       "1        Not Verified  Jan-2015  Fully Paid  debt_consolidation  22.05   \n",
       "\n",
       "  earliest_cr_line  open_acc  pub_rec  revol_bal  revol_util  total_acc  \\\n",
       "0         Jun-1990      16.0      0.0    36369.0        41.8       25.0   \n",
       "1         Jul-2004      17.0      0.0    20131.0        53.3       27.0   \n",
       "\n",
       "  initial_list_status application_type  mort_acc  pub_rec_bankruptcies  \\\n",
       "0                   w       INDIVIDUAL       0.0                   0.0   \n",
       "1                   f       INDIVIDUAL       3.0                   0.0   \n",
       "\n",
       "                                           address  grade_A  grade_B  grade_C  \\\n",
       "0     0174 Michelle Gateway\\nMendozaberg, OK 22690        0        1        0   \n",
       "1  1076 Carney Fort Apt. 347\\nLoganmouth, SD 05113        0        1        0   \n",
       "\n",
       "   grade_D  grade_E  grade_F  grade_G  home_MORTGAGE  home_OTHER  home_OWN  \\\n",
       "0        0        0        0        0              0           0         0   \n",
       "1        0        0        0        0              1           0         0   \n",
       "\n",
       "   home_RENT  \n",
       "0          1  \n",
       "1          0  "
      ]
     },
     "execution_count": 52,
     "metadata": {},
     "output_type": "execute_result"
    }
   ],
   "source": [
    "df_fea.head(2)"
   ]
  },
  {
   "cell_type": "code",
   "execution_count": 53,
   "metadata": {},
   "outputs": [],
   "source": [
    "# drop 'homw_ownership' \n",
    "df_fea = df_fea.drop('home_ownership',axis = 1)"
   ]
  },
  {
   "cell_type": "code",
   "execution_count": 54,
   "metadata": {},
   "outputs": [
    {
     "name": "stdout",
     "output_type": "stream",
     "text": [
      "<class 'pandas.core.frame.DataFrame'>\n",
      "RangeIndex: 396030 entries, 0 to 396029\n",
      "Data columns (total 32 columns):\n",
      " #   Column                Non-Null Count   Dtype  \n",
      "---  ------                --------------   -----  \n",
      " 0   loan_amnt             396030 non-null  float64\n",
      " 1   term                  396030 non-null  float64\n",
      " 2   int_rate              396030 non-null  float64\n",
      " 3   installment           396030 non-null  float64\n",
      " 4   annual_inc            396030 non-null  float64\n",
      " 5   verification_status   396030 non-null  object \n",
      " 6   issue_d               396030 non-null  object \n",
      " 7   loan_status           396030 non-null  object \n",
      " 8   purpose               396030 non-null  object \n",
      " 9   dti                   396030 non-null  float64\n",
      " 10  earliest_cr_line      396030 non-null  object \n",
      " 11  open_acc              396030 non-null  float64\n",
      " 12  pub_rec               396030 non-null  float64\n",
      " 13  revol_bal             396030 non-null  float64\n",
      " 14  revol_util            396030 non-null  float64\n",
      " 15  total_acc             396030 non-null  float64\n",
      " 16  initial_list_status   396030 non-null  object \n",
      " 17  application_type      396030 non-null  object \n",
      " 18  mort_acc              396030 non-null  float64\n",
      " 19  pub_rec_bankruptcies  396030 non-null  float64\n",
      " 20  address               396030 non-null  object \n",
      " 21  grade_A               396030 non-null  uint8  \n",
      " 22  grade_B               396030 non-null  uint8  \n",
      " 23  grade_C               396030 non-null  uint8  \n",
      " 24  grade_D               396030 non-null  uint8  \n",
      " 25  grade_E               396030 non-null  uint8  \n",
      " 26  grade_F               396030 non-null  uint8  \n",
      " 27  grade_G               396030 non-null  uint8  \n",
      " 28  home_MORTGAGE         396030 non-null  uint8  \n",
      " 29  home_OTHER            396030 non-null  uint8  \n",
      " 30  home_OWN              396030 non-null  uint8  \n",
      " 31  home_RENT             396030 non-null  uint8  \n",
      "dtypes: float64(13), object(8), uint8(11)\n",
      "memory usage: 67.6+ MB\n"
     ]
    }
   ],
   "source": [
    "df_fea.info()"
   ]
  },
  {
   "cell_type": "markdown",
   "metadata": {},
   "source": [
    "### 'verification_status' column"
   ]
  },
  {
   "cell_type": "code",
   "execution_count": 55,
   "metadata": {},
   "outputs": [
    {
     "data": {
      "text/plain": [
       "array(['Not Verified', 'Source Verified', 'Verified'], dtype=object)"
      ]
     },
     "execution_count": 55,
     "metadata": {},
     "output_type": "execute_result"
    }
   ],
   "source": [
    "df_fea['verification_status'].unique()"
   ]
  },
  {
   "cell_type": "code",
   "execution_count": 56,
   "metadata": {},
   "outputs": [
    {
     "data": {
      "text/plain": [
       "<matplotlib.axes._subplots.AxesSubplot at 0x1a1b2df490>"
      ]
     },
     "execution_count": 56,
     "metadata": {},
     "output_type": "execute_result"
    },
    {
     "data": {
      "image/png": "[encoded data removed]",
      "text/plain": [
       "<Figure size 720x432 with 1 Axes>"
      ]
     },
     "metadata": {
      "needs_background": "light"
     },
     "output_type": "display_data"
    }
   ],
   "source": [
    "fig = plt.figure(figsize=(10,6))\n",
    "sns.countplot(x='verification_status',data = df_fea, order = df_fea['verification_status'].value_counts().index)"
   ]
  },
  {
   "cell_type": "code",
   "execution_count": 57,
   "metadata": {},
   "outputs": [
    {
     "data": {
      "text/plain": [
       "Index(['Not Verified', 'Source Verified', 'Verified'], dtype='object')"
      ]
     },
     "execution_count": 57,
     "metadata": {},
     "output_type": "execute_result"
    }
   ],
   "source": [
    "dummy_verified = pd.get_dummies(df_fea['verification_status'])\n",
    "\n",
    "dummy_columns = dummy_verified.columns\n",
    "dummy_columns"
   ]
  },
  {
   "cell_type": "code",
   "execution_count": 58,
   "metadata": {},
   "outputs": [],
   "source": [
    "df_fea[['verfied_Not_Verified', 'verfied_Source_Verified', 'verfied_Verified']] = dummy_verified"
   ]
  },
  {
   "cell_type": "code",
   "execution_count": 59,
   "metadata": {},
   "outputs": [],
   "source": [
    "# drop the 'verification_status' column\n",
    "df_fea = df_fea.drop('verification_status',axis = 1)"
   ]
  },
  {
   "cell_type": "markdown",
   "metadata": {},
   "source": [
    "### 'issue_d' column\n",
    "- If we train a model to predict if a new customer can paid the loan, there will no information for the feature. we will drop this column."
   ]
  },
  {
   "cell_type": "code",
   "execution_count": 60,
   "metadata": {},
   "outputs": [
    {
     "data": {
      "text/plain": [
       "11    The month which the loan was funded\n",
       "Name: Description, dtype: object"
      ]
     },
     "execution_count": 60,
     "metadata": {},
     "output_type": "execute_result"
    }
   ],
   "source": [
    "df_schemma[df_schemma['LoanStatNew'] == 'issue_d']['Description']"
   ]
  },
  {
   "cell_type": "code",
   "execution_count": 61,
   "metadata": {},
   "outputs": [],
   "source": [
    "# drop the 'issue_d' column\n",
    "df_fea = df_fea.drop('issue_d',axis = 1)"
   ]
  },
  {
   "cell_type": "markdown",
   "metadata": {},
   "source": [
    "### 'purpose' column"
   ]
  },
  {
   "cell_type": "code",
   "execution_count": 62,
   "metadata": {},
   "outputs": [
    {
     "data": {
      "text/plain": [
       "14"
      ]
     },
     "execution_count": 62,
     "metadata": {},
     "output_type": "execute_result"
    }
   ],
   "source": [
    "df_fea['purpose'].nunique()"
   ]
  },
  {
   "cell_type": "code",
   "execution_count": 63,
   "metadata": {},
   "outputs": [
    {
     "data": {
      "text/plain": [
       "educational              257\n",
       "renewable_energy         329\n",
       "wedding                 1812\n",
       "house                   2201\n",
       "vacation                2452\n",
       "moving                  2854\n",
       "medical                 4196\n",
       "car                     4697\n",
       "small_business          5701\n",
       "major_purchase          8790\n",
       "other                  21185\n",
       "home_improvement       24030\n",
       "credit_card            83019\n",
       "debt_consolidation    234507\n",
       "Name: purpose, dtype: int64"
      ]
     },
     "execution_count": 63,
     "metadata": {},
     "output_type": "execute_result"
    }
   ],
   "source": [
    "df_fea['purpose'].value_counts().sort_values()"
   ]
  },
  {
   "cell_type": "code",
   "execution_count": 64,
   "metadata": {},
   "outputs": [
    {
     "data": {
      "text/plain": [
       "<matplotlib.axes._subplots.AxesSubplot at 0x1a1b2cb2d0>"
      ]
     },
     "execution_count": 64,
     "metadata": {},
     "output_type": "execute_result"
    },
    {
     "data": {
      "image/png": "[encoded data removed]",
      "text/plain": [
       "<Figure size 720x432 with 1 Axes>"
      ]
     },
     "metadata": {
      "needs_background": "light"
     },
     "output_type": "display_data"
    }
   ],
   "source": [
    "fig = plt.figure(figsize=(10,6))\n",
    "sns.countplot(x='purpose',data = df_fea,hue = 'loan_status',order = df_fea['purpose'].value_counts().index)"
   ]
  },
  {
   "cell_type": "code",
   "execution_count": 65,
   "metadata": {},
   "outputs": [
    {
     "data": {
      "text/plain": [
       "Index(['car', 'credit_card', 'debt_consolidation', 'educational',\n",
       "       'home_improvement', 'house', 'major_purchase', 'medical', 'moving',\n",
       "       'other', 'renewable_energy', 'small_business', 'vacation', 'wedding'],\n",
       "      dtype='object')"
      ]
     },
     "execution_count": 65,
     "metadata": {},
     "output_type": "execute_result"
    }
   ],
   "source": [
    "# Use one-hot encoding\n",
    "dummy_purpose = pd.get_dummies(df_fea['purpose'])\n",
    "\n",
    "dummy_columns = dummy_purpose.columns\n",
    "dummy_columns"
   ]
  },
  {
   "cell_type": "code",
   "execution_count": 66,
   "metadata": {},
   "outputs": [],
   "source": [
    "df_fea = pd.concat([df_fea,dummy_purpose],axis = 1)"
   ]
  },
  {
   "cell_type": "code",
   "execution_count": 67,
   "metadata": {},
   "outputs": [
    {
     "data": {
      "text/html": [
       "<div>\n",
       "<style scoped>\n",
       "    .dataframe tbody tr th:only-of-type {\n",
       "        vertical-align: middle;\n",
       "    }\n",
       "\n",
       "    .dataframe tbody tr th {\n",
       "        vertical-align: top;\n",
       "    }\n",
       "\n",
       "    .dataframe thead th {\n",
       "        text-align: right;\n",
       "    }\n",
       "</style>\n",
       "<table border=\"1\" class=\"dataframe\">\n",
       "  <thead>\n",
       "    <tr style=\"text-align: right;\">\n",
       "      <th></th>\n",
       "      <th>loan_amnt</th>\n",
       "      <th>term</th>\n",
       "      <th>int_rate</th>\n",
       "      <th>installment</th>\n",
       "      <th>annual_inc</th>\n",
       "      <th>loan_status</th>\n",
       "      <th>purpose</th>\n",
       "      <th>dti</th>\n",
       "      <th>earliest_cr_line</th>\n",
       "      <th>open_acc</th>\n",
       "      <th>pub_rec</th>\n",
       "      <th>revol_bal</th>\n",
       "      <th>revol_util</th>\n",
       "      <th>total_acc</th>\n",
       "      <th>initial_list_status</th>\n",
       "      <th>application_type</th>\n",
       "      <th>mort_acc</th>\n",
       "      <th>pub_rec_bankruptcies</th>\n",
       "      <th>address</th>\n",
       "      <th>grade_A</th>\n",
       "      <th>grade_B</th>\n",
       "      <th>grade_C</th>\n",
       "      <th>grade_D</th>\n",
       "      <th>grade_E</th>\n",
       "      <th>grade_F</th>\n",
       "      <th>grade_G</th>\n",
       "      <th>home_MORTGAGE</th>\n",
       "      <th>home_OTHER</th>\n",
       "      <th>home_OWN</th>\n",
       "      <th>home_RENT</th>\n",
       "      <th>verfied_Not_Verified</th>\n",
       "      <th>verfied_Source_Verified</th>\n",
       "      <th>verfied_Verified</th>\n",
       "      <th>car</th>\n",
       "      <th>credit_card</th>\n",
       "      <th>debt_consolidation</th>\n",
       "      <th>educational</th>\n",
       "      <th>home_improvement</th>\n",
       "      <th>house</th>\n",
       "      <th>major_purchase</th>\n",
       "      <th>medical</th>\n",
       "      <th>moving</th>\n",
       "      <th>other</th>\n",
       "      <th>renewable_energy</th>\n",
       "      <th>small_business</th>\n",
       "      <th>vacation</th>\n",
       "      <th>wedding</th>\n",
       "    </tr>\n",
       "  </thead>\n",
       "  <tbody>\n",
       "    <tr>\n",
       "      <th>0</th>\n",
       "      <td>10000.0</td>\n",
       "      <td>36.0</td>\n",
       "      <td>11.44</td>\n",
       "      <td>329.48</td>\n",
       "      <td>117000.0</td>\n",
       "      <td>Fully Paid</td>\n",
       "      <td>vacation</td>\n",
       "      <td>26.24</td>\n",
       "      <td>Jun-1990</td>\n",
       "      <td>16.0</td>\n",
       "      <td>0.0</td>\n",
       "      <td>36369.0</td>\n",
       "      <td>41.8</td>\n",
       "      <td>25.0</td>\n",
       "      <td>w</td>\n",
       "      <td>INDIVIDUAL</td>\n",
       "      <td>0.0</td>\n",
       "      <td>0.0</td>\n",
       "      <td>0174 Michelle Gateway\\nMendozaberg, OK 22690</td>\n",
       "      <td>0</td>\n",
       "      <td>1</td>\n",
       "      <td>0</td>\n",
       "      <td>0</td>\n",
       "      <td>0</td>\n",
       "      <td>0</td>\n",
       "      <td>0</td>\n",
       "      <td>0</td>\n",
       "      <td>0</td>\n",
       "      <td>0</td>\n",
       "      <td>1</td>\n",
       "      <td>1</td>\n",
       "      <td>0</td>\n",
       "      <td>0</td>\n",
       "      <td>0</td>\n",
       "      <td>0</td>\n",
       "      <td>0</td>\n",
       "      <td>0</td>\n",
       "      <td>0</td>\n",
       "      <td>0</td>\n",
       "      <td>0</td>\n",
       "      <td>0</td>\n",
       "      <td>0</td>\n",
       "      <td>0</td>\n",
       "      <td>0</td>\n",
       "      <td>0</td>\n",
       "      <td>1</td>\n",
       "      <td>0</td>\n",
       "    </tr>\n",
       "    <tr>\n",
       "      <th>1</th>\n",
       "      <td>8000.0</td>\n",
       "      <td>36.0</td>\n",
       "      <td>11.99</td>\n",
       "      <td>265.68</td>\n",
       "      <td>65000.0</td>\n",
       "      <td>Fully Paid</td>\n",
       "      <td>debt_consolidation</td>\n",
       "      <td>22.05</td>\n",
       "      <td>Jul-2004</td>\n",
       "      <td>17.0</td>\n",
       "      <td>0.0</td>\n",
       "      <td>20131.0</td>\n",
       "      <td>53.3</td>\n",
       "      <td>27.0</td>\n",
       "      <td>f</td>\n",
       "      <td>INDIVIDUAL</td>\n",
       "      <td>3.0</td>\n",
       "      <td>0.0</td>\n",
       "      <td>1076 Carney Fort Apt. 347\\nLoganmouth, SD 05113</td>\n",
       "      <td>0</td>\n",
       "      <td>1</td>\n",
       "      <td>0</td>\n",
       "      <td>0</td>\n",
       "      <td>0</td>\n",
       "      <td>0</td>\n",
       "      <td>0</td>\n",
       "      <td>1</td>\n",
       "      <td>0</td>\n",
       "      <td>0</td>\n",
       "      <td>0</td>\n",
       "      <td>1</td>\n",
       "      <td>0</td>\n",
       "      <td>0</td>\n",
       "      <td>0</td>\n",
       "      <td>0</td>\n",
       "      <td>1</td>\n",
       "      <td>0</td>\n",
       "      <td>0</td>\n",
       "      <td>0</td>\n",
       "      <td>0</td>\n",
       "      <td>0</td>\n",
       "      <td>0</td>\n",
       "      <td>0</td>\n",
       "      <td>0</td>\n",
       "      <td>0</td>\n",
       "      <td>0</td>\n",
       "      <td>0</td>\n",
       "    </tr>\n",
       "  </tbody>\n",
       "</table>\n",
       "</div>"
      ],
      "text/plain": [
       "   loan_amnt  term  int_rate  installment  annual_inc loan_status  \\\n",
       "0    10000.0  36.0     11.44       329.48    117000.0  Fully Paid   \n",
       "1     8000.0  36.0     11.99       265.68     65000.0  Fully Paid   \n",
       "\n",
       "              purpose    dti earliest_cr_line  open_acc  pub_rec  revol_bal  \\\n",
       "0            vacation  26.24         Jun-1990      16.0      0.0    36369.0   \n",
       "1  debt_consolidation  22.05         Jul-2004      17.0      0.0    20131.0   \n",
       "\n",
       "   revol_util  total_acc initial_list_status application_type  mort_acc  \\\n",
       "0        41.8       25.0                   w       INDIVIDUAL       0.0   \n",
       "1        53.3       27.0                   f       INDIVIDUAL       3.0   \n",
       "\n",
       "   pub_rec_bankruptcies                                          address  \\\n",
       "0                   0.0     0174 Michelle Gateway\\nMendozaberg, OK 22690   \n",
       "1                   0.0  1076 Carney Fort Apt. 347\\nLoganmouth, SD 05113   \n",
       "\n",
       "   grade_A  grade_B  grade_C  grade_D  grade_E  grade_F  grade_G  \\\n",
       "0        0        1        0        0        0        0        0   \n",
       "1        0        1        0        0        0        0        0   \n",
       "\n",
       "   home_MORTGAGE  home_OTHER  home_OWN  home_RENT  verfied_Not_Verified  \\\n",
       "0              0           0         0          1                     1   \n",
       "1              1           0         0          0                     1   \n",
       "\n",
       "   verfied_Source_Verified  verfied_Verified  car  credit_card  \\\n",
       "0                        0                 0    0            0   \n",
       "1                        0                 0    0            0   \n",
       "\n",
       "   debt_consolidation  educational  home_improvement  house  major_purchase  \\\n",
       "0                   0            0                 0      0               0   \n",
       "1                   1            0                 0      0               0   \n",
       "\n",
       "   medical  moving  other  renewable_energy  small_business  vacation  wedding  \n",
       "0        0       0      0                 0               0         1        0  \n",
       "1        0       0      0                 0               0         0        0  "
      ]
     },
     "execution_count": 67,
     "metadata": {},
     "output_type": "execute_result"
    }
   ],
   "source": [
    "df_fea.head(2)"
   ]
  },
  {
   "cell_type": "code",
   "execution_count": 68,
   "metadata": {},
   "outputs": [],
   "source": [
    "# drop the column for now\n",
    "df_fea = df_fea.drop('purpose',axis = 1)"
   ]
  },
  {
   "cell_type": "markdown",
   "metadata": {},
   "source": [
    "### 'earliest_cr_line' column\n",
    "- Calculate years from  the 'earliest_cr_line' to the current year"
   ]
  },
  {
   "cell_type": "code",
   "execution_count": 69,
   "metadata": {},
   "outputs": [],
   "source": [
    "df_fea['earliest_cr_line'] = pd.to_datetime(df_fea['earliest_cr_line'])"
   ]
  },
  {
   "cell_type": "code",
   "execution_count": 70,
   "metadata": {},
   "outputs": [],
   "source": [
    "from datetime import datetime\n",
    "df_fea['earliest_cr_line_year'] = datetime.now().year - df_fea['earliest_cr_line'].dt.year"
   ]
  },
  {
   "cell_type": "code",
   "execution_count": 71,
   "metadata": {},
   "outputs": [],
   "source": [
    "# drop ''earliest_year'' column\n",
    "df_fea=df_fea.drop('earliest_cr_line',axis = 1)"
   ]
  },
  {
   "cell_type": "markdown",
   "metadata": {},
   "source": [
    "### 'initial_list_status' column\n",
    "we use one-hot encoding for the column"
   ]
  },
  {
   "cell_type": "code",
   "execution_count": 72,
   "metadata": {},
   "outputs": [
    {
     "data": {
      "text/plain": [
       "array(['w', 'f'], dtype=object)"
      ]
     },
     "execution_count": 72,
     "metadata": {},
     "output_type": "execute_result"
    }
   ],
   "source": [
    "df_fea['initial_list_status'].unique()"
   ]
  },
  {
   "cell_type": "code",
   "execution_count": 73,
   "metadata": {},
   "outputs": [
    {
     "data": {
      "text/plain": [
       "Index(['f', 'w'], dtype='object')"
      ]
     },
     "execution_count": 73,
     "metadata": {},
     "output_type": "execute_result"
    }
   ],
   "source": [
    "dummy_ini_status = pd.get_dummies(df_fea['initial_list_status'])\n",
    "\n",
    "dummy_columns = dummy_ini_status.columns\n",
    "dummy_columns"
   ]
  },
  {
   "cell_type": "code",
   "execution_count": 74,
   "metadata": {},
   "outputs": [],
   "source": [
    "df_fea[['ini_status_f', 'ini_status_w']] = dummy_ini_status"
   ]
  },
  {
   "cell_type": "code",
   "execution_count": 75,
   "metadata": {},
   "outputs": [],
   "source": [
    "# drop the 'initial_list_status' column column\n",
    "df_fea = df_fea.drop('initial_list_status',axis = 1)"
   ]
  },
  {
   "cell_type": "markdown",
   "metadata": {},
   "source": [
    "### 'application_type' column\n",
    "we use one-hot encoding for the column"
   ]
  },
  {
   "cell_type": "code",
   "execution_count": 76,
   "metadata": {},
   "outputs": [
    {
     "data": {
      "text/plain": [
       "array(['INDIVIDUAL', 'JOINT', 'DIRECT_PAY'], dtype=object)"
      ]
     },
     "execution_count": 76,
     "metadata": {},
     "output_type": "execute_result"
    }
   ],
   "source": [
    "df_fea['application_type'].unique()"
   ]
  },
  {
   "cell_type": "code",
   "execution_count": 77,
   "metadata": {},
   "outputs": [],
   "source": [
    "dummy_app_type = pd.get_dummies(df_fea['application_type'])\n",
    "\n",
    "df_fea[['type_INDIVIDUAL', 'type_JOINT', 'type_DIRECT_PAY']] = dummy_app_type"
   ]
  },
  {
   "cell_type": "code",
   "execution_count": 78,
   "metadata": {},
   "outputs": [],
   "source": [
    "# drop the 'application_type' column column\n",
    "df_fea = df_fea.drop('application_type',axis = 1)"
   ]
  },
  {
   "cell_type": "markdown",
   "metadata": {},
   "source": [
    "### 'address' column\n",
    "- Extrac the zipcode and then get dummy"
   ]
  },
  {
   "cell_type": "code",
   "execution_count": 79,
   "metadata": {},
   "outputs": [
    {
     "data": {
      "text/plain": [
       "0              0174 Michelle Gateway\\nMendozaberg, OK 22690\n",
       "1           1076 Carney Fort Apt. 347\\nLoganmouth, SD 05113\n",
       "2           87025 Mark Dale Apt. 269\\nNew Sabrina, WV 05113\n",
       "3                     823 Reid Ford\\nDelacruzside, MA 00813\n",
       "4                      679 Luna Roads\\nGreggshire, VA 11650\n",
       "                                ...                        \n",
       "396025       12951 Williams Crossing\\nJohnnyville, DC 30723\n",
       "396026    0114 Fowler Field Suite 028\\nRachelborough, LA...\n",
       "396027     953 Matthew Points Suite 414\\nReedfort, NY 70466\n",
       "396028    7843 Blake Freeway Apt. 229\\nNew Michael, FL 2...\n",
       "396029          787 Michelle Causeway\\nBriannaton, AR 48052\n",
       "Name: address, Length: 396030, dtype: object"
      ]
     },
     "execution_count": 79,
     "metadata": {},
     "output_type": "execute_result"
    }
   ],
   "source": [
    "df['address']"
   ]
  },
  {
   "cell_type": "code",
   "execution_count": 80,
   "metadata": {},
   "outputs": [
    {
     "data": {
      "text/plain": [
       "array(['22690', '05113', '00813', '11650', '30723', '70466', '29597',\n",
       "       '48052', '86630', '93700'], dtype=object)"
      ]
     },
     "execution_count": 80,
     "metadata": {},
     "output_type": "execute_result"
    }
   ],
   "source": [
    "df_fea['zip_code'] = df['address'].apply(lambda x: x[-5:])\n",
    "df_fea['zip_code'].unique()"
   ]
  },
  {
   "cell_type": "code",
   "execution_count": 81,
   "metadata": {},
   "outputs": [],
   "source": [
    "dummy_zip_code = pd.get_dummies(df_fea['zip_code'])\n",
    "df_fea[['zip_code_22690', 'zip_code_05113', 'zip_code_00813', 'zip_code_11650', 'zip_code_30723', 'zip_code_70466', 'zip_code_29597',\n",
    "       'zip_code_48052', 'zip_code_86630', 'zip_code_93700']] = dummy_zip_code "
   ]
  },
  {
   "cell_type": "code",
   "execution_count": 82,
   "metadata": {},
   "outputs": [],
   "source": [
    "# drop it for now\n",
    "df_fea = df_fea.drop('address',axis = 1)"
   ]
  },
  {
   "cell_type": "code",
   "execution_count": 83,
   "metadata": {},
   "outputs": [],
   "source": [
    "# drop it for now\n",
    "df_fea = df_fea.drop('zip_code',axis = 1)"
   ]
  },
  {
   "cell_type": "markdown",
   "metadata": {},
   "source": [
    "### Target (loan_status) column\n"
   ]
  },
  {
   "cell_type": "code",
   "execution_count": 84,
   "metadata": {},
   "outputs": [
    {
     "data": {
      "text/plain": [
       "array(['Fully Paid', 'Charged Off'], dtype=object)"
      ]
     },
     "execution_count": 84,
     "metadata": {},
     "output_type": "execute_result"
    }
   ],
   "source": [
    "df_fea['loan_status'].unique()"
   ]
  },
  {
   "cell_type": "code",
   "execution_count": 85,
   "metadata": {},
   "outputs": [],
   "source": [
    "map_target = {'Fully Paid':1, 'Charged Off':0}\n",
    "df_fea['loan_status'] = df_fea['loan_status'].map(map_target)"
   ]
  },
  {
   "cell_type": "code",
   "execution_count": 86,
   "metadata": {},
   "outputs": [
    {
     "data": {
      "text/plain": [
       "array([1, 0])"
      ]
     },
     "execution_count": 86,
     "metadata": {},
     "output_type": "execute_result"
    }
   ],
   "source": [
    "df_fea['loan_status'].unique()"
   ]
  },
  {
   "cell_type": "code",
   "execution_count": 87,
   "metadata": {},
   "outputs": [
    {
     "name": "stdout",
     "output_type": "stream",
     "text": [
      "<class 'pandas.core.frame.DataFrame'>\n",
      "RangeIndex: 396030 entries, 0 to 396029\n",
      "Data columns (total 58 columns):\n",
      " #   Column                   Non-Null Count   Dtype  \n",
      "---  ------                   --------------   -----  \n",
      " 0   loan_amnt                396030 non-null  float64\n",
      " 1   term                     396030 non-null  float64\n",
      " 2   int_rate                 396030 non-null  float64\n",
      " 3   installment              396030 non-null  float64\n",
      " 4   annual_inc               396030 non-null  float64\n",
      " 5   loan_status              396030 non-null  int64  \n",
      " 6   dti                      396030 non-null  float64\n",
      " 7   open_acc                 396030 non-null  float64\n",
      " 8   pub_rec                  396030 non-null  float64\n",
      " 9   revol_bal                396030 non-null  float64\n",
      " 10  revol_util               396030 non-null  float64\n",
      " 11  total_acc                396030 non-null  float64\n",
      " 12  mort_acc                 396030 non-null  float64\n",
      " 13  pub_rec_bankruptcies     396030 non-null  float64\n",
      " 14  grade_A                  396030 non-null  uint8  \n",
      " 15  grade_B                  396030 non-null  uint8  \n",
      " 16  grade_C                  396030 non-null  uint8  \n",
      " 17  grade_D                  396030 non-null  uint8  \n",
      " 18  grade_E                  396030 non-null  uint8  \n",
      " 19  grade_F                  396030 non-null  uint8  \n",
      " 20  grade_G                  396030 non-null  uint8  \n",
      " 21  home_MORTGAGE            396030 non-null  uint8  \n",
      " 22  home_OTHER               396030 non-null  uint8  \n",
      " 23  home_OWN                 396030 non-null  uint8  \n",
      " 24  home_RENT                396030 non-null  uint8  \n",
      " 25  verfied_Not_Verified     396030 non-null  uint8  \n",
      " 26  verfied_Source_Verified  396030 non-null  uint8  \n",
      " 27  verfied_Verified         396030 non-null  uint8  \n",
      " 28  car                      396030 non-null  uint8  \n",
      " 29  credit_card              396030 non-null  uint8  \n",
      " 30  debt_consolidation       396030 non-null  uint8  \n",
      " 31  educational              396030 non-null  uint8  \n",
      " 32  home_improvement         396030 non-null  uint8  \n",
      " 33  house                    396030 non-null  uint8  \n",
      " 34  major_purchase           396030 non-null  uint8  \n",
      " 35  medical                  396030 non-null  uint8  \n",
      " 36  moving                   396030 non-null  uint8  \n",
      " 37  other                    396030 non-null  uint8  \n",
      " 38  renewable_energy         396030 non-null  uint8  \n",
      " 39  small_business           396030 non-null  uint8  \n",
      " 40  vacation                 396030 non-null  uint8  \n",
      " 41  wedding                  396030 non-null  uint8  \n",
      " 42  earliest_cr_line_year    396030 non-null  int64  \n",
      " 43  ini_status_f             396030 non-null  uint8  \n",
      " 44  ini_status_w             396030 non-null  uint8  \n",
      " 45  type_INDIVIDUAL          396030 non-null  uint8  \n",
      " 46  type_JOINT               396030 non-null  uint8  \n",
      " 47  type_DIRECT_PAY          396030 non-null  uint8  \n",
      " 48  zip_code_22690           396030 non-null  uint8  \n",
      " 49  zip_code_05113           396030 non-null  uint8  \n",
      " 50  zip_code_00813           396030 non-null  uint8  \n",
      " 51  zip_code_11650           396030 non-null  uint8  \n",
      " 52  zip_code_30723           396030 non-null  uint8  \n",
      " 53  zip_code_70466           396030 non-null  uint8  \n",
      " 54  zip_code_29597           396030 non-null  uint8  \n",
      " 55  zip_code_48052           396030 non-null  uint8  \n",
      " 56  zip_code_86630           396030 non-null  uint8  \n",
      " 57  zip_code_93700           396030 non-null  uint8  \n",
      "dtypes: float64(13), int64(2), uint8(43)\n",
      "memory usage: 61.6 MB\n"
     ]
    }
   ],
   "source": [
    "df_fea.info()"
   ]
  },
  {
   "cell_type": "markdown",
   "metadata": {},
   "source": [
    "Print cross correlation for the 'loan_status'"
   ]
  },
  {
   "cell_type": "code",
   "execution_count": 88,
   "metadata": {},
   "outputs": [
    {
     "data": {
      "text/plain": [
       "zip_code_00813            -0.345792\n",
       "zip_code_93700            -0.344601\n",
       "zip_code_86630            -0.341889\n",
       "int_rate                  -0.247758\n",
       "term                      -0.173246\n",
       "grade_E                   -0.131385\n",
       "grade_F                   -0.102158\n",
       "grade_D                   -0.101877\n",
       "revol_util                -0.082341\n",
       "home_RENT                 -0.063160\n",
       "grade_G                   -0.062667\n",
       "dti                       -0.062413\n",
       "loan_amnt                 -0.059836\n",
       "verfied_Verified          -0.050314\n",
       "installment               -0.041082\n",
       "debt_consolidation        -0.034244\n",
       "verfied_Source_Verified   -0.033030\n",
       "small_business            -0.029944\n",
       "open_acc                  -0.028012\n",
       "grade_C                   -0.023871\n",
       "pub_rec                   -0.019933\n",
       "type_INDIVIDUAL           -0.010867\n",
       "other                     -0.009609\n",
       "ini_status_w              -0.009489\n",
       "pub_rec_bankruptcies      -0.009416\n",
       "home_OWN                  -0.008726\n",
       "moving                    -0.008289\n",
       "medical                   -0.005468\n",
       "zip_code_29597            -0.004110\n",
       "renewable_energy          -0.002753\n",
       "house                     -0.000198\n",
       "zip_code_48052             0.000515\n",
       "zip_code_70466             0.001260\n",
       "vacation                   0.001371\n",
       "home_OTHER                 0.001867\n",
       "educational                0.002099\n",
       "zip_code_11650             0.002410\n",
       "type_JOINT                 0.002486\n",
       "type_DIRECT_PAY            0.005702\n",
       "ini_status_f               0.009489\n",
       "revol_bal                  0.010892\n",
       "major_purchase             0.011913\n",
       "wedding                    0.012852\n",
       "home_improvement           0.016674\n",
       "car                        0.016931\n",
       "total_acc                  0.017893\n",
       "credit_card                0.037627\n",
       "earliest_cr_line_year      0.038928\n",
       "annual_inc                 0.053432\n",
       "mort_acc                   0.057771\n",
       "home_MORTGAGE              0.067024\n",
       "verfied_Not_Verified       0.085163\n",
       "grade_B                    0.114123\n",
       "grade_A                    0.147591\n",
       "zip_code_05113             0.177743\n",
       "zip_code_30723             0.177895\n",
       "zip_code_22690             0.178674\n",
       "loan_status                1.000000\n",
       "Name: loan_status, dtype: float64"
      ]
     },
     "execution_count": 88,
     "metadata": {},
     "output_type": "execute_result"
    }
   ],
   "source": [
    "df_fea.corr()['loan_status'].sort_values()"
   ]
  },
  {
   "cell_type": "markdown",
   "metadata": {},
   "source": [
    "# Modelling"
   ]
  },
  {
   "cell_type": "markdown",
   "metadata": {},
   "source": [
    "## Data preparation"
   ]
  },
  {
   "cell_type": "code",
   "execution_count": 89,
   "metadata": {},
   "outputs": [],
   "source": [
    "# Try with a random 10% of rows\n",
    "#data = df_fea.sample(frac = 0.1)"
   ]
  },
  {
   "cell_type": "code",
   "execution_count": 90,
   "metadata": {},
   "outputs": [],
   "source": [
    "# Try with all rows\n",
    "data = df_fea.copy()"
   ]
  },
  {
   "cell_type": "code",
   "execution_count": 91,
   "metadata": {},
   "outputs": [
    {
     "data": {
      "text/plain": [
       "Index(['loan_amnt', 'term', 'int_rate', 'installment', 'annual_inc',\n",
       "       'loan_status', 'dti', 'open_acc', 'pub_rec', 'revol_bal', 'revol_util',\n",
       "       'total_acc', 'mort_acc', 'pub_rec_bankruptcies', 'grade_A', 'grade_B',\n",
       "       'grade_C', 'grade_D', 'grade_E', 'grade_F', 'grade_G', 'home_MORTGAGE',\n",
       "       'home_OTHER', 'home_OWN', 'home_RENT', 'verfied_Not_Verified',\n",
       "       'verfied_Source_Verified', 'verfied_Verified', 'car', 'credit_card',\n",
       "       'debt_consolidation', 'educational', 'home_improvement', 'house',\n",
       "       'major_purchase', 'medical', 'moving', 'other', 'renewable_energy',\n",
       "       'small_business', 'vacation', 'wedding', 'earliest_cr_line_year',\n",
       "       'ini_status_f', 'ini_status_w', 'type_INDIVIDUAL', 'type_JOINT',\n",
       "       'type_DIRECT_PAY', 'zip_code_22690', 'zip_code_05113', 'zip_code_00813',\n",
       "       'zip_code_11650', 'zip_code_30723', 'zip_code_70466', 'zip_code_29597',\n",
       "       'zip_code_48052', 'zip_code_86630', 'zip_code_93700'],\n",
       "      dtype='object')"
      ]
     },
     "execution_count": 91,
     "metadata": {},
     "output_type": "execute_result"
    }
   ],
   "source": [
    "data.columns"
   ]
  },
  {
   "cell_type": "markdown",
   "metadata": {},
   "source": [
    "### spliting train, test data"
   ]
  },
  {
   "cell_type": "code",
   "execution_count": 229,
   "metadata": {},
   "outputs": [
    {
     "data": {
      "text/html": [
       "<div>\n",
       "<style scoped>\n",
       "    .dataframe tbody tr th:only-of-type {\n",
       "        vertical-align: middle;\n",
       "    }\n",
       "\n",
       "    .dataframe tbody tr th {\n",
       "        vertical-align: top;\n",
       "    }\n",
       "\n",
       "    .dataframe thead th {\n",
       "        text-align: right;\n",
       "    }\n",
       "</style>\n",
       "<table border=\"1\" class=\"dataframe\">\n",
       "  <thead>\n",
       "    <tr style=\"text-align: right;\">\n",
       "      <th></th>\n",
       "      <th>loan_amnt</th>\n",
       "      <th>term</th>\n",
       "      <th>int_rate</th>\n",
       "      <th>installment</th>\n",
       "      <th>annual_inc</th>\n",
       "      <th>loan_status</th>\n",
       "      <th>dti</th>\n",
       "      <th>open_acc</th>\n",
       "      <th>pub_rec</th>\n",
       "      <th>revol_bal</th>\n",
       "      <th>revol_util</th>\n",
       "      <th>total_acc</th>\n",
       "      <th>mort_acc</th>\n",
       "      <th>pub_rec_bankruptcies</th>\n",
       "      <th>grade_A</th>\n",
       "      <th>grade_B</th>\n",
       "      <th>grade_C</th>\n",
       "      <th>grade_D</th>\n",
       "      <th>grade_E</th>\n",
       "      <th>grade_F</th>\n",
       "      <th>grade_G</th>\n",
       "      <th>home_MORTGAGE</th>\n",
       "      <th>home_OTHER</th>\n",
       "      <th>home_OWN</th>\n",
       "      <th>home_RENT</th>\n",
       "      <th>verfied_Not_Verified</th>\n",
       "      <th>verfied_Source_Verified</th>\n",
       "      <th>verfied_Verified</th>\n",
       "      <th>car</th>\n",
       "      <th>credit_card</th>\n",
       "      <th>debt_consolidation</th>\n",
       "      <th>educational</th>\n",
       "      <th>home_improvement</th>\n",
       "      <th>house</th>\n",
       "      <th>major_purchase</th>\n",
       "      <th>medical</th>\n",
       "      <th>moving</th>\n",
       "      <th>other</th>\n",
       "      <th>renewable_energy</th>\n",
       "      <th>small_business</th>\n",
       "      <th>vacation</th>\n",
       "      <th>wedding</th>\n",
       "      <th>earliest_cr_line_year</th>\n",
       "      <th>ini_status_f</th>\n",
       "      <th>ini_status_w</th>\n",
       "      <th>type_INDIVIDUAL</th>\n",
       "      <th>type_JOINT</th>\n",
       "      <th>type_DIRECT_PAY</th>\n",
       "      <th>zip_code_22690</th>\n",
       "      <th>zip_code_05113</th>\n",
       "      <th>zip_code_00813</th>\n",
       "      <th>zip_code_11650</th>\n",
       "      <th>zip_code_30723</th>\n",
       "      <th>zip_code_70466</th>\n",
       "      <th>zip_code_29597</th>\n",
       "      <th>zip_code_48052</th>\n",
       "      <th>zip_code_86630</th>\n",
       "      <th>zip_code_93700</th>\n",
       "    </tr>\n",
       "  </thead>\n",
       "  <tbody>\n",
       "    <tr>\n",
       "      <th>0</th>\n",
       "      <td>10000.0</td>\n",
       "      <td>36.0</td>\n",
       "      <td>11.44</td>\n",
       "      <td>329.48</td>\n",
       "      <td>117000.0</td>\n",
       "      <td>1</td>\n",
       "      <td>26.24</td>\n",
       "      <td>16.0</td>\n",
       "      <td>0.0</td>\n",
       "      <td>36369.0</td>\n",
       "      <td>41.8</td>\n",
       "      <td>25.0</td>\n",
       "      <td>0.0</td>\n",
       "      <td>0.0</td>\n",
       "      <td>0</td>\n",
       "      <td>1</td>\n",
       "      <td>0</td>\n",
       "      <td>0</td>\n",
       "      <td>0</td>\n",
       "      <td>0</td>\n",
       "      <td>0</td>\n",
       "      <td>0</td>\n",
       "      <td>0</td>\n",
       "      <td>0</td>\n",
       "      <td>1</td>\n",
       "      <td>1</td>\n",
       "      <td>0</td>\n",
       "      <td>0</td>\n",
       "      <td>0</td>\n",
       "      <td>0</td>\n",
       "      <td>0</td>\n",
       "      <td>0</td>\n",
       "      <td>0</td>\n",
       "      <td>0</td>\n",
       "      <td>0</td>\n",
       "      <td>0</td>\n",
       "      <td>0</td>\n",
       "      <td>0</td>\n",
       "      <td>0</td>\n",
       "      <td>0</td>\n",
       "      <td>1</td>\n",
       "      <td>0</td>\n",
       "      <td>30</td>\n",
       "      <td>0</td>\n",
       "      <td>1</td>\n",
       "      <td>0</td>\n",
       "      <td>1</td>\n",
       "      <td>0</td>\n",
       "      <td>0</td>\n",
       "      <td>0</td>\n",
       "      <td>0</td>\n",
       "      <td>1</td>\n",
       "      <td>0</td>\n",
       "      <td>0</td>\n",
       "      <td>0</td>\n",
       "      <td>0</td>\n",
       "      <td>0</td>\n",
       "      <td>0</td>\n",
       "    </tr>\n",
       "    <tr>\n",
       "      <th>1</th>\n",
       "      <td>8000.0</td>\n",
       "      <td>36.0</td>\n",
       "      <td>11.99</td>\n",
       "      <td>265.68</td>\n",
       "      <td>65000.0</td>\n",
       "      <td>1</td>\n",
       "      <td>22.05</td>\n",
       "      <td>17.0</td>\n",
       "      <td>0.0</td>\n",
       "      <td>20131.0</td>\n",
       "      <td>53.3</td>\n",
       "      <td>27.0</td>\n",
       "      <td>3.0</td>\n",
       "      <td>0.0</td>\n",
       "      <td>0</td>\n",
       "      <td>1</td>\n",
       "      <td>0</td>\n",
       "      <td>0</td>\n",
       "      <td>0</td>\n",
       "      <td>0</td>\n",
       "      <td>0</td>\n",
       "      <td>1</td>\n",
       "      <td>0</td>\n",
       "      <td>0</td>\n",
       "      <td>0</td>\n",
       "      <td>1</td>\n",
       "      <td>0</td>\n",
       "      <td>0</td>\n",
       "      <td>0</td>\n",
       "      <td>0</td>\n",
       "      <td>1</td>\n",
       "      <td>0</td>\n",
       "      <td>0</td>\n",
       "      <td>0</td>\n",
       "      <td>0</td>\n",
       "      <td>0</td>\n",
       "      <td>0</td>\n",
       "      <td>0</td>\n",
       "      <td>0</td>\n",
       "      <td>0</td>\n",
       "      <td>0</td>\n",
       "      <td>0</td>\n",
       "      <td>16</td>\n",
       "      <td>1</td>\n",
       "      <td>0</td>\n",
       "      <td>0</td>\n",
       "      <td>1</td>\n",
       "      <td>0</td>\n",
       "      <td>0</td>\n",
       "      <td>1</td>\n",
       "      <td>0</td>\n",
       "      <td>0</td>\n",
       "      <td>0</td>\n",
       "      <td>0</td>\n",
       "      <td>0</td>\n",
       "      <td>0</td>\n",
       "      <td>0</td>\n",
       "      <td>0</td>\n",
       "    </tr>\n",
       "  </tbody>\n",
       "</table>\n",
       "</div>"
      ],
      "text/plain": [
       "   loan_amnt  term  int_rate  installment  annual_inc  loan_status    dti  \\\n",
       "0    10000.0  36.0     11.44       329.48    117000.0            1  26.24   \n",
       "1     8000.0  36.0     11.99       265.68     65000.0            1  22.05   \n",
       "\n",
       "   open_acc  pub_rec  revol_bal  revol_util  total_acc  mort_acc  \\\n",
       "0      16.0      0.0    36369.0        41.8       25.0       0.0   \n",
       "1      17.0      0.0    20131.0        53.3       27.0       3.0   \n",
       "\n",
       "   pub_rec_bankruptcies  grade_A  grade_B  grade_C  grade_D  grade_E  grade_F  \\\n",
       "0                   0.0        0        1        0        0        0        0   \n",
       "1                   0.0        0        1        0        0        0        0   \n",
       "\n",
       "   grade_G  home_MORTGAGE  home_OTHER  home_OWN  home_RENT  \\\n",
       "0        0              0           0         0          1   \n",
       "1        0              1           0         0          0   \n",
       "\n",
       "   verfied_Not_Verified  verfied_Source_Verified  verfied_Verified  car  \\\n",
       "0                     1                        0                 0    0   \n",
       "1                     1                        0                 0    0   \n",
       "\n",
       "   credit_card  debt_consolidation  educational  home_improvement  house  \\\n",
       "0            0                   0            0                 0      0   \n",
       "1            0                   1            0                 0      0   \n",
       "\n",
       "   major_purchase  medical  moving  other  renewable_energy  small_business  \\\n",
       "0               0        0       0      0                 0               0   \n",
       "1               0        0       0      0                 0               0   \n",
       "\n",
       "   vacation  wedding  earliest_cr_line_year  ini_status_f  ini_status_w  \\\n",
       "0         1        0                     30             0             1   \n",
       "1         0        0                     16             1             0   \n",
       "\n",
       "   type_INDIVIDUAL  type_JOINT  type_DIRECT_PAY  zip_code_22690  \\\n",
       "0                0           1                0               0   \n",
       "1                0           1                0               0   \n",
       "\n",
       "   zip_code_05113  zip_code_00813  zip_code_11650  zip_code_30723  \\\n",
       "0               0               0               1               0   \n",
       "1               1               0               0               0   \n",
       "\n",
       "   zip_code_70466  zip_code_29597  zip_code_48052  zip_code_86630  \\\n",
       "0               0               0               0               0   \n",
       "1               0               0               0               0   \n",
       "\n",
       "   zip_code_93700  \n",
       "0               0  \n",
       "1               0  "
      ]
     },
     "execution_count": 229,
     "metadata": {},
     "output_type": "execute_result"
    }
   ],
   "source": [
    "data.head(2)"
   ]
  },
  {
   "cell_type": "code",
   "execution_count": 97,
   "metadata": {},
   "outputs": [],
   "source": [
    "X = data.drop('loan_status',axis = 1).values\n",
    "y = data['loan_status'].values"
   ]
  },
  {
   "cell_type": "code",
   "execution_count": 98,
   "metadata": {},
   "outputs": [],
   "source": [
    "# Normalize the data, we normalize the data\n",
    "\n",
    "from sklearn.model_selection import train_test_split\n",
    "from sklearn.preprocessing import MinMaxScaler"
   ]
  },
  {
   "cell_type": "code",
   "execution_count": 161,
   "metadata": {},
   "outputs": [],
   "source": [
    "X_train, X_test, y_train, y_test = train_test_split(X, y, test_size=0.33, random_state=42)"
   ]
  },
  {
   "cell_type": "code",
   "execution_count": 111,
   "metadata": {},
   "outputs": [
    {
     "data": {
      "text/plain": [
       "(396030, 57)"
      ]
     },
     "execution_count": 111,
     "metadata": {},
     "output_type": "execute_result"
    }
   ],
   "source": [
    "X.shape"
   ]
  },
  {
   "cell_type": "code",
   "execution_count": 100,
   "metadata": {},
   "outputs": [],
   "source": [
    "# Normalize\n",
    "scaler = MinMaxScaler()\n",
    "X_train = scaler.fit_transform(X_train)\n",
    "X_test = scaler.transform(X_test)"
   ]
  },
  {
   "cell_type": "markdown",
   "metadata": {},
   "source": [
    "## Train a neural network model"
   ]
  },
  {
   "cell_type": "markdown",
   "metadata": {},
   "source": [
    "### Train the model and using early stopping and Dropout"
   ]
  },
  {
   "cell_type": "code",
   "execution_count": 105,
   "metadata": {},
   "outputs": [],
   "source": [
    "from tensorflow.keras.models import Sequential\n",
    "from tensorflow.keras.layers import Dense, Activation,Dropout"
   ]
  },
  {
   "cell_type": "code",
   "execution_count": 101,
   "metadata": {},
   "outputs": [],
   "source": [
    "# create an earlystopping\n",
    "from tensorflow.keras.callbacks import EarlyStopping\n",
    "early_stop = EarlyStopping(monitor='val_loss', mode='min', verbose=1, patience=10)"
   ]
  },
  {
   "cell_type": "code",
   "execution_count": 106,
   "metadata": {},
   "outputs": [
    {
     "name": "stdout",
     "output_type": "stream",
     "text": [
      "Epoch 1/50\n",
      "8292/8292 [==============================] - 14s 2ms/step - loss: 0.2971 - val_loss: 0.2633\n",
      "Epoch 2/50\n",
      "8292/8292 [==============================] - 15s 2ms/step - loss: 0.2687 - val_loss: 0.2635\n",
      "Epoch 3/50\n",
      "8292/8292 [==============================] - 16s 2ms/step - loss: 0.2680 - val_loss: 0.2632\n",
      "Epoch 4/50\n",
      "8292/8292 [==============================] - 19s 2ms/step - loss: 0.2679 - val_loss: 0.2635\n",
      "Epoch 5/50\n",
      "8292/8292 [==============================] - 17s 2ms/step - loss: 0.2673 - val_loss: 0.2628\n",
      "Epoch 6/50\n",
      "8292/8292 [==============================] - 20s 2ms/step - loss: 0.2670 - val_loss: 0.2623\n",
      "Epoch 7/50\n",
      "8292/8292 [==============================] - 24s 3ms/step - loss: 0.2670 - val_loss: 0.2641\n",
      "Epoch 8/50\n",
      "8292/8292 [==============================] - 17s 2ms/step - loss: 0.2666 - val_loss: 0.2631\n",
      "Epoch 9/50\n",
      "8292/8292 [==============================] - 20s 2ms/step - loss: 0.2666 - val_loss: 0.2621\n",
      "Epoch 10/50\n",
      "8292/8292 [==============================] - 15s 2ms/step - loss: 0.2671 - val_loss: 0.2623\n",
      "Epoch 11/50\n",
      "8292/8292 [==============================] - 15s 2ms/step - loss: 0.2667 - val_loss: 0.2625\n",
      "Epoch 12/50\n",
      "8292/8292 [==============================] - 14s 2ms/step - loss: 0.2664 - val_loss: 0.2621\n",
      "Epoch 13/50\n",
      "8292/8292 [==============================] - 13s 2ms/step - loss: 0.2666 - val_loss: 0.2629\n",
      "Epoch 14/50\n",
      "8292/8292 [==============================] - 13s 2ms/step - loss: 0.2662 - val_loss: 0.2628\n",
      "Epoch 15/50\n",
      "8292/8292 [==============================] - 13s 2ms/step - loss: 0.2662 - val_loss: 0.2621\n",
      "Epoch 16/50\n",
      "8292/8292 [==============================] - 13s 2ms/step - loss: 0.2656 - val_loss: 0.2628\n",
      "Epoch 17/50\n",
      "8292/8292 [==============================] - 13s 2ms/step - loss: 0.2664 - val_loss: 0.2627\n",
      "Epoch 18/50\n",
      "8292/8292 [==============================] - 13s 2ms/step - loss: 0.2660 - val_loss: 0.2643\n",
      "Epoch 19/50\n",
      "8292/8292 [==============================] - 13s 2ms/step - loss: 0.2659 - val_loss: 0.2617\n",
      "Epoch 20/50\n",
      "8292/8292 [==============================] - 13s 2ms/step - loss: 0.2658 - val_loss: 0.2623\n",
      "Epoch 21/50\n",
      "8292/8292 [==============================] - 13s 2ms/step - loss: 0.2666 - val_loss: 0.2616\n",
      "Epoch 22/50\n",
      "8292/8292 [==============================] - 13s 2ms/step - loss: 0.2656 - val_loss: 0.2621\n",
      "Epoch 23/50\n",
      "8292/8292 [==============================] - 14s 2ms/step - loss: 0.2653 - val_loss: 0.2613\n",
      "Epoch 24/50\n",
      "8292/8292 [==============================] - 14s 2ms/step - loss: 0.2656 - val_loss: 0.2624\n",
      "Epoch 25/50\n",
      "8292/8292 [==============================] - 14s 2ms/step - loss: 0.2658 - val_loss: 0.2622\n",
      "Epoch 26/50\n",
      "8292/8292 [==============================] - 14s 2ms/step - loss: 0.2660 - val_loss: 0.2614\n",
      "Epoch 27/50\n",
      "8292/8292 [==============================] - 13s 2ms/step - loss: 0.2656 - val_loss: 0.2620\n",
      "Epoch 28/50\n",
      "8292/8292 [==============================] - 14s 2ms/step - loss: 0.2656 - val_loss: 0.2612\n",
      "Epoch 29/50\n",
      "8292/8292 [==============================] - 16s 2ms/step - loss: 0.2653 - val_loss: 0.2617\n",
      "Epoch 30/50\n",
      "8292/8292 [==============================] - 15s 2ms/step - loss: 0.2655 - val_loss: 0.2617\n",
      "Epoch 31/50\n",
      "8292/8292 [==============================] - 16s 2ms/step - loss: 0.2659 - val_loss: 0.2622\n",
      "Epoch 32/50\n",
      "8292/8292 [==============================] - 14s 2ms/step - loss: 0.2659 - val_loss: 0.2626\n",
      "Epoch 33/50\n",
      "8292/8292 [==============================] - 14s 2ms/step - loss: 0.2653 - val_loss: 0.2617\n",
      "Epoch 34/50\n",
      "8292/8292 [==============================] - 14s 2ms/step - loss: 0.2655 - val_loss: 0.2617\n",
      "Epoch 35/50\n",
      "8292/8292 [==============================] - 15s 2ms/step - loss: 0.2657 - val_loss: 0.2619\n",
      "Epoch 36/50\n",
      "8292/8292 [==============================] - 14s 2ms/step - loss: 0.2652 - val_loss: 0.2611\n",
      "Epoch 37/50\n",
      "8292/8292 [==============================] - 14s 2ms/step - loss: 0.2654 - val_loss: 0.2616\n",
      "Epoch 38/50\n",
      "8292/8292 [==============================] - 13s 2ms/step - loss: 0.2650 - val_loss: 0.2615\n",
      "Epoch 39/50\n",
      "8292/8292 [==============================] - 14s 2ms/step - loss: 0.2652 - val_loss: 0.2628\n",
      "Epoch 40/50\n",
      "8292/8292 [==============================] - 14s 2ms/step - loss: 0.2657 - val_loss: 0.2618\n",
      "Epoch 41/50\n",
      "8292/8292 [==============================] - 14s 2ms/step - loss: 0.2659 - val_loss: 0.2616\n",
      "Epoch 42/50\n",
      "8292/8292 [==============================] - 14s 2ms/step - loss: 0.2649 - val_loss: 0.2615\n",
      "Epoch 43/50\n",
      "8292/8292 [==============================] - 14s 2ms/step - loss: 0.2649 - val_loss: 0.2621\n",
      "Epoch 44/50\n",
      "8292/8292 [==============================] - 14s 2ms/step - loss: 0.2652 - val_loss: 0.2615\n",
      "Epoch 45/50\n",
      "8292/8292 [==============================] - 13s 2ms/step - loss: 0.2648 - val_loss: 0.2625\n",
      "Epoch 46/50\n",
      "8292/8292 [==============================] - 14s 2ms/step - loss: 0.2654 - val_loss: 0.2613A: \n",
      "Epoch 00046: early stopping\n"
     ]
    },
    {
     "data": {
      "text/plain": [
       "<tensorflow.python.keras.callbacks.History at 0x1a306c0750>"
      ]
     },
     "execution_count": 106,
     "metadata": {},
     "output_type": "execute_result"
    }
   ],
   "source": [
    "# Create a model with Dropout\n",
    "\n",
    "model = Sequential()\n",
    "\n",
    "model.add(Dense(units = 57, activation = 'relu'))\n",
    "model.add(Dropout(0.5))\n",
    "model.add(Dense(units = 28, activation = 'relu'))\n",
    "model.add(Dropout(0.5))\n",
    "model.add(Dense(units = 14, activation = 'relu'))\n",
    "model.add(Dropout(0.5))\n",
    "\n",
    "model.add(Dense(units = 1, activation = 'sigmoid'))\n",
    "\n",
    "model.compile(loss='binary_crossentropy', optimizer='adam')\n",
    "\n",
    "# Train the model \n",
    "model.fit(X_train,y_train,\n",
    "         epochs = 50,\n",
    "         validation_data=(X_test, y_test), verbose=1,\n",
    "         callbacks=[early_stop])"
   ]
  },
  {
   "cell_type": "code",
   "execution_count": 107,
   "metadata": {},
   "outputs": [
    {
     "data": {
      "text/plain": [
       "<matplotlib.axes._subplots.AxesSubplot at 0x1a51347850>"
      ]
     },
     "execution_count": 107,
     "metadata": {},
     "output_type": "execute_result"
    },
    {
     "data": {
      "image/png": "[encoded data removed]",
      "text/plain": [
       "<Figure size 432x288 with 1 Axes>"
      ]
     },
     "metadata": {
      "needs_background": "light"
     },
     "output_type": "display_data"
    }
   ],
   "source": [
    "# Plot the loss of the model\n",
    "model_loss = pd.DataFrame(model.history.history)\n",
    "model_loss.plot()"
   ]
  },
  {
   "cell_type": "markdown",
   "metadata": {},
   "source": [
    "## Predict and evaluate the model"
   ]
  },
  {
   "cell_type": "code",
   "execution_count": 108,
   "metadata": {},
   "outputs": [
    {
     "name": "stdout",
     "output_type": "stream",
     "text": [
      "WARNING:tensorflow:From <ipython-input-108-fdaaf2360398>:1: Sequential.predict_classes (from tensorflow.python.keras.engine.sequential) is deprecated and will be removed after 2021-01-01.\n",
      "Instructions for updating:\n",
      "Please use instead:* `np.argmax(model.predict(x), axis=-1)`,   if your model does multi-class classification   (e.g. if it uses a `softmax` last-layer activation).* `(model.predict(x) > 0.5).astype(\"int32\")`,   if your model does binary classification   (e.g. if it uses a `sigmoid` last-layer activation).\n"
     ]
    }
   ],
   "source": [
    "y_pred = model.predict_classes(X_test)"
   ]
  },
  {
   "cell_type": "code",
   "execution_count": 230,
   "metadata": {},
   "outputs": [],
   "source": [
    "from sklearn.metrics import classification_report,confusion_matrix\n",
    "from sklearn.metrics import plot_confusion_matrix, plot_roc_curve, plot_precision_recall_curve"
   ]
  },
  {
   "cell_type": "code",
   "execution_count": 110,
   "metadata": {},
   "outputs": [
    {
     "name": "stdout",
     "output_type": "stream",
     "text": [
      "              precision    recall  f1-score   support\n",
      "\n",
      "           0       1.00      0.43      0.60     25739\n",
      "           1       0.88      1.00      0.93    104951\n",
      "\n",
      "    accuracy                           0.89    130690\n",
      "   macro avg       0.94      0.71      0.77    130690\n",
      "weighted avg       0.90      0.89      0.87    130690\n",
      "\n",
      "\n",
      "[[ 11036  14703]\n",
      " [     0 104951]]\n"
     ]
    }
   ],
   "source": [
    "print(classification_report(y_test,y_pred))\n",
    "print()\n",
    "print(confusion_matrix(y_test,y_pred))"
   ]
  },
  {
   "cell_type": "markdown",
   "metadata": {},
   "source": [
    "## Try resampling techique"
   ]
  },
  {
   "cell_type": "markdown",
   "metadata": {},
   "source": [
    "### Undersample the majority"
   ]
  },
  {
   "cell_type": "code",
   "execution_count": 142,
   "metadata": {},
   "outputs": [],
   "source": [
    "from sklearn.utils import resample\n",
    "import numpy as np"
   ]
  },
  {
   "cell_type": "code",
   "execution_count": 187,
   "metadata": {},
   "outputs": [],
   "source": [
    "X_train, X_test, y_train, y_test = train_test_split(X, y, test_size=0.33, random_state=42)\n",
    "\n",
    "# Normalize\n",
    "scaler = MinMaxScaler()\n",
    "X_train = scaler.fit_transform(X_train)\n",
    "X_test = scaler.transform(X_test)"
   ]
  },
  {
   "cell_type": "code",
   "execution_count": 190,
   "metadata": {},
   "outputs": [],
   "source": [
    "y_train_re=y_train.reshape(265340,1)"
   ]
  },
  {
   "cell_type": "code",
   "execution_count": 191,
   "metadata": {},
   "outputs": [],
   "source": [
    "# Concatenate X_train and y_train \n",
    "sampled = np.concatenate((X_train,y_train_re),axis = 1)"
   ]
  },
  {
   "cell_type": "code",
   "execution_count": 192,
   "metadata": {},
   "outputs": [],
   "source": [
    "sample_fully_paid = sampled[y_train==1]\n",
    "sample_charged_off = sampled[y_train==0]"
   ]
  },
  {
   "cell_type": "code",
   "execution_count": 193,
   "metadata": {},
   "outputs": [],
   "source": [
    "sample_fully_paid_downsampled = resample(sample_fully_paid,\n",
    "                                replace = False, # sample without replacement\n",
    "                                n_samples = len(sample_charged_off), # match minority n\n",
    "                                random_state = 27) # reproducible results"
   ]
  },
  {
   "cell_type": "code",
   "execution_count": 196,
   "metadata": {},
   "outputs": [],
   "source": [
    "# re-concatenate the sample\n",
    "sampled = np.concatenate((sample_fully_paid_downsampled,sample_charged_off),axis = 0)"
   ]
  },
  {
   "cell_type": "code",
   "execution_count": 198,
   "metadata": {},
   "outputs": [],
   "source": [
    "# re-create the train set\n",
    "X_train = sampled[:,0:(sampled.shape[1]-1)]\n",
    "y_train = sampled[:,-1]"
   ]
  },
  {
   "cell_type": "code",
   "execution_count": 200,
   "metadata": {},
   "outputs": [
    {
     "name": "stdout",
     "output_type": "stream",
     "text": [
      "Epoch 1/50\n",
      "3246/3246 [==============================] - 35s 11ms/step - loss: 0.4462 - val_loss: 0.3649\n",
      "Epoch 2/50\n",
      "3246/3246 [==============================] - 35s 11ms/step - loss: 0.3799 - val_loss: 0.3721\n",
      "Epoch 3/50\n",
      "3246/3246 [==============================] - 34s 10ms/step - loss: 0.3762 - val_loss: 0.3552\n",
      "Epoch 4/50\n",
      "3246/3246 [==============================] - 37s 11ms/step - loss: 0.3742 - val_loss: 0.3647\n",
      "Epoch 5/50\n",
      "3246/3246 [==============================] - 39s 12ms/step - loss: 0.3735 - val_loss: 0.3687\n",
      "Epoch 6/50\n",
      "3246/3246 [==============================] - 40s 12ms/step - loss: 0.3723 - val_loss: 0.3604\n",
      "Epoch 7/50\n",
      "3246/3246 [==============================] - 43s 13ms/step - loss: 0.3730 - val_loss: 0.3700\n",
      "Epoch 8/50\n",
      "3246/3246 [==============================] - 39s 12ms/step - loss: 0.3712 - val_loss: 0.3585\n",
      "Epoch 9/50\n",
      "3246/3246 [==============================] - 43s 13ms/step - loss: 0.3712 - val_loss: 0.3528\n",
      "Epoch 10/50\n",
      "3246/3246 [==============================] - 48s 15ms/step - loss: 0.3712 - val_loss: 0.3612\n",
      "Epoch 11/50\n",
      "3246/3246 [==============================] - 47s 14ms/step - loss: 0.3715 - val_loss: 0.3800\n",
      "Epoch 12/50\n",
      "3246/3246 [==============================] - 58s 18ms/step - loss: 0.3717 - val_loss: 0.3715\n",
      "Epoch 13/50\n",
      "3246/3246 [==============================] - 53s 16ms/step - loss: 0.3710 - val_loss: 0.3688\n",
      "Epoch 14/50\n",
      "3246/3246 [==============================] - 69s 21ms/step - loss: 0.3704 - val_loss: 0.3615\n",
      "Epoch 15/50\n",
      "3246/3246 [==============================] - 63s 19ms/step - loss: 0.3704 - val_loss: 0.3610\n",
      "Epoch 16/50\n",
      "3246/3246 [==============================] - 88s 27ms/step - loss: 0.3704 - val_loss: 0.3600.36 - ETA: 0s - loss:  - ETA: 0s - \n",
      "Epoch 17/50\n",
      "3246/3246 [==============================] - 113s 35ms/step - loss: 0.3707 - val_loss: 0.3651TA: 5 - - ETA: 2s - loss: \n",
      "Epoch 18/50\n",
      "3246/3246 [==============================] - 105s 32ms/step - loss: 0.3701 - val_loss: 0.3661ETA: 0s - lo\n",
      "Epoch 19/50\n",
      "3246/3246 [==============================] - 100s 31ms/step - loss: 0.3709 - val_loss: 0.3479s: 0. -  - ETA: 1s - loss: 0.3 - ETA:\n",
      "Epoch 20/50\n",
      "3246/3246 [==============================] - 86s 26ms/step - loss: 0.3701 - val_loss: 0.3590\n",
      "Epoch 21/50\n",
      "3246/3246 [==============================] - 11s 3ms/step - loss: 0.3696 - val_loss: 0.3784\n",
      "Epoch 22/50\n",
      "3246/3246 [==============================] - 11s 3ms/step - loss: 0.3688 - val_loss: 0.3612\n",
      "Epoch 23/50\n",
      "3246/3246 [==============================] - 11s 4ms/step - loss: 0.3691 - val_loss: 0.3734\n",
      "Epoch 24/50\n",
      "3246/3246 [==============================] - 11s 3ms/step - loss: 0.3695 - val_loss: 0.3762\n",
      "Epoch 25/50\n",
      "3246/3246 [==============================] - 12s 4ms/step - loss: 0.3694 - val_loss: 0.3655\n",
      "Epoch 26/50\n",
      "3246/3246 [==============================] - 11s 3ms/step - loss: 0.3698 - val_loss: 0.3680\n",
      "Epoch 27/50\n",
      "3246/3246 [==============================] - 11s 4ms/step - loss: 0.3693 - val_loss: 0.3732\n",
      "Epoch 28/50\n",
      "3246/3246 [==============================] - 12s 4ms/step - loss: 0.3698 - val_loss: 0.3607\n",
      "Epoch 29/50\n",
      "3246/3246 [==============================] - 14s 4ms/step - loss: 0.3692 - val_loss: 0.3610\n",
      "Epoch 00029: early stopping\n"
     ]
    },
    {
     "data": {
      "text/plain": [
       "<tensorflow.python.keras.callbacks.History at 0x1a50f42e90>"
      ]
     },
     "execution_count": 200,
     "metadata": {},
     "output_type": "execute_result"
    }
   ],
   "source": [
    "# recreate a model\n",
    "\n",
    "model = Sequential()\n",
    "\n",
    "model.add(Dense(units = 57, activation = 'relu'))\n",
    "model.add(Dropout(0.5))\n",
    "model.add(Dense(units = 28, activation = 'relu'))\n",
    "model.add(Dropout(0.5))\n",
    "model.add(Dense(units = 14, activation = 'relu'))\n",
    "model.add(Dropout(0.5))\n",
    "\n",
    "model.add(Dense(units = 1, activation = 'sigmoid'))\n",
    "\n",
    "model.compile(loss='binary_crossentropy', optimizer='adam')\n",
    "\n",
    "# retrain the model \n",
    "model.fit(X_train,y_train,\n",
    "         epochs = 50,\n",
    "         validation_data=(X_test, y_test), verbose=1,\n",
    "         callbacks=[early_stop])"
   ]
  },
  {
   "cell_type": "code",
   "execution_count": 201,
   "metadata": {},
   "outputs": [
    {
     "data": {
      "text/plain": [
       "<matplotlib.axes._subplots.AxesSubplot at 0x1a50fe54d0>"
      ]
     },
     "execution_count": 201,
     "metadata": {},
     "output_type": "execute_result"
    },
    {
     "data": {
      "image/png": "[encoded data removed]",
      "text/plain": [
       "<Figure size 432x288 with 1 Axes>"
      ]
     },
     "metadata": {
      "needs_background": "light"
     },
     "output_type": "display_data"
    }
   ],
   "source": [
    "# Plot the loss of the model\n",
    "model_loss = pd.DataFrame(model.history.history)\n",
    "model_loss.plot()"
   ]
  },
  {
   "cell_type": "code",
   "execution_count": 202,
   "metadata": {},
   "outputs": [],
   "source": [
    "y_pred_resample = model.predict_classes(X_test)"
   ]
  },
  {
   "cell_type": "code",
   "execution_count": 203,
   "metadata": {},
   "outputs": [
    {
     "name": "stdout",
     "output_type": "stream",
     "text": [
      "              precision    recall  f1-score   support\n",
      "\n",
      "           0       0.48      0.81      0.60     25739\n",
      "           1       0.94      0.78      0.86    104951\n",
      "\n",
      "    accuracy                           0.79    130690\n",
      "   macro avg       0.71      0.80      0.73    130690\n",
      "weighted avg       0.85      0.79      0.81    130690\n",
      "\n",
      "\n",
      "[[20856  4883]\n",
      " [22705 82246]]\n"
     ]
    }
   ],
   "source": [
    "# evaluate the model\n",
    "print(classification_report(y_test,y_pred_resample))\n",
    "print()\n",
    "print(confusion_matrix(y_test,y_pred_resample))"
   ]
  },
  {
   "cell_type": "markdown",
   "metadata": {},
   "source": [
    "Great! We get better 'recall' for the minority "
   ]
  },
  {
   "cell_type": "markdown",
   "metadata": {},
   "source": [
    "### Over-sample the minority"
   ]
  },
  {
   "cell_type": "code",
   "execution_count": 221,
   "metadata": {},
   "outputs": [],
   "source": [
    "X_train, X_test, y_train, y_test = train_test_split(X, y, test_size=0.33, random_state=42)\n",
    "\n",
    "# Normalize\n",
    "scaler = MinMaxScaler()\n",
    "X_train = scaler.fit_transform(X_train)\n",
    "X_test = scaler.transform(X_test)\n",
    "\n",
    "y_train_re=y_train.reshape(265340,1)\n",
    "# re-Concate X_train and y_train \n",
    "sampled = np.concatenate((X_train,y_train_re),axis = 1)\n",
    "\n",
    "sample_fully_paid = sampled[y_train==1]\n",
    "sample_charged_off = sampled[y_train==0]\n",
    "\n",
    "sample_charged_off_upsampled = resample(sample_charged_off,\n",
    "                          replace=True, # sample with replacement\n",
    "                          n_samples=len(sample_fully_paid), # match number in majority class\n",
    "                          random_state=27) # reproducible results\n",
    "\n",
    "# re-concatenate the sample\n",
    "sampled = np.concatenate((sample_fully_paid,sample_charged_off_upsampled),axis = 0)"
   ]
  },
  {
   "cell_type": "code",
   "execution_count": 222,
   "metadata": {},
   "outputs": [],
   "source": [
    "# re-create the train set\n",
    "X_train = sampled[:,0:(sampled.shape[1]-1)]\n",
    "y_train = sampled[:,-1]"
   ]
  },
  {
   "cell_type": "code",
   "execution_count": 224,
   "metadata": {},
   "outputs": [
    {
     "data": {
      "text/plain": [
       "(426812, 57)"
      ]
     },
     "execution_count": 224,
     "metadata": {},
     "output_type": "execute_result"
    }
   ],
   "source": [
    "X_train.shape"
   ]
  },
  {
   "cell_type": "code",
   "execution_count": 225,
   "metadata": {},
   "outputs": [
    {
     "name": "stdout",
     "output_type": "stream",
     "text": [
      "Epoch 1/50\n",
      "13338/13338 [==============================] - 22s 2ms/step - loss: 0.3944 - val_loss: 0.3859\n",
      "Epoch 2/50\n",
      "13338/13338 [==============================] - 22s 2ms/step - loss: 0.3737 - val_loss: 0.3615\n",
      "Epoch 3/50\n",
      "13338/13338 [==============================] - 22s 2ms/step - loss: 0.3721 - val_loss: 0.3502\n",
      "Epoch 4/50\n",
      "13338/13338 [==============================] - 24s 2ms/step - loss: 0.3718 - val_loss: 0.3560\n",
      "Epoch 5/50\n",
      "13338/13338 [==============================] - 20s 1ms/step - loss: 0.3713 - val_loss: 0.3710\n",
      "Epoch 6/50\n",
      "13338/13338 [==============================] - 18s 1ms/step - loss: 0.3708 - val_loss: 0.3557\n",
      "Epoch 7/50\n",
      "13338/13338 [==============================] - 20s 2ms/step - loss: 0.3707 - val_loss: 0.3589\n",
      "Epoch 8/50\n",
      "13338/13338 [==============================] - 21s 2ms/step - loss: 0.3706 - val_loss: 0.3553\n",
      "Epoch 9/50\n",
      "13338/13338 [==============================] - 19s 1ms/step - loss: 0.3701 - val_loss: 0.3598\n",
      "Epoch 10/50\n",
      "13338/13338 [==============================] - 19s 1ms/step - loss: 0.3699 - val_loss: 0.3604\n",
      "Epoch 11/50\n",
      "13338/13338 [==============================] - 20s 2ms/step - loss: 0.3700 - val_loss: 0.3552\n",
      "Epoch 12/50\n",
      "13338/13338 [==============================] - 20s 2ms/step - loss: 0.3700 - val_loss: 0.3559\n",
      "Epoch 13/50\n",
      "13338/13338 [==============================] - 21s 2ms/step - loss: 0.3694 - val_loss: 0.3577\n",
      "Epoch 00013: early stopping\n"
     ]
    },
    {
     "data": {
      "text/plain": [
       "<tensorflow.python.keras.callbacks.History at 0x1a327694d0>"
      ]
     },
     "execution_count": 225,
     "metadata": {},
     "output_type": "execute_result"
    }
   ],
   "source": [
    "# recreate a model\n",
    "\n",
    "model = Sequential()\n",
    "\n",
    "model.add(Dense(units = 57, activation = 'relu'))\n",
    "model.add(Dropout(0.5))\n",
    "model.add(Dense(units = 28, activation = 'relu'))\n",
    "model.add(Dropout(0.5))\n",
    "model.add(Dense(units = 14, activation = 'relu'))\n",
    "model.add(Dropout(0.5))\n",
    "\n",
    "model.add(Dense(units = 1, activation = 'sigmoid'))\n",
    "\n",
    "model.compile(loss='binary_crossentropy', optimizer='adam')\n",
    "\n",
    "# retrain the model \n",
    "model.fit(X_train,y_train,\n",
    "         epochs = 50,\n",
    "         validation_data=(X_test, y_test), verbose=1,\n",
    "         callbacks=[early_stop])"
   ]
  },
  {
   "cell_type": "code",
   "execution_count": 226,
   "metadata": {},
   "outputs": [
    {
     "data": {
      "text/plain": [
       "<matplotlib.axes._subplots.AxesSubplot at 0x1a327623d0>"
      ]
     },
     "execution_count": 226,
     "metadata": {},
     "output_type": "execute_result"
    },
    {
     "data": {
      "image/png": "[encoded data removed]",
      "text/plain": [
       "<Figure size 432x288 with 1 Axes>"
      ]
     },
     "metadata": {
      "needs_background": "light"
     },
     "output_type": "display_data"
    }
   ],
   "source": [
    "# Plot the loss of the model\n",
    "model_loss = pd.DataFrame(model.history.history)\n",
    "model_loss.plot()"
   ]
  },
  {
   "cell_type": "code",
   "execution_count": 227,
   "metadata": {},
   "outputs": [
    {
     "name": "stdout",
     "output_type": "stream",
     "text": [
      "              precision    recall  f1-score   support\n",
      "\n",
      "           0       0.50      0.78      0.61     25739\n",
      "           1       0.94      0.81      0.87    104951\n",
      "\n",
      "    accuracy                           0.81    130690\n",
      "   macro avg       0.72      0.80      0.74    130690\n",
      "weighted avg       0.85      0.81      0.82    130690\n",
      "\n",
      "\n",
      "[[20170  5569]\n",
      " [19901 85050]]\n"
     ]
    }
   ],
   "source": [
    "y_pred_resample = model.predict_classes(X_test)\n",
    "\n",
    "# evaluate the model\n",
    "print(classification_report(y_test,y_pred_resample))\n",
    "print()\n",
    "print(confusion_matrix(y_test,y_pred_resample))"
   ]
  },
  {
   "cell_type": "markdown",
   "metadata": {},
   "source": [
    "We get a better precision and 'f1-score' for the minority "
   ]
  },
  {
   "cell_type": "markdown",
   "metadata": {},
   "source": [
    "## Try a Random forest model"
   ]
  },
  {
   "cell_type": "code",
   "execution_count": 124,
   "metadata": {},
   "outputs": [],
   "source": [
    "from sklearn.ensemble import RandomForestClassifier\n",
    "\n",
    "rfc_model = RandomForestClassifier(n_estimators=10).fit(X_train,y_train)"
   ]
  },
  {
   "cell_type": "code",
   "execution_count": 126,
   "metadata": {},
   "outputs": [],
   "source": [
    "# predict\n",
    "y_pred_rfc = rfc_model.predict(X_test)"
   ]
  },
  {
   "cell_type": "code",
   "execution_count": 127,
   "metadata": {},
   "outputs": [
    {
     "name": "stdout",
     "output_type": "stream",
     "text": [
      "              precision    recall  f1-score   support\n",
      "\n",
      "           0       0.75      0.54      0.63     25739\n",
      "           1       0.89      0.96      0.92    104951\n",
      "\n",
      "    accuracy                           0.87    130690\n",
      "   macro avg       0.82      0.75      0.77    130690\n",
      "weighted avg       0.87      0.87      0.87    130690\n",
      "\n",
      "\n",
      "[[ 13813  11926]\n",
      " [  4626 100325]]\n"
     ]
    }
   ],
   "source": [
    "# evaluate the model\n",
    "print(classification_report(y_test,y_pred_rfc))\n",
    "print()\n",
    "print(confusion_matrix(y_test,y_pred_rfc))"
   ]
  },
  {
   "cell_type": "markdown",
   "metadata": {},
   "source": [
    "- The RF model get a better precision but a lower 'recall' for the minority "
   ]
  },
  {
   "cell_type": "code",
   "execution_count": 219,
   "metadata": {},
   "outputs": [
    {
     "data": {
      "text/plain": [
       "<sklearn.metrics._plot.confusion_matrix.ConfusionMatrixDisplay at 0x1a3298cb90>"
      ]
     },
     "execution_count": 219,
     "metadata": {},
     "output_type": "execute_result"
    },
    {
     "data": {
      "image/png": "[encoded data removed]",
      "text/plain": [
       "<Figure size 432x288 with 2 Axes>"
      ]
     },
     "metadata": {
      "needs_background": "light"
     },
     "output_type": "display_data"
    }
   ],
   "source": [
    "plot_confusion_matrix(rfc_model, X_test, y_test)"
   ]
  },
  {
   "cell_type": "code",
   "execution_count": 133,
   "metadata": {},
   "outputs": [],
   "source": [
    "fpr_rfc, tpr_rfc, thresholds_rfc = roc_curve(y_test, y_pred_rfc)\n",
    "\n",
    "auc_rfc = auc(fpr_rfc, tpr_rfc)"
   ]
  },
  {
   "cell_type": "code",
   "execution_count": 220,
   "metadata": {},
   "outputs": [
    {
     "data": {
      "text/plain": [
       "<sklearn.metrics._plot.precision_recall_curve.PrecisionRecallDisplay at 0x1a51a602d0>"
      ]
     },
     "execution_count": 220,
     "metadata": {},
     "output_type": "execute_result"
    },
    {
     "data": {
      "image/png": "[encoded data removed]",
      "text/plain": [
       "<Figure size 432x288 with 1 Axes>"
      ]
     },
     "metadata": {
      "needs_background": "light"
     },
     "output_type": "display_data"
    }
   ],
   "source": [
    "plot_precision_recall_curve(rfc_model,X_test,y_test)"
   ]
  },
  {
   "cell_type": "code",
   "execution_count": 231,
   "metadata": {
    "scrolled": true
   },
   "outputs": [
    {
     "data": {
      "text/plain": [
       "<sklearn.metrics._plot.roc_curve.RocCurveDisplay at 0x1a51d9df10>"
      ]
     },
     "execution_count": 231,
     "metadata": {},
     "output_type": "execute_result"
    },
    {
     "data": {
      "image/png": "[encoded data removed]",
      "text/plain": [
       "<Figure size 432x288 with 1 Axes>"
      ]
     },
     "metadata": {
      "needs_background": "light"
     },
     "output_type": "display_data"
    }
   ],
   "source": [
    "plot_roc_curve(rfc_model,X_test,y_test)"
   ]
  },
  {
   "cell_type": "code",
   "execution_count": null,
   "metadata": {},
   "outputs": [],
   "source": []
  }
 ],
 "metadata": {
  "kernelspec": {
   "display_name": "Python 3",
   "language": "python",
   "name": "python3"
  },
  "language_info": {
   "codemirror_mode": {
    "name": "ipython",
    "version": 3
   },
   "file_extension": ".py",
   "mimetype": "text/x-python",
   "name": "python",
   "nbconvert_exporter": "python",
   "pygments_lexer": "ipython3",
   "version": "3.7.6"
  }
 },
 "nbformat": 4,
 "nbformat_minor": 4
}
