{
 "cells": [
  {
   "cell_type": "markdown",
   "metadata": {},
   "source": [
    " # A network intrusion detector"
   ]
  },
  {
   "cell_type": "markdown",
   "metadata": {},
   "source": [
    "## Task: \n",
    "* Build a predictive model capable of distinguishing between 'bad' connections, called intrusions or attacks, and 'good' normal connections. \n",
    "* Differentiate between both the normal traffic and among distinct types of attack (predict the actual types (22 types) of attack).\n",
    "\n",
    "## Data\n",
    "* The dataset was acquired, by Lincoln Labs, for nine weeks of raw TCP dump data for a local-area network (LAN) simulating a typical U.S. Air Force LAN. [This Link](http://kdd.ics.uci.edu/databases/kddcup99/kddcup99.html) is for more information about the data. \n",
    "\n",
    "## Workflow\n",
    "* Start by visualizing the data to understand the data\n",
    "* Use PCA and TNSE to do data for feature reduction and plot the data in 2D. This might help to show the data clusters and anomalies\n",
    "* Perform feature engineering\n",
    "* Use Random Forest, SVM, and ANN algorithms for binary classifiers to differentiate  'normal and 'attack' connections\n",
    "* Predict the actual types of attack using multiple classifiers with Random Forest, SVM, and ANN algorithms\n",
    "\n",
    "## Results\n",
    "* The ML models showed very promising results on the test datasets. They can even detect some minor class attack. Overall, the Random forest model performed better compared to the two others in the dataset."
   ]
  },
  {
   "cell_type": "markdown",
   "metadata": {},
   "source": [
    "# Code\n",
    "### Section\n",
    "[1. Exploratory data analysis](#sect1)\\\n",
    "[2. Feature engineering](#sect2)\\\n",
    "[3. PCA and TSNE for visualizing the data](#sect3)\\\n",
    "[4. Differentiate 'normal' connections from 'attack' connections](#sect4)\\\n",
    "[5. Predict the actual label: Normal and distinct types of attack](#sect5)\\"
   ]
  },
  {
   "cell_type": "markdown",
   "metadata": {},
   "source": [
    "<a id='sect1'></a>"
   ]
  },
  {
   "cell_type": "markdown",
   "metadata": {},
   "source": [
    "## 1. Exploratory data analysis"
   ]
  },
  {
   "cell_type": "code",
   "execution_count": 307,
   "metadata": {},
   "outputs": [],
   "source": [
    "# Import libraries\n",
    "import pandas as pd\n",
    "import numpy as numpy\n",
    "import matplotlib.pyplot as plt\n",
    "%matplotlib inline\n",
    "import seaborn as sns\n",
    "import numpy as np"
   ]
  },
  {
   "cell_type": "code",
   "execution_count": 308,
   "metadata": {},
   "outputs": [],
   "source": [
    "# load the data\n",
    "df = pd.read_csv('kddcup.data_10_percent')"
   ]
  },
  {
   "cell_type": "code",
   "execution_count": 309,
   "metadata": {},
   "outputs": [
    {
     "data": {
      "text/html": [
       "<div>\n",
       "<style scoped>\n",
       "    .dataframe tbody tr th:only-of-type {\n",
       "        vertical-align: middle;\n",
       "    }\n",
       "\n",
       "    .dataframe tbody tr th {\n",
       "        vertical-align: top;\n",
       "    }\n",
       "\n",
       "    .dataframe thead th {\n",
       "        text-align: right;\n",
       "    }\n",
       "</style>\n",
       "<table border=\"1\" class=\"dataframe\">\n",
       "  <thead>\n",
       "    <tr style=\"text-align: right;\">\n",
       "      <th></th>\n",
       "      <th>0</th>\n",
       "      <th>tcp</th>\n",
       "      <th>http</th>\n",
       "      <th>SF</th>\n",
       "      <th>181</th>\n",
       "      <th>5450</th>\n",
       "      <th>0.1</th>\n",
       "      <th>0.2</th>\n",
       "      <th>0.3</th>\n",
       "      <th>0.4</th>\n",
       "      <th>...</th>\n",
       "      <th>9.1</th>\n",
       "      <th>1.00.1</th>\n",
       "      <th>0.00.6</th>\n",
       "      <th>0.11.1</th>\n",
       "      <th>0.00.7</th>\n",
       "      <th>0.00.8</th>\n",
       "      <th>0.00.9</th>\n",
       "      <th>0.00.10</th>\n",
       "      <th>0.00.11</th>\n",
       "      <th>normal.</th>\n",
       "    </tr>\n",
       "  </thead>\n",
       "  <tbody>\n",
       "    <tr>\n",
       "      <th>0</th>\n",
       "      <td>0</td>\n",
       "      <td>tcp</td>\n",
       "      <td>http</td>\n",
       "      <td>SF</td>\n",
       "      <td>239</td>\n",
       "      <td>486</td>\n",
       "      <td>0</td>\n",
       "      <td>0</td>\n",
       "      <td>0</td>\n",
       "      <td>0</td>\n",
       "      <td>...</td>\n",
       "      <td>19</td>\n",
       "      <td>1.0</td>\n",
       "      <td>0.0</td>\n",
       "      <td>0.05</td>\n",
       "      <td>0.0</td>\n",
       "      <td>0.0</td>\n",
       "      <td>0.0</td>\n",
       "      <td>0.0</td>\n",
       "      <td>0.0</td>\n",
       "      <td>normal.</td>\n",
       "    </tr>\n",
       "    <tr>\n",
       "      <th>1</th>\n",
       "      <td>0</td>\n",
       "      <td>tcp</td>\n",
       "      <td>http</td>\n",
       "      <td>SF</td>\n",
       "      <td>235</td>\n",
       "      <td>1337</td>\n",
       "      <td>0</td>\n",
       "      <td>0</td>\n",
       "      <td>0</td>\n",
       "      <td>0</td>\n",
       "      <td>...</td>\n",
       "      <td>29</td>\n",
       "      <td>1.0</td>\n",
       "      <td>0.0</td>\n",
       "      <td>0.03</td>\n",
       "      <td>0.0</td>\n",
       "      <td>0.0</td>\n",
       "      <td>0.0</td>\n",
       "      <td>0.0</td>\n",
       "      <td>0.0</td>\n",
       "      <td>normal.</td>\n",
       "    </tr>\n",
       "    <tr>\n",
       "      <th>2</th>\n",
       "      <td>0</td>\n",
       "      <td>tcp</td>\n",
       "      <td>http</td>\n",
       "      <td>SF</td>\n",
       "      <td>219</td>\n",
       "      <td>1337</td>\n",
       "      <td>0</td>\n",
       "      <td>0</td>\n",
       "      <td>0</td>\n",
       "      <td>0</td>\n",
       "      <td>...</td>\n",
       "      <td>39</td>\n",
       "      <td>1.0</td>\n",
       "      <td>0.0</td>\n",
       "      <td>0.03</td>\n",
       "      <td>0.0</td>\n",
       "      <td>0.0</td>\n",
       "      <td>0.0</td>\n",
       "      <td>0.0</td>\n",
       "      <td>0.0</td>\n",
       "      <td>normal.</td>\n",
       "    </tr>\n",
       "    <tr>\n",
       "      <th>3</th>\n",
       "      <td>0</td>\n",
       "      <td>tcp</td>\n",
       "      <td>http</td>\n",
       "      <td>SF</td>\n",
       "      <td>217</td>\n",
       "      <td>2032</td>\n",
       "      <td>0</td>\n",
       "      <td>0</td>\n",
       "      <td>0</td>\n",
       "      <td>0</td>\n",
       "      <td>...</td>\n",
       "      <td>49</td>\n",
       "      <td>1.0</td>\n",
       "      <td>0.0</td>\n",
       "      <td>0.02</td>\n",
       "      <td>0.0</td>\n",
       "      <td>0.0</td>\n",
       "      <td>0.0</td>\n",
       "      <td>0.0</td>\n",
       "      <td>0.0</td>\n",
       "      <td>normal.</td>\n",
       "    </tr>\n",
       "    <tr>\n",
       "      <th>4</th>\n",
       "      <td>0</td>\n",
       "      <td>tcp</td>\n",
       "      <td>http</td>\n",
       "      <td>SF</td>\n",
       "      <td>217</td>\n",
       "      <td>2032</td>\n",
       "      <td>0</td>\n",
       "      <td>0</td>\n",
       "      <td>0</td>\n",
       "      <td>0</td>\n",
       "      <td>...</td>\n",
       "      <td>59</td>\n",
       "      <td>1.0</td>\n",
       "      <td>0.0</td>\n",
       "      <td>0.02</td>\n",
       "      <td>0.0</td>\n",
       "      <td>0.0</td>\n",
       "      <td>0.0</td>\n",
       "      <td>0.0</td>\n",
       "      <td>0.0</td>\n",
       "      <td>normal.</td>\n",
       "    </tr>\n",
       "  </tbody>\n",
       "</table>\n",
       "<p>5 rows × 42 columns</p>\n",
       "</div>"
      ],
      "text/plain": [
       "   0  tcp  http  SF  181  5450  0.1  0.2  0.3  0.4  ...  9.1  1.00.1  0.00.6  \\\n",
       "0  0  tcp  http  SF  239   486    0    0    0    0  ...   19     1.0     0.0   \n",
       "1  0  tcp  http  SF  235  1337    0    0    0    0  ...   29     1.0     0.0   \n",
       "2  0  tcp  http  SF  219  1337    0    0    0    0  ...   39     1.0     0.0   \n",
       "3  0  tcp  http  SF  217  2032    0    0    0    0  ...   49     1.0     0.0   \n",
       "4  0  tcp  http  SF  217  2032    0    0    0    0  ...   59     1.0     0.0   \n",
       "\n",
       "   0.11.1  0.00.7  0.00.8  0.00.9  0.00.10  0.00.11  normal.  \n",
       "0    0.05     0.0     0.0     0.0      0.0      0.0  normal.  \n",
       "1    0.03     0.0     0.0     0.0      0.0      0.0  normal.  \n",
       "2    0.03     0.0     0.0     0.0      0.0      0.0  normal.  \n",
       "3    0.02     0.0     0.0     0.0      0.0      0.0  normal.  \n",
       "4    0.02     0.0     0.0     0.0      0.0      0.0  normal.  \n",
       "\n",
       "[5 rows x 42 columns]"
      ]
     },
     "execution_count": 309,
     "metadata": {},
     "output_type": "execute_result"
    }
   ],
   "source": [
    "df.head()"
   ]
  },
  {
   "cell_type": "code",
   "execution_count": 310,
   "metadata": {},
   "outputs": [
    {
     "name": "stdout",
     "output_type": "stream",
     "text": [
      "<class 'pandas.core.frame.DataFrame'>\n",
      "RangeIndex: 494020 entries, 0 to 494019\n",
      "Data columns (total 42 columns):\n",
      " #   Column   Non-Null Count   Dtype  \n",
      "---  ------   --------------   -----  \n",
      " 0   0        494020 non-null  int64  \n",
      " 1   tcp      494020 non-null  object \n",
      " 2   http     494020 non-null  object \n",
      " 3   SF       494020 non-null  object \n",
      " 4   181      494020 non-null  int64  \n",
      " 5   5450     494020 non-null  int64  \n",
      " 6   0.1      494020 non-null  int64  \n",
      " 7   0.2      494020 non-null  int64  \n",
      " 8   0.3      494020 non-null  int64  \n",
      " 9   0.4      494020 non-null  int64  \n",
      " 10  0.5      494020 non-null  int64  \n",
      " 11  1        494020 non-null  int64  \n",
      " 12  0.6      494020 non-null  int64  \n",
      " 13  0.7      494020 non-null  int64  \n",
      " 14  0.8      494020 non-null  int64  \n",
      " 15  0.9      494020 non-null  int64  \n",
      " 16  0.10     494020 non-null  int64  \n",
      " 17  0.11     494020 non-null  int64  \n",
      " 18  0.12     494020 non-null  int64  \n",
      " 19  0.13     494020 non-null  int64  \n",
      " 20  0.14     494020 non-null  int64  \n",
      " 21  0.15     494020 non-null  int64  \n",
      " 22  8        494020 non-null  int64  \n",
      " 23  8.1      494020 non-null  int64  \n",
      " 24  0.00     494020 non-null  float64\n",
      " 25  0.00.1   494020 non-null  float64\n",
      " 26  0.00.2   494020 non-null  float64\n",
      " 27  0.00.3   494020 non-null  float64\n",
      " 28  1.00     494020 non-null  float64\n",
      " 29  0.00.4   494020 non-null  float64\n",
      " 30  0.00.5   494020 non-null  float64\n",
      " 31  9        494020 non-null  int64  \n",
      " 32  9.1      494020 non-null  int64  \n",
      " 33  1.00.1   494020 non-null  float64\n",
      " 34  0.00.6   494020 non-null  float64\n",
      " 35  0.11.1   494020 non-null  float64\n",
      " 36  0.00.7   494020 non-null  float64\n",
      " 37  0.00.8   494020 non-null  float64\n",
      " 38  0.00.9   494020 non-null  float64\n",
      " 39  0.00.10  494020 non-null  float64\n",
      " 40  0.00.11  494020 non-null  float64\n",
      " 41  normal.  494020 non-null  object \n",
      "dtypes: float64(15), int64(23), object(4)\n",
      "memory usage: 158.3+ MB\n"
     ]
    }
   ],
   "source": [
    "df.info()"
   ]
  },
  {
   "cell_type": "code",
   "execution_count": 312,
   "metadata": {},
   "outputs": [
    {
     "data": {
      "text/html": [
       "<div>\n",
       "<style scoped>\n",
       "    .dataframe tbody tr th:only-of-type {\n",
       "        vertical-align: middle;\n",
       "    }\n",
       "\n",
       "    .dataframe tbody tr th {\n",
       "        vertical-align: top;\n",
       "    }\n",
       "\n",
       "    .dataframe thead th {\n",
       "        text-align: right;\n",
       "    }\n",
       "</style>\n",
       "<table border=\"1\" class=\"dataframe\">\n",
       "  <thead>\n",
       "    <tr style=\"text-align: right;\">\n",
       "      <th></th>\n",
       "      <th>count</th>\n",
       "      <th>mean</th>\n",
       "      <th>std</th>\n",
       "      <th>min</th>\n",
       "      <th>25%</th>\n",
       "      <th>50%</th>\n",
       "      <th>75%</th>\n",
       "      <th>max</th>\n",
       "    </tr>\n",
       "  </thead>\n",
       "  <tbody>\n",
       "    <tr>\n",
       "      <th>0</th>\n",
       "      <td>494020.0</td>\n",
       "      <td>47.979400</td>\n",
       "      <td>707.747185</td>\n",
       "      <td>0.0</td>\n",
       "      <td>0.00</td>\n",
       "      <td>0.0</td>\n",
       "      <td>0.00</td>\n",
       "      <td>58329.0</td>\n",
       "    </tr>\n",
       "    <tr>\n",
       "      <th>181</th>\n",
       "      <td>494020.0</td>\n",
       "      <td>3025.616054</td>\n",
       "      <td>988219.101229</td>\n",
       "      <td>0.0</td>\n",
       "      <td>45.00</td>\n",
       "      <td>520.0</td>\n",
       "      <td>1032.00</td>\n",
       "      <td>693375640.0</td>\n",
       "    </tr>\n",
       "    <tr>\n",
       "      <th>5450</th>\n",
       "      <td>494020.0</td>\n",
       "      <td>868.523151</td>\n",
       "      <td>33040.034049</td>\n",
       "      <td>0.0</td>\n",
       "      <td>0.00</td>\n",
       "      <td>0.0</td>\n",
       "      <td>0.00</td>\n",
       "      <td>5155468.0</td>\n",
       "    </tr>\n",
       "    <tr>\n",
       "      <th>0.1</th>\n",
       "      <td>494020.0</td>\n",
       "      <td>0.000045</td>\n",
       "      <td>0.006673</td>\n",
       "      <td>0.0</td>\n",
       "      <td>0.00</td>\n",
       "      <td>0.0</td>\n",
       "      <td>0.00</td>\n",
       "      <td>1.0</td>\n",
       "    </tr>\n",
       "    <tr>\n",
       "      <th>0.2</th>\n",
       "      <td>494020.0</td>\n",
       "      <td>0.006433</td>\n",
       "      <td>0.134805</td>\n",
       "      <td>0.0</td>\n",
       "      <td>0.00</td>\n",
       "      <td>0.0</td>\n",
       "      <td>0.00</td>\n",
       "      <td>3.0</td>\n",
       "    </tr>\n",
       "    <tr>\n",
       "      <th>0.3</th>\n",
       "      <td>494020.0</td>\n",
       "      <td>0.000014</td>\n",
       "      <td>0.005510</td>\n",
       "      <td>0.0</td>\n",
       "      <td>0.00</td>\n",
       "      <td>0.0</td>\n",
       "      <td>0.00</td>\n",
       "      <td>3.0</td>\n",
       "    </tr>\n",
       "    <tr>\n",
       "      <th>0.4</th>\n",
       "      <td>494020.0</td>\n",
       "      <td>0.034519</td>\n",
       "      <td>0.782103</td>\n",
       "      <td>0.0</td>\n",
       "      <td>0.00</td>\n",
       "      <td>0.0</td>\n",
       "      <td>0.00</td>\n",
       "      <td>30.0</td>\n",
       "    </tr>\n",
       "    <tr>\n",
       "      <th>0.5</th>\n",
       "      <td>494020.0</td>\n",
       "      <td>0.000152</td>\n",
       "      <td>0.015520</td>\n",
       "      <td>0.0</td>\n",
       "      <td>0.00</td>\n",
       "      <td>0.0</td>\n",
       "      <td>0.00</td>\n",
       "      <td>5.0</td>\n",
       "    </tr>\n",
       "    <tr>\n",
       "      <th>1</th>\n",
       "      <td>494020.0</td>\n",
       "      <td>0.148245</td>\n",
       "      <td>0.355343</td>\n",
       "      <td>0.0</td>\n",
       "      <td>0.00</td>\n",
       "      <td>0.0</td>\n",
       "      <td>0.00</td>\n",
       "      <td>1.0</td>\n",
       "    </tr>\n",
       "    <tr>\n",
       "      <th>0.6</th>\n",
       "      <td>494020.0</td>\n",
       "      <td>0.010212</td>\n",
       "      <td>1.798328</td>\n",
       "      <td>0.0</td>\n",
       "      <td>0.00</td>\n",
       "      <td>0.0</td>\n",
       "      <td>0.00</td>\n",
       "      <td>884.0</td>\n",
       "    </tr>\n",
       "    <tr>\n",
       "      <th>0.7</th>\n",
       "      <td>494020.0</td>\n",
       "      <td>0.000111</td>\n",
       "      <td>0.010551</td>\n",
       "      <td>0.0</td>\n",
       "      <td>0.00</td>\n",
       "      <td>0.0</td>\n",
       "      <td>0.00</td>\n",
       "      <td>1.0</td>\n",
       "    </tr>\n",
       "    <tr>\n",
       "      <th>0.8</th>\n",
       "      <td>494020.0</td>\n",
       "      <td>0.000036</td>\n",
       "      <td>0.007793</td>\n",
       "      <td>0.0</td>\n",
       "      <td>0.00</td>\n",
       "      <td>0.0</td>\n",
       "      <td>0.00</td>\n",
       "      <td>2.0</td>\n",
       "    </tr>\n",
       "    <tr>\n",
       "      <th>0.9</th>\n",
       "      <td>494020.0</td>\n",
       "      <td>0.011352</td>\n",
       "      <td>2.012720</td>\n",
       "      <td>0.0</td>\n",
       "      <td>0.00</td>\n",
       "      <td>0.0</td>\n",
       "      <td>0.00</td>\n",
       "      <td>993.0</td>\n",
       "    </tr>\n",
       "    <tr>\n",
       "      <th>0.10</th>\n",
       "      <td>494020.0</td>\n",
       "      <td>0.001083</td>\n",
       "      <td>0.096416</td>\n",
       "      <td>0.0</td>\n",
       "      <td>0.00</td>\n",
       "      <td>0.0</td>\n",
       "      <td>0.00</td>\n",
       "      <td>28.0</td>\n",
       "    </tr>\n",
       "    <tr>\n",
       "      <th>0.11</th>\n",
       "      <td>494020.0</td>\n",
       "      <td>0.000109</td>\n",
       "      <td>0.011020</td>\n",
       "      <td>0.0</td>\n",
       "      <td>0.00</td>\n",
       "      <td>0.0</td>\n",
       "      <td>0.00</td>\n",
       "      <td>2.0</td>\n",
       "    </tr>\n",
       "    <tr>\n",
       "      <th>0.12</th>\n",
       "      <td>494020.0</td>\n",
       "      <td>0.001008</td>\n",
       "      <td>0.036482</td>\n",
       "      <td>0.0</td>\n",
       "      <td>0.00</td>\n",
       "      <td>0.0</td>\n",
       "      <td>0.00</td>\n",
       "      <td>8.0</td>\n",
       "    </tr>\n",
       "    <tr>\n",
       "      <th>0.13</th>\n",
       "      <td>494020.0</td>\n",
       "      <td>0.000000</td>\n",
       "      <td>0.000000</td>\n",
       "      <td>0.0</td>\n",
       "      <td>0.00</td>\n",
       "      <td>0.0</td>\n",
       "      <td>0.00</td>\n",
       "      <td>0.0</td>\n",
       "    </tr>\n",
       "    <tr>\n",
       "      <th>0.14</th>\n",
       "      <td>494020.0</td>\n",
       "      <td>0.000000</td>\n",
       "      <td>0.000000</td>\n",
       "      <td>0.0</td>\n",
       "      <td>0.00</td>\n",
       "      <td>0.0</td>\n",
       "      <td>0.00</td>\n",
       "      <td>0.0</td>\n",
       "    </tr>\n",
       "    <tr>\n",
       "      <th>0.15</th>\n",
       "      <td>494020.0</td>\n",
       "      <td>0.001387</td>\n",
       "      <td>0.037211</td>\n",
       "      <td>0.0</td>\n",
       "      <td>0.00</td>\n",
       "      <td>0.0</td>\n",
       "      <td>0.00</td>\n",
       "      <td>1.0</td>\n",
       "    </tr>\n",
       "    <tr>\n",
       "      <th>8</th>\n",
       "      <td>494020.0</td>\n",
       "      <td>332.286347</td>\n",
       "      <td>213.147129</td>\n",
       "      <td>0.0</td>\n",
       "      <td>117.00</td>\n",
       "      <td>510.0</td>\n",
       "      <td>511.00</td>\n",
       "      <td>511.0</td>\n",
       "    </tr>\n",
       "    <tr>\n",
       "      <th>8.1</th>\n",
       "      <td>494020.0</td>\n",
       "      <td>292.907133</td>\n",
       "      <td>246.322733</td>\n",
       "      <td>0.0</td>\n",
       "      <td>10.00</td>\n",
       "      <td>510.0</td>\n",
       "      <td>511.00</td>\n",
       "      <td>511.0</td>\n",
       "    </tr>\n",
       "    <tr>\n",
       "      <th>0.00</th>\n",
       "      <td>494020.0</td>\n",
       "      <td>0.176687</td>\n",
       "      <td>0.380717</td>\n",
       "      <td>0.0</td>\n",
       "      <td>0.00</td>\n",
       "      <td>0.0</td>\n",
       "      <td>0.00</td>\n",
       "      <td>1.0</td>\n",
       "    </tr>\n",
       "    <tr>\n",
       "      <th>0.00.1</th>\n",
       "      <td>494020.0</td>\n",
       "      <td>0.176609</td>\n",
       "      <td>0.381017</td>\n",
       "      <td>0.0</td>\n",
       "      <td>0.00</td>\n",
       "      <td>0.0</td>\n",
       "      <td>0.00</td>\n",
       "      <td>1.0</td>\n",
       "    </tr>\n",
       "    <tr>\n",
       "      <th>0.00.2</th>\n",
       "      <td>494020.0</td>\n",
       "      <td>0.057434</td>\n",
       "      <td>0.231624</td>\n",
       "      <td>0.0</td>\n",
       "      <td>0.00</td>\n",
       "      <td>0.0</td>\n",
       "      <td>0.00</td>\n",
       "      <td>1.0</td>\n",
       "    </tr>\n",
       "    <tr>\n",
       "      <th>0.00.3</th>\n",
       "      <td>494020.0</td>\n",
       "      <td>0.057719</td>\n",
       "      <td>0.232147</td>\n",
       "      <td>0.0</td>\n",
       "      <td>0.00</td>\n",
       "      <td>0.0</td>\n",
       "      <td>0.00</td>\n",
       "      <td>1.0</td>\n",
       "    </tr>\n",
       "    <tr>\n",
       "      <th>1.00</th>\n",
       "      <td>494020.0</td>\n",
       "      <td>0.791547</td>\n",
       "      <td>0.388190</td>\n",
       "      <td>0.0</td>\n",
       "      <td>1.00</td>\n",
       "      <td>1.0</td>\n",
       "      <td>1.00</td>\n",
       "      <td>1.0</td>\n",
       "    </tr>\n",
       "    <tr>\n",
       "      <th>0.00.4</th>\n",
       "      <td>494020.0</td>\n",
       "      <td>0.020982</td>\n",
       "      <td>0.082206</td>\n",
       "      <td>0.0</td>\n",
       "      <td>0.00</td>\n",
       "      <td>0.0</td>\n",
       "      <td>0.00</td>\n",
       "      <td>1.0</td>\n",
       "    </tr>\n",
       "    <tr>\n",
       "      <th>0.00.5</th>\n",
       "      <td>494020.0</td>\n",
       "      <td>0.028997</td>\n",
       "      <td>0.142398</td>\n",
       "      <td>0.0</td>\n",
       "      <td>0.00</td>\n",
       "      <td>0.0</td>\n",
       "      <td>0.00</td>\n",
       "      <td>1.0</td>\n",
       "    </tr>\n",
       "    <tr>\n",
       "      <th>9</th>\n",
       "      <td>494020.0</td>\n",
       "      <td>232.471230</td>\n",
       "      <td>64.744665</td>\n",
       "      <td>0.0</td>\n",
       "      <td>255.00</td>\n",
       "      <td>255.0</td>\n",
       "      <td>255.00</td>\n",
       "      <td>255.0</td>\n",
       "    </tr>\n",
       "    <tr>\n",
       "      <th>9.1</th>\n",
       "      <td>494020.0</td>\n",
       "      <td>188.666034</td>\n",
       "      <td>106.040236</td>\n",
       "      <td>0.0</td>\n",
       "      <td>46.00</td>\n",
       "      <td>255.0</td>\n",
       "      <td>255.00</td>\n",
       "      <td>255.0</td>\n",
       "    </tr>\n",
       "    <tr>\n",
       "      <th>1.00.1</th>\n",
       "      <td>494020.0</td>\n",
       "      <td>0.753779</td>\n",
       "      <td>0.410781</td>\n",
       "      <td>0.0</td>\n",
       "      <td>0.41</td>\n",
       "      <td>1.0</td>\n",
       "      <td>1.00</td>\n",
       "      <td>1.0</td>\n",
       "    </tr>\n",
       "    <tr>\n",
       "      <th>0.00.6</th>\n",
       "      <td>494020.0</td>\n",
       "      <td>0.030906</td>\n",
       "      <td>0.109259</td>\n",
       "      <td>0.0</td>\n",
       "      <td>0.00</td>\n",
       "      <td>0.0</td>\n",
       "      <td>0.04</td>\n",
       "      <td>1.0</td>\n",
       "    </tr>\n",
       "    <tr>\n",
       "      <th>0.11.1</th>\n",
       "      <td>494020.0</td>\n",
       "      <td>0.601936</td>\n",
       "      <td>0.481309</td>\n",
       "      <td>0.0</td>\n",
       "      <td>0.00</td>\n",
       "      <td>1.0</td>\n",
       "      <td>1.00</td>\n",
       "      <td>1.0</td>\n",
       "    </tr>\n",
       "    <tr>\n",
       "      <th>0.00.7</th>\n",
       "      <td>494020.0</td>\n",
       "      <td>0.006684</td>\n",
       "      <td>0.042133</td>\n",
       "      <td>0.0</td>\n",
       "      <td>0.00</td>\n",
       "      <td>0.0</td>\n",
       "      <td>0.00</td>\n",
       "      <td>1.0</td>\n",
       "    </tr>\n",
       "    <tr>\n",
       "      <th>0.00.8</th>\n",
       "      <td>494020.0</td>\n",
       "      <td>0.176754</td>\n",
       "      <td>0.380593</td>\n",
       "      <td>0.0</td>\n",
       "      <td>0.00</td>\n",
       "      <td>0.0</td>\n",
       "      <td>0.00</td>\n",
       "      <td>1.0</td>\n",
       "    </tr>\n",
       "    <tr>\n",
       "      <th>0.00.9</th>\n",
       "      <td>494020.0</td>\n",
       "      <td>0.176443</td>\n",
       "      <td>0.380920</td>\n",
       "      <td>0.0</td>\n",
       "      <td>0.00</td>\n",
       "      <td>0.0</td>\n",
       "      <td>0.00</td>\n",
       "      <td>1.0</td>\n",
       "    </tr>\n",
       "    <tr>\n",
       "      <th>0.00.10</th>\n",
       "      <td>494020.0</td>\n",
       "      <td>0.058118</td>\n",
       "      <td>0.230590</td>\n",
       "      <td>0.0</td>\n",
       "      <td>0.00</td>\n",
       "      <td>0.0</td>\n",
       "      <td>0.00</td>\n",
       "      <td>1.0</td>\n",
       "    </tr>\n",
       "    <tr>\n",
       "      <th>0.00.11</th>\n",
       "      <td>494020.0</td>\n",
       "      <td>0.057412</td>\n",
       "      <td>0.230141</td>\n",
       "      <td>0.0</td>\n",
       "      <td>0.00</td>\n",
       "      <td>0.0</td>\n",
       "      <td>0.00</td>\n",
       "      <td>1.0</td>\n",
       "    </tr>\n",
       "  </tbody>\n",
       "</table>\n",
       "</div>"
      ],
      "text/plain": [
       "            count         mean            std  min     25%    50%      75%  \\\n",
       "0        494020.0    47.979400     707.747185  0.0    0.00    0.0     0.00   \n",
       "181      494020.0  3025.616054  988219.101229  0.0   45.00  520.0  1032.00   \n",
       "5450     494020.0   868.523151   33040.034049  0.0    0.00    0.0     0.00   \n",
       "0.1      494020.0     0.000045       0.006673  0.0    0.00    0.0     0.00   \n",
       "0.2      494020.0     0.006433       0.134805  0.0    0.00    0.0     0.00   \n",
       "0.3      494020.0     0.000014       0.005510  0.0    0.00    0.0     0.00   \n",
       "0.4      494020.0     0.034519       0.782103  0.0    0.00    0.0     0.00   \n",
       "0.5      494020.0     0.000152       0.015520  0.0    0.00    0.0     0.00   \n",
       "1        494020.0     0.148245       0.355343  0.0    0.00    0.0     0.00   \n",
       "0.6      494020.0     0.010212       1.798328  0.0    0.00    0.0     0.00   \n",
       "0.7      494020.0     0.000111       0.010551  0.0    0.00    0.0     0.00   \n",
       "0.8      494020.0     0.000036       0.007793  0.0    0.00    0.0     0.00   \n",
       "0.9      494020.0     0.011352       2.012720  0.0    0.00    0.0     0.00   \n",
       "0.10     494020.0     0.001083       0.096416  0.0    0.00    0.0     0.00   \n",
       "0.11     494020.0     0.000109       0.011020  0.0    0.00    0.0     0.00   \n",
       "0.12     494020.0     0.001008       0.036482  0.0    0.00    0.0     0.00   \n",
       "0.13     494020.0     0.000000       0.000000  0.0    0.00    0.0     0.00   \n",
       "0.14     494020.0     0.000000       0.000000  0.0    0.00    0.0     0.00   \n",
       "0.15     494020.0     0.001387       0.037211  0.0    0.00    0.0     0.00   \n",
       "8        494020.0   332.286347     213.147129  0.0  117.00  510.0   511.00   \n",
       "8.1      494020.0   292.907133     246.322733  0.0   10.00  510.0   511.00   \n",
       "0.00     494020.0     0.176687       0.380717  0.0    0.00    0.0     0.00   \n",
       "0.00.1   494020.0     0.176609       0.381017  0.0    0.00    0.0     0.00   \n",
       "0.00.2   494020.0     0.057434       0.231624  0.0    0.00    0.0     0.00   \n",
       "0.00.3   494020.0     0.057719       0.232147  0.0    0.00    0.0     0.00   \n",
       "1.00     494020.0     0.791547       0.388190  0.0    1.00    1.0     1.00   \n",
       "0.00.4   494020.0     0.020982       0.082206  0.0    0.00    0.0     0.00   \n",
       "0.00.5   494020.0     0.028997       0.142398  0.0    0.00    0.0     0.00   \n",
       "9        494020.0   232.471230      64.744665  0.0  255.00  255.0   255.00   \n",
       "9.1      494020.0   188.666034     106.040236  0.0   46.00  255.0   255.00   \n",
       "1.00.1   494020.0     0.753779       0.410781  0.0    0.41    1.0     1.00   \n",
       "0.00.6   494020.0     0.030906       0.109259  0.0    0.00    0.0     0.04   \n",
       "0.11.1   494020.0     0.601936       0.481309  0.0    0.00    1.0     1.00   \n",
       "0.00.7   494020.0     0.006684       0.042133  0.0    0.00    0.0     0.00   \n",
       "0.00.8   494020.0     0.176754       0.380593  0.0    0.00    0.0     0.00   \n",
       "0.00.9   494020.0     0.176443       0.380920  0.0    0.00    0.0     0.00   \n",
       "0.00.10  494020.0     0.058118       0.230590  0.0    0.00    0.0     0.00   \n",
       "0.00.11  494020.0     0.057412       0.230141  0.0    0.00    0.0     0.00   \n",
       "\n",
       "                 max  \n",
       "0            58329.0  \n",
       "181      693375640.0  \n",
       "5450       5155468.0  \n",
       "0.1              1.0  \n",
       "0.2              3.0  \n",
       "0.3              3.0  \n",
       "0.4             30.0  \n",
       "0.5              5.0  \n",
       "1                1.0  \n",
       "0.6            884.0  \n",
       "0.7              1.0  \n",
       "0.8              2.0  \n",
       "0.9            993.0  \n",
       "0.10            28.0  \n",
       "0.11             2.0  \n",
       "0.12             8.0  \n",
       "0.13             0.0  \n",
       "0.14             0.0  \n",
       "0.15             1.0  \n",
       "8              511.0  \n",
       "8.1            511.0  \n",
       "0.00             1.0  \n",
       "0.00.1           1.0  \n",
       "0.00.2           1.0  \n",
       "0.00.3           1.0  \n",
       "1.00             1.0  \n",
       "0.00.4           1.0  \n",
       "0.00.5           1.0  \n",
       "9              255.0  \n",
       "9.1            255.0  \n",
       "1.00.1           1.0  \n",
       "0.00.6           1.0  \n",
       "0.11.1           1.0  \n",
       "0.00.7           1.0  \n",
       "0.00.8           1.0  \n",
       "0.00.9           1.0  \n",
       "0.00.10          1.0  \n",
       "0.00.11          1.0  "
      ]
     },
     "execution_count": 312,
     "metadata": {},
     "output_type": "execute_result"
    }
   ],
   "source": [
    "# concise summary of the data\n",
    "df.describe().T"
   ]
  },
  {
   "cell_type": "code",
   "execution_count": 399,
   "metadata": {},
   "outputs": [
    {
     "data": {
      "text/plain": [
       "0            2495\n",
       "181          3300\n",
       "5450        10725\n",
       "0.1             2\n",
       "0.2             3\n",
       "0.3             4\n",
       "0.4            22\n",
       "0.5             6\n",
       "1               2\n",
       "0.6            23\n",
       "0.7             2\n",
       "0.8             3\n",
       "0.9            20\n",
       "0.10           18\n",
       "0.11            3\n",
       "0.12            7\n",
       "0.13            1\n",
       "0.14            1\n",
       "0.15            2\n",
       "8             490\n",
       "8.1           470\n",
       "0.00           92\n",
       "0.00.1         51\n",
       "0.00.2         77\n",
       "0.00.3         51\n",
       "1.00           99\n",
       "0.00.4         78\n",
       "0.00.5         64\n",
       "9             256\n",
       "9.1           256\n",
       "1.00.1        101\n",
       "0.00.6        101\n",
       "0.11.1        101\n",
       "0.00.7         65\n",
       "0.00.8        100\n",
       "0.00.9         72\n",
       "0.00.10       101\n",
       "0.00.11       101\n",
       "target         23\n",
       "icmp            2\n",
       "tcp             2\n",
       "udp             2\n",
       "ecr_i           2\n",
       "http            2\n",
       "other           2\n",
       "private         2\n",
       "REJ             2\n",
       "S0              2\n",
       "SF              2\n",
       "other_sf        2\n",
       "dtype: int64"
      ]
     },
     "execution_count": 399,
     "metadata": {},
     "output_type": "execute_result"
    }
   ],
   "source": [
    "df.nunique()"
   ]
  },
  {
   "cell_type": "code",
   "execution_count": 313,
   "metadata": {},
   "outputs": [
    {
     "data": {
      "text/plain": [
       "23"
      ]
     },
     "execution_count": 313,
     "metadata": {},
     "output_type": "execute_result"
    }
   ],
   "source": [
    "# Check unique values for target column\n",
    "df['normal.'].nunique()"
   ]
  },
  {
   "cell_type": "code",
   "execution_count": 314,
   "metadata": {},
   "outputs": [
    {
     "data": {
      "text/plain": [
       "0          0\n",
       "tcp        0\n",
       "http       0\n",
       "SF         0\n",
       "181        0\n",
       "5450       0\n",
       "0.1        0\n",
       "0.2        0\n",
       "0.3        0\n",
       "0.4        0\n",
       "0.5        0\n",
       "1          0\n",
       "0.6        0\n",
       "0.7        0\n",
       "0.8        0\n",
       "0.9        0\n",
       "0.10       0\n",
       "0.11       0\n",
       "0.12       0\n",
       "0.13       0\n",
       "0.14       0\n",
       "0.15       0\n",
       "8          0\n",
       "8.1        0\n",
       "0.00       0\n",
       "0.00.1     0\n",
       "0.00.2     0\n",
       "0.00.3     0\n",
       "1.00       0\n",
       "0.00.4     0\n",
       "0.00.5     0\n",
       "9          0\n",
       "9.1        0\n",
       "1.00.1     0\n",
       "0.00.6     0\n",
       "0.11.1     0\n",
       "0.00.7     0\n",
       "0.00.8     0\n",
       "0.00.9     0\n",
       "0.00.10    0\n",
       "0.00.11    0\n",
       "normal.    0\n",
       "dtype: int64"
      ]
     },
     "execution_count": 314,
     "metadata": {},
     "output_type": "execute_result"
    }
   ],
   "source": [
    "# missing data\n",
    "df.isnull().sum()"
   ]
  },
  {
   "cell_type": "code",
   "execution_count": 315,
   "metadata": {},
   "outputs": [
    {
     "data": {
      "text/plain": [
       "Index(['0', 'tcp', 'http', 'SF', '181', '5450', '0.1', '0.2', '0.3', '0.4',\n",
       "       '0.5', '1', '0.6', '0.7', '0.8', '0.9', '0.10', '0.11', '0.12', '0.13',\n",
       "       '0.14', '0.15', '8', '8.1', '0.00', '0.00.1', '0.00.2', '0.00.3',\n",
       "       '1.00', '0.00.4', '0.00.5', '9', '9.1', '1.00.1', '0.00.6', '0.11.1',\n",
       "       '0.00.7', '0.00.8', '0.00.9', '0.00.10', '0.00.11', 'normal.'],\n",
       "      dtype='object')"
      ]
     },
     "execution_count": 315,
     "metadata": {},
     "output_type": "execute_result"
    }
   ],
   "source": [
    "# column names\n",
    "df.columns"
   ]
  },
  {
   "cell_type": "code",
   "execution_count": 316,
   "metadata": {},
   "outputs": [
    {
     "data": {
      "text/plain": [
       "array(['tcp', 'udp', 'icmp'], dtype=object)"
      ]
     },
     "execution_count": 316,
     "metadata": {},
     "output_type": "execute_result"
    }
   ],
   "source": [
    "# the 'tcp' columns\n",
    "df['tcp'].unique()"
   ]
  },
  {
   "cell_type": "code",
   "execution_count": 317,
   "metadata": {},
   "outputs": [
    {
     "data": {
      "text/plain": [
       "<matplotlib.axes._subplots.AxesSubplot at 0x1a5dbbf2d0>"
      ]
     },
     "execution_count": 317,
     "metadata": {},
     "output_type": "execute_result"
    },
    {
     "data": {
      "image/png": "[encoded data removed]",
      "text/plain": [
       "<Figure size 720x360 with 1 Axes>"
      ]
     },
     "metadata": {
      "needs_background": "light"
     },
     "output_type": "display_data"
    }
   ],
   "source": [
    "fig = plt.figure(figsize=(10,5))\n",
    "sns.countplot(data = df, y = 'tcp')"
   ]
  },
  {
   "cell_type": "code",
   "execution_count": 318,
   "metadata": {},
   "outputs": [
    {
     "data": {
      "text/plain": [
       "ecr_i          281400\n",
       "private        110893\n",
       "http            64292\n",
       "smtp             9723\n",
       "other            7237\n",
       "domain_u         5863\n",
       "ftp_data         4721\n",
       "eco_i            1642\n",
       "ftp               798\n",
       "finger            670\n",
       "urp_i             538\n",
       "telnet            513\n",
       "ntp_u             380\n",
       "auth              328\n",
       "pop_3             202\n",
       "time              157\n",
       "csnet_ns          126\n",
       "remote_job        120\n",
       "imap4             117\n",
       "gopher            117\n",
       "discard           116\n",
       "domain            116\n",
       "systat            115\n",
       "iso_tsap          115\n",
       "shell             112\n",
       "echo              112\n",
       "rje               111\n",
       "sql_net           110\n",
       "whois             110\n",
       "printer           109\n",
       "courier           108\n",
       "nntp              108\n",
       "sunrpc            107\n",
       "mtp               107\n",
       "netbios_ssn       107\n",
       "bgp               106\n",
       "vmnet             106\n",
       "uucp              106\n",
       "klogin            106\n",
       "uucp_path         106\n",
       "nnsp              105\n",
       "supdup            105\n",
       "ssh               105\n",
       "hostnames         104\n",
       "login             104\n",
       "daytime           103\n",
       "efs               103\n",
       "netbios_ns        102\n",
       "link              102\n",
       "pop_2             101\n",
       "ldap              101\n",
       "exec               99\n",
       "http_443           99\n",
       "netbios_dgm        99\n",
       "name               98\n",
       "kshell             98\n",
       "ctf                97\n",
       "netstat            95\n",
       "Z39_50             92\n",
       "IRC                43\n",
       "urh_i              14\n",
       "X11                11\n",
       "tim_i               7\n",
       "pm_dump             1\n",
       "red_i               1\n",
       "tftp_u              1\n",
       "Name: http, dtype: int64"
      ]
     },
     "execution_count": 318,
     "metadata": {},
     "output_type": "execute_result"
    }
   ],
   "source": [
    "# the 'tcp' columns\n",
    "\n",
    "df['http'].value_counts()"
   ]
  },
  {
   "cell_type": "code",
   "execution_count": 319,
   "metadata": {},
   "outputs": [
    {
     "data": {
      "text/plain": [
       "<matplotlib.axes._subplots.AxesSubplot at 0x1a5c9dac90>"
      ]
     },
     "execution_count": 319,
     "metadata": {},
     "output_type": "execute_result"
    },
    {
     "data": {
      "image/png": "[encoded data removed]",
      "text/plain": [
       "<Figure size 720x1080 with 1 Axes>"
      ]
     },
     "metadata": {
      "needs_background": "light"
     },
     "output_type": "display_data"
    }
   ],
   "source": [
    "fig = plt.figure(figsize=(10,15))\n",
    "sns.countplot(data = df, y = 'http')"
   ]
  },
  {
   "cell_type": "code",
   "execution_count": 320,
   "metadata": {},
   "outputs": [
    {
     "data": {
      "text/plain": [
       "array(['SF', 'S1', 'REJ', 'S2', 'S0', 'S3', 'RSTO', 'RSTR', 'RSTOS0',\n",
       "       'OTH', 'SH'], dtype=object)"
      ]
     },
     "execution_count": 320,
     "metadata": {},
     "output_type": "execute_result"
    }
   ],
   "source": [
    "# The 'SF' column\n",
    "df['SF'].unique()"
   ]
  },
  {
   "cell_type": "code",
   "execution_count": 321,
   "metadata": {},
   "outputs": [
    {
     "data": {
      "text/plain": [
       "<matplotlib.axes._subplots.AxesSubplot at 0x1a5e7b32d0>"
      ]
     },
     "execution_count": 321,
     "metadata": {},
     "output_type": "execute_result"
    },
    {
     "data": {
      "image/png": "[encoded data removed]",
      "text/plain": [
       "<Figure size 720x432 with 1 Axes>"
      ]
     },
     "metadata": {
      "needs_background": "light"
     },
     "output_type": "display_data"
    }
   ],
   "source": [
    "fig = plt.figure(figsize=(10,6))\n",
    "sns.countplot(data = df, y = 'SF')"
   ]
  },
  {
   "cell_type": "markdown",
   "metadata": {},
   "source": [
    "#### target columns"
   ]
  },
  {
   "cell_type": "code",
   "execution_count": 323,
   "metadata": {},
   "outputs": [
    {
     "data": {
      "text/plain": [
       "<matplotlib.axes._subplots.AxesSubplot at 0x1a5d7aad50>"
      ]
     },
     "execution_count": 323,
     "metadata": {},
     "output_type": "execute_result"
    },
    {
     "data": {
      "image/png": "[encoded data removed]",
      "text/plain": [
       "<Figure size 720x720 with 1 Axes>"
      ]
     },
     "metadata": {
      "needs_background": "light"
     },
     "output_type": "display_data"
    }
   ],
   "source": [
    "fig = plt.figure(figsize=(10,10))\n",
    "sns.countplot(data = df, y = 'normal.')"
   ]
  },
  {
   "cell_type": "markdown",
   "metadata": {},
   "source": [
    "#### Note: There are three major types of attack"
   ]
  },
  {
   "cell_type": "markdown",
   "metadata": {},
   "source": [
    "<a id='sect2'></a>"
   ]
  },
  {
   "cell_type": "markdown",
   "metadata": {},
   "source": [
    "## 2. Feature engineering"
   ]
  },
  {
   "cell_type": "code",
   "execution_count": 325,
   "metadata": {},
   "outputs": [
    {
     "data": {
      "text/plain": [
       "Index(['0', 'tcp_', 'http_', 'SF_', '181', '5450', '0.1', '0.2', '0.3', '0.4',\n",
       "       '0.5', '1', '0.6', '0.7', '0.8', '0.9', '0.10', '0.11', '0.12', '0.13',\n",
       "       '0.14', '0.15', '8', '8.1', '0.00', '0.00.1', '0.00.2', '0.00.3',\n",
       "       '1.00', '0.00.4', '0.00.5', '9', '9.1', '1.00.1', '0.00.6', '0.11.1',\n",
       "       '0.00.7', '0.00.8', '0.00.9', '0.00.10', '0.00.11', 'target'],\n",
       "      dtype='object')"
      ]
     },
     "execution_count": 325,
     "metadata": {},
     "output_type": "execute_result"
    }
   ],
   "source": [
    "df.columns"
   ]
  },
  {
   "cell_type": "code",
   "execution_count": 326,
   "metadata": {},
   "outputs": [],
   "source": [
    "# Change the column names\n",
    "df.columns = ['0', 'tcp_', 'http_', 'SF_', '181', '5450', '0.1', '0.2', '0.3', '0.4',\n",
    "       '0.5', '1', '0.6', '0.7', '0.8', '0.9', '0.10', '0.11', '0.12', '0.13',\n",
    "       '0.14', '0.15', '8', '8.1', '0.00', '0.00.1', '0.00.2', '0.00.3',\n",
    "       '1.00', '0.00.4', '0.00.5', '9', '9.1', '1.00.1', '0.00.6', '0.11.1',\n",
    "       '0.00.7', '0.00.8', '0.00.9', '0.00.10', '0.00.11', 'target']"
   ]
  },
  {
   "cell_type": "markdown",
   "metadata": {},
   "source": [
    "### Get dummy for 'tcp' column"
   ]
  },
  {
   "cell_type": "code",
   "execution_count": 327,
   "metadata": {},
   "outputs": [],
   "source": [
    "# Get dummy the 'tcp' column\n",
    "dummy_tcp=pd.get_dummies(df['tcp_'])\n",
    "\n",
    "# Concate to the dummy variables to df\n",
    "df=pd.concat([df, dummy_tcp], axis=1)\n",
    "df.head()\n",
    "\n",
    "# drop the 'tcp' column\n",
    "df = df.drop('tcp_',axis = 1)"
   ]
  },
  {
   "cell_type": "code",
   "execution_count": 328,
   "metadata": {},
   "outputs": [
    {
     "data": {
      "text/html": [
       "<div>\n",
       "<style scoped>\n",
       "    .dataframe tbody tr th:only-of-type {\n",
       "        vertical-align: middle;\n",
       "    }\n",
       "\n",
       "    .dataframe tbody tr th {\n",
       "        vertical-align: top;\n",
       "    }\n",
       "\n",
       "    .dataframe thead th {\n",
       "        text-align: right;\n",
       "    }\n",
       "</style>\n",
       "<table border=\"1\" class=\"dataframe\">\n",
       "  <thead>\n",
       "    <tr style=\"text-align: right;\">\n",
       "      <th></th>\n",
       "      <th>0</th>\n",
       "      <th>http_</th>\n",
       "      <th>SF_</th>\n",
       "      <th>181</th>\n",
       "      <th>5450</th>\n",
       "      <th>0.1</th>\n",
       "      <th>0.2</th>\n",
       "      <th>0.3</th>\n",
       "      <th>0.4</th>\n",
       "      <th>0.5</th>\n",
       "      <th>...</th>\n",
       "      <th>0.11.1</th>\n",
       "      <th>0.00.7</th>\n",
       "      <th>0.00.8</th>\n",
       "      <th>0.00.9</th>\n",
       "      <th>0.00.10</th>\n",
       "      <th>0.00.11</th>\n",
       "      <th>target</th>\n",
       "      <th>icmp</th>\n",
       "      <th>tcp</th>\n",
       "      <th>udp</th>\n",
       "    </tr>\n",
       "  </thead>\n",
       "  <tbody>\n",
       "    <tr>\n",
       "      <th>0</th>\n",
       "      <td>0</td>\n",
       "      <td>http</td>\n",
       "      <td>SF</td>\n",
       "      <td>239</td>\n",
       "      <td>486</td>\n",
       "      <td>0</td>\n",
       "      <td>0</td>\n",
       "      <td>0</td>\n",
       "      <td>0</td>\n",
       "      <td>0</td>\n",
       "      <td>...</td>\n",
       "      <td>0.05</td>\n",
       "      <td>0.0</td>\n",
       "      <td>0.0</td>\n",
       "      <td>0.0</td>\n",
       "      <td>0.0</td>\n",
       "      <td>0.0</td>\n",
       "      <td>normal.</td>\n",
       "      <td>0</td>\n",
       "      <td>1</td>\n",
       "      <td>0</td>\n",
       "    </tr>\n",
       "    <tr>\n",
       "      <th>1</th>\n",
       "      <td>0</td>\n",
       "      <td>http</td>\n",
       "      <td>SF</td>\n",
       "      <td>235</td>\n",
       "      <td>1337</td>\n",
       "      <td>0</td>\n",
       "      <td>0</td>\n",
       "      <td>0</td>\n",
       "      <td>0</td>\n",
       "      <td>0</td>\n",
       "      <td>...</td>\n",
       "      <td>0.03</td>\n",
       "      <td>0.0</td>\n",
       "      <td>0.0</td>\n",
       "      <td>0.0</td>\n",
       "      <td>0.0</td>\n",
       "      <td>0.0</td>\n",
       "      <td>normal.</td>\n",
       "      <td>0</td>\n",
       "      <td>1</td>\n",
       "      <td>0</td>\n",
       "    </tr>\n",
       "  </tbody>\n",
       "</table>\n",
       "<p>2 rows × 44 columns</p>\n",
       "</div>"
      ],
      "text/plain": [
       "   0 http_ SF_  181  5450  0.1  0.2  0.3  0.4  0.5  ...  0.11.1  0.00.7  \\\n",
       "0  0  http  SF  239   486    0    0    0    0    0  ...    0.05     0.0   \n",
       "1  0  http  SF  235  1337    0    0    0    0    0  ...    0.03     0.0   \n",
       "\n",
       "   0.00.8  0.00.9  0.00.10  0.00.11   target  icmp  tcp  udp  \n",
       "0     0.0     0.0      0.0      0.0  normal.     0    1    0  \n",
       "1     0.0     0.0      0.0      0.0  normal.     0    1    0  \n",
       "\n",
       "[2 rows x 44 columns]"
      ]
     },
     "execution_count": 328,
     "metadata": {},
     "output_type": "execute_result"
    }
   ],
   "source": [
    "df.head(2)"
   ]
  },
  {
   "cell_type": "markdown",
   "metadata": {},
   "source": [
    "### Get dummy for 'http' column"
   ]
  },
  {
   "cell_type": "code",
   "execution_count": 329,
   "metadata": {},
   "outputs": [],
   "source": [
    "# Set number of rows displayed\n",
    "pd.set_option('display.max_rows', 500)"
   ]
  },
  {
   "cell_type": "code",
   "execution_count": 330,
   "metadata": {},
   "outputs": [],
   "source": [
    "# The most number values of the columns are 'ecr_i', 'private', and 'http'. \n",
    "# Combine all others values to 'other'\n",
    "list_http = ['ecr_i', 'private', 'http']\n",
    "df['http_'] = df['http_'].apply(lambda x: 'other' if x not in list_http else x)"
   ]
  },
  {
   "cell_type": "code",
   "execution_count": 331,
   "metadata": {},
   "outputs": [
    {
     "data": {
      "text/plain": [
       "ecr_i      281400\n",
       "private    110893\n",
       "http        64292\n",
       "other       37435\n",
       "Name: http_, dtype: int64"
      ]
     },
     "execution_count": 331,
     "metadata": {},
     "output_type": "execute_result"
    }
   ],
   "source": [
    "df['http_'].value_counts()"
   ]
  },
  {
   "cell_type": "code",
   "execution_count": 332,
   "metadata": {},
   "outputs": [
    {
     "data": {
      "text/html": [
       "<div>\n",
       "<style scoped>\n",
       "    .dataframe tbody tr th:only-of-type {\n",
       "        vertical-align: middle;\n",
       "    }\n",
       "\n",
       "    .dataframe tbody tr th {\n",
       "        vertical-align: top;\n",
       "    }\n",
       "\n",
       "    .dataframe thead th {\n",
       "        text-align: right;\n",
       "    }\n",
       "</style>\n",
       "<table border=\"1\" class=\"dataframe\">\n",
       "  <thead>\n",
       "    <tr style=\"text-align: right;\">\n",
       "      <th></th>\n",
       "      <th>0</th>\n",
       "      <th>SF_</th>\n",
       "      <th>181</th>\n",
       "      <th>5450</th>\n",
       "      <th>0.1</th>\n",
       "      <th>0.2</th>\n",
       "      <th>0.3</th>\n",
       "      <th>0.4</th>\n",
       "      <th>0.5</th>\n",
       "      <th>1</th>\n",
       "      <th>...</th>\n",
       "      <th>0.00.10</th>\n",
       "      <th>0.00.11</th>\n",
       "      <th>target</th>\n",
       "      <th>icmp</th>\n",
       "      <th>tcp</th>\n",
       "      <th>udp</th>\n",
       "      <th>ecr_i</th>\n",
       "      <th>http</th>\n",
       "      <th>other</th>\n",
       "      <th>private</th>\n",
       "    </tr>\n",
       "  </thead>\n",
       "  <tbody>\n",
       "    <tr>\n",
       "      <th>0</th>\n",
       "      <td>0</td>\n",
       "      <td>SF</td>\n",
       "      <td>239</td>\n",
       "      <td>486</td>\n",
       "      <td>0</td>\n",
       "      <td>0</td>\n",
       "      <td>0</td>\n",
       "      <td>0</td>\n",
       "      <td>0</td>\n",
       "      <td>1</td>\n",
       "      <td>...</td>\n",
       "      <td>0.0</td>\n",
       "      <td>0.0</td>\n",
       "      <td>normal.</td>\n",
       "      <td>0</td>\n",
       "      <td>1</td>\n",
       "      <td>0</td>\n",
       "      <td>0</td>\n",
       "      <td>1</td>\n",
       "      <td>0</td>\n",
       "      <td>0</td>\n",
       "    </tr>\n",
       "    <tr>\n",
       "      <th>1</th>\n",
       "      <td>0</td>\n",
       "      <td>SF</td>\n",
       "      <td>235</td>\n",
       "      <td>1337</td>\n",
       "      <td>0</td>\n",
       "      <td>0</td>\n",
       "      <td>0</td>\n",
       "      <td>0</td>\n",
       "      <td>0</td>\n",
       "      <td>1</td>\n",
       "      <td>...</td>\n",
       "      <td>0.0</td>\n",
       "      <td>0.0</td>\n",
       "      <td>normal.</td>\n",
       "      <td>0</td>\n",
       "      <td>1</td>\n",
       "      <td>0</td>\n",
       "      <td>0</td>\n",
       "      <td>1</td>\n",
       "      <td>0</td>\n",
       "      <td>0</td>\n",
       "    </tr>\n",
       "    <tr>\n",
       "      <th>2</th>\n",
       "      <td>0</td>\n",
       "      <td>SF</td>\n",
       "      <td>219</td>\n",
       "      <td>1337</td>\n",
       "      <td>0</td>\n",
       "      <td>0</td>\n",
       "      <td>0</td>\n",
       "      <td>0</td>\n",
       "      <td>0</td>\n",
       "      <td>1</td>\n",
       "      <td>...</td>\n",
       "      <td>0.0</td>\n",
       "      <td>0.0</td>\n",
       "      <td>normal.</td>\n",
       "      <td>0</td>\n",
       "      <td>1</td>\n",
       "      <td>0</td>\n",
       "      <td>0</td>\n",
       "      <td>1</td>\n",
       "      <td>0</td>\n",
       "      <td>0</td>\n",
       "    </tr>\n",
       "    <tr>\n",
       "      <th>3</th>\n",
       "      <td>0</td>\n",
       "      <td>SF</td>\n",
       "      <td>217</td>\n",
       "      <td>2032</td>\n",
       "      <td>0</td>\n",
       "      <td>0</td>\n",
       "      <td>0</td>\n",
       "      <td>0</td>\n",
       "      <td>0</td>\n",
       "      <td>1</td>\n",
       "      <td>...</td>\n",
       "      <td>0.0</td>\n",
       "      <td>0.0</td>\n",
       "      <td>normal.</td>\n",
       "      <td>0</td>\n",
       "      <td>1</td>\n",
       "      <td>0</td>\n",
       "      <td>0</td>\n",
       "      <td>1</td>\n",
       "      <td>0</td>\n",
       "      <td>0</td>\n",
       "    </tr>\n",
       "    <tr>\n",
       "      <th>4</th>\n",
       "      <td>0</td>\n",
       "      <td>SF</td>\n",
       "      <td>217</td>\n",
       "      <td>2032</td>\n",
       "      <td>0</td>\n",
       "      <td>0</td>\n",
       "      <td>0</td>\n",
       "      <td>0</td>\n",
       "      <td>0</td>\n",
       "      <td>1</td>\n",
       "      <td>...</td>\n",
       "      <td>0.0</td>\n",
       "      <td>0.0</td>\n",
       "      <td>normal.</td>\n",
       "      <td>0</td>\n",
       "      <td>1</td>\n",
       "      <td>0</td>\n",
       "      <td>0</td>\n",
       "      <td>1</td>\n",
       "      <td>0</td>\n",
       "      <td>0</td>\n",
       "    </tr>\n",
       "  </tbody>\n",
       "</table>\n",
       "<p>5 rows × 47 columns</p>\n",
       "</div>"
      ],
      "text/plain": [
       "   0 SF_  181  5450  0.1  0.2  0.3  0.4  0.5  1  ...  0.00.10  0.00.11  \\\n",
       "0  0  SF  239   486    0    0    0    0    0  1  ...      0.0      0.0   \n",
       "1  0  SF  235  1337    0    0    0    0    0  1  ...      0.0      0.0   \n",
       "2  0  SF  219  1337    0    0    0    0    0  1  ...      0.0      0.0   \n",
       "3  0  SF  217  2032    0    0    0    0    0  1  ...      0.0      0.0   \n",
       "4  0  SF  217  2032    0    0    0    0    0  1  ...      0.0      0.0   \n",
       "\n",
       "    target  icmp  tcp  udp  ecr_i  http  other  private  \n",
       "0  normal.     0    1    0      0     1      0        0  \n",
       "1  normal.     0    1    0      0     1      0        0  \n",
       "2  normal.     0    1    0      0     1      0        0  \n",
       "3  normal.     0    1    0      0     1      0        0  \n",
       "4  normal.     0    1    0      0     1      0        0  \n",
       "\n",
       "[5 rows x 47 columns]"
      ]
     },
     "execution_count": 332,
     "metadata": {},
     "output_type": "execute_result"
    }
   ],
   "source": [
    "# Get dummy the 'http' column\n",
    "dummy_http=pd.get_dummies(df['http_'])\n",
    "\n",
    "# Concate to the dummy variables to df\n",
    "df=pd.concat([df, dummy_http], axis=1)\n",
    "\n",
    "# drop the 'tcp' column\n",
    "df = df.drop('http_',axis = 1)\n",
    "df.head()"
   ]
  },
  {
   "cell_type": "markdown",
   "metadata": {},
   "source": [
    "### Get dummy for 'SF' column"
   ]
  },
  {
   "cell_type": "code",
   "execution_count": 333,
   "metadata": {},
   "outputs": [
    {
     "data": {
      "text/plain": [
       "SF        378439\n",
       "S0         87007\n",
       "REJ        26875\n",
       "RSTR         903\n",
       "RSTO         579\n",
       "SH           107\n",
       "S1            57\n",
       "S2            24\n",
       "RSTOS0        11\n",
       "S3            10\n",
       "OTH            8\n",
       "Name: SF_, dtype: int64"
      ]
     },
     "execution_count": 333,
     "metadata": {},
     "output_type": "execute_result"
    }
   ],
   "source": [
    "df['SF_'].value_counts()"
   ]
  },
  {
   "cell_type": "code",
   "execution_count": 334,
   "metadata": {},
   "outputs": [],
   "source": [
    "# The most number values of the columns are 'SF', 'SO', and 'REJ'. \n",
    "# Combine all others values to 'other'\n",
    "list_SF = ['SF', 'S0', 'REJ']\n",
    "df['SF_'] = df['SF_'].apply(lambda x: 'other_sf' if x not in list_SF else x)"
   ]
  },
  {
   "cell_type": "code",
   "execution_count": 335,
   "metadata": {},
   "outputs": [
    {
     "data": {
      "text/plain": [
       "SF          378439\n",
       "S0           87007\n",
       "REJ          26875\n",
       "other_sf      1699\n",
       "Name: SF_, dtype: int64"
      ]
     },
     "execution_count": 335,
     "metadata": {},
     "output_type": "execute_result"
    }
   ],
   "source": [
    "df['SF_'].value_counts()"
   ]
  },
  {
   "cell_type": "code",
   "execution_count": 336,
   "metadata": {},
   "outputs": [
    {
     "data": {
      "text/html": [
       "<div>\n",
       "<style scoped>\n",
       "    .dataframe tbody tr th:only-of-type {\n",
       "        vertical-align: middle;\n",
       "    }\n",
       "\n",
       "    .dataframe tbody tr th {\n",
       "        vertical-align: top;\n",
       "    }\n",
       "\n",
       "    .dataframe thead th {\n",
       "        text-align: right;\n",
       "    }\n",
       "</style>\n",
       "<table border=\"1\" class=\"dataframe\">\n",
       "  <thead>\n",
       "    <tr style=\"text-align: right;\">\n",
       "      <th></th>\n",
       "      <th>0</th>\n",
       "      <th>181</th>\n",
       "      <th>5450</th>\n",
       "      <th>0.1</th>\n",
       "      <th>0.2</th>\n",
       "      <th>0.3</th>\n",
       "      <th>0.4</th>\n",
       "      <th>0.5</th>\n",
       "      <th>1</th>\n",
       "      <th>0.6</th>\n",
       "      <th>...</th>\n",
       "      <th>tcp</th>\n",
       "      <th>udp</th>\n",
       "      <th>ecr_i</th>\n",
       "      <th>http</th>\n",
       "      <th>other</th>\n",
       "      <th>private</th>\n",
       "      <th>REJ</th>\n",
       "      <th>S0</th>\n",
       "      <th>SF</th>\n",
       "      <th>other_sf</th>\n",
       "    </tr>\n",
       "  </thead>\n",
       "  <tbody>\n",
       "    <tr>\n",
       "      <th>0</th>\n",
       "      <td>0</td>\n",
       "      <td>239</td>\n",
       "      <td>486</td>\n",
       "      <td>0</td>\n",
       "      <td>0</td>\n",
       "      <td>0</td>\n",
       "      <td>0</td>\n",
       "      <td>0</td>\n",
       "      <td>1</td>\n",
       "      <td>0</td>\n",
       "      <td>...</td>\n",
       "      <td>1</td>\n",
       "      <td>0</td>\n",
       "      <td>0</td>\n",
       "      <td>1</td>\n",
       "      <td>0</td>\n",
       "      <td>0</td>\n",
       "      <td>0</td>\n",
       "      <td>0</td>\n",
       "      <td>1</td>\n",
       "      <td>0</td>\n",
       "    </tr>\n",
       "    <tr>\n",
       "      <th>1</th>\n",
       "      <td>0</td>\n",
       "      <td>235</td>\n",
       "      <td>1337</td>\n",
       "      <td>0</td>\n",
       "      <td>0</td>\n",
       "      <td>0</td>\n",
       "      <td>0</td>\n",
       "      <td>0</td>\n",
       "      <td>1</td>\n",
       "      <td>0</td>\n",
       "      <td>...</td>\n",
       "      <td>1</td>\n",
       "      <td>0</td>\n",
       "      <td>0</td>\n",
       "      <td>1</td>\n",
       "      <td>0</td>\n",
       "      <td>0</td>\n",
       "      <td>0</td>\n",
       "      <td>0</td>\n",
       "      <td>1</td>\n",
       "      <td>0</td>\n",
       "    </tr>\n",
       "    <tr>\n",
       "      <th>2</th>\n",
       "      <td>0</td>\n",
       "      <td>219</td>\n",
       "      <td>1337</td>\n",
       "      <td>0</td>\n",
       "      <td>0</td>\n",
       "      <td>0</td>\n",
       "      <td>0</td>\n",
       "      <td>0</td>\n",
       "      <td>1</td>\n",
       "      <td>0</td>\n",
       "      <td>...</td>\n",
       "      <td>1</td>\n",
       "      <td>0</td>\n",
       "      <td>0</td>\n",
       "      <td>1</td>\n",
       "      <td>0</td>\n",
       "      <td>0</td>\n",
       "      <td>0</td>\n",
       "      <td>0</td>\n",
       "      <td>1</td>\n",
       "      <td>0</td>\n",
       "    </tr>\n",
       "    <tr>\n",
       "      <th>3</th>\n",
       "      <td>0</td>\n",
       "      <td>217</td>\n",
       "      <td>2032</td>\n",
       "      <td>0</td>\n",
       "      <td>0</td>\n",
       "      <td>0</td>\n",
       "      <td>0</td>\n",
       "      <td>0</td>\n",
       "      <td>1</td>\n",
       "      <td>0</td>\n",
       "      <td>...</td>\n",
       "      <td>1</td>\n",
       "      <td>0</td>\n",
       "      <td>0</td>\n",
       "      <td>1</td>\n",
       "      <td>0</td>\n",
       "      <td>0</td>\n",
       "      <td>0</td>\n",
       "      <td>0</td>\n",
       "      <td>1</td>\n",
       "      <td>0</td>\n",
       "    </tr>\n",
       "    <tr>\n",
       "      <th>4</th>\n",
       "      <td>0</td>\n",
       "      <td>217</td>\n",
       "      <td>2032</td>\n",
       "      <td>0</td>\n",
       "      <td>0</td>\n",
       "      <td>0</td>\n",
       "      <td>0</td>\n",
       "      <td>0</td>\n",
       "      <td>1</td>\n",
       "      <td>0</td>\n",
       "      <td>...</td>\n",
       "      <td>1</td>\n",
       "      <td>0</td>\n",
       "      <td>0</td>\n",
       "      <td>1</td>\n",
       "      <td>0</td>\n",
       "      <td>0</td>\n",
       "      <td>0</td>\n",
       "      <td>0</td>\n",
       "      <td>1</td>\n",
       "      <td>0</td>\n",
       "    </tr>\n",
       "  </tbody>\n",
       "</table>\n",
       "<p>5 rows × 50 columns</p>\n",
       "</div>"
      ],
      "text/plain": [
       "   0  181  5450  0.1  0.2  0.3  0.4  0.5  1  0.6  ...  tcp  udp  ecr_i  http  \\\n",
       "0  0  239   486    0    0    0    0    0  1    0  ...    1    0      0     1   \n",
       "1  0  235  1337    0    0    0    0    0  1    0  ...    1    0      0     1   \n",
       "2  0  219  1337    0    0    0    0    0  1    0  ...    1    0      0     1   \n",
       "3  0  217  2032    0    0    0    0    0  1    0  ...    1    0      0     1   \n",
       "4  0  217  2032    0    0    0    0    0  1    0  ...    1    0      0     1   \n",
       "\n",
       "   other  private  REJ  S0  SF  other_sf  \n",
       "0      0        0    0   0   1         0  \n",
       "1      0        0    0   0   1         0  \n",
       "2      0        0    0   0   1         0  \n",
       "3      0        0    0   0   1         0  \n",
       "4      0        0    0   0   1         0  \n",
       "\n",
       "[5 rows x 50 columns]"
      ]
     },
     "execution_count": 336,
     "metadata": {},
     "output_type": "execute_result"
    }
   ],
   "source": [
    "# Get dummy the 'SF' column\n",
    "dummy_SF=pd.get_dummies(df['SF_'])\n",
    "\n",
    "# Concate to the dummy variables to df\n",
    "df=pd.concat([df, dummy_SF], axis=1)\n",
    "\n",
    "# drop the 'tcp' column\n",
    "df = df.drop('SF_',axis = 1)\n",
    "df.head()"
   ]
  },
  {
   "cell_type": "code",
   "execution_count": 337,
   "metadata": {},
   "outputs": [
    {
     "data": {
      "text/html": [
       "<div>\n",
       "<style scoped>\n",
       "    .dataframe tbody tr th:only-of-type {\n",
       "        vertical-align: middle;\n",
       "    }\n",
       "\n",
       "    .dataframe tbody tr th {\n",
       "        vertical-align: top;\n",
       "    }\n",
       "\n",
       "    .dataframe thead th {\n",
       "        text-align: right;\n",
       "    }\n",
       "</style>\n",
       "<table border=\"1\" class=\"dataframe\">\n",
       "  <thead>\n",
       "    <tr style=\"text-align: right;\">\n",
       "      <th></th>\n",
       "      <th>count</th>\n",
       "      <th>mean</th>\n",
       "      <th>std</th>\n",
       "      <th>min</th>\n",
       "      <th>25%</th>\n",
       "      <th>50%</th>\n",
       "      <th>75%</th>\n",
       "      <th>max</th>\n",
       "    </tr>\n",
       "  </thead>\n",
       "  <tbody>\n",
       "    <tr>\n",
       "      <th>0</th>\n",
       "      <td>494020.0</td>\n",
       "      <td>47.979400</td>\n",
       "      <td>707.747185</td>\n",
       "      <td>0.0</td>\n",
       "      <td>0.00</td>\n",
       "      <td>0.0</td>\n",
       "      <td>0.00</td>\n",
       "      <td>58329.0</td>\n",
       "    </tr>\n",
       "    <tr>\n",
       "      <th>181</th>\n",
       "      <td>494020.0</td>\n",
       "      <td>3025.616054</td>\n",
       "      <td>988219.101229</td>\n",
       "      <td>0.0</td>\n",
       "      <td>45.00</td>\n",
       "      <td>520.0</td>\n",
       "      <td>1032.00</td>\n",
       "      <td>693375640.0</td>\n",
       "    </tr>\n",
       "    <tr>\n",
       "      <th>5450</th>\n",
       "      <td>494020.0</td>\n",
       "      <td>868.523151</td>\n",
       "      <td>33040.034049</td>\n",
       "      <td>0.0</td>\n",
       "      <td>0.00</td>\n",
       "      <td>0.0</td>\n",
       "      <td>0.00</td>\n",
       "      <td>5155468.0</td>\n",
       "    </tr>\n",
       "    <tr>\n",
       "      <th>0.1</th>\n",
       "      <td>494020.0</td>\n",
       "      <td>0.000045</td>\n",
       "      <td>0.006673</td>\n",
       "      <td>0.0</td>\n",
       "      <td>0.00</td>\n",
       "      <td>0.0</td>\n",
       "      <td>0.00</td>\n",
       "      <td>1.0</td>\n",
       "    </tr>\n",
       "    <tr>\n",
       "      <th>0.2</th>\n",
       "      <td>494020.0</td>\n",
       "      <td>0.006433</td>\n",
       "      <td>0.134805</td>\n",
       "      <td>0.0</td>\n",
       "      <td>0.00</td>\n",
       "      <td>0.0</td>\n",
       "      <td>0.00</td>\n",
       "      <td>3.0</td>\n",
       "    </tr>\n",
       "    <tr>\n",
       "      <th>0.3</th>\n",
       "      <td>494020.0</td>\n",
       "      <td>0.000014</td>\n",
       "      <td>0.005510</td>\n",
       "      <td>0.0</td>\n",
       "      <td>0.00</td>\n",
       "      <td>0.0</td>\n",
       "      <td>0.00</td>\n",
       "      <td>3.0</td>\n",
       "    </tr>\n",
       "    <tr>\n",
       "      <th>0.4</th>\n",
       "      <td>494020.0</td>\n",
       "      <td>0.034519</td>\n",
       "      <td>0.782103</td>\n",
       "      <td>0.0</td>\n",
       "      <td>0.00</td>\n",
       "      <td>0.0</td>\n",
       "      <td>0.00</td>\n",
       "      <td>30.0</td>\n",
       "    </tr>\n",
       "    <tr>\n",
       "      <th>0.5</th>\n",
       "      <td>494020.0</td>\n",
       "      <td>0.000152</td>\n",
       "      <td>0.015520</td>\n",
       "      <td>0.0</td>\n",
       "      <td>0.00</td>\n",
       "      <td>0.0</td>\n",
       "      <td>0.00</td>\n",
       "      <td>5.0</td>\n",
       "    </tr>\n",
       "    <tr>\n",
       "      <th>1</th>\n",
       "      <td>494020.0</td>\n",
       "      <td>0.148245</td>\n",
       "      <td>0.355343</td>\n",
       "      <td>0.0</td>\n",
       "      <td>0.00</td>\n",
       "      <td>0.0</td>\n",
       "      <td>0.00</td>\n",
       "      <td>1.0</td>\n",
       "    </tr>\n",
       "    <tr>\n",
       "      <th>0.6</th>\n",
       "      <td>494020.0</td>\n",
       "      <td>0.010212</td>\n",
       "      <td>1.798328</td>\n",
       "      <td>0.0</td>\n",
       "      <td>0.00</td>\n",
       "      <td>0.0</td>\n",
       "      <td>0.00</td>\n",
       "      <td>884.0</td>\n",
       "    </tr>\n",
       "    <tr>\n",
       "      <th>0.7</th>\n",
       "      <td>494020.0</td>\n",
       "      <td>0.000111</td>\n",
       "      <td>0.010551</td>\n",
       "      <td>0.0</td>\n",
       "      <td>0.00</td>\n",
       "      <td>0.0</td>\n",
       "      <td>0.00</td>\n",
       "      <td>1.0</td>\n",
       "    </tr>\n",
       "    <tr>\n",
       "      <th>0.8</th>\n",
       "      <td>494020.0</td>\n",
       "      <td>0.000036</td>\n",
       "      <td>0.007793</td>\n",
       "      <td>0.0</td>\n",
       "      <td>0.00</td>\n",
       "      <td>0.0</td>\n",
       "      <td>0.00</td>\n",
       "      <td>2.0</td>\n",
       "    </tr>\n",
       "    <tr>\n",
       "      <th>0.9</th>\n",
       "      <td>494020.0</td>\n",
       "      <td>0.011352</td>\n",
       "      <td>2.012720</td>\n",
       "      <td>0.0</td>\n",
       "      <td>0.00</td>\n",
       "      <td>0.0</td>\n",
       "      <td>0.00</td>\n",
       "      <td>993.0</td>\n",
       "    </tr>\n",
       "    <tr>\n",
       "      <th>0.10</th>\n",
       "      <td>494020.0</td>\n",
       "      <td>0.001083</td>\n",
       "      <td>0.096416</td>\n",
       "      <td>0.0</td>\n",
       "      <td>0.00</td>\n",
       "      <td>0.0</td>\n",
       "      <td>0.00</td>\n",
       "      <td>28.0</td>\n",
       "    </tr>\n",
       "    <tr>\n",
       "      <th>0.11</th>\n",
       "      <td>494020.0</td>\n",
       "      <td>0.000109</td>\n",
       "      <td>0.011020</td>\n",
       "      <td>0.0</td>\n",
       "      <td>0.00</td>\n",
       "      <td>0.0</td>\n",
       "      <td>0.00</td>\n",
       "      <td>2.0</td>\n",
       "    </tr>\n",
       "    <tr>\n",
       "      <th>0.12</th>\n",
       "      <td>494020.0</td>\n",
       "      <td>0.001008</td>\n",
       "      <td>0.036482</td>\n",
       "      <td>0.0</td>\n",
       "      <td>0.00</td>\n",
       "      <td>0.0</td>\n",
       "      <td>0.00</td>\n",
       "      <td>8.0</td>\n",
       "    </tr>\n",
       "    <tr>\n",
       "      <th>0.13</th>\n",
       "      <td>494020.0</td>\n",
       "      <td>0.000000</td>\n",
       "      <td>0.000000</td>\n",
       "      <td>0.0</td>\n",
       "      <td>0.00</td>\n",
       "      <td>0.0</td>\n",
       "      <td>0.00</td>\n",
       "      <td>0.0</td>\n",
       "    </tr>\n",
       "    <tr>\n",
       "      <th>0.14</th>\n",
       "      <td>494020.0</td>\n",
       "      <td>0.000000</td>\n",
       "      <td>0.000000</td>\n",
       "      <td>0.0</td>\n",
       "      <td>0.00</td>\n",
       "      <td>0.0</td>\n",
       "      <td>0.00</td>\n",
       "      <td>0.0</td>\n",
       "    </tr>\n",
       "    <tr>\n",
       "      <th>0.15</th>\n",
       "      <td>494020.0</td>\n",
       "      <td>0.001387</td>\n",
       "      <td>0.037211</td>\n",
       "      <td>0.0</td>\n",
       "      <td>0.00</td>\n",
       "      <td>0.0</td>\n",
       "      <td>0.00</td>\n",
       "      <td>1.0</td>\n",
       "    </tr>\n",
       "    <tr>\n",
       "      <th>8</th>\n",
       "      <td>494020.0</td>\n",
       "      <td>332.286347</td>\n",
       "      <td>213.147129</td>\n",
       "      <td>0.0</td>\n",
       "      <td>117.00</td>\n",
       "      <td>510.0</td>\n",
       "      <td>511.00</td>\n",
       "      <td>511.0</td>\n",
       "    </tr>\n",
       "    <tr>\n",
       "      <th>8.1</th>\n",
       "      <td>494020.0</td>\n",
       "      <td>292.907133</td>\n",
       "      <td>246.322733</td>\n",
       "      <td>0.0</td>\n",
       "      <td>10.00</td>\n",
       "      <td>510.0</td>\n",
       "      <td>511.00</td>\n",
       "      <td>511.0</td>\n",
       "    </tr>\n",
       "    <tr>\n",
       "      <th>0.00</th>\n",
       "      <td>494020.0</td>\n",
       "      <td>0.176687</td>\n",
       "      <td>0.380717</td>\n",
       "      <td>0.0</td>\n",
       "      <td>0.00</td>\n",
       "      <td>0.0</td>\n",
       "      <td>0.00</td>\n",
       "      <td>1.0</td>\n",
       "    </tr>\n",
       "    <tr>\n",
       "      <th>0.00.1</th>\n",
       "      <td>494020.0</td>\n",
       "      <td>0.176609</td>\n",
       "      <td>0.381017</td>\n",
       "      <td>0.0</td>\n",
       "      <td>0.00</td>\n",
       "      <td>0.0</td>\n",
       "      <td>0.00</td>\n",
       "      <td>1.0</td>\n",
       "    </tr>\n",
       "    <tr>\n",
       "      <th>0.00.2</th>\n",
       "      <td>494020.0</td>\n",
       "      <td>0.057434</td>\n",
       "      <td>0.231624</td>\n",
       "      <td>0.0</td>\n",
       "      <td>0.00</td>\n",
       "      <td>0.0</td>\n",
       "      <td>0.00</td>\n",
       "      <td>1.0</td>\n",
       "    </tr>\n",
       "    <tr>\n",
       "      <th>0.00.3</th>\n",
       "      <td>494020.0</td>\n",
       "      <td>0.057719</td>\n",
       "      <td>0.232147</td>\n",
       "      <td>0.0</td>\n",
       "      <td>0.00</td>\n",
       "      <td>0.0</td>\n",
       "      <td>0.00</td>\n",
       "      <td>1.0</td>\n",
       "    </tr>\n",
       "    <tr>\n",
       "      <th>1.00</th>\n",
       "      <td>494020.0</td>\n",
       "      <td>0.791547</td>\n",
       "      <td>0.388190</td>\n",
       "      <td>0.0</td>\n",
       "      <td>1.00</td>\n",
       "      <td>1.0</td>\n",
       "      <td>1.00</td>\n",
       "      <td>1.0</td>\n",
       "    </tr>\n",
       "    <tr>\n",
       "      <th>0.00.4</th>\n",
       "      <td>494020.0</td>\n",
       "      <td>0.020982</td>\n",
       "      <td>0.082206</td>\n",
       "      <td>0.0</td>\n",
       "      <td>0.00</td>\n",
       "      <td>0.0</td>\n",
       "      <td>0.00</td>\n",
       "      <td>1.0</td>\n",
       "    </tr>\n",
       "    <tr>\n",
       "      <th>0.00.5</th>\n",
       "      <td>494020.0</td>\n",
       "      <td>0.028997</td>\n",
       "      <td>0.142398</td>\n",
       "      <td>0.0</td>\n",
       "      <td>0.00</td>\n",
       "      <td>0.0</td>\n",
       "      <td>0.00</td>\n",
       "      <td>1.0</td>\n",
       "    </tr>\n",
       "    <tr>\n",
       "      <th>9</th>\n",
       "      <td>494020.0</td>\n",
       "      <td>232.471230</td>\n",
       "      <td>64.744665</td>\n",
       "      <td>0.0</td>\n",
       "      <td>255.00</td>\n",
       "      <td>255.0</td>\n",
       "      <td>255.00</td>\n",
       "      <td>255.0</td>\n",
       "    </tr>\n",
       "    <tr>\n",
       "      <th>9.1</th>\n",
       "      <td>494020.0</td>\n",
       "      <td>188.666034</td>\n",
       "      <td>106.040236</td>\n",
       "      <td>0.0</td>\n",
       "      <td>46.00</td>\n",
       "      <td>255.0</td>\n",
       "      <td>255.00</td>\n",
       "      <td>255.0</td>\n",
       "    </tr>\n",
       "    <tr>\n",
       "      <th>1.00.1</th>\n",
       "      <td>494020.0</td>\n",
       "      <td>0.753779</td>\n",
       "      <td>0.410781</td>\n",
       "      <td>0.0</td>\n",
       "      <td>0.41</td>\n",
       "      <td>1.0</td>\n",
       "      <td>1.00</td>\n",
       "      <td>1.0</td>\n",
       "    </tr>\n",
       "    <tr>\n",
       "      <th>0.00.6</th>\n",
       "      <td>494020.0</td>\n",
       "      <td>0.030906</td>\n",
       "      <td>0.109259</td>\n",
       "      <td>0.0</td>\n",
       "      <td>0.00</td>\n",
       "      <td>0.0</td>\n",
       "      <td>0.04</td>\n",
       "      <td>1.0</td>\n",
       "    </tr>\n",
       "    <tr>\n",
       "      <th>0.11.1</th>\n",
       "      <td>494020.0</td>\n",
       "      <td>0.601936</td>\n",
       "      <td>0.481309</td>\n",
       "      <td>0.0</td>\n",
       "      <td>0.00</td>\n",
       "      <td>1.0</td>\n",
       "      <td>1.00</td>\n",
       "      <td>1.0</td>\n",
       "    </tr>\n",
       "    <tr>\n",
       "      <th>0.00.7</th>\n",
       "      <td>494020.0</td>\n",
       "      <td>0.006684</td>\n",
       "      <td>0.042133</td>\n",
       "      <td>0.0</td>\n",
       "      <td>0.00</td>\n",
       "      <td>0.0</td>\n",
       "      <td>0.00</td>\n",
       "      <td>1.0</td>\n",
       "    </tr>\n",
       "    <tr>\n",
       "      <th>0.00.8</th>\n",
       "      <td>494020.0</td>\n",
       "      <td>0.176754</td>\n",
       "      <td>0.380593</td>\n",
       "      <td>0.0</td>\n",
       "      <td>0.00</td>\n",
       "      <td>0.0</td>\n",
       "      <td>0.00</td>\n",
       "      <td>1.0</td>\n",
       "    </tr>\n",
       "    <tr>\n",
       "      <th>0.00.9</th>\n",
       "      <td>494020.0</td>\n",
       "      <td>0.176443</td>\n",
       "      <td>0.380920</td>\n",
       "      <td>0.0</td>\n",
       "      <td>0.00</td>\n",
       "      <td>0.0</td>\n",
       "      <td>0.00</td>\n",
       "      <td>1.0</td>\n",
       "    </tr>\n",
       "    <tr>\n",
       "      <th>0.00.10</th>\n",
       "      <td>494020.0</td>\n",
       "      <td>0.058118</td>\n",
       "      <td>0.230590</td>\n",
       "      <td>0.0</td>\n",
       "      <td>0.00</td>\n",
       "      <td>0.0</td>\n",
       "      <td>0.00</td>\n",
       "      <td>1.0</td>\n",
       "    </tr>\n",
       "    <tr>\n",
       "      <th>0.00.11</th>\n",
       "      <td>494020.0</td>\n",
       "      <td>0.057412</td>\n",
       "      <td>0.230141</td>\n",
       "      <td>0.0</td>\n",
       "      <td>0.00</td>\n",
       "      <td>0.0</td>\n",
       "      <td>0.00</td>\n",
       "      <td>1.0</td>\n",
       "    </tr>\n",
       "    <tr>\n",
       "      <th>icmp</th>\n",
       "      <td>494020.0</td>\n",
       "      <td>0.574070</td>\n",
       "      <td>0.494484</td>\n",
       "      <td>0.0</td>\n",
       "      <td>0.00</td>\n",
       "      <td>1.0</td>\n",
       "      <td>1.00</td>\n",
       "      <td>1.0</td>\n",
       "    </tr>\n",
       "    <tr>\n",
       "      <th>tcp</th>\n",
       "      <td>494020.0</td>\n",
       "      <td>0.384729</td>\n",
       "      <td>0.486532</td>\n",
       "      <td>0.0</td>\n",
       "      <td>0.00</td>\n",
       "      <td>0.0</td>\n",
       "      <td>1.00</td>\n",
       "      <td>1.0</td>\n",
       "    </tr>\n",
       "    <tr>\n",
       "      <th>udp</th>\n",
       "      <td>494020.0</td>\n",
       "      <td>0.041201</td>\n",
       "      <td>0.198754</td>\n",
       "      <td>0.0</td>\n",
       "      <td>0.00</td>\n",
       "      <td>0.0</td>\n",
       "      <td>0.00</td>\n",
       "      <td>1.0</td>\n",
       "    </tr>\n",
       "    <tr>\n",
       "      <th>ecr_i</th>\n",
       "      <td>494020.0</td>\n",
       "      <td>0.569613</td>\n",
       "      <td>0.495131</td>\n",
       "      <td>0.0</td>\n",
       "      <td>0.00</td>\n",
       "      <td>1.0</td>\n",
       "      <td>1.00</td>\n",
       "      <td>1.0</td>\n",
       "    </tr>\n",
       "    <tr>\n",
       "      <th>http</th>\n",
       "      <td>494020.0</td>\n",
       "      <td>0.130140</td>\n",
       "      <td>0.336458</td>\n",
       "      <td>0.0</td>\n",
       "      <td>0.00</td>\n",
       "      <td>0.0</td>\n",
       "      <td>0.00</td>\n",
       "      <td>1.0</td>\n",
       "    </tr>\n",
       "    <tr>\n",
       "      <th>other</th>\n",
       "      <td>494020.0</td>\n",
       "      <td>0.075776</td>\n",
       "      <td>0.264640</td>\n",
       "      <td>0.0</td>\n",
       "      <td>0.00</td>\n",
       "      <td>0.0</td>\n",
       "      <td>0.00</td>\n",
       "      <td>1.0</td>\n",
       "    </tr>\n",
       "    <tr>\n",
       "      <th>private</th>\n",
       "      <td>494020.0</td>\n",
       "      <td>0.224471</td>\n",
       "      <td>0.417234</td>\n",
       "      <td>0.0</td>\n",
       "      <td>0.00</td>\n",
       "      <td>0.0</td>\n",
       "      <td>0.00</td>\n",
       "      <td>1.0</td>\n",
       "    </tr>\n",
       "    <tr>\n",
       "      <th>REJ</th>\n",
       "      <td>494020.0</td>\n",
       "      <td>0.054401</td>\n",
       "      <td>0.226807</td>\n",
       "      <td>0.0</td>\n",
       "      <td>0.00</td>\n",
       "      <td>0.0</td>\n",
       "      <td>0.00</td>\n",
       "      <td>1.0</td>\n",
       "    </tr>\n",
       "    <tr>\n",
       "      <th>S0</th>\n",
       "      <td>494020.0</td>\n",
       "      <td>0.176120</td>\n",
       "      <td>0.380923</td>\n",
       "      <td>0.0</td>\n",
       "      <td>0.00</td>\n",
       "      <td>0.0</td>\n",
       "      <td>0.00</td>\n",
       "      <td>1.0</td>\n",
       "    </tr>\n",
       "    <tr>\n",
       "      <th>SF</th>\n",
       "      <td>494020.0</td>\n",
       "      <td>0.766040</td>\n",
       "      <td>0.423348</td>\n",
       "      <td>0.0</td>\n",
       "      <td>1.00</td>\n",
       "      <td>1.0</td>\n",
       "      <td>1.00</td>\n",
       "      <td>1.0</td>\n",
       "    </tr>\n",
       "    <tr>\n",
       "      <th>other_sf</th>\n",
       "      <td>494020.0</td>\n",
       "      <td>0.003439</td>\n",
       "      <td>0.058543</td>\n",
       "      <td>0.0</td>\n",
       "      <td>0.00</td>\n",
       "      <td>0.0</td>\n",
       "      <td>0.00</td>\n",
       "      <td>1.0</td>\n",
       "    </tr>\n",
       "  </tbody>\n",
       "</table>\n",
       "</div>"
      ],
      "text/plain": [
       "             count         mean            std  min     25%    50%      75%  \\\n",
       "0         494020.0    47.979400     707.747185  0.0    0.00    0.0     0.00   \n",
       "181       494020.0  3025.616054  988219.101229  0.0   45.00  520.0  1032.00   \n",
       "5450      494020.0   868.523151   33040.034049  0.0    0.00    0.0     0.00   \n",
       "0.1       494020.0     0.000045       0.006673  0.0    0.00    0.0     0.00   \n",
       "0.2       494020.0     0.006433       0.134805  0.0    0.00    0.0     0.00   \n",
       "0.3       494020.0     0.000014       0.005510  0.0    0.00    0.0     0.00   \n",
       "0.4       494020.0     0.034519       0.782103  0.0    0.00    0.0     0.00   \n",
       "0.5       494020.0     0.000152       0.015520  0.0    0.00    0.0     0.00   \n",
       "1         494020.0     0.148245       0.355343  0.0    0.00    0.0     0.00   \n",
       "0.6       494020.0     0.010212       1.798328  0.0    0.00    0.0     0.00   \n",
       "0.7       494020.0     0.000111       0.010551  0.0    0.00    0.0     0.00   \n",
       "0.8       494020.0     0.000036       0.007793  0.0    0.00    0.0     0.00   \n",
       "0.9       494020.0     0.011352       2.012720  0.0    0.00    0.0     0.00   \n",
       "0.10      494020.0     0.001083       0.096416  0.0    0.00    0.0     0.00   \n",
       "0.11      494020.0     0.000109       0.011020  0.0    0.00    0.0     0.00   \n",
       "0.12      494020.0     0.001008       0.036482  0.0    0.00    0.0     0.00   \n",
       "0.13      494020.0     0.000000       0.000000  0.0    0.00    0.0     0.00   \n",
       "0.14      494020.0     0.000000       0.000000  0.0    0.00    0.0     0.00   \n",
       "0.15      494020.0     0.001387       0.037211  0.0    0.00    0.0     0.00   \n",
       "8         494020.0   332.286347     213.147129  0.0  117.00  510.0   511.00   \n",
       "8.1       494020.0   292.907133     246.322733  0.0   10.00  510.0   511.00   \n",
       "0.00      494020.0     0.176687       0.380717  0.0    0.00    0.0     0.00   \n",
       "0.00.1    494020.0     0.176609       0.381017  0.0    0.00    0.0     0.00   \n",
       "0.00.2    494020.0     0.057434       0.231624  0.0    0.00    0.0     0.00   \n",
       "0.00.3    494020.0     0.057719       0.232147  0.0    0.00    0.0     0.00   \n",
       "1.00      494020.0     0.791547       0.388190  0.0    1.00    1.0     1.00   \n",
       "0.00.4    494020.0     0.020982       0.082206  0.0    0.00    0.0     0.00   \n",
       "0.00.5    494020.0     0.028997       0.142398  0.0    0.00    0.0     0.00   \n",
       "9         494020.0   232.471230      64.744665  0.0  255.00  255.0   255.00   \n",
       "9.1       494020.0   188.666034     106.040236  0.0   46.00  255.0   255.00   \n",
       "1.00.1    494020.0     0.753779       0.410781  0.0    0.41    1.0     1.00   \n",
       "0.00.6    494020.0     0.030906       0.109259  0.0    0.00    0.0     0.04   \n",
       "0.11.1    494020.0     0.601936       0.481309  0.0    0.00    1.0     1.00   \n",
       "0.00.7    494020.0     0.006684       0.042133  0.0    0.00    0.0     0.00   \n",
       "0.00.8    494020.0     0.176754       0.380593  0.0    0.00    0.0     0.00   \n",
       "0.00.9    494020.0     0.176443       0.380920  0.0    0.00    0.0     0.00   \n",
       "0.00.10   494020.0     0.058118       0.230590  0.0    0.00    0.0     0.00   \n",
       "0.00.11   494020.0     0.057412       0.230141  0.0    0.00    0.0     0.00   \n",
       "icmp      494020.0     0.574070       0.494484  0.0    0.00    1.0     1.00   \n",
       "tcp       494020.0     0.384729       0.486532  0.0    0.00    0.0     1.00   \n",
       "udp       494020.0     0.041201       0.198754  0.0    0.00    0.0     0.00   \n",
       "ecr_i     494020.0     0.569613       0.495131  0.0    0.00    1.0     1.00   \n",
       "http      494020.0     0.130140       0.336458  0.0    0.00    0.0     0.00   \n",
       "other     494020.0     0.075776       0.264640  0.0    0.00    0.0     0.00   \n",
       "private   494020.0     0.224471       0.417234  0.0    0.00    0.0     0.00   \n",
       "REJ       494020.0     0.054401       0.226807  0.0    0.00    0.0     0.00   \n",
       "S0        494020.0     0.176120       0.380923  0.0    0.00    0.0     0.00   \n",
       "SF        494020.0     0.766040       0.423348  0.0    1.00    1.0     1.00   \n",
       "other_sf  494020.0     0.003439       0.058543  0.0    0.00    0.0     0.00   \n",
       "\n",
       "                  max  \n",
       "0             58329.0  \n",
       "181       693375640.0  \n",
       "5450        5155468.0  \n",
       "0.1               1.0  \n",
       "0.2               3.0  \n",
       "0.3               3.0  \n",
       "0.4              30.0  \n",
       "0.5               5.0  \n",
       "1                 1.0  \n",
       "0.6             884.0  \n",
       "0.7               1.0  \n",
       "0.8               2.0  \n",
       "0.9             993.0  \n",
       "0.10             28.0  \n",
       "0.11              2.0  \n",
       "0.12              8.0  \n",
       "0.13              0.0  \n",
       "0.14              0.0  \n",
       "0.15              1.0  \n",
       "8               511.0  \n",
       "8.1             511.0  \n",
       "0.00              1.0  \n",
       "0.00.1            1.0  \n",
       "0.00.2            1.0  \n",
       "0.00.3            1.0  \n",
       "1.00              1.0  \n",
       "0.00.4            1.0  \n",
       "0.00.5            1.0  \n",
       "9               255.0  \n",
       "9.1             255.0  \n",
       "1.00.1            1.0  \n",
       "0.00.6            1.0  \n",
       "0.11.1            1.0  \n",
       "0.00.7            1.0  \n",
       "0.00.8            1.0  \n",
       "0.00.9            1.0  \n",
       "0.00.10           1.0  \n",
       "0.00.11           1.0  \n",
       "icmp              1.0  \n",
       "tcp               1.0  \n",
       "udp               1.0  \n",
       "ecr_i             1.0  \n",
       "http              1.0  \n",
       "other             1.0  \n",
       "private           1.0  \n",
       "REJ               1.0  \n",
       "S0                1.0  \n",
       "SF                1.0  \n",
       "other_sf          1.0  "
      ]
     },
     "execution_count": 337,
     "metadata": {},
     "output_type": "execute_result"
    }
   ],
   "source": [
    "df.describe().T"
   ]
  },
  {
   "cell_type": "markdown",
   "metadata": {},
   "source": [
    "### Data preprocessing"
   ]
  },
  {
   "cell_type": "code",
   "execution_count": 338,
   "metadata": {},
   "outputs": [
    {
     "data": {
      "text/plain": [
       "smurf.              280790\n",
       "neptune.            107201\n",
       "normal.              97277\n",
       "back.                 2203\n",
       "satan.                1589\n",
       "ipsweep.              1247\n",
       "portsweep.            1040\n",
       "warezclient.          1020\n",
       "teardrop.              979\n",
       "pod.                   264\n",
       "nmap.                  231\n",
       "guess_passwd.           53\n",
       "buffer_overflow.        30\n",
       "land.                   21\n",
       "warezmaster.            20\n",
       "imap.                   12\n",
       "rootkit.                10\n",
       "loadmodule.              9\n",
       "ftp_write.               8\n",
       "multihop.                7\n",
       "phf.                     4\n",
       "perl.                    3\n",
       "spy.                     2\n",
       "Name: target, dtype: int64"
      ]
     },
     "execution_count": 338,
     "metadata": {},
     "output_type": "execute_result"
    }
   ],
   "source": [
    "df['target'].value_counts()"
   ]
  },
  {
   "cell_type": "code",
   "execution_count": 339,
   "metadata": {},
   "outputs": [],
   "source": [
    "# Make a copy or check point\n",
    "df_pre = df.copy()"
   ]
  },
  {
   "cell_type": "code",
   "execution_count": 340,
   "metadata": {},
   "outputs": [],
   "source": [
    "# encode the taget column\n",
    "# normal connects: '0', attack: '1'. \n",
    "df_pre['target'] = df_pre['target'].apply(lambda x: 0 if x == 'normal.' else 1)"
   ]
  },
  {
   "cell_type": "code",
   "execution_count": 341,
   "metadata": {},
   "outputs": [
    {
     "data": {
      "text/plain": [
       "1    396743\n",
       "0     97277\n",
       "Name: target, dtype: int64"
      ]
     },
     "execution_count": 341,
     "metadata": {},
     "output_type": "execute_result"
    }
   ],
   "source": [
    "df_pre['target'].value_counts()"
   ]
  },
  {
   "cell_type": "code",
   "execution_count": 342,
   "metadata": {},
   "outputs": [],
   "source": [
    "X = df_pre.drop('target',axis = 1)\n",
    "y = df_pre['target'].values"
   ]
  },
  {
   "cell_type": "code",
   "execution_count": 343,
   "metadata": {},
   "outputs": [],
   "source": [
    "# Scale the data\n",
    "from sklearn.preprocessing import MinMaxScaler\n",
    "scale = MinMaxScaler()\n",
    "X = scale.fit_transform(X)"
   ]
  },
  {
   "cell_type": "markdown",
   "metadata": {},
   "source": [
    "<a id='sect3'></a>"
   ]
  },
  {
   "cell_type": "markdown",
   "metadata": {},
   "source": [
    "## 3. PCA and TSNE for visualizing the data"
   ]
  },
  {
   "cell_type": "markdown",
   "metadata": {},
   "source": [
    "#### Using PCA to performe feature reduction on the data"
   ]
  },
  {
   "cell_type": "code",
   "execution_count": 344,
   "metadata": {},
   "outputs": [],
   "source": [
    "# Using PCA to performe dimensional reduction for the data\n",
    "from sklearn.decomposition import PCA"
   ]
  },
  {
   "cell_type": "code",
   "execution_count": 345,
   "metadata": {},
   "outputs": [],
   "source": [
    "from sklearn.preprocessing import MinMaxScaler\n",
    "scale = MinMaxScaler()\n",
    "X = scale.fit_transform(X)"
   ]
  },
  {
   "cell_type": "code",
   "execution_count": 346,
   "metadata": {},
   "outputs": [],
   "source": [
    "pca = PCA(n_components=2)\n",
    "pca = pca.fit(X)\n",
    "X_pca = pca.transform(X)\n",
    "X0_pca = X_pca[y==0]\n",
    "X1_pca = X_pca[y==1]"
   ]
  },
  {
   "cell_type": "code",
   "execution_count": 347,
   "metadata": {},
   "outputs": [
    {
     "data": {
      "text/plain": [
       "<matplotlib.collections.PathCollection at 0x1a6268af90>"
      ]
     },
     "execution_count": 347,
     "metadata": {},
     "output_type": "execute_result"
    },
    {
     "data": {
      "image/png": "[encoded data removed]",
      "text/plain": [
       "<Figure size 432x288 with 1 Axes>"
      ]
     },
     "metadata": {
      "needs_background": "light"
     },
     "output_type": "display_data"
    }
   ],
   "source": [
    "# Plot the data\n",
    "fig, ax = plt.subplots()\n",
    "\n",
    "ax.scatter(X0_pca[:,0],X0_pca[:,1],c='b')\n",
    "ax.scatter(X1_pca[:,0],X1_pca[:,1],c='r')"
   ]
  },
  {
   "cell_type": "markdown",
   "metadata": {},
   "source": [
    "#### Note: The PCA data does not totaly distinguish normal and attack connections"
   ]
  },
  {
   "cell_type": "markdown",
   "metadata": {},
   "source": [
    "#### Use TSNE"
   ]
  },
  {
   "cell_type": "code",
   "execution_count": 348,
   "metadata": {},
   "outputs": [
    {
     "name": "stdout",
     "output_type": "stream",
     "text": [
      "<class 'pandas.core.frame.DataFrame'>\n",
      "Int64Index: 49402 entries, 307287 to 270358\n",
      "Data columns (total 50 columns):\n",
      " #   Column    Non-Null Count  Dtype  \n",
      "---  ------    --------------  -----  \n",
      " 0   0         49402 non-null  int64  \n",
      " 1   181       49402 non-null  int64  \n",
      " 2   5450      49402 non-null  int64  \n",
      " 3   0.1       49402 non-null  int64  \n",
      " 4   0.2       49402 non-null  int64  \n",
      " 5   0.3       49402 non-null  int64  \n",
      " 6   0.4       49402 non-null  int64  \n",
      " 7   0.5       49402 non-null  int64  \n",
      " 8   1         49402 non-null  int64  \n",
      " 9   0.6       49402 non-null  int64  \n",
      " 10  0.7       49402 non-null  int64  \n",
      " 11  0.8       49402 non-null  int64  \n",
      " 12  0.9       49402 non-null  int64  \n",
      " 13  0.10      49402 non-null  int64  \n",
      " 14  0.11      49402 non-null  int64  \n",
      " 15  0.12      49402 non-null  int64  \n",
      " 16  0.13      49402 non-null  int64  \n",
      " 17  0.14      49402 non-null  int64  \n",
      " 18  0.15      49402 non-null  int64  \n",
      " 19  8         49402 non-null  int64  \n",
      " 20  8.1       49402 non-null  int64  \n",
      " 21  0.00      49402 non-null  float64\n",
      " 22  0.00.1    49402 non-null  float64\n",
      " 23  0.00.2    49402 non-null  float64\n",
      " 24  0.00.3    49402 non-null  float64\n",
      " 25  1.00      49402 non-null  float64\n",
      " 26  0.00.4    49402 non-null  float64\n",
      " 27  0.00.5    49402 non-null  float64\n",
      " 28  9         49402 non-null  int64  \n",
      " 29  9.1       49402 non-null  int64  \n",
      " 30  1.00.1    49402 non-null  float64\n",
      " 31  0.00.6    49402 non-null  float64\n",
      " 32  0.11.1    49402 non-null  float64\n",
      " 33  0.00.7    49402 non-null  float64\n",
      " 34  0.00.8    49402 non-null  float64\n",
      " 35  0.00.9    49402 non-null  float64\n",
      " 36  0.00.10   49402 non-null  float64\n",
      " 37  0.00.11   49402 non-null  float64\n",
      " 38  target    49402 non-null  object \n",
      " 39  icmp      49402 non-null  uint8  \n",
      " 40  tcp       49402 non-null  uint8  \n",
      " 41  udp       49402 non-null  uint8  \n",
      " 42  ecr_i     49402 non-null  uint8  \n",
      " 43  http      49402 non-null  uint8  \n",
      " 44  other     49402 non-null  uint8  \n",
      " 45  private   49402 non-null  uint8  \n",
      " 46  REJ       49402 non-null  uint8  \n",
      " 47  S0        49402 non-null  uint8  \n",
      " 48  SF        49402 non-null  uint8  \n",
      " 49  other_sf  49402 non-null  uint8  \n",
      "dtypes: float64(15), int64(23), object(1), uint8(11)\n",
      "memory usage: 15.6+ MB\n"
     ]
    }
   ],
   "source": [
    "# TSNE task is expensive so we here use only 10% of observations of the dataset \n",
    "df_tsne = df.sample(frac=0.1, replace=True)\n",
    "df_tsne.info()"
   ]
  },
  {
   "cell_type": "code",
   "execution_count": 349,
   "metadata": {},
   "outputs": [],
   "source": [
    "X = df_tsne.drop('target',axis = 1)\n",
    "y = df_tsne['target'].values"
   ]
  },
  {
   "cell_type": "code",
   "execution_count": 350,
   "metadata": {},
   "outputs": [],
   "source": [
    "# Normalize the data\n",
    "from sklearn.preprocessing import MinMaxScaler\n",
    "scale = MinMaxScaler()\n",
    "X = scale.fit_transform(X)"
   ]
  },
  {
   "cell_type": "code",
   "execution_count": 351,
   "metadata": {},
   "outputs": [],
   "source": [
    "# Apply PCA first\n",
    "pca = PCA(n_components=10)\n",
    "X_pca = pca.fit_transform(X)\n",
    "\n",
    "from sklearn.manifold import TSNE\n",
    "tsne = TSNE(n_components=2)\n",
    "X_tsne = tsne.fit_transform(X_pca)"
   ]
  },
  {
   "cell_type": "code",
   "execution_count": 352,
   "metadata": {},
   "outputs": [
    {
     "data": {
      "text/plain": [
       "array([[-16.95373  , -23.577103 ],\n",
       "       [-16.769793 , -23.73723  ],\n",
       "       [-18.91607  ,  11.506796 ],\n",
       "       ...,\n",
       "       [ 20.060482 ,  -1.4850118],\n",
       "       [ -5.433862 ,  54.599422 ],\n",
       "       [ -1.6525536,  -3.995393 ]], dtype=float32)"
      ]
     },
     "execution_count": 352,
     "metadata": {},
     "output_type": "execute_result"
    }
   ],
   "source": [
    "X_tsne"
   ]
  },
  {
   "cell_type": "code",
   "execution_count": 355,
   "metadata": {},
   "outputs": [
    {
     "data": {
      "text/plain": [
       "21"
      ]
     },
     "execution_count": 355,
     "metadata": {},
     "output_type": "execute_result"
    }
   ],
   "source": [
    "df_tsne['target'].nunique()"
   ]
  },
  {
   "cell_type": "code",
   "execution_count": 353,
   "metadata": {},
   "outputs": [],
   "source": [
    "yy = df_tsne['target'].values.reshape(len(X_tsne))"
   ]
  },
  {
   "cell_type": "code",
   "execution_count": 356,
   "metadata": {},
   "outputs": [
    {
     "name": "stderr",
     "output_type": "stream",
     "text": [
      "/Users/lamdoan/opt/anaconda3/lib/python3.7/site-packages/ipykernel_launcher.py:8: UserWarning: Matplotlib is currently using module://ipykernel.pylab.backend_inline, which is a non-GUI backend, so cannot show the figure.\n",
      "  \n"
     ]
    },
    {
     "data": {
      "image/png": "[encoded data removed]",
      "text/plain": [
       "<Figure size 1080x1080 with 1 Axes>"
      ]
     },
     "metadata": {
      "needs_background": "light"
     },
     "output_type": "display_data"
    }
   ],
   "source": [
    "fig, ax = plt.subplots(figsize=(15,15))\n",
    "for i, c in enumerate(set(yy)):\n",
    "    subXX = X_tsne[yy==c]\n",
    "    ax.scatter(subXX[:, 0], subXX[:, 1], marker=\"o.+*dsx|<^>12348D,pPhHX\"[i], label=\"Class {}\".format(c))\n",
    "ax.legend()\n",
    "ax.set_xlabel(\"Principal Component 1\")\n",
    "ax.set_ylabel(\"Principal Component 2\")\n",
    "fig.show()"
   ]
  },
  {
   "cell_type": "markdown",
   "metadata": {},
   "source": [
    "#### Note: The visulasation of TSNE data is much better than that of PCA in showing data clusters (normal and attack connections)"
   ]
  },
  {
   "cell_type": "markdown",
   "metadata": {},
   "source": [
    "<a id='sect4'></a>"
   ]
  },
  {
   "cell_type": "markdown",
   "metadata": {},
   "source": [
    "## 4. Differentiate 'normal' connections from 'attack' connections"
   ]
  },
  {
   "cell_type": "code",
   "execution_count": 357,
   "metadata": {},
   "outputs": [],
   "source": [
    "# Split the data in train and test sets\n",
    "from sklearn.model_selection import train_test_split\n",
    "X = df_pre.drop('target',axis = 1)\n",
    "y = df_pre['target']\n",
    "\n",
    "X_train, X_test, y_train, y_test = train_test_split(X, y, test_size=0.30, random_state=101)"
   ]
  },
  {
   "cell_type": "code",
   "execution_count": 358,
   "metadata": {},
   "outputs": [],
   "source": [
    "# Normalize the data\n",
    "from sklearn.preprocessing import MinMaxScaler\n",
    "scale = MinMaxScaler().fit(X_train)\n",
    "\n",
    "X_train = scale.transform(X_train)\n",
    "X_test = scale.transform(X_test)"
   ]
  },
  {
   "cell_type": "markdown",
   "metadata": {},
   "source": [
    "### Random forest model"
   ]
  },
  {
   "cell_type": "code",
   "execution_count": 359,
   "metadata": {},
   "outputs": [],
   "source": [
    "# Train model\n",
    "from sklearn.ensemble import RandomForestClassifier\n",
    "rfc = RandomForestClassifier(n_estimators=10).fit(X_train,y_train)"
   ]
  },
  {
   "cell_type": "code",
   "execution_count": 360,
   "metadata": {},
   "outputs": [
    {
     "name": "stdout",
     "output_type": "stream",
     "text": [
      "              precision    recall  f1-score   support\n",
      "\n",
      "           0       1.00      1.00      1.00     29341\n",
      "           1       1.00      1.00      1.00    118865\n",
      "\n",
      "    accuracy                           1.00    148206\n",
      "   macro avg       1.00      1.00      1.00    148206\n",
      "weighted avg       1.00      1.00      1.00    148206\n",
      "\n",
      "\n",
      "[[ 29332      9]\n",
      " [    37 118828]]\n"
     ]
    }
   ],
   "source": [
    "# predict and evaluate\n",
    "from sklearn.metrics import classification_report, confusion_matrix\n",
    "\n",
    "pred_rfc = rfc.predict(X_test)\n",
    "\n",
    "# evaluate the model\n",
    "print(classification_report(y_test,pred_rfc))\n",
    "print()\n",
    "print(confusion_matrix(y_test,pred_rfc))"
   ]
  },
  {
   "cell_type": "markdown",
   "metadata": {},
   "source": [
    "#### Note: The random forest model works well!"
   ]
  },
  {
   "cell_type": "code",
   "execution_count": 361,
   "metadata": {},
   "outputs": [],
   "source": [
    "# Feature importance\n",
    "fea_imp = pd.Series(rfc.feature_importances_,index=X.columns).sort_values(ascending=False)"
   ]
  },
  {
   "cell_type": "code",
   "execution_count": 362,
   "metadata": {},
   "outputs": [
    {
     "name": "stderr",
     "output_type": "stream",
     "text": [
      "No handles with labels found to put in legend.\n"
     ]
    },
    {
     "data": {
      "image/png": "[encoded data removed]",
      "text/plain": [
       "<Figure size 432x864 with 1 Axes>"
      ]
     },
     "metadata": {
      "needs_background": "light"
     },
     "output_type": "display_data"
    }
   ],
   "source": [
    "fig = plt.figure(figsize = (6,12))\n",
    "sns.barplot(x=fea_imp, y=fea_imp.index)\n",
    "# Add labels to your graph\n",
    "plt.xlabel('Feature Importance Score')\n",
    "plt.ylabel('Features')\n",
    "plt.title(\"Visualizing Important Features\")\n",
    "plt.legend()\n",
    "plt.show()"
   ]
  },
  {
   "cell_type": "markdown",
   "metadata": {},
   "source": [
    "#### We're gonna drop the unimportance feature"
   ]
  },
  {
   "cell_type": "markdown",
   "metadata": {},
   "source": [
    "### SVM model"
   ]
  },
  {
   "cell_type": "code",
   "execution_count": 363,
   "metadata": {},
   "outputs": [
    {
     "data": {
      "text/plain": [
       "Index(['0', '181', '5450', '0.1', '0.2', '0.3', '0.4', '0.5', '1', '0.6',\n",
       "       '0.7', '0.8', '0.9', '0.10', '0.11', '0.12', '0.13', '0.14', '0.15',\n",
       "       '8', '8.1', '0.00', '0.00.1', '0.00.2', '0.00.3', '1.00', '0.00.4',\n",
       "       '0.00.5', '9', '9.1', '1.00.1', '0.00.6', '0.11.1', '0.00.7', '0.00.8',\n",
       "       '0.00.9', '0.00.10', '0.00.11', 'target', 'icmp', 'tcp', 'udp', 'ecr_i',\n",
       "       'http', 'other', 'private', 'REJ', 'S0', 'SF', 'other_sf'],\n",
       "      dtype='object')"
      ]
     },
     "execution_count": 363,
     "metadata": {},
     "output_type": "execute_result"
    }
   ],
   "source": [
    "df_pre.columns"
   ]
  },
  {
   "cell_type": "code",
   "execution_count": 368,
   "metadata": {},
   "outputs": [],
   "source": [
    "df_red = df_pre[['181', '5450', '0.2', '0.4', '1', '0.6','8', '8.1', '0.00', \n",
    "                '0.00.1','0.00.5', '9', '9.1', '1.00.1', '0.00.6', '0.11.1', \n",
    "                '0.00.7','0.00.9', '0.00.11', 'target', 'icmp', 'udp', 'http', \n",
    "                'other', 'REJ', 'SF']]"
   ]
  },
  {
   "cell_type": "code",
   "execution_count": 369,
   "metadata": {},
   "outputs": [],
   "source": [
    "# Split the data in train and test sets\n",
    "X = df_red.drop('target',axis = 1)\n",
    "y = df_red['target']\n",
    "\n",
    "X_train, X_test, y_train, y_test = train_test_split(X, y, test_size=0.30, random_state=101)"
   ]
  },
  {
   "cell_type": "code",
   "execution_count": 370,
   "metadata": {},
   "outputs": [],
   "source": [
    "# Normalize the data\n",
    "from sklearn.preprocessing import MinMaxScaler\n",
    "scale = MinMaxScaler().fit(X_train)\n",
    "\n",
    "X_train = scale.transform(X_train)\n",
    "X_test = scale.transform(X_test)"
   ]
  },
  {
   "cell_type": "code",
   "execution_count": 371,
   "metadata": {},
   "outputs": [],
   "source": [
    "# Train the model\n",
    "from sklearn.svm import SVC\n",
    "svm = SVC().fit(X_train,y_train)"
   ]
  },
  {
   "cell_type": "code",
   "execution_count": 372,
   "metadata": {},
   "outputs": [
    {
     "name": "stdout",
     "output_type": "stream",
     "text": [
      "              precision    recall  f1-score   support\n",
      "\n",
      "           0       1.00      1.00      1.00     29341\n",
      "           1       1.00      1.00      1.00    118865\n",
      "\n",
      "    accuracy                           1.00    148206\n",
      "   macro avg       1.00      1.00      1.00    148206\n",
      "weighted avg       1.00      1.00      1.00    148206\n",
      "\n",
      "\n",
      "[[ 29277     64]\n",
      " [    82 118783]]\n"
     ]
    }
   ],
   "source": [
    "# Fit and evaluate\n",
    "# predict\n",
    "\n",
    "from sklearn.metrics import classification_report, confusion_matrix\n",
    "pred_svm = svm.predict(X_test)\n",
    "\n",
    "# evaluate the model\n",
    "print(classification_report(y_test,pred_svm))\n",
    "print()\n",
    "print(confusion_matrix(y_test,pred_svm))"
   ]
  },
  {
   "cell_type": "markdown",
   "metadata": {},
   "source": [
    "#### Note: The svm model works also well!"
   ]
  },
  {
   "cell_type": "markdown",
   "metadata": {},
   "source": [
    "### Artifacial neural network"
   ]
  },
  {
   "cell_type": "code",
   "execution_count": 376,
   "metadata": {},
   "outputs": [
    {
     "data": {
      "text/plain": [
       "(494020, 25)"
      ]
     },
     "execution_count": 376,
     "metadata": {},
     "output_type": "execute_result"
    }
   ],
   "source": [
    "X.shape"
   ]
  },
  {
   "cell_type": "code",
   "execution_count": 374,
   "metadata": {},
   "outputs": [],
   "source": [
    "# Import libraries\n",
    "from tensorflow.keras.models import Sequential\n",
    "from tensorflow.keras.layers import Dense, Activation, Dropout\n",
    "from tensorflow.keras.callbacks import EarlyStopping"
   ]
  },
  {
   "cell_type": "code",
   "execution_count": 375,
   "metadata": {},
   "outputs": [],
   "source": [
    "# create an earlystopping\n",
    "from tensorflow.keras.callbacks import EarlyStopping\n",
    "early_stop = EarlyStopping(monitor='val_loss', mode='min', verbose=1, patience=10)"
   ]
  },
  {
   "cell_type": "code",
   "execution_count": 378,
   "metadata": {},
   "outputs": [
    {
     "name": "stdout",
     "output_type": "stream",
     "text": [
      "Epoch 1/100\n",
      "10807/10807 [==============================] - 17s 2ms/step - loss: 0.1015 - val_loss: 0.0360\n",
      "Epoch 2/100\n",
      "10807/10807 [==============================] - 17s 2ms/step - loss: 0.0685 - val_loss: 0.0336\n",
      "Epoch 3/100\n",
      "10807/10807 [==============================] - 17s 2ms/step - loss: 0.0667 - val_loss: 0.0322\n",
      "Epoch 4/100\n",
      "10807/10807 [==============================] - 18s 2ms/step - loss: 0.0660 - val_loss: 0.0325\n",
      "Epoch 5/100\n",
      "10807/10807 [==============================] - 18s 2ms/step - loss: 0.0660 - val_loss: 0.0319\n",
      "Epoch 6/100\n",
      "10807/10807 [==============================] - 17s 2ms/step - loss: 0.0651 - val_loss: 0.0320\n",
      "Epoch 7/100\n",
      "10807/10807 [==============================] - 16s 1ms/step - loss: 0.0654 - val_loss: 0.0317\n",
      "Epoch 8/100\n",
      "10807/10807 [==============================] - 16s 1ms/step - loss: 0.0646 - val_loss: 0.0316\n",
      "Epoch 9/100\n",
      "10807/10807 [==============================] - 16s 1ms/step - loss: 0.0650 - val_loss: 0.0319\n",
      "Epoch 10/100\n",
      "10807/10807 [==============================] - 16s 1ms/step - loss: 0.0661 - val_loss: 0.0319\n",
      "Epoch 11/100\n",
      "10807/10807 [==============================] - 17s 2ms/step - loss: 0.0655 - val_loss: 0.0318\n",
      "Epoch 12/100\n",
      "10807/10807 [==============================] - 17s 2ms/step - loss: 0.0653 - val_loss: 0.0317\n",
      "Epoch 13/100\n",
      "10807/10807 [==============================] - 17s 2ms/step - loss: 0.0655 - val_loss: 0.0319\n",
      "Epoch 14/100\n",
      "10807/10807 [==============================] - 16s 1ms/step - loss: 0.0655 - val_loss: 0.0320\n",
      "Epoch 15/100\n",
      "10807/10807 [==============================] - 16s 1ms/step - loss: 0.0638 - val_loss: 0.0308\n",
      "Epoch 16/100\n",
      "10807/10807 [==============================] - 16s 1ms/step - loss: 0.0651 - val_loss: 0.0315\n",
      "Epoch 17/100\n",
      "10807/10807 [==============================] - 16s 1ms/step - loss: 0.0649 - val_loss: 0.0322\n",
      "Epoch 18/100\n",
      "10807/10807 [==============================] - 17s 2ms/step - loss: 0.0642 - val_loss: 0.0314\n",
      "Epoch 19/100\n",
      "10807/10807 [==============================] - 18s 2ms/step - loss: 0.0654 - val_loss: 0.0322\n",
      "Epoch 20/100\n",
      "10807/10807 [==============================] - 22s 2ms/step - loss: 0.0641 - val_loss: 0.0273\n",
      "Epoch 21/100\n",
      "10807/10807 [==============================] - 21s 2ms/step - loss: 0.0629 - val_loss: 0.0247\n",
      "Epoch 22/100\n",
      "10807/10807 [==============================] - 23s 2ms/step - loss: 0.0614 - val_loss: 0.0235\n",
      "Epoch 23/100\n",
      "10807/10807 [==============================] - 21s 2ms/step - loss: 0.0616 - val_loss: 0.0226\n",
      "Epoch 24/100\n",
      "10807/10807 [==============================] - 21s 2ms/step - loss: 0.0602 - val_loss: 0.0216\n",
      "Epoch 25/100\n",
      "10807/10807 [==============================] - 22s 2ms/step - loss: 0.0615 - val_loss: 0.0219\n",
      "Epoch 26/100\n",
      "10807/10807 [==============================] - 19s 2ms/step - loss: 0.0607 - val_loss: 0.0225\n",
      "Epoch 27/100\n",
      "10807/10807 [==============================] - 21s 2ms/step - loss: 0.0599 - val_loss: 0.0213\n",
      "Epoch 28/100\n",
      "10807/10807 [==============================] - 21s 2ms/step - loss: 0.0592 - val_loss: 0.0205\n",
      "Epoch 29/100\n",
      "10807/10807 [==============================] - 20s 2ms/step - loss: 0.0594 - val_loss: 0.0211\n",
      "Epoch 30/100\n",
      "10807/10807 [==============================] - 19s 2ms/step - loss: 0.0606 - val_loss: 0.0227\n",
      "Epoch 31/100\n",
      "10807/10807 [==============================] - 17s 2ms/step - loss: 0.0599 - val_loss: 0.0206\n",
      "Epoch 32/100\n",
      "10807/10807 [==============================] - 17s 2ms/step - loss: 0.0604 - val_loss: 0.0208\n",
      "Epoch 33/100\n",
      "10807/10807 [==============================] - 17s 2ms/step - loss: 0.0593 - val_loss: 0.0206\n",
      "Epoch 34/100\n",
      "10807/10807 [==============================] - 25s 2ms/step - loss: 0.0598 - val_loss: 0.0202\n",
      "Epoch 35/100\n",
      "10807/10807 [==============================] - 21s 2ms/step - loss: 0.0607 - val_loss: 0.0201\n",
      "Epoch 36/100\n",
      "10807/10807 [==============================] - 20s 2ms/step - loss: 0.0603 - val_loss: 0.0232\n",
      "Epoch 37/100\n",
      "10807/10807 [==============================] - 25s 2ms/step - loss: 0.0598 - val_loss: 0.0217\n",
      "Epoch 38/100\n",
      "10807/10807 [==============================] - 23s 2ms/step - loss: 0.0608 - val_loss: 0.0207\n",
      "Epoch 39/100\n",
      "10807/10807 [==============================] - 21s 2ms/step - loss: 0.0600 - val_loss: 0.0209\n",
      "Epoch 40/100\n",
      "10807/10807 [==============================] - 17s 2ms/step - loss: 0.0593 - val_loss: 0.0195\n",
      "Epoch 41/100\n",
      "10807/10807 [==============================] - 18s 2ms/step - loss: 0.0608 - val_loss: 0.0203\n",
      "Epoch 42/100\n",
      "10807/10807 [==============================] - 17s 2ms/step - loss: 0.0604 - val_loss: 0.0202\n",
      "Epoch 43/100\n",
      "10807/10807 [==============================] - 16s 1ms/step - loss: 0.0594 - val_loss: 0.0204\n",
      "Epoch 44/100\n",
      "10807/10807 [==============================] - 17s 2ms/step - loss: 0.0611 - val_loss: 0.0205\n",
      "Epoch 45/100\n",
      "10807/10807 [==============================] - 24s 2ms/step - loss: 0.0606 - val_loss: 0.0209\n",
      "Epoch 46/100\n",
      "10807/10807 [==============================] - 18s 2ms/step - loss: 0.0604 - val_loss: 0.0206\n",
      "Epoch 47/100\n",
      "10807/10807 [==============================] - 40s 4ms/step - loss: 0.0597 - val_loss: 0.0206\n",
      "Epoch 48/100\n",
      "10807/10807 [==============================] - 17s 2ms/step - loss: 0.0600 - val_loss: 0.0197\n",
      "Epoch 49/100\n",
      "10807/10807 [==============================] - 29s 3ms/step - loss: 0.0607 - val_loss: 0.0212\n",
      "Epoch 50/100\n",
      "10807/10807 [==============================] - 20s 2ms/step - loss: 0.0595 - val_loss: 0.0202\n",
      "Epoch 00050: early stopping\n"
     ]
    },
    {
     "data": {
      "text/plain": [
       "<tensorflow.python.keras.callbacks.History at 0x1a62901810>"
      ]
     },
     "execution_count": 378,
     "metadata": {},
     "output_type": "execute_result"
    }
   ],
   "source": [
    "# create a model with Dropout\n",
    "ann = Sequential()\n",
    "\n",
    "ann.add(Dense(units = 25, activation = 'relu'))\n",
    "ann.add(Dropout(0.5))\n",
    "ann.add(Dense(units = 12, activation = 'relu'))\n",
    "ann.add(Dropout(0.5))\n",
    "ann.add(Dense(units = 6, activation = 'relu'))\n",
    "ann.add(Dropout(0.5))\n",
    "\n",
    "ann.add(Dense(units = 1, activation = 'sigmoid'))\n",
    "ann.compile(loss='binary_crossentropy', optimizer='adam')\n",
    "\n",
    "# Train the model \n",
    "ann.fit(X_train,y_train,\n",
    "         epochs = 100,\n",
    "         validation_data=(X_test, y_test), verbose=1,\n",
    "         callbacks=[early_stop])"
   ]
  },
  {
   "cell_type": "code",
   "execution_count": 379,
   "metadata": {},
   "outputs": [
    {
     "data": {
      "text/plain": [
       "<matplotlib.axes._subplots.AxesSubplot at 0x1a62913990>"
      ]
     },
     "execution_count": 379,
     "metadata": {},
     "output_type": "execute_result"
    },
    {
     "data": {
      "image/png": "[encoded data removed]",
      "text/plain": [
       "<Figure size 432x288 with 1 Axes>"
      ]
     },
     "metadata": {
      "needs_background": "light"
     },
     "output_type": "display_data"
    }
   ],
   "source": [
    "# Plot the model loss\n",
    "model_loss = pd.DataFrame(ann.history.history)\n",
    "model_loss.plot()"
   ]
  },
  {
   "cell_type": "code",
   "execution_count": 380,
   "metadata": {},
   "outputs": [
    {
     "name": "stdout",
     "output_type": "stream",
     "text": [
      "              precision    recall  f1-score   support\n",
      "\n",
      "           0       1.00      1.00      1.00     29341\n",
      "           1       1.00      1.00      1.00    118865\n",
      "\n",
      "    accuracy                           1.00    148206\n",
      "   macro avg       1.00      1.00      1.00    148206\n",
      "weighted avg       1.00      1.00      1.00    148206\n",
      "\n",
      "\n",
      "[[ 29316     25]\n",
      " [   105 118760]]\n"
     ]
    }
   ],
   "source": [
    "# predict\n",
    "pred_ann = ann.predict_classes(X_test)\n",
    "\n",
    "# evaluate\n",
    "print(classification_report(y_test,pred_ann))\n",
    "print()\n",
    "print(confusion_matrix(y_test,pred_ann))"
   ]
  },
  {
   "cell_type": "markdown",
   "metadata": {},
   "source": [
    "#### The ANN model is good. "
   ]
  },
  {
   "cell_type": "markdown",
   "metadata": {},
   "source": [
    "<a id='sect5'></a>"
   ]
  },
  {
   "cell_type": "markdown",
   "metadata": {},
   "source": [
    "# 5. Predict the actual label: Normal and distinct types of attack"
   ]
  },
  {
   "cell_type": "markdown",
   "metadata": {},
   "source": [
    "## Random forest for multiple classification"
   ]
  },
  {
   "cell_type": "code",
   "execution_count": 381,
   "metadata": {},
   "outputs": [],
   "source": [
    "# Create a data set with the important features\n",
    "df_m = df[['181', '5450', '0.2', '0.4', '1', '0.6','8', '8.1', '0.00', \n",
    "                '0.00.1','0.00.5', '9', '9.1', '1.00.1', '0.00.6', '0.11.1', \n",
    "                '0.00.7','0.00.9', '0.00.11', 'target', 'icmp', 'udp', 'http', \n",
    "                'other', 'REJ', 'SF']]"
   ]
  },
  {
   "cell_type": "code",
   "execution_count": 382,
   "metadata": {},
   "outputs": [
    {
     "name": "stdout",
     "output_type": "stream",
     "text": [
      "0    0\n",
      "1    0\n",
      "2    0\n",
      "3    0\n",
      "4    0\n",
      "Name: target, dtype: int64\n",
      "\n",
      "Index(['normal.', 'buffer_overflow.', 'loadmodule.', 'perl.', 'neptune.',\n",
      "       'smurf.', 'guess_passwd.', 'pod.', 'teardrop.', 'portsweep.',\n",
      "       'ipsweep.', 'land.', 'ftp_write.', 'back.', 'imap.', 'satan.', 'phf.',\n",
      "       'nmap.', 'multihop.', 'warezmaster.', 'warezclient.', 'spy.',\n",
      "       'rootkit.'],\n",
      "      dtype='object')\n"
     ]
    },
    {
     "name": "stderr",
     "output_type": "stream",
     "text": [
      "/Users/lamdoan/opt/anaconda3/lib/python3.7/site-packages/pandas/core/generic.py:5303: SettingWithCopyWarning: \n",
      "A value is trying to be set on a copy of a slice from a DataFrame.\n",
      "Try using .loc[row_indexer,col_indexer] = value instead\n",
      "\n",
      "See the caveats in the documentation: https://pandas.pydata.org/pandas-docs/stable/user_guide/indexing.html#returning-a-view-versus-a-copy\n",
      "  self[name] = value\n"
     ]
    }
   ],
   "source": [
    "#Creating the dependent variable class\n",
    "factor = pd.factorize(df_m['target'])\n",
    "df_m.target = factor[0]\n",
    "definitions = factor[1]\n",
    "print(df_m.target.head())\n",
    "print()\n",
    "print(definitions)"
   ]
  },
  {
   "cell_type": "code",
   "execution_count": 383,
   "metadata": {},
   "outputs": [
    {
     "data": {
      "text/plain": [
       "array([ 0,  1,  2,  3,  4,  5,  6,  7,  8,  9, 10, 11, 12, 13, 14, 15, 16,\n",
       "       17, 18, 19, 20, 21, 22])"
      ]
     },
     "execution_count": 383,
     "metadata": {},
     "output_type": "execute_result"
    }
   ],
   "source": [
    "df_m.target.unique()"
   ]
  },
  {
   "cell_type": "code",
   "execution_count": 384,
   "metadata": {},
   "outputs": [],
   "source": [
    "X = df_m.drop('target',axis = 1)\n",
    "y = df_m['target']\n",
    "\n",
    "X_train, X_test, y_train, y_test = train_test_split(X, y, test_size=0.30, random_state=101)"
   ]
  },
  {
   "cell_type": "code",
   "execution_count": 385,
   "metadata": {},
   "outputs": [],
   "source": [
    "from sklearn.preprocessing import MinMaxScaler\n",
    "scale = MinMaxScaler().fit(X_train)\n",
    "\n",
    "X_train = scale.transform(X_train)\n",
    "X_test = scale.transform(X_test)"
   ]
  },
  {
   "cell_type": "code",
   "execution_count": 386,
   "metadata": {},
   "outputs": [
    {
     "data": {
      "text/plain": [
       "RandomForestClassifier(bootstrap=True, ccp_alpha=0.0, class_weight=None,\n",
       "                       criterion='entropy', max_depth=None, max_features='auto',\n",
       "                       max_leaf_nodes=None, max_samples=None,\n",
       "                       min_impurity_decrease=0.0, min_impurity_split=None,\n",
       "                       min_samples_leaf=1, min_samples_split=2,\n",
       "                       min_weight_fraction_leaf=0.0, n_estimators=10,\n",
       "                       n_jobs=None, oob_score=False, random_state=42, verbose=0,\n",
       "                       warm_start=False)"
      ]
     },
     "execution_count": 386,
     "metadata": {},
     "output_type": "execute_result"
    }
   ],
   "source": [
    "# Train the model\n",
    "classifier = RandomForestClassifier(n_estimators = 10, criterion = 'entropy', random_state = 42)\n",
    "classifier.fit(X_train, y_train)"
   ]
  },
  {
   "cell_type": "code",
   "execution_count": 387,
   "metadata": {},
   "outputs": [],
   "source": [
    "# predict\n",
    "pred_mclass = classifier.predict(X_test)"
   ]
  },
  {
   "cell_type": "code",
   "execution_count": 388,
   "metadata": {},
   "outputs": [
    {
     "name": "stdout",
     "output_type": "stream",
     "text": [
      "Predicted Species  back.  buffer_overflow.  guess_passwd.  imap.  ipsweep.  \\\n",
      "Actual                                                                       \n",
      "back.                656                 0              0      0         0   \n",
      "buffer_overflow.       0                 6              0      0         0   \n",
      "ftp_write.             0                 0              0      0         0   \n",
      "guess_passwd.          0                 0             14      0         0   \n",
      "imap.                  0                 0              0      3         0   \n",
      "ipsweep.               0                 0              0      0       372   \n",
      "land.                  0                 0              0      0         0   \n",
      "loadmodule.            0                 0              0      0         0   \n",
      "neptune.               0                 0              0      0         0   \n",
      "nmap.                  0                 0              0      0         0   \n",
      "normal.                0                 0              0      0         0   \n",
      "phf.                   0                 0              0      0         0   \n",
      "pod.                   0                 0              0      0         0   \n",
      "portsweep.             0                 0              0      0         1   \n",
      "rootkit.               0                 0              0      0         0   \n",
      "satan.                 0                 0              0      0         0   \n",
      "smurf.                 0                 0              0      0         0   \n",
      "teardrop.              0                 0              0      0         0   \n",
      "warezclient.           0                 0              0      0         0   \n",
      "warezmaster.           0                 0              0      0         0   \n",
      "\n",
      "Predicted Species  land.  multihop.  neptune.  nmap.  normal.  phf.  pod.  \\\n",
      "Actual                                                                      \n",
      "back.                  0          0         0      0        3     0     0   \n",
      "buffer_overflow.       0          0         0      0        1     0     0   \n",
      "ftp_write.             0          0         0      0        2     0     0   \n",
      "guess_passwd.          0          0         0      0        1     0     0   \n",
      "imap.                  0          0         1      0        1     0     0   \n",
      "ipsweep.               0          0         0      0        2     0     0   \n",
      "land.                  5          0         1      0        0     0     0   \n",
      "loadmodule.            0          0         0      0        3     0     0   \n",
      "neptune.               0          0     31801      0        0     0     0   \n",
      "nmap.                  0          0         0     62        4     0     0   \n",
      "normal.                0          0         3      1    29333     0     1   \n",
      "phf.                   0          0         0      0        0     1     0   \n",
      "pod.                   0          0         0      0        2     0    89   \n",
      "portsweep.             0          0         0      1        1     0     0   \n",
      "rootkit.               0          1         0      0        4     0     0   \n",
      "satan.                 0          0         3      0        5     0     0   \n",
      "smurf.                 0          0         0      0        1     0     0   \n",
      "teardrop.              0          0         0      0        0     0     0   \n",
      "warezclient.           0          0         0      0        6     0     0   \n",
      "warezmaster.           0          1         0      0        2     0     0   \n",
      "\n",
      "Predicted Species  portsweep.  satan.  smurf.  teardrop.  warezclient.  \\\n",
      "Actual                                                                   \n",
      "back.                       0       0       0          0             0   \n",
      "buffer_overflow.            0       0       0          0             0   \n",
      "ftp_write.                  0       0       0          0             0   \n",
      "guess_passwd.               0       0       0          0             0   \n",
      "imap.                       0       0       0          0             0   \n",
      "ipsweep.                    0       0       0          0             0   \n",
      "land.                       0       0       0          0             0   \n",
      "loadmodule.                 0       0       0          0             0   \n",
      "neptune.                    1       0       0          0             0   \n",
      "nmap.                       0       0       0          0             0   \n",
      "normal.                     0       0       0          0             3   \n",
      "phf.                        0       0       0          0             0   \n",
      "pod.                        0       0       0          0             0   \n",
      "portsweep.                335       0       0          0             0   \n",
      "rootkit.                    0       0       0          0             0   \n",
      "satan.                      0     476       0          0             0   \n",
      "smurf.                      0       0   84396          0             0   \n",
      "teardrop.                   0       0       0        294             0   \n",
      "warezclient.                0       0       0          0           302   \n",
      "warezmaster.                0       0       0          0             0   \n",
      "\n",
      "Predicted Species  warezmaster.  \n",
      "Actual                           \n",
      "back.                         0  \n",
      "buffer_overflow.              0  \n",
      "ftp_write.                    0  \n",
      "guess_passwd.                 0  \n",
      "imap.                         0  \n",
      "ipsweep.                      0  \n",
      "land.                         0  \n",
      "loadmodule.                   0  \n",
      "neptune.                      0  \n",
      "nmap.                         0  \n",
      "normal.                       0  \n",
      "phf.                          0  \n",
      "pod.                          0  \n",
      "portsweep.                    0  \n",
      "rootkit.                      0  \n",
      "satan.                        0  \n",
      "smurf.                        0  \n",
      "teardrop.                     0  \n",
      "warezclient.                  0  \n",
      "warezmaster.                  5  \n"
     ]
    }
   ],
   "source": [
    "#Reverse factorize (converting y_pred from 0s, 1s and 2s to Iris-setosa, Iris-versicolor and Iris-virginica\n",
    "reversefactor = dict(zip(range(23),definitions))\n",
    "y_test = np.vectorize(reversefactor.get)(y_test)\n",
    "pred_mclass = np.vectorize(reversefactor.get)(pred_mclass)\n",
    "# Making the Confusion Matrix\n",
    "print(pd.crosstab(y_test, pred_mclass, rownames=['Actual'], colnames=['Predicted Species']))"
   ]
  },
  {
   "cell_type": "code",
   "execution_count": 389,
   "metadata": {},
   "outputs": [
    {
     "name": "stderr",
     "output_type": "stream",
     "text": [
      "/Users/lamdoan/opt/anaconda3/lib/python3.7/site-packages/sklearn/metrics/_classification.py:1272: UndefinedMetricWarning: Precision and F-score are ill-defined and being set to 0.0 in labels with no predicted samples. Use `zero_division` parameter to control this behavior.\n",
      "  _warn_prf(average, modifier, msg_start, len(result))\n",
      "/Users/lamdoan/opt/anaconda3/lib/python3.7/site-packages/sklearn/metrics/_classification.py:1272: UndefinedMetricWarning: Recall and F-score are ill-defined and being set to 0.0 in labels with no true samples. Use `zero_division` parameter to control this behavior.\n",
      "  _warn_prf(average, modifier, msg_start, len(result))\n"
     ]
    },
    {
     "name": "stdout",
     "output_type": "stream",
     "text": [
      "                  precision    recall  f1-score   support\n",
      "\n",
      "           back.       1.00      1.00      1.00       659\n",
      "buffer_overflow.       1.00      0.86      0.92         7\n",
      "      ftp_write.       0.00      0.00      0.00         2\n",
      "   guess_passwd.       1.00      0.93      0.97        15\n",
      "           imap.       1.00      0.60      0.75         5\n",
      "        ipsweep.       1.00      0.99      1.00       374\n",
      "           land.       1.00      0.83      0.91         6\n",
      "     loadmodule.       0.00      0.00      0.00         3\n",
      "       multihop.       0.00      0.00      0.00         0\n",
      "        neptune.       1.00      1.00      1.00     31802\n",
      "           nmap.       0.97      0.94      0.95        66\n",
      "         normal.       1.00      1.00      1.00     29341\n",
      "            phf.       1.00      1.00      1.00         1\n",
      "            pod.       0.99      0.98      0.98        91\n",
      "      portsweep.       1.00      0.99      0.99       338\n",
      "        rootkit.       0.00      0.00      0.00         5\n",
      "          satan.       1.00      0.98      0.99       484\n",
      "          smurf.       1.00      1.00      1.00     84397\n",
      "       teardrop.       1.00      1.00      1.00       294\n",
      "    warezclient.       0.99      0.98      0.99       308\n",
      "    warezmaster.       1.00      0.62      0.77         8\n",
      "\n",
      "        accuracy                           1.00    148206\n",
      "       macro avg       0.81      0.75      0.77    148206\n",
      "    weighted avg       1.00      1.00      1.00    148206\n",
      "\n",
      "\n",
      "[[  656     0     0     0     0     0     0     0     0     0     0     3\n",
      "      0     0     0     0     0     0     0     0     0]\n",
      " [    0     6     0     0     0     0     0     0     0     0     0     1\n",
      "      0     0     0     0     0     0     0     0     0]\n",
      " [    0     0     0     0     0     0     0     0     0     0     0     2\n",
      "      0     0     0     0     0     0     0     0     0]\n",
      " [    0     0     0    14     0     0     0     0     0     0     0     1\n",
      "      0     0     0     0     0     0     0     0     0]\n",
      " [    0     0     0     0     3     0     0     0     0     1     0     1\n",
      "      0     0     0     0     0     0     0     0     0]\n",
      " [    0     0     0     0     0   372     0     0     0     0     0     2\n",
      "      0     0     0     0     0     0     0     0     0]\n",
      " [    0     0     0     0     0     0     5     0     0     1     0     0\n",
      "      0     0     0     0     0     0     0     0     0]\n",
      " [    0     0     0     0     0     0     0     0     0     0     0     3\n",
      "      0     0     0     0     0     0     0     0     0]\n",
      " [    0     0     0     0     0     0     0     0     0     0     0     0\n",
      "      0     0     0     0     0     0     0     0     0]\n",
      " [    0     0     0     0     0     0     0     0     0 31801     0     0\n",
      "      0     0     1     0     0     0     0     0     0]\n",
      " [    0     0     0     0     0     0     0     0     0     0    62     4\n",
      "      0     0     0     0     0     0     0     0     0]\n",
      " [    0     0     0     0     0     0     0     0     0     3     1 29333\n",
      "      0     1     0     0     0     0     0     3     0]\n",
      " [    0     0     0     0     0     0     0     0     0     0     0     0\n",
      "      1     0     0     0     0     0     0     0     0]\n",
      " [    0     0     0     0     0     0     0     0     0     0     0     2\n",
      "      0    89     0     0     0     0     0     0     0]\n",
      " [    0     0     0     0     0     1     0     0     0     0     1     1\n",
      "      0     0   335     0     0     0     0     0     0]\n",
      " [    0     0     0     0     0     0     0     0     1     0     0     4\n",
      "      0     0     0     0     0     0     0     0     0]\n",
      " [    0     0     0     0     0     0     0     0     0     3     0     5\n",
      "      0     0     0     0   476     0     0     0     0]\n",
      " [    0     0     0     0     0     0     0     0     0     0     0     1\n",
      "      0     0     0     0     0 84396     0     0     0]\n",
      " [    0     0     0     0     0     0     0     0     0     0     0     0\n",
      "      0     0     0     0     0     0   294     0     0]\n",
      " [    0     0     0     0     0     0     0     0     0     0     0     6\n",
      "      0     0     0     0     0     0     0   302     0]\n",
      " [    0     0     0     0     0     0     0     0     1     0     0     2\n",
      "      0     0     0     0     0     0     0     0     5]]\n"
     ]
    }
   ],
   "source": [
    "# evaluate\n",
    "print(classification_report(y_test,pred_mclass))\n",
    "print()\n",
    "print(confusion_matrix(y_test,pred_mclass))"
   ]
  },
  {
   "cell_type": "markdown",
   "metadata": {},
   "source": [
    "#### the results looks good"
   ]
  },
  {
   "cell_type": "markdown",
   "metadata": {},
   "source": [
    "## ANN for multiple classification"
   ]
  },
  {
   "cell_type": "code",
   "execution_count": 390,
   "metadata": {},
   "outputs": [
    {
     "name": "stderr",
     "output_type": "stream",
     "text": [
      "/Users/lamdoan/opt/anaconda3/lib/python3.7/site-packages/pandas/core/generic.py:5303: SettingWithCopyWarning: \n",
      "A value is trying to be set on a copy of a slice from a DataFrame.\n",
      "Try using .loc[row_indexer,col_indexer] = value instead\n",
      "\n",
      "See the caveats in the documentation: https://pandas.pydata.org/pandas-docs/stable/user_guide/indexing.html#returning-a-view-versus-a-copy\n",
      "  self[name] = value\n"
     ]
    },
    {
     "name": "stdout",
     "output_type": "stream",
     "text": [
      "0    0\n",
      "1    0\n",
      "2    0\n",
      "3    0\n",
      "4    0\n",
      "Name: target, dtype: int64\n",
      "\n",
      "Index(['normal.', 'buffer_overflow.', 'loadmodule.', 'perl.', 'neptune.',\n",
      "       'smurf.', 'guess_passwd.', 'pod.', 'teardrop.', 'portsweep.',\n",
      "       'ipsweep.', 'land.', 'ftp_write.', 'back.', 'imap.', 'satan.', 'phf.',\n",
      "       'nmap.', 'multihop.', 'warezmaster.', 'warezclient.', 'spy.',\n",
      "       'rootkit.'],\n",
      "      dtype='object')\n"
     ]
    }
   ],
   "source": [
    "# Create a data set with the important features\n",
    "df_m = df[['181', '5450', '0.2', '0.4', '1', '0.6','8', '8.1', '0.00', \n",
    "                '0.00.1','0.00.5', '9', '9.1', '1.00.1', '0.00.6', '0.11.1', \n",
    "                '0.00.7','0.00.9', '0.00.11', 'target', 'icmp', 'udp', 'http', \n",
    "                'other', 'REJ', 'SF']]\n",
    "\n",
    "#Creating the dependent variable class\n",
    "factor = pd.factorize(df_m['target'])\n",
    "df_m.target = factor[0]\n",
    "definitions = factor[1]\n",
    "print(df_m.target.head())\n",
    "print()\n",
    "print(definitions)\n",
    "\n",
    "###\n",
    "X = df_m.drop('target',axis = 1)\n",
    "y = df_m['target']\n",
    "\n",
    "X_train, X_test, y_train, y_test = train_test_split(X, y, test_size=0.30, random_state=101)\n",
    "\n",
    "###\n",
    "\n",
    "from sklearn.preprocessing import MinMaxScaler\n",
    "scale = MinMaxScaler().fit(X_train)\n",
    "\n",
    "X_train = scale.transform(X_train)\n",
    "X_test = scale.transform(X_test)"
   ]
  },
  {
   "cell_type": "code",
   "execution_count": 391,
   "metadata": {},
   "outputs": [],
   "source": [
    "# One-Hot categorical encoding of the labels is to use the built-in function.\n",
    "from tensorflow.keras.utils import to_categorical\n",
    "\n",
    "y_train = to_categorical(y_train)\n",
    "y_test  = to_categorical(y_test)"
   ]
  },
  {
   "cell_type": "code",
   "execution_count": 392,
   "metadata": {},
   "outputs": [
    {
     "data": {
      "text/plain": [
       "(345814, 25)"
      ]
     },
     "execution_count": 392,
     "metadata": {},
     "output_type": "execute_result"
    }
   ],
   "source": [
    "X_train.shape"
   ]
  },
  {
   "cell_type": "code",
   "execution_count": 194,
   "metadata": {},
   "outputs": [
    {
     "data": {
      "text/plain": [
       "(345814, 23)"
      ]
     },
     "execution_count": 194,
     "metadata": {},
     "output_type": "execute_result"
    }
   ],
   "source": [
    "y_train.shape"
   ]
  },
  {
   "cell_type": "code",
   "execution_count": 393,
   "metadata": {},
   "outputs": [
    {
     "name": "stdout",
     "output_type": "stream",
     "text": [
      "Epoch 1/50\n",
      "10807/10807 - 13s - loss: 0.0987 - accuracy: 0.9783 - val_loss: 0.0273 - val_accuracy: 0.9917\n",
      "Epoch 2/50\n",
      "10807/10807 - 13s - loss: 0.0389 - accuracy: 0.9881 - val_loss: 0.0186 - val_accuracy: 0.9931\n",
      "Epoch 3/50\n",
      "10807/10807 - 18s - loss: 0.0289 - accuracy: 0.9912 - val_loss: 0.0173 - val_accuracy: 0.9959\n",
      "Epoch 4/50\n",
      "10807/10807 - 17s - loss: 0.0251 - accuracy: 0.9926 - val_loss: 0.0171 - val_accuracy: 0.9979\n",
      "Epoch 5/50\n",
      "10807/10807 - 14s - loss: 0.0226 - accuracy: 0.9935 - val_loss: 0.0186 - val_accuracy: 0.9981\n",
      "Epoch 6/50\n",
      "10807/10807 - 13s - loss: 0.0217 - accuracy: 0.9939 - val_loss: 0.0210 - val_accuracy: 0.9982\n",
      "Epoch 7/50\n",
      "10807/10807 - 13s - loss: 0.0205 - accuracy: 0.9944 - val_loss: 0.0236 - val_accuracy: 0.9983\n",
      "Epoch 8/50\n",
      "10807/10807 - 12s - loss: 0.0196 - accuracy: 0.9947 - val_loss: 0.0266 - val_accuracy: 0.9983\n",
      "Epoch 9/50\n",
      "10807/10807 - 12s - loss: 0.0188 - accuracy: 0.9948 - val_loss: 0.0276 - val_accuracy: 0.9985\n",
      "Epoch 00009: early stopping\n"
     ]
    },
    {
     "data": {
      "text/plain": [
       "<tensorflow.python.keras.callbacks.History at 0x1a5d894410>"
      ]
     },
     "execution_count": 393,
     "metadata": {},
     "output_type": "execute_result"
    }
   ],
   "source": [
    "# create an earlystopping\n",
    "from tensorflow.keras.callbacks import EarlyStopping\n",
    "early_stop = EarlyStopping(monitor='val_loss', mode='min', verbose=1, patience=5)\n",
    "\n",
    "# create a model with Dropout\n",
    "ann_m = Sequential()\n",
    "\n",
    "ann_m.add(Dense(units = 25, activation = 'relu'))\n",
    "ann_m.add(Dropout(0.5))\n",
    "#ann_m.add(Dense(units = 49, activation = 'relu'))\n",
    "#ann_m.add(Dropout(0.5))\n",
    "\n",
    "ann_m.add(Dense(units = 23, activation = 'softmax'))\n",
    "\n",
    "ann_m.compile(loss='categorical_crossentropy', optimizer='adam',metrics=['accuracy'])\n",
    "\n",
    "# Train the model \n",
    "ann_m.fit(X_train,y_train,\n",
    "         epochs = 50,\n",
    "         validation_data=(X_test, y_test), verbose=2,\n",
    "         callbacks=[early_stop])"
   ]
  },
  {
   "cell_type": "code",
   "execution_count": 394,
   "metadata": {},
   "outputs": [
    {
     "data": {
      "text/plain": [
       "<matplotlib.axes._subplots.AxesSubplot at 0x1a5d87b510>"
      ]
     },
     "execution_count": 394,
     "metadata": {},
     "output_type": "execute_result"
    },
    {
     "data": {
      "image/png": "[encoded data removed]",
      "text/plain": [
       "<Figure size 432x288 with 1 Axes>"
      ]
     },
     "metadata": {
      "needs_background": "light"
     },
     "output_type": "display_data"
    }
   ],
   "source": [
    "# Plot the loss of the model\n",
    "model_loss = pd.DataFrame(ann_m.history.history)\n",
    "model_loss.plot()"
   ]
  },
  {
   "cell_type": "code",
   "execution_count": 395,
   "metadata": {},
   "outputs": [
    {
     "data": {
      "text/plain": [
       "0.9985155796661404"
      ]
     },
     "execution_count": 395,
     "metadata": {},
     "output_type": "execute_result"
    }
   ],
   "source": [
    "# predict\n",
    "from sklearn.metrics import accuracy_score\n",
    "\n",
    "pred_ann_m = ann_m.predict(X_test)\n",
    "pred_ann_m = np.argmax(pred_ann_m, axis=1)\n",
    "pred_ann_m\n",
    "accuracy_score(np.argmax(y_test, axis=1), pred_ann_m)"
   ]
  },
  {
   "cell_type": "code",
   "execution_count": 396,
   "metadata": {},
   "outputs": [
    {
     "name": "stderr",
     "output_type": "stream",
     "text": [
      "/Users/lamdoan/opt/anaconda3/lib/python3.7/site-packages/sklearn/metrics/_classification.py:1272: UndefinedMetricWarning: Precision and F-score are ill-defined and being set to 0.0 in labels with no predicted samples. Use `zero_division` parameter to control this behavior.\n",
      "  _warn_prf(average, modifier, msg_start, len(result))\n"
     ]
    },
    {
     "name": "stdout",
     "output_type": "stream",
     "text": [
      "              precision    recall  f1-score   support\n",
      "\n",
      "           0       1.00      1.00      1.00     29341\n",
      "           1       0.00      0.00      0.00         7\n",
      "           2       0.00      0.00      0.00         3\n",
      "           4       1.00      1.00      1.00     31802\n",
      "           5       1.00      1.00      1.00     84397\n",
      "           6       0.00      0.00      0.00        15\n",
      "           7       1.00      0.98      0.99        91\n",
      "           8       1.00      0.99      1.00       294\n",
      "           9       0.99      0.97      0.98       338\n",
      "          10       0.93      0.97      0.95       374\n",
      "          11       0.00      0.00      0.00         6\n",
      "          12       0.00      0.00      0.00         2\n",
      "          13       0.98      0.99      0.98       659\n",
      "          14       0.00      0.00      0.00         5\n",
      "          15       0.99      0.95      0.97       484\n",
      "          16       0.00      0.00      0.00         1\n",
      "          17       0.87      0.50      0.63        66\n",
      "          19       0.00      0.00      0.00         8\n",
      "          20       0.92      0.87      0.90       308\n",
      "          22       0.00      0.00      0.00         5\n",
      "\n",
      "    accuracy                           1.00    148206\n",
      "   macro avg       0.53      0.51      0.52    148206\n",
      "weighted avg       1.00      1.00      1.00    148206\n",
      "\n",
      "\n",
      "[[29306     0     0     5     1     0     0     0     0     3     0     0\n",
      "      7     0     0     0     0     0    19     0]\n",
      " [    5     0     0     0     0     0     0     0     0     0     0     0\n",
      "      0     0     0     0     0     0     2     0]\n",
      " [    2     0     0     0     0     0     0     0     0     0     0     0\n",
      "      0     0     0     0     0     0     1     0]\n",
      " [    0     0     0 31802     0     0     0     0     0     0     0     0\n",
      "      0     0     0     0     0     0     0     0]\n",
      " [    1     0     0     0 84396     0     0     0     0     0     0     0\n",
      "      0     0     0     0     0     0     0     0]\n",
      " [   15     0     0     0     0     0     0     0     0     0     0     0\n",
      "      0     0     0     0     0     0     0     0]\n",
      " [    2     0     0     0     0     0    89     0     0     0     0     0\n",
      "      0     0     0     0     0     0     0     0]\n",
      " [    0     0     0     0     0     0     0   292     0     0     0     0\n",
      "      0     0     2     0     0     0     0     0]\n",
      " [    1     0     0     8     0     0     0     0   327     0     0     0\n",
      "      1     0     1     0     0     0     0     0]\n",
      " [    8     0     0     0     0     0     0     0     0   361     0     0\n",
      "      0     0     0     0     5     0     0     0]\n",
      " [    3     0     0     3     0     0     0     0     0     0     0     0\n",
      "      0     0     0     0     0     0     0     0]\n",
      " [    2     0     0     0     0     0     0     0     0     0     0     0\n",
      "      0     0     0     0     0     0     0     0]\n",
      " [    8     0     0     0     0     0     0     0     0     0     0     0\n",
      "    651     0     0     0     0     0     0     0]\n",
      " [    3     0     0     2     0     0     0     0     0     0     0     0\n",
      "      0     0     0     0     0     0     0     0]\n",
      " [   15     0     0     5     0     0     0     0     4     0     0     0\n",
      "      0     0   460     0     0     0     0     0]\n",
      " [    0     0     0     0     0     0     0     0     0     0     0     0\n",
      "      1     0     0     0     0     0     0     0]\n",
      " [   10     0     0     0     0     0     0     0     0    23     0     0\n",
      "      0     0     0     0    33     0     0     0]\n",
      " [    2     0     0     6     0     0     0     0     0     0     0     0\n",
      "      0     0     0     0     0     0     0     0]\n",
      " [   36     0     0     0     0     0     0     0     0     0     0     0\n",
      "      3     0     0     0     0     0   269     0]\n",
      " [    5     0     0     0     0     0     0     0     0     0     0     0\n",
      "      0     0     0     0     0     0     0     0]]\n"
     ]
    }
   ],
   "source": [
    "# evaluate\n",
    "print(classification_report(np.argmax(y_test, axis=1),pred_ann_m))\n",
    "print()\n",
    "print(confusion_matrix(np.argmax(y_test, axis=1),pred_ann_m))"
   ]
  },
  {
   "cell_type": "code",
   "execution_count": null,
   "metadata": {},
   "outputs": [],
   "source": []
  }
 ],
 "metadata": {
  "kernelspec": {
   "display_name": "Python 3",
   "language": "python",
   "name": "python3"
  },
  "language_info": {
   "codemirror_mode": {
    "name": "ipython",
    "version": 3
   },
   "file_extension": ".py",
   "mimetype": "text/x-python",
   "name": "python",
   "nbconvert_exporter": "python",
   "pygments_lexer": "ipython3",
   "version": "3.7.6"
  }
 },
 "nbformat": 4,
 "nbformat_minor": 4
}
