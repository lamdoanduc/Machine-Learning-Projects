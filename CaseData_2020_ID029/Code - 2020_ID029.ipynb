{
 "cells": [
  {
   "cell_type": "markdown",
   "metadata": {},
   "source": [
    "# Code for CASE STUDY"
   ]
  },
  {
   "cell_type": "code",
   "execution_count": 1,
   "metadata": {},
   "outputs": [],
   "source": [
    "# import libraries\n",
    "import pandas as pd\n",
    "import seaborn as sns\n",
    "import matplotlib.pyplot as plt\n",
    "%matplotlib inline"
   ]
  },
  {
   "cell_type": "markdown",
   "metadata": {},
   "source": [
    "# 1. Exploratory data analysis"
   ]
  },
  {
   "cell_type": "markdown",
   "metadata": {},
   "source": [
    "## 1.1 The Customer data"
   ]
  },
  {
   "cell_type": "markdown",
   "metadata": {},
   "source": [
    "### Import the data as a dataframe and check for the head() and and info \n"
   ]
  },
  {
   "cell_type": "code",
   "execution_count": 2,
   "metadata": {},
   "outputs": [],
   "source": [
    "df_customer=pd.read_csv('CustomerData.txt',sep='|')"
   ]
  },
  {
   "cell_type": "code",
   "execution_count": 3,
   "metadata": {},
   "outputs": [
    {
     "data": {
      "text/html": [
       "<div>\n",
       "<style scoped>\n",
       "    .dataframe tbody tr th:only-of-type {\n",
       "        vertical-align: middle;\n",
       "    }\n",
       "\n",
       "    .dataframe tbody tr th {\n",
       "        vertical-align: top;\n",
       "    }\n",
       "\n",
       "    .dataframe thead th {\n",
       "        text-align: right;\n",
       "    }\n",
       "</style>\n",
       "<table border=\"1\" class=\"dataframe\">\n",
       "  <thead>\n",
       "    <tr style=\"text-align: right;\">\n",
       "      <th></th>\n",
       "      <th>USERID</th>\n",
       "      <th>GENDER</th>\n",
       "      <th>DOB</th>\n",
       "      <th>COUNTRY</th>\n",
       "      <th>EDUCATION</th>\n",
       "      <th>HOBBY</th>\n",
       "    </tr>\n",
       "  </thead>\n",
       "  <tbody>\n",
       "    <tr>\n",
       "      <th>0</th>\n",
       "      <td>39060</td>\n",
       "      <td>F</td>\n",
       "      <td>1982-09-18</td>\n",
       "      <td>Ethiopia</td>\n",
       "      <td></td>\n",
       "      <td>Laser tag</td>\n",
       "    </tr>\n",
       "    <tr>\n",
       "      <th>1</th>\n",
       "      <td>26050</td>\n",
       "      <td>M</td>\n",
       "      <td>1988-11-22</td>\n",
       "      <td>United Arab Emirates</td>\n",
       "      <td></td>\n",
       "      <td>Ultra running</td>\n",
       "    </tr>\n",
       "    <tr>\n",
       "      <th>2</th>\n",
       "      <td>48580</td>\n",
       "      <td>M</td>\n",
       "      <td>1975-12-06</td>\n",
       "      <td>Martinique</td>\n",
       "      <td>Bachelor</td>\n",
       "      <td>Pottery</td>\n",
       "    </tr>\n",
       "    <tr>\n",
       "      <th>3</th>\n",
       "      <td>40220</td>\n",
       "      <td>F</td>\n",
       "      <td>1984-11-16</td>\n",
       "      <td>Germany</td>\n",
       "      <td>Master</td>\n",
       "      <td>Pottery</td>\n",
       "    </tr>\n",
       "    <tr>\n",
       "      <th>4</th>\n",
       "      <td>25160</td>\n",
       "      <td>M</td>\n",
       "      <td>1977-12-05</td>\n",
       "      <td>Madagascar</td>\n",
       "      <td>Master</td>\n",
       "      <td>Hamsters</td>\n",
       "    </tr>\n",
       "  </tbody>\n",
       "</table>\n",
       "</div>"
      ],
      "text/plain": [
       "   USERID GENDER         DOB               COUNTRY EDUCATION          HOBBY\n",
       "0   39060      F  1982-09-18              Ethiopia                Laser tag\n",
       "1   26050      M  1988-11-22  United Arab Emirates            Ultra running\n",
       "2   48580      M  1975-12-06            Martinique  Bachelor        Pottery\n",
       "3   40220      F  1984-11-16               Germany    Master        Pottery\n",
       "4   25160      M  1977-12-05            Madagascar    Master       Hamsters"
      ]
     },
     "execution_count": 3,
     "metadata": {},
     "output_type": "execute_result"
    }
   ],
   "source": [
    "df_customer.head()"
   ]
  },
  {
   "cell_type": "code",
   "execution_count": 4,
   "metadata": {},
   "outputs": [
    {
     "name": "stdout",
     "output_type": "stream",
     "text": [
      "<class 'pandas.core.frame.DataFrame'>\n",
      "RangeIndex: 574 entries, 0 to 573\n",
      "Data columns (total 6 columns):\n",
      " #   Column     Non-Null Count  Dtype \n",
      "---  ------     --------------  ----- \n",
      " 0   USERID     574 non-null    int64 \n",
      " 1   GENDER     574 non-null    object\n",
      " 2   DOB        574 non-null    object\n",
      " 3   COUNTRY    574 non-null    object\n",
      " 4   EDUCATION  574 non-null    object\n",
      " 5   HOBBY      574 non-null    object\n",
      "dtypes: int64(1), object(5)\n",
      "memory usage: 27.0+ KB\n"
     ]
    }
   ],
   "source": [
    "df_customer.info()"
   ]
  },
  {
   "cell_type": "markdown",
   "metadata": {},
   "source": [
    "### Total number of customers"
   ]
  },
  {
   "cell_type": "code",
   "execution_count": 5,
   "metadata": {},
   "outputs": [
    {
     "data": {
      "text/plain": [
       "574"
      ]
     },
     "execution_count": 5,
     "metadata": {},
     "output_type": "execute_result"
    }
   ],
   "source": [
    "df_customer['USERID'].nunique()"
   ]
  },
  {
   "cell_type": "markdown",
   "metadata": {},
   "source": [
    "### The number of customer by COUNTRY"
   ]
  },
  {
   "cell_type": "code",
   "execution_count": 6,
   "metadata": {},
   "outputs": [
    {
     "data": {
      "image/png": "[encoded data removed]",
      "text/plain": [
       "<Figure size 720x720 with 1 Axes>"
      ]
     },
     "metadata": {
      "needs_background": "light"
     },
     "output_type": "display_data"
    }
   ],
   "source": [
    "plt.figure(figsize=(10,10))\n",
    "ax=sns.countplot(data=df_customer,y='COUNTRY')\n",
    "plt.title('Number Customer for countries',fontsize=16)\n",
    "plt.xlabel('Number of Customer',fontsize=16)\n",
    "plt.ylabel('Country',fontsize=16)\n",
    "plt.savefig(\"fig_1.1.png\", dpi=100)"
   ]
  },
  {
   "cell_type": "markdown",
   "metadata": {},
   "source": [
    "### The number of customers by HOBBY"
   ]
  },
  {
   "cell_type": "code",
   "execution_count": 7,
   "metadata": {},
   "outputs": [
    {
     "data": {
      "image/png": "[encoded data removed]",
      "text/plain": [
       "<Figure size 720x720 with 1 Axes>"
      ]
     },
     "metadata": {
      "needs_background": "light"
     },
     "output_type": "display_data"
    }
   ],
   "source": [
    "# Plot the number of customer for each country\n",
    "plt.figure(figsize=(10,10))\n",
    "ax=sns.countplot(data=df_customer,y='HOBBY')\n",
    "plt.title('Number of Customers with Hobbies',fontsize=16)\n",
    "plt.xlabel('Number of Customer',fontsize=16)\n",
    "plt.ylabel('Country',fontsize=16)\n",
    "plt.savefig(\"fig_1.1.png\", dpi=100)"
   ]
  },
  {
   "cell_type": "markdown",
   "metadata": {},
   "source": [
    "###  A pie chart shows the education of the customers"
   ]
  },
  {
   "cell_type": "code",
   "execution_count": 8,
   "metadata": {},
   "outputs": [
    {
     "data": {
      "image/png": "[encoded data removed]",
      "text/plain": [
       "<Figure size 432x432 with 1 Axes>"
      ]
     },
     "metadata": {},
     "output_type": "display_data"
    }
   ],
   "source": [
    "plt.figure(figsize=(6,6))\n",
    "plt.title('Customers Education')\n",
    "df=df_customer.groupby('EDUCATION').count().reset_index()\n",
    "plt.pie(df['USERID'],labels=df['EDUCATION'],autopct='%1.1f%%')\n",
    "plt.axis('equal')\n",
    "plt.show()"
   ]
  },
  {
   "cell_type": "markdown",
   "metadata": {},
   "source": [
    "### The customer gender\n"
   ]
  },
  {
   "cell_type": "code",
   "execution_count": 9,
   "metadata": {},
   "outputs": [
    {
     "data": {
      "text/plain": [
       "array(['F', 'M', 'N'], dtype=object)"
      ]
     },
     "execution_count": 9,
     "metadata": {},
     "output_type": "execute_result"
    }
   ],
   "source": [
    "df_customer['GENDER'].unique()"
   ]
  },
  {
   "cell_type": "code",
   "execution_count": 10,
   "metadata": {},
   "outputs": [
    {
     "data": {
      "image/png": "[encoded data removed]",
      "text/plain": [
       "<Figure size 720x576 with 1 Axes>"
      ]
     },
     "metadata": {
      "needs_background": "light"
     },
     "output_type": "display_data"
    }
   ],
   "source": [
    "plt.figure(figsize=(10,8))\n",
    "sns.countplot(data=df_customer,x='GENDER')\n",
    "plt.title('Customers Gender',fontsize=16)\n",
    "plt.xlabel('GENDER',fontsize=16)\n",
    "plt.ylabel('Count',fontsize=16)\n",
    "plt.savefig(\"fig_1.3.png\", dpi=100)"
   ]
  },
  {
   "cell_type": "markdown",
   "metadata": {},
   "source": [
    "### Age distribution of the customers"
   ]
  },
  {
   "cell_type": "code",
   "execution_count": 11,
   "metadata": {},
   "outputs": [
    {
     "data": {
      "image/png": "[encoded data removed]",
      "text/plain": [
       "<Figure size 720x432 with 1 Axes>"
      ]
     },
     "metadata": {
      "needs_background": "light"
     },
     "output_type": "display_data"
    }
   ],
   "source": [
    "plt.figure(figsize=(10,6))\n",
    "sns.set_style('darkgrid')\n",
    "\n",
    "df_customer['DOB'] = pd.to_datetime(df_customer['DOB'])\n",
    "\n",
    "# create year of birth column\n",
    "df_customer['YOB']=pd.to_datetime(df_customer['DOB']).dt.year\n",
    "sns.distplot(2020-df_customer['YOB'],bins=20)\n",
    "#plt.title('Distribution of year of birth',fontsize=16)\n",
    "plt.xlabel('Age',fontsize=16)\n",
    "plt.savefig(\"fig_1.4.png\", dpi=100)"
   ]
  },
  {
   "cell_type": "markdown",
   "metadata": {},
   "source": [
    "## 1.2 The Item data"
   ]
  },
  {
   "cell_type": "markdown",
   "metadata": {},
   "source": [
    "###  import the database as  a dataframe and check for the head() and the info()"
   ]
  },
  {
   "cell_type": "code",
   "execution_count": 12,
   "metadata": {},
   "outputs": [],
   "source": [
    "df_item=pd.read_csv('ItemData.txt',sep='|')"
   ]
  },
  {
   "cell_type": "code",
   "execution_count": 13,
   "metadata": {},
   "outputs": [
    {
     "data": {
      "text/html": [
       "<div>\n",
       "<style scoped>\n",
       "    .dataframe tbody tr th:only-of-type {\n",
       "        vertical-align: middle;\n",
       "    }\n",
       "\n",
       "    .dataframe tbody tr th {\n",
       "        vertical-align: top;\n",
       "    }\n",
       "\n",
       "    .dataframe thead th {\n",
       "        text-align: right;\n",
       "    }\n",
       "</style>\n",
       "<table border=\"1\" class=\"dataframe\">\n",
       "  <thead>\n",
       "    <tr style=\"text-align: right;\">\n",
       "      <th></th>\n",
       "      <th>ITEM</th>\n",
       "      <th>CATEGORY</th>\n",
       "      <th>COLOR</th>\n",
       "      <th>SUPLID</th>\n",
       "      <th>PURCHASEPRICE</th>\n",
       "      <th>SALEPRICE</th>\n",
       "    </tr>\n",
       "  </thead>\n",
       "  <tbody>\n",
       "    <tr>\n",
       "      <th>0</th>\n",
       "      <td>127521</td>\n",
       "      <td>PAJAMAS</td>\n",
       "      <td>PINK</td>\n",
       "      <td>41560EE</td>\n",
       "      <td>1867.09</td>\n",
       "      <td>2800.0</td>\n",
       "    </tr>\n",
       "    <tr>\n",
       "      <th>1</th>\n",
       "      <td>151662</td>\n",
       "      <td>SOCKS</td>\n",
       "      <td>GOLD</td>\n",
       "      <td>16091ZZ</td>\n",
       "      <td>1862.08</td>\n",
       "      <td>2050.0</td>\n",
       "    </tr>\n",
       "    <tr>\n",
       "      <th>2</th>\n",
       "      <td>453756</td>\n",
       "      <td>COAT</td>\n",
       "      <td>GOLD</td>\n",
       "      <td>11370LL</td>\n",
       "      <td>914.81</td>\n",
       "      <td>1370.0</td>\n",
       "    </tr>\n",
       "    <tr>\n",
       "      <th>3</th>\n",
       "      <td>434386</td>\n",
       "      <td>PAJAMAS</td>\n",
       "      <td>SILVER</td>\n",
       "      <td>41560EE</td>\n",
       "      <td>1913</td>\n",
       "      <td>1430.0</td>\n",
       "    </tr>\n",
       "    <tr>\n",
       "      <th>4</th>\n",
       "      <td>422712</td>\n",
       "      <td>DRESS</td>\n",
       "      <td>SILVER</td>\n",
       "      <td>48094JJ</td>\n",
       "      <td>851.43</td>\n",
       "      <td>940.0</td>\n",
       "    </tr>\n",
       "  </tbody>\n",
       "</table>\n",
       "</div>"
      ],
      "text/plain": [
       "     ITEM CATEGORY   COLOR   SUPLID PURCHASEPRICE  SALEPRICE\n",
       "0  127521  PAJAMAS    PINK  41560EE       1867.09     2800.0\n",
       "1  151662    SOCKS    GOLD  16091ZZ       1862.08     2050.0\n",
       "2  453756     COAT    GOLD  11370LL        914.81     1370.0\n",
       "3  434386  PAJAMAS  SILVER  41560EE          1913     1430.0\n",
       "4  422712    DRESS  SILVER  48094JJ        851.43      940.0"
      ]
     },
     "execution_count": 13,
     "metadata": {},
     "output_type": "execute_result"
    }
   ],
   "source": [
    "df_item.head()"
   ]
  },
  {
   "cell_type": "code",
   "execution_count": 14,
   "metadata": {},
   "outputs": [
    {
     "name": "stdout",
     "output_type": "stream",
     "text": [
      "<class 'pandas.core.frame.DataFrame'>\n",
      "RangeIndex: 2188800 entries, 0 to 2188799\n",
      "Data columns (total 6 columns):\n",
      " #   Column         Dtype  \n",
      "---  ------         -----  \n",
      " 0   ITEM           int64  \n",
      " 1   CATEGORY       object \n",
      " 2   COLOR          object \n",
      " 3   SUPLID         object \n",
      " 4   PURCHASEPRICE  object \n",
      " 5   SALEPRICE      float64\n",
      "dtypes: float64(1), int64(1), object(4)\n",
      "memory usage: 100.2+ MB\n"
     ]
    }
   ],
   "source": [
    "df_item.info()"
   ]
  },
  {
   "cell_type": "markdown",
   "metadata": {},
   "source": [
    "### Change the data type of the  \"PURCHASEPRICE\" column to float "
   ]
  },
  {
   "cell_type": "code",
   "execution_count": 15,
   "metadata": {},
   "outputs": [],
   "source": [
    "df_item['PURCHASEPRICE'] = pd.to_numeric(df_item['PURCHASEPRICE'],errors='coerce')"
   ]
  },
  {
   "cell_type": "markdown",
   "metadata": {},
   "source": [
    "###  Check for the dudplicated rows in the dataframe"
   ]
  },
  {
   "cell_type": "code",
   "execution_count": 16,
   "metadata": {},
   "outputs": [
    {
     "data": {
      "text/html": [
       "<div>\n",
       "<style scoped>\n",
       "    .dataframe tbody tr th:only-of-type {\n",
       "        vertical-align: middle;\n",
       "    }\n",
       "\n",
       "    .dataframe tbody tr th {\n",
       "        vertical-align: top;\n",
       "    }\n",
       "\n",
       "    .dataframe thead th {\n",
       "        text-align: right;\n",
       "    }\n",
       "</style>\n",
       "<table border=\"1\" class=\"dataframe\">\n",
       "  <thead>\n",
       "    <tr style=\"text-align: right;\">\n",
       "      <th></th>\n",
       "      <th>ITEM</th>\n",
       "      <th>CATEGORY</th>\n",
       "      <th>COLOR</th>\n",
       "      <th>SUPLID</th>\n",
       "      <th>PURCHASEPRICE</th>\n",
       "      <th>SALEPRICE</th>\n",
       "    </tr>\n",
       "  </thead>\n",
       "  <tbody>\n",
       "    <tr>\n",
       "      <th>10944</th>\n",
       "      <td>127521</td>\n",
       "      <td>PAJAMAS</td>\n",
       "      <td>PINK</td>\n",
       "      <td>18767GG</td>\n",
       "      <td>1867.09</td>\n",
       "      <td>2800.0</td>\n",
       "    </tr>\n",
       "    <tr>\n",
       "      <th>10945</th>\n",
       "      <td>151662</td>\n",
       "      <td>SOCKS</td>\n",
       "      <td>GOLD</td>\n",
       "      <td></td>\n",
       "      <td>1862.08</td>\n",
       "      <td>2050.0</td>\n",
       "    </tr>\n",
       "    <tr>\n",
       "      <th>10946</th>\n",
       "      <td>453756</td>\n",
       "      <td>COAT</td>\n",
       "      <td>GOLD</td>\n",
       "      <td></td>\n",
       "      <td>914.81</td>\n",
       "      <td>1370.0</td>\n",
       "    </tr>\n",
       "    <tr>\n",
       "      <th>10947</th>\n",
       "      <td>434386</td>\n",
       "      <td>PAJAMAS</td>\n",
       "      <td>SILVER</td>\n",
       "      <td>48094CC</td>\n",
       "      <td>1913.00</td>\n",
       "      <td>1430.0</td>\n",
       "    </tr>\n",
       "    <tr>\n",
       "      <th>10948</th>\n",
       "      <td>422712</td>\n",
       "      <td>DRESS</td>\n",
       "      <td>SILVER</td>\n",
       "      <td>16091DD</td>\n",
       "      <td>851.43</td>\n",
       "      <td>940.0</td>\n",
       "    </tr>\n",
       "    <tr>\n",
       "      <th>...</th>\n",
       "      <td>...</td>\n",
       "      <td>...</td>\n",
       "      <td>...</td>\n",
       "      <td>...</td>\n",
       "      <td>...</td>\n",
       "      <td>...</td>\n",
       "    </tr>\n",
       "    <tr>\n",
       "      <th>2188795</th>\n",
       "      <td>130914</td>\n",
       "      <td>BELT</td>\n",
       "      <td>RAINBOW</td>\n",
       "      <td>42596PP</td>\n",
       "      <td>1118.81</td>\n",
       "      <td>1680.0</td>\n",
       "    </tr>\n",
       "    <tr>\n",
       "      <th>2188796</th>\n",
       "      <td>110127</td>\n",
       "      <td>SCARF</td>\n",
       "      <td>VIOLET</td>\n",
       "      <td>43136TT</td>\n",
       "      <td>1373.89</td>\n",
       "      <td>2060.0</td>\n",
       "    </tr>\n",
       "    <tr>\n",
       "      <th>2188797</th>\n",
       "      <td>224241</td>\n",
       "      <td>BELT</td>\n",
       "      <td>RAINBOW</td>\n",
       "      <td>16091DD</td>\n",
       "      <td>79.87</td>\n",
       "      <td>120.0</td>\n",
       "    </tr>\n",
       "    <tr>\n",
       "      <th>2188798</th>\n",
       "      <td>247888</td>\n",
       "      <td>DRESS</td>\n",
       "      <td>GOLD</td>\n",
       "      <td>13205GG</td>\n",
       "      <td>488.12</td>\n",
       "      <td>730.0</td>\n",
       "    </tr>\n",
       "    <tr>\n",
       "      <th>2188799</th>\n",
       "      <td>150219</td>\n",
       "      <td>SCARF</td>\n",
       "      <td>GOLD</td>\n",
       "      <td>41560EE</td>\n",
       "      <td>856.59</td>\n",
       "      <td>1280.0</td>\n",
       "    </tr>\n",
       "  </tbody>\n",
       "</table>\n",
       "<p>2177856 rows × 6 columns</p>\n",
       "</div>"
      ],
      "text/plain": [
       "           ITEM CATEGORY    COLOR   SUPLID  PURCHASEPRICE  SALEPRICE\n",
       "10944    127521  PAJAMAS     PINK  18767GG        1867.09     2800.0\n",
       "10945    151662    SOCKS     GOLD                 1862.08     2050.0\n",
       "10946    453756     COAT     GOLD                  914.81     1370.0\n",
       "10947    434386  PAJAMAS   SILVER  48094CC        1913.00     1430.0\n",
       "10948    422712    DRESS   SILVER  16091DD         851.43      940.0\n",
       "...         ...      ...      ...      ...            ...        ...\n",
       "2188795  130914     BELT  RAINBOW  42596PP        1118.81     1680.0\n",
       "2188796  110127    SCARF   VIOLET  43136TT        1373.89     2060.0\n",
       "2188797  224241     BELT  RAINBOW  16091DD          79.87      120.0\n",
       "2188798  247888    DRESS     GOLD  13205GG         488.12      730.0\n",
       "2188799  150219    SCARF     GOLD  41560EE         856.59     1280.0\n",
       "\n",
       "[2177856 rows x 6 columns]"
      ]
     },
     "execution_count": 16,
     "metadata": {},
     "output_type": "execute_result"
    }
   ],
   "source": [
    "df_item[df_item[[\"ITEM\"]].duplicated()]"
   ]
  },
  {
   "cell_type": "markdown",
   "metadata": {},
   "source": [
    "### There are 2177856 duplicated rows and we need to drop all the rows"
   ]
  },
  {
   "cell_type": "code",
   "execution_count": 17,
   "metadata": {},
   "outputs": [],
   "source": [
    "df_item.drop_duplicates(keep='first',inplace=True)"
   ]
  },
  {
   "cell_type": "markdown",
   "metadata": {},
   "source": [
    "### Now check for the number of the unique items and categories"
   ]
  },
  {
   "cell_type": "code",
   "execution_count": 18,
   "metadata": {},
   "outputs": [
    {
     "data": {
      "text/plain": [
       "10944"
      ]
     },
     "execution_count": 18,
     "metadata": {},
     "output_type": "execute_result"
    }
   ],
   "source": [
    "df_item['ITEM'].nunique()"
   ]
  },
  {
   "cell_type": "code",
   "execution_count": 19,
   "metadata": {},
   "outputs": [
    {
     "data": {
      "text/plain": [
       "array(['PAJAMAS', 'SOCKS', 'COAT', 'DRESS', 'SCARF', 'BELT', 'JACKET',\n",
       "       'PANTS', 'HAT', 'GLOVES', 'TIE', 'SKIRT', 'STOCKINGS', 'SHIRT',\n",
       "       'UNDERPANTS', 'JEANS', 'SUIT', 'SHOES'], dtype=object)"
      ]
     },
     "execution_count": 19,
     "metadata": {},
     "output_type": "execute_result"
    }
   ],
   "source": [
    "df_item['CATEGORY'].unique()"
   ]
  },
  {
   "cell_type": "markdown",
   "metadata": {},
   "source": [
    "### Number of the items at different categories and colors"
   ]
  },
  {
   "cell_type": "code",
   "execution_count": 20,
   "metadata": {},
   "outputs": [
    {
     "data": {
      "image/png": "[encoded data removed]",
      "text/plain": [
       "<Figure size 720x864 with 1 Axes>"
      ]
     },
     "metadata": {},
     "output_type": "display_data"
    }
   ],
   "source": [
    "plt.figure(figsize=(10,12))\n",
    "sns.countplot(data=df_item,y='CATEGORY',hue=\"COLOR\")\n",
    "\n",
    "plt.title('NUMBER OF ITEMS BY CATEGORY',fontsize=16)\n",
    "plt.xlabel('NUMBER OF ITEMS',fontsize=16)\n",
    "plt.ylabel('CATEGORY',fontsize=16)\n",
    "plt.savefig(\"fig_2.1.png\", dpi=100)"
   ]
  },
  {
   "cell_type": "markdown",
   "metadata": {},
   "source": [
    "###  The number of items by \"SUPLID\""
   ]
  },
  {
   "cell_type": "code",
   "execution_count": 21,
   "metadata": {},
   "outputs": [
    {
     "data": {
      "text/plain": [
       "SUPLID\n",
       "           10940\n",
       "11370LL    10940\n",
       "11370TT    10937\n",
       "13205GG    10939\n",
       "13205VV    10937\n",
       "14656DD    10937\n",
       "14656UU    10937\n",
       "16091DD    10937\n",
       "16091ZZ    10937\n",
       "18767CC    10940\n",
       "18767GG    10938\n",
       "41560EE    10935\n",
       "41560GG    10940\n",
       "41560MM    10941\n",
       "42258KK    10940\n",
       "42258WW    10939\n",
       "42596PP    10933\n",
       "42596VV    10935\n",
       "43136JJ    10936\n",
       "43136TT    10939\n",
       "46396EE    10939\n",
       "46396XX    10933\n",
       "46848AA    10937\n",
       "46848VV    10940\n",
       "48094CC    10940\n",
       "48094JJ    10944\n",
       "Name: ITEM, dtype: int64"
      ]
     },
     "execution_count": 21,
     "metadata": {},
     "output_type": "execute_result"
    }
   ],
   "source": [
    "df_item.groupby(\"SUPLID\").count()[\"ITEM\"]"
   ]
  },
  {
   "cell_type": "markdown",
   "metadata": {},
   "source": [
    "The numbers of items by \"SUPLID\" are almost the same!"
   ]
  },
  {
   "cell_type": "markdown",
   "metadata": {},
   "source": [
    "### The SALEPRICE distribution of the items"
   ]
  },
  {
   "cell_type": "code",
   "execution_count": 22,
   "metadata": {},
   "outputs": [
    {
     "data": {
      "image/png": "[encoded data removed]",
      "text/plain": [
       "<Figure size 720x432 with 1 Axes>"
      ]
     },
     "metadata": {},
     "output_type": "display_data"
    }
   ],
   "source": [
    "plt.figure(figsize=(10,6))\n",
    "sns.set_style('darkgrid')\n",
    "sns.distplot(df_item['SALEPRICE'],bins=30)\n",
    "\n",
    "plt.title('PRICE OF ITEMS',fontsize=16)\n",
    "plt.xlabel('PRICE',fontsize=16)\n",
    "plt.savefig(\"fig_2.3.png\", dpi=100)"
   ]
  },
  {
   "cell_type": "markdown",
   "metadata": {},
   "source": [
    "### There are many items having the SALEPRICE less than PURCHASEPRICE. We now create a new column called PROFIT showing the difference of the prices. \n",
    "\n",
    "Check for the ITEMS, CATEGORY with negative PROFIT (PURCHASEPRICE higher than SALEPRICE) to give an answer for the question: What is the maximum nagative PROFIT when the company sells an item of each category?"
   ]
  },
  {
   "cell_type": "code",
   "execution_count": 23,
   "metadata": {},
   "outputs": [
    {
     "data": {
      "image/png": "[encoded data removed]",
      "text/plain": [
       "<Figure size 1080x504 with 1 Axes>"
      ]
     },
     "metadata": {},
     "output_type": "display_data"
    }
   ],
   "source": [
    "# Create a column called PROFIT by subtracting PURCHASEPRICE from SALEPRICE\n",
    "df_item['PROFIT'] = df_item['SALEPRICE'] - df_item['PURCHASEPRICE']\n",
    "\n",
    "# Create the a new data frame with PROFIT < 0 \n",
    "df_item_minus = df_item[df_item['PROFIT']<0]\n",
    "\n",
    "# Groupby CATEGORY  \n",
    "df_category = df_item_minus[['CATEGORY','PROFIT']].groupby('CATEGORY').max()\n",
    "df_category.reset_index(inplace=True)\n",
    "\n",
    "# Plot the minus PROFIT\n",
    "plt.figure(figsize=(15,7))\n",
    "sns.barplot(data=df_category,x='CATEGORY',y='PROFIT')\n",
    "#sns.set(font_scale = 1)\n",
    "\n",
    "plt.xlabel('CATEGORY',fontsize=16)\n",
    "plt.ylabel('MINUS PROFIT',fontsize=16)\n",
    "plt.savefig(\"fig_2.4.png\", dpi=100)"
   ]
  },
  {
   "cell_type": "markdown",
   "metadata": {},
   "source": [
    "This plot shows that the company made a huge nagative profit when selling SHOES. "
   ]
  },
  {
   "cell_type": "markdown",
   "metadata": {},
   "source": [
    "Here we do the same calulation by for the maximum positve PROFIT when the company sells an item of each category."
   ]
  },
  {
   "cell_type": "code",
   "execution_count": 24,
   "metadata": {},
   "outputs": [
    {
     "data": {
      "image/png": "[encoded data removed]",
      "text/plain": [
       "<Figure size 1080x504 with 1 Axes>"
      ]
     },
     "metadata": {},
     "output_type": "display_data"
    }
   ],
   "source": [
    "# Create the a new data frame with PROFIT > 0 \n",
    "df_item_positive = df_item[df_item['PROFIT']>0]\n",
    "\n",
    "# Groupby CATEGORY  \n",
    "df_category = df_item_positive[['CATEGORY','PROFIT']].groupby('CATEGORY').max()\n",
    "df_category.reset_index(inplace=True)\n",
    "\n",
    "# Plot the minus PROFIT\n",
    "plt.figure(figsize=(15,7))\n",
    "sns.barplot(data=df_category,x='CATEGORY',y='PROFIT')\n",
    "#sns.set(font_scale = 1)\n",
    "\n",
    "plt.title('SUM OF MINUS PROFIT PER CATEGORY',fontsize=16)\n",
    "plt.xlabel('CATEGORY',fontsize=16)\n",
    "plt.ylabel('MINUS PROFIT',fontsize=16)\n",
    "plt.savefig(\"fig_2.4.png\", dpi=100)"
   ]
  },
  {
   "cell_type": "markdown",
   "metadata": {},
   "source": [
    "## 1.3. The transaction data"
   ]
  },
  {
   "cell_type": "markdown",
   "metadata": {},
   "source": [
    "###  import the database as  a dataframe and check for the head(), the info(), and the duplicated rows"
   ]
  },
  {
   "cell_type": "code",
   "execution_count": 25,
   "metadata": {},
   "outputs": [
    {
     "name": "stderr",
     "output_type": "stream",
     "text": [
      "/Users/lamdoan/opt/anaconda3/lib/python3.7/site-packages/IPython/core/interactiveshell.py:3063: DtypeWarning: Columns (13) have mixed types.Specify dtype option on import or set low_memory=False.\n",
      "  interactivity=interactivity, compiler=compiler, result=result)\n"
     ]
    },
    {
     "data": {
      "text/html": [
       "<div>\n",
       "<style scoped>\n",
       "    .dataframe tbody tr th:only-of-type {\n",
       "        vertical-align: middle;\n",
       "    }\n",
       "\n",
       "    .dataframe tbody tr th {\n",
       "        vertical-align: top;\n",
       "    }\n",
       "\n",
       "    .dataframe thead th {\n",
       "        text-align: right;\n",
       "    }\n",
       "</style>\n",
       "<table border=\"1\" class=\"dataframe\">\n",
       "  <thead>\n",
       "    <tr style=\"text-align: right;\">\n",
       "      <th></th>\n",
       "      <th>USERID</th>\n",
       "      <th>WEBBROWSER</th>\n",
       "      <th>PPC_ADD</th>\n",
       "      <th>ITEM</th>\n",
       "      <th>PURCHASE</th>\n",
       "      <th>QTY</th>\n",
       "      <th>DISCOUNT</th>\n",
       "      <th>PAYMENT</th>\n",
       "      <th>WAREHOUSE</th>\n",
       "      <th>SHIPDAYS</th>\n",
       "      <th>DELIVERYDATE</th>\n",
       "      <th>REVIEW</th>\n",
       "      <th>RATING</th>\n",
       "      <th>TRACKNO</th>\n",
       "      <th>TIMESTAMP</th>\n",
       "    </tr>\n",
       "  </thead>\n",
       "  <tbody>\n",
       "    <tr>\n",
       "      <th>0</th>\n",
       "      <td>15410</td>\n",
       "      <td>CHROME</td>\n",
       "      <td>KEVIN</td>\n",
       "      <td>309261</td>\n",
       "      <td>YES</td>\n",
       "      <td>4</td>\n",
       "      <td>28</td>\n",
       "      <td>APPLE PAY</td>\n",
       "      <td>D</td>\n",
       "      <td>6</td>\n",
       "      <td>2018-5-25</td>\n",
       "      <td>NO</td>\n",
       "      <td>1</td>\n",
       "      <td>348721</td>\n",
       "      <td>21:54:45</td>\n",
       "    </tr>\n",
       "    <tr>\n",
       "      <th>1</th>\n",
       "      <td>33510</td>\n",
       "      <td>EXPLORER</td>\n",
       "      <td>SENDI</td>\n",
       "      <td>484592</td>\n",
       "      <td>YES</td>\n",
       "      <td>4</td>\n",
       "      <td>30</td>\n",
       "      <td></td>\n",
       "      <td>D</td>\n",
       "      <td>5</td>\n",
       "      <td>2018-5-1</td>\n",
       "      <td>NO</td>\n",
       "      <td>4</td>\n",
       "      <td>373987</td>\n",
       "      <td>5:44:25</td>\n",
       "    </tr>\n",
       "    <tr>\n",
       "      <th>2</th>\n",
       "      <td>26390</td>\n",
       "      <td>MOBILEAPP</td>\n",
       "      <td>KEVIN</td>\n",
       "      <td>191104</td>\n",
       "      <td>YES</td>\n",
       "      <td>2</td>\n",
       "      <td>4</td>\n",
       "      <td></td>\n",
       "      <td>B</td>\n",
       "      <td>7</td>\n",
       "      <td>2018-7-7</td>\n",
       "      <td>YES</td>\n",
       "      <td></td>\n",
       "      <td>421013</td>\n",
       "      <td>6:58:15</td>\n",
       "    </tr>\n",
       "    <tr>\n",
       "      <th>3</th>\n",
       "      <td>48580</td>\n",
       "      <td>MOBILEAPP</td>\n",
       "      <td>SENDI</td>\n",
       "      <td>124180</td>\n",
       "      <td>YES</td>\n",
       "      <td>3</td>\n",
       "      <td>29</td>\n",
       "      <td>AMEX</td>\n",
       "      <td>E</td>\n",
       "      <td>5</td>\n",
       "      <td>2018-2-13</td>\n",
       "      <td>NO</td>\n",
       "      <td>3</td>\n",
       "      <td>406643</td>\n",
       "      <td>12:50:23</td>\n",
       "    </tr>\n",
       "    <tr>\n",
       "      <th>4</th>\n",
       "      <td>14600</td>\n",
       "      <td>MOBILEAPP</td>\n",
       "      <td>KEVIN</td>\n",
       "      <td>223591</td>\n",
       "      <td>YES</td>\n",
       "      <td></td>\n",
       "      <td>7</td>\n",
       "      <td>APPLE PAY</td>\n",
       "      <td>B</td>\n",
       "      <td>6</td>\n",
       "      <td>2018-1-10</td>\n",
       "      <td>NO</td>\n",
       "      <td></td>\n",
       "      <td>365623</td>\n",
       "      <td>5:23:37</td>\n",
       "    </tr>\n",
       "  </tbody>\n",
       "</table>\n",
       "</div>"
      ],
      "text/plain": [
       "  USERID WEBBROWSER PPC_ADD    ITEM PURCHASE QTY DISCOUNT    PAYMENT  \\\n",
       "0  15410     CHROME   KEVIN  309261      YES   4       28  APPLE PAY   \n",
       "1  33510   EXPLORER   SENDI  484592      YES   4       30              \n",
       "2  26390  MOBILEAPP   KEVIN  191104      YES   2        4              \n",
       "3  48580  MOBILEAPP   SENDI  124180      YES   3       29       AMEX   \n",
       "4  14600  MOBILEAPP   KEVIN  223591      YES            7  APPLE PAY   \n",
       "\n",
       "  WAREHOUSE SHIPDAYS DELIVERYDATE REVIEW RATING TRACKNO TIMESTAMP  \n",
       "0         D        6    2018-5-25     NO      1  348721  21:54:45  \n",
       "1         D        5     2018-5-1     NO      4  373987   5:44:25  \n",
       "2         B        7     2018-7-7    YES         421013   6:58:15  \n",
       "3         E        5    2018-2-13     NO      3  406643  12:50:23  \n",
       "4         B        6    2018-1-10     NO         365623   5:23:37  "
      ]
     },
     "execution_count": 25,
     "metadata": {},
     "output_type": "execute_result"
    }
   ],
   "source": [
    "# Import the data base as a datafram and check the head\n",
    "df_trans = pd.read_csv('TransactionsData.txt',sep='|')\n",
    "df_trans.head()"
   ]
  },
  {
   "cell_type": "code",
   "execution_count": 26,
   "metadata": {},
   "outputs": [
    {
     "name": "stdout",
     "output_type": "stream",
     "text": [
      "<class 'pandas.core.frame.DataFrame'>\n",
      "RangeIndex: 2188800 entries, 0 to 2188799\n",
      "Data columns (total 15 columns):\n",
      " #   Column        Dtype \n",
      "---  ------        ----- \n",
      " 0   USERID        object\n",
      " 1   WEBBROWSER    object\n",
      " 2   PPC_ADD       object\n",
      " 3   ITEM          int64 \n",
      " 4   PURCHASE      object\n",
      " 5   QTY           object\n",
      " 6   DISCOUNT      object\n",
      " 7   PAYMENT       object\n",
      " 8   WAREHOUSE     object\n",
      " 9   SHIPDAYS      object\n",
      " 10  DELIVERYDATE  object\n",
      " 11  REVIEW        object\n",
      " 12  RATING        object\n",
      " 13  TRACKNO       object\n",
      " 14  TIMESTAMP     object\n",
      "dtypes: int64(1), object(14)\n",
      "memory usage: 250.5+ MB\n"
     ]
    }
   ],
   "source": [
    "df_trans.info()"
   ]
  },
  {
   "cell_type": "markdown",
   "metadata": {},
   "source": [
    "### Check for the payment methods used by the customers"
   ]
  },
  {
   "cell_type": "code",
   "execution_count": 27,
   "metadata": {},
   "outputs": [
    {
     "data": {
      "image/png": "[encoded data removed]",
      "text/plain": [
       "<Figure size 432x432 with 1 Axes>"
      ]
     },
     "metadata": {},
     "output_type": "display_data"
    }
   ],
   "source": [
    "plt.figure(figsize=(6,6))\n",
    "plt.title('Payment methods')\n",
    "df=df_trans.groupby('PAYMENT').count().reset_index()\n",
    "plt.pie(df['ITEM'],labels=df['PAYMENT'],autopct='%1.1f%%')\n",
    "plt.axis('equal')\n",
    "plt.show()"
   ]
  },
  {
   "cell_type": "markdown",
   "metadata": {},
   "source": [
    "With more than 2 millions transaction and they are equally distributed in the different payment methods. This is seemingly odd."
   ]
  },
  {
   "cell_type": "markdown",
   "metadata": {},
   "source": [
    "### Check for the distribution of TRANSACTION by HOURs\n"
   ]
  },
  {
   "cell_type": "code",
   "execution_count": 28,
   "metadata": {},
   "outputs": [
    {
     "data": {
      "image/png": "[encoded data removed]",
      "text/plain": [
       "<Figure size 720x576 with 1 Axes>"
      ]
     },
     "metadata": {},
     "output_type": "display_data"
    }
   ],
   "source": [
    "# Create 'Month' column from the 'Deliverydate' column\n",
    "\n",
    "df_trans['MONTH']=df_trans['DELIVERYDATE'].str.split(pat='-',expand=True)[1]\n",
    "df_trans['MONTH']=pd.to_numeric(df_trans['MONTH'],errors='coerce',downcast='integer')\n",
    "\n",
    "# Create 'HOUR' column from the 'TIMESTAMP' column\n",
    "\n",
    "df_trans['HOUR']=df_trans['TIMESTAMP'].str.split(pat=':',expand=True)[0]\n",
    "df_trans['HOUR']=pd.to_numeric(df_trans['HOUR'],errors='coerce',downcast='integer')\n",
    "\n",
    "plt.figure(figsize=(10,8))\n",
    "plt.title('The number TRANSACTIONS by HOURS colored by the PURCHASE column',fontsize=16)\n",
    "\n",
    "sns.countplot(x='HOUR',data=df_trans,hue='PURCHASE')\n",
    "plt.ylabel('NUMBER OF TRANSACTIONS',fontsize=16)\n",
    "plt.xlabel('HOUR',fontsize=16)\n",
    "plt.savefig(\"fig_3.6.png\", dpi=100)"
   ]
  },
  {
   "cell_type": "markdown",
   "metadata": {},
   "source": [
    "### Percentage of customers giving review on the services"
   ]
  },
  {
   "cell_type": "code",
   "execution_count": 29,
   "metadata": {},
   "outputs": [
    {
     "data": {
      "text/html": [
       "<div>\n",
       "<style scoped>\n",
       "    .dataframe tbody tr th:only-of-type {\n",
       "        vertical-align: middle;\n",
       "    }\n",
       "\n",
       "    .dataframe tbody tr th {\n",
       "        vertical-align: top;\n",
       "    }\n",
       "\n",
       "    .dataframe thead th {\n",
       "        text-align: right;\n",
       "    }\n",
       "</style>\n",
       "<table border=\"1\" class=\"dataframe\">\n",
       "  <thead>\n",
       "    <tr style=\"text-align: right;\">\n",
       "      <th></th>\n",
       "      <th>REVIEW</th>\n",
       "      <th>USERID</th>\n",
       "      <th>WEBBROWSER</th>\n",
       "      <th>PPC_ADD</th>\n",
       "      <th>ITEM</th>\n",
       "      <th>PURCHASE</th>\n",
       "      <th>QTY</th>\n",
       "      <th>DISCOUNT</th>\n",
       "      <th>PAYMENT</th>\n",
       "      <th>WAREHOUSE</th>\n",
       "      <th>SHIPDAYS</th>\n",
       "      <th>DELIVERYDATE</th>\n",
       "      <th>RATING</th>\n",
       "      <th>TRACKNO</th>\n",
       "      <th>TIMESTAMP</th>\n",
       "      <th>MONTH</th>\n",
       "      <th>HOUR</th>\n",
       "    </tr>\n",
       "  </thead>\n",
       "  <tbody>\n",
       "    <tr>\n",
       "      <th>0</th>\n",
       "      <td></td>\n",
       "      <td>219272</td>\n",
       "      <td>219272</td>\n",
       "      <td>219272</td>\n",
       "      <td>219272</td>\n",
       "      <td>219272</td>\n",
       "      <td>219272</td>\n",
       "      <td>219272</td>\n",
       "      <td>219272</td>\n",
       "      <td>219272</td>\n",
       "      <td>219272</td>\n",
       "      <td>219272</td>\n",
       "      <td>219272</td>\n",
       "      <td>219272</td>\n",
       "      <td>219272</td>\n",
       "      <td>211739</td>\n",
       "      <td>215634</td>\n",
       "    </tr>\n",
       "    <tr>\n",
       "      <th>1</th>\n",
       "      <td>NO</td>\n",
       "      <td>1093218</td>\n",
       "      <td>1093218</td>\n",
       "      <td>1093218</td>\n",
       "      <td>1093218</td>\n",
       "      <td>1093218</td>\n",
       "      <td>1093218</td>\n",
       "      <td>1093218</td>\n",
       "      <td>1093218</td>\n",
       "      <td>1093218</td>\n",
       "      <td>1093218</td>\n",
       "      <td>1093218</td>\n",
       "      <td>1093218</td>\n",
       "      <td>1093218</td>\n",
       "      <td>1093218</td>\n",
       "      <td>1055633</td>\n",
       "      <td>1074913</td>\n",
       "    </tr>\n",
       "    <tr>\n",
       "      <th>2</th>\n",
       "      <td>YES</td>\n",
       "      <td>876310</td>\n",
       "      <td>876310</td>\n",
       "      <td>876310</td>\n",
       "      <td>876310</td>\n",
       "      <td>876310</td>\n",
       "      <td>876310</td>\n",
       "      <td>876310</td>\n",
       "      <td>876310</td>\n",
       "      <td>876310</td>\n",
       "      <td>876310</td>\n",
       "      <td>876310</td>\n",
       "      <td>876310</td>\n",
       "      <td>876310</td>\n",
       "      <td>876310</td>\n",
       "      <td>845936</td>\n",
       "      <td>861598</td>\n",
       "    </tr>\n",
       "  </tbody>\n",
       "</table>\n",
       "</div>"
      ],
      "text/plain": [
       "  REVIEW   USERID  WEBBROWSER  PPC_ADD     ITEM  PURCHASE      QTY  DISCOUNT  \\\n",
       "0          219272      219272   219272   219272    219272   219272    219272   \n",
       "1     NO  1093218     1093218  1093218  1093218   1093218  1093218   1093218   \n",
       "2    YES   876310      876310   876310   876310    876310   876310    876310   \n",
       "\n",
       "   PAYMENT  WAREHOUSE  SHIPDAYS  DELIVERYDATE   RATING  TRACKNO  TIMESTAMP  \\\n",
       "0   219272     219272    219272        219272   219272   219272     219272   \n",
       "1  1093218    1093218   1093218       1093218  1093218  1093218    1093218   \n",
       "2   876310     876310    876310        876310   876310   876310     876310   \n",
       "\n",
       "     MONTH     HOUR  \n",
       "0   211739   215634  \n",
       "1  1055633  1074913  \n",
       "2   845936   861598  "
      ]
     },
     "execution_count": 29,
     "metadata": {},
     "output_type": "execute_result"
    }
   ],
   "source": [
    "df=df_trans.groupby('REVIEW').count().reset_index()\n",
    "df"
   ]
  },
  {
   "cell_type": "code",
   "execution_count": 30,
   "metadata": {},
   "outputs": [
    {
     "data": {
      "image/png": "[encoded data removed]",
      "text/plain": [
       "<Figure size 432x432 with 1 Axes>"
      ]
     },
     "metadata": {},
     "output_type": "display_data"
    }
   ],
   "source": [
    "plt.figure(figsize=(6,6))\n",
    "plt.title('Percentage of customers giving their review')\n",
    "df=df_trans.groupby('REVIEW').count().reset_index()\n",
    "plt.pie(df['USERID'],labels=df['REVIEW'],autopct='%1.1f%%')\n",
    "plt.axis('equal')\n",
    "plt.show()"
   ]
  },
  {
   "cell_type": "markdown",
   "metadata": {},
   "source": [
    "### RATING counts"
   ]
  },
  {
   "cell_type": "code",
   "execution_count": 31,
   "metadata": {},
   "outputs": [
    {
     "data": {
      "text/plain": [
       "<matplotlib.axes._subplots.AxesSubplot at 0x107beeed0>"
      ]
     },
     "execution_count": 31,
     "metadata": {},
     "output_type": "execute_result"
    },
    {
     "data": {
      "image/png": "[encoded data removed]",
      "text/plain": [
       "<Figure size 720x576 with 1 Axes>"
      ]
     },
     "metadata": {},
     "output_type": "display_data"
    }
   ],
   "source": [
    "plt.figure(figsize=(10,8))\n",
    "plt.title('The number TRANSACTIONS by HOURS colored by the PURCHASE column',fontsize=16)\n",
    "sns.countplot(x='RATING',data=df_trans,hue=\"PURCHASE\")"
   ]
  },
  {
   "cell_type": "markdown",
   "metadata": {},
   "source": [
    "### Check for the most common WEBBROWSER used by the customers\n"
   ]
  },
  {
   "cell_type": "code",
   "execution_count": 32,
   "metadata": {},
   "outputs": [
    {
     "data": {
      "image/png": "[encoded data removed]",
      "text/plain": [
       "<Figure size 720x576 with 1 Axes>"
      ]
     },
     "metadata": {},
     "output_type": "display_data"
    }
   ],
   "source": [
    "plt.figure(figsize=(10,8))\n",
    "plt.title('COUNT OF TRANSACTIONS WITH WEBBROWSER',fontsize=16)\n",
    "\n",
    "sns.countplot(x='WEBBROWSER',data=df_trans,hue='PURCHASE')\n",
    "plt.ylabel('NUMBER OF TRANSACTIONS',fontsize=16)\n",
    "plt.xlabel('WEBBROWSER',fontsize=16)\n",
    "plt.savefig(\"fig_3.1.png\", dpi=100)"
   ]
  },
  {
   "cell_type": "markdown",
   "metadata": {},
   "source": [
    "### Shipdays"
   ]
  },
  {
   "cell_type": "code",
   "execution_count": 33,
   "metadata": {},
   "outputs": [
    {
     "data": {
      "text/plain": [
       "[' ', '1', '10', '2', '3', '4', '5', '6', '7', '8']"
      ]
     },
     "execution_count": 33,
     "metadata": {},
     "output_type": "execute_result"
    }
   ],
   "source": [
    "sorted(df_trans['SHIPDAYS'].unique())"
   ]
  },
  {
   "cell_type": "code",
   "execution_count": 34,
   "metadata": {},
   "outputs": [
    {
     "data": {
      "image/png": "[encoded data removed]",
      "text/plain": [
       "<Figure size 432x432 with 1 Axes>"
      ]
     },
     "metadata": {},
     "output_type": "display_data"
    }
   ],
   "source": [
    "plt.figure(figsize=(6,6))\n",
    "plt.title('Percentage of Shipdays')\n",
    "df=df_trans.groupby('SHIPDAYS').count().reset_index()\n",
    "plt.pie(df['USERID'],labels=df['SHIPDAYS'],autopct='%1.1f%%')\n",
    "plt.axis('equal')\n",
    "plt.show()"
   ]
  },
  {
   "cell_type": "markdown",
   "metadata": {},
   "source": [
    "###  We now create a new database to calculate the profit. \n",
    "   1. Create a new copy of df_trans called df_trans_price included \"USERID\" and \"ITEM\" columns\n",
    "   \n",
    "   2. Map the profit (PROFIT column) per an item from the item dataframe to the newly created dataframe\n",
    "   \n",
    "   3. Calculate a \"TOTAL\" profit column by mutiplying the profit per an item with the number of the item ordered (\"QTY\" column). In case of empty value in the \"QTY\" column, the missing values are filled with 1.\n",
    "   \n",
    "   4. Copy the \"PURCHASE\", \"PPC_ADD\", \"DISCOUNT\" and \"MONTH\" columns from transaction dataframe to the newly created dataframe\n",
    "   \n",
    "   5. Create a columns called \"MONTH\"\n"
   ]
  },
  {
   "cell_type": "code",
   "execution_count": 35,
   "metadata": {},
   "outputs": [
    {
     "name": "stderr",
     "output_type": "stream",
     "text": [
      "/Users/lamdoan/opt/anaconda3/lib/python3.7/site-packages/ipykernel_launcher.py:3: SettingWithCopyWarning: \n",
      "A value is trying to be set on a copy of a slice from a DataFrame.\n",
      "Try using .loc[row_indexer,col_indexer] = value instead\n",
      "\n",
      "See the caveats in the documentation: https://pandas.pydata.org/pandas-docs/stable/user_guide/indexing.html#returning-a-view-versus-a-copy\n",
      "  This is separate from the ipykernel package so we can avoid doing imports until\n"
     ]
    }
   ],
   "source": [
    "# Create a new copy of df_trans called df_trans_price\n",
    "df_trans_price = df_trans[['USERID','ITEM']]\n",
    "df_trans_price['ITEM'] = df_trans_price['ITEM'].apply(str)"
   ]
  },
  {
   "cell_type": "code",
   "execution_count": 36,
   "metadata": {},
   "outputs": [
    {
     "name": "stderr",
     "output_type": "stream",
     "text": [
      "/Users/lamdoan/opt/anaconda3/lib/python3.7/site-packages/ipykernel_launcher.py:3: SettingWithCopyWarning: \n",
      "A value is trying to be set on a copy of a slice from a DataFrame.\n",
      "Try using .loc[row_indexer,col_indexer] = value instead\n",
      "\n",
      "See the caveats in the documentation: https://pandas.pydata.org/pandas-docs/stable/user_guide/indexing.html#returning-a-view-versus-a-copy\n",
      "  This is separate from the ipykernel package so we can avoid doing imports until\n"
     ]
    }
   ],
   "source": [
    "# create a dataframe called df_item_price from df_item with two column: ITEM and PROFIT\n",
    "df_item_price = df_item[['ITEM','PROFIT']]\n",
    "df_item_price['ITEM'] = df_item_price['ITEM'].apply(str)\n",
    "\n",
    "\n",
    "# convert the dataframe to a dictionary\n",
    "dict_item_price = df_item_price.set_index('ITEM').to_dict()['PROFIT']"
   ]
  },
  {
   "cell_type": "code",
   "execution_count": 37,
   "metadata": {},
   "outputs": [
    {
     "name": "stderr",
     "output_type": "stream",
     "text": [
      "/Users/lamdoan/opt/anaconda3/lib/python3.7/site-packages/ipykernel_launcher.py:2: SettingWithCopyWarning: \n",
      "A value is trying to be set on a copy of a slice from a DataFrame.\n",
      "Try using .loc[row_indexer,col_indexer] = value instead\n",
      "\n",
      "See the caveats in the documentation: https://pandas.pydata.org/pandas-docs/stable/user_guide/indexing.html#returning-a-view-versus-a-copy\n",
      "  \n"
     ]
    }
   ],
   "source": [
    "# Mapping ITEM column by SALEPRICE column from df_item\n",
    "df_trans_price['ITEM'] = df_trans_price['ITEM'].replace(dict_item_price)\n",
    "df_trans_price=df_trans_price.rename(columns={\"ITEM\": \"PROFIT\"})"
   ]
  },
  {
   "cell_type": "code",
   "execution_count": 38,
   "metadata": {},
   "outputs": [],
   "source": [
    "# Copy 'QTY' column from the transaction table\n",
    "df_trans_price['QTY'] = df_trans ['QTY']\n",
    "\n",
    "# Fill empty value of 'QTY' with 1\n",
    "df_trans_price['QTY'].replace(' ','1',inplace=True)\n",
    "\n",
    "# Convert string type of 'QTY' and 'PROFIT' to numerical\n",
    "df_trans_price['QTY'] = pd.to_numeric(df_trans_price['QTY'],downcast='integer')\n",
    "df_trans_price['PROFIT'] = pd.to_numeric(df_trans_price['PROFIT'])\n",
    "\n",
    "\n",
    "# Create a new column called TOTAL  by multiply PROFIT by QTY\n",
    "df_trans_price['TOTAL'] = df_trans_price['PROFIT'] * df_trans_price['QTY']"
   ]
  },
  {
   "cell_type": "code",
   "execution_count": 39,
   "metadata": {},
   "outputs": [],
   "source": [
    "# Copy 'PURCHASE' column from the transaction table\n",
    "df_trans_price['PURCHASE'] = df_trans ['PURCHASE']\n",
    "\n",
    "# Copy again the 'ITEM' column from the transaction table\n",
    "df_trans_price['ITEM'] = df_trans ['ITEM']"
   ]
  },
  {
   "cell_type": "code",
   "execution_count": 40,
   "metadata": {},
   "outputs": [
    {
     "data": {
      "text/plain": [
       "['USERID', 'PROFIT', 'QTY', 'TOTAL', 'PURCHASE', 'ITEM']"
      ]
     },
     "execution_count": 40,
     "metadata": {},
     "output_type": "execute_result"
    }
   ],
   "source": [
    "# change the columns order\n",
    "cols = df_trans_price.columns.tolist()\n",
    "cols"
   ]
  },
  {
   "cell_type": "code",
   "execution_count": 41,
   "metadata": {},
   "outputs": [],
   "source": [
    "cols = ['USERID', 'ITEM', 'PROFIT', 'QTY', 'TOTAL', 'PURCHASE']\n",
    "df_trans_price = df_trans_price[cols]"
   ]
  },
  {
   "cell_type": "code",
   "execution_count": 42,
   "metadata": {},
   "outputs": [],
   "source": [
    "df_trans_price['PPC_ADD'] = df_trans['PPC_ADD']\n",
    "df_trans_price['DISCOUNT'] = df_trans['DISCOUNT']\n",
    "df_trans_price['MONTH'] = df_trans['MONTH']\n",
    "df_trans_price['RATING'] = df_trans['RATING']\n",
    "df_trans_price['REVIEW'] = df_trans['REVIEW']\n",
    "df_trans_price['MONTH'] = df_trans_price['MONTH'].astype(int,errors=\"ignore\")"
   ]
  },
  {
   "cell_type": "code",
   "execution_count": 43,
   "metadata": {},
   "outputs": [],
   "source": [
    "df_trans_price['RATING'] = df_trans['RATING']\n",
    "df_trans_price['REVIEW'] = df_trans['REVIEW']\n",
    "df_trans_price['RATING'] = pd.to_numeric(df_trans_price['RATING'],errors='ignore')"
   ]
  },
  {
   "cell_type": "code",
   "execution_count": 44,
   "metadata": {},
   "outputs": [
    {
     "data": {
      "text/plain": [
       "str"
      ]
     },
     "execution_count": 44,
     "metadata": {},
     "output_type": "execute_result"
    }
   ],
   "source": [
    "type(df_trans_price['RATING'][0])"
   ]
  },
  {
   "cell_type": "code",
   "execution_count": 45,
   "metadata": {},
   "outputs": [
    {
     "data": {
      "text/html": [
       "<div>\n",
       "<style scoped>\n",
       "    .dataframe tbody tr th:only-of-type {\n",
       "        vertical-align: middle;\n",
       "    }\n",
       "\n",
       "    .dataframe tbody tr th {\n",
       "        vertical-align: top;\n",
       "    }\n",
       "\n",
       "    .dataframe thead th {\n",
       "        text-align: right;\n",
       "    }\n",
       "</style>\n",
       "<table border=\"1\" class=\"dataframe\">\n",
       "  <thead>\n",
       "    <tr style=\"text-align: right;\">\n",
       "      <th></th>\n",
       "      <th>USERID</th>\n",
       "      <th>ITEM</th>\n",
       "      <th>PROFIT</th>\n",
       "      <th>QTY</th>\n",
       "      <th>TOTAL</th>\n",
       "      <th>PURCHASE</th>\n",
       "      <th>PPC_ADD</th>\n",
       "      <th>DISCOUNT</th>\n",
       "      <th>MONTH</th>\n",
       "      <th>RATING</th>\n",
       "      <th>REVIEW</th>\n",
       "    </tr>\n",
       "  </thead>\n",
       "  <tbody>\n",
       "    <tr>\n",
       "      <th>0</th>\n",
       "      <td>15410</td>\n",
       "      <td>309261</td>\n",
       "      <td>177.68</td>\n",
       "      <td>4</td>\n",
       "      <td>710.72</td>\n",
       "      <td>YES</td>\n",
       "      <td>KEVIN</td>\n",
       "      <td>28</td>\n",
       "      <td>5.0</td>\n",
       "      <td>1</td>\n",
       "      <td>NO</td>\n",
       "    </tr>\n",
       "    <tr>\n",
       "      <th>1</th>\n",
       "      <td>33510</td>\n",
       "      <td>484592</td>\n",
       "      <td>469.10</td>\n",
       "      <td>4</td>\n",
       "      <td>1876.40</td>\n",
       "      <td>YES</td>\n",
       "      <td>SENDI</td>\n",
       "      <td>30</td>\n",
       "      <td>5.0</td>\n",
       "      <td>4</td>\n",
       "      <td>NO</td>\n",
       "    </tr>\n",
       "    <tr>\n",
       "      <th>2</th>\n",
       "      <td>26390</td>\n",
       "      <td>191104</td>\n",
       "      <td>664.31</td>\n",
       "      <td>2</td>\n",
       "      <td>1328.62</td>\n",
       "      <td>YES</td>\n",
       "      <td>KEVIN</td>\n",
       "      <td>4</td>\n",
       "      <td>7.0</td>\n",
       "      <td></td>\n",
       "      <td>YES</td>\n",
       "    </tr>\n",
       "    <tr>\n",
       "      <th>3</th>\n",
       "      <td>48580</td>\n",
       "      <td>124180</td>\n",
       "      <td>333.95</td>\n",
       "      <td>3</td>\n",
       "      <td>1001.85</td>\n",
       "      <td>YES</td>\n",
       "      <td>SENDI</td>\n",
       "      <td>29</td>\n",
       "      <td>2.0</td>\n",
       "      <td>3</td>\n",
       "      <td>NO</td>\n",
       "    </tr>\n",
       "    <tr>\n",
       "      <th>4</th>\n",
       "      <td>14600</td>\n",
       "      <td>223591</td>\n",
       "      <td>853.44</td>\n",
       "      <td>1</td>\n",
       "      <td>853.44</td>\n",
       "      <td>YES</td>\n",
       "      <td>KEVIN</td>\n",
       "      <td>7</td>\n",
       "      <td>1.0</td>\n",
       "      <td></td>\n",
       "      <td>NO</td>\n",
       "    </tr>\n",
       "  </tbody>\n",
       "</table>\n",
       "</div>"
      ],
      "text/plain": [
       "  USERID    ITEM  PROFIT  QTY    TOTAL PURCHASE PPC_ADD DISCOUNT  MONTH  \\\n",
       "0  15410  309261  177.68    4   710.72      YES   KEVIN       28    5.0   \n",
       "1  33510  484592  469.10    4  1876.40      YES   SENDI       30    5.0   \n",
       "2  26390  191104  664.31    2  1328.62      YES   KEVIN        4    7.0   \n",
       "3  48580  124180  333.95    3  1001.85      YES   SENDI       29    2.0   \n",
       "4  14600  223591  853.44    1   853.44      YES   KEVIN        7    1.0   \n",
       "\n",
       "  RATING REVIEW  \n",
       "0      1     NO  \n",
       "1      4     NO  \n",
       "2           YES  \n",
       "3      3     NO  \n",
       "4            NO  "
      ]
     },
     "execution_count": 45,
     "metadata": {},
     "output_type": "execute_result"
    }
   ],
   "source": [
    "df_trans_price.head()"
   ]
  },
  {
   "cell_type": "code",
   "execution_count": 46,
   "metadata": {},
   "outputs": [
    {
     "name": "stdout",
     "output_type": "stream",
     "text": [
      "<class 'pandas.core.frame.DataFrame'>\n",
      "RangeIndex: 2188800 entries, 0 to 2188799\n",
      "Data columns (total 11 columns):\n",
      " #   Column    Dtype  \n",
      "---  ------    -----  \n",
      " 0   USERID    object \n",
      " 1   ITEM      int64  \n",
      " 2   PROFIT    float64\n",
      " 3   QTY       int8   \n",
      " 4   TOTAL     float64\n",
      " 5   PURCHASE  object \n",
      " 6   PPC_ADD   object \n",
      " 7   DISCOUNT  object \n",
      " 8   MONTH     float64\n",
      " 9   RATING    object \n",
      " 10  REVIEW    object \n",
      "dtypes: float64(3), int64(1), int8(1), object(6)\n",
      "memory usage: 169.1+ MB\n"
     ]
    }
   ],
   "source": [
    "df_trans_price.info()"
   ]
  },
  {
   "cell_type": "code",
   "execution_count": 47,
   "metadata": {},
   "outputs": [],
   "source": [
    "df_trans_price.to_csv('trans_price.csv', index=False)"
   ]
  },
  {
   "cell_type": "code",
   "execution_count": 48,
   "metadata": {},
   "outputs": [
    {
     "data": {
      "text/plain": [
       "[1.0, 2.0, 3.0, 4.0, 5.0, 7.0, 10.0, 11.0, 12.0, nan]"
      ]
     },
     "execution_count": 48,
     "metadata": {},
     "output_type": "execute_result"
    }
   ],
   "source": [
    "sorted(df_trans_price['MONTH'].unique())"
   ]
  },
  {
   "cell_type": "markdown",
   "metadata": {},
   "source": [
    "### Calculate the total profit by MONTH"
   ]
  },
  {
   "cell_type": "code",
   "execution_count": 49,
   "metadata": {},
   "outputs": [
    {
     "data": {
      "image/png": "[encoded data removed]",
      "text/plain": [
       "<Figure size 720x576 with 1 Axes>"
      ]
     },
     "metadata": {},
     "output_type": "display_data"
    }
   ],
   "source": [
    "# groupby MONTH\n",
    "df = df_trans_price[['MONTH','TOTAL']][df_trans_price['PURCHASE']=='YES'].groupby('MONTH').sum()\n",
    "df = df.reset_index()\n",
    "\n",
    "\n",
    "plt.figure(figsize=(10,8))\n",
    "plt.title('TOTAL PROFIT BY MONTH',fontsize=16)\n",
    "\n",
    "sns.barplot(x='MONTH',y='TOTAL',data=df)\n",
    "plt.xlabel('MONTH',fontsize=16)\n",
    "plt.ylabel('TOTAL PROFIT',fontsize=16)\n",
    "plt.savefig(\"fig_3.11.png\", dpi=100)"
   ]
  },
  {
   "cell_type": "code",
   "execution_count": 50,
   "metadata": {},
   "outputs": [
    {
     "data": {
      "text/plain": [
       "0          309261\n",
       "1          484592\n",
       "2          191104\n",
       "3          124180\n",
       "4          223591\n",
       "            ...  \n",
       "2188795    387248\n",
       "2188796    437259\n",
       "2188797    204442\n",
       "2188798    438793\n",
       "2188799    271184\n",
       "Name: ITEM, Length: 2188800, dtype: int64"
      ]
     },
     "execution_count": 50,
     "metadata": {},
     "output_type": "execute_result"
    }
   ],
   "source": [
    "df_trans_price['ITEM']"
   ]
  },
  {
   "cell_type": "markdown",
   "metadata": {},
   "source": [
    "### Calculate the total profit by CATEGORY for the hole year"
   ]
  },
  {
   "cell_type": "code",
   "execution_count": 51,
   "metadata": {},
   "outputs": [],
   "source": [
    "# Groupby ITEM and apply count() funtion\n",
    "df1 = df_trans_price[['TOTAL','ITEM']][df_trans_price['PURCHASE']=='YES'].groupby('ITEM').sum()\n",
    "df1 = df1.reset_index()\n",
    "df1['ITEM'] = df1['ITEM'].apply(str)"
   ]
  },
  {
   "cell_type": "code",
   "execution_count": 52,
   "metadata": {},
   "outputs": [
    {
     "name": "stderr",
     "output_type": "stream",
     "text": [
      "/Users/lamdoan/opt/anaconda3/lib/python3.7/site-packages/ipykernel_launcher.py:3: SettingWithCopyWarning: \n",
      "A value is trying to be set on a copy of a slice from a DataFrame.\n",
      "Try using .loc[row_indexer,col_indexer] = value instead\n",
      "\n",
      "See the caveats in the documentation: https://pandas.pydata.org/pandas-docs/stable/user_guide/indexing.html#returning-a-view-versus-a-copy\n",
      "  This is separate from the ipykernel package so we can avoid doing imports until\n",
      "/Users/lamdoan/opt/anaconda3/lib/python3.7/site-packages/ipykernel_launcher.py:4: SettingWithCopyWarning: \n",
      "A value is trying to be set on a copy of a slice from a DataFrame\n",
      "\n",
      "See the caveats in the documentation: https://pandas.pydata.org/pandas-docs/stable/user_guide/indexing.html#returning-a-view-versus-a-copy\n",
      "  after removing the cwd from sys.path.\n"
     ]
    }
   ],
   "source": [
    "# create a dataframe called df_item_suplid from df_item with two column: ITEM and CATEGORY\n",
    "df_item_cat = df_item[['ITEM','CATEGORY']]\n",
    "df_item_cat['ITEM'] = df_item_cat['ITEM'].apply(str)\n",
    "df_item_cat.drop_duplicates(keep='first',inplace=True)\n",
    "\n",
    "# convert the dataframe to a dictionary\n",
    "dict_item_cat = df_item_cat.set_index('ITEM').to_dict()['CATEGORY']"
   ]
  },
  {
   "cell_type": "code",
   "execution_count": 53,
   "metadata": {},
   "outputs": [],
   "source": [
    "# Mapping USERID column by COUNTRY column from df_item\n",
    "df1 = df1.replace(dict_item_cat)\n",
    "df1.rename(columns={\"ITEM\": \"CATEGORY\"},inplace=True)"
   ]
  },
  {
   "cell_type": "code",
   "execution_count": 54,
   "metadata": {},
   "outputs": [
    {
     "data": {
      "text/html": [
       "<div>\n",
       "<style scoped>\n",
       "    .dataframe tbody tr th:only-of-type {\n",
       "        vertical-align: middle;\n",
       "    }\n",
       "\n",
       "    .dataframe tbody tr th {\n",
       "        vertical-align: top;\n",
       "    }\n",
       "\n",
       "    .dataframe thead th {\n",
       "        text-align: right;\n",
       "    }\n",
       "</style>\n",
       "<table border=\"1\" class=\"dataframe\">\n",
       "  <thead>\n",
       "    <tr style=\"text-align: right;\">\n",
       "      <th></th>\n",
       "      <th>CATEGORY</th>\n",
       "      <th>TOTAL</th>\n",
       "    </tr>\n",
       "  </thead>\n",
       "  <tbody>\n",
       "    <tr>\n",
       "      <th>0</th>\n",
       "      <td>SCARF</td>\n",
       "      <td>-111261.60</td>\n",
       "    </tr>\n",
       "    <tr>\n",
       "      <th>1</th>\n",
       "      <td>DRESS</td>\n",
       "      <td>1956.40</td>\n",
       "    </tr>\n",
       "    <tr>\n",
       "      <th>2</th>\n",
       "      <td>DRESS</td>\n",
       "      <td>354550.72</td>\n",
       "    </tr>\n",
       "    <tr>\n",
       "      <th>3</th>\n",
       "      <td>GLOVES</td>\n",
       "      <td>-24306.85</td>\n",
       "    </tr>\n",
       "    <tr>\n",
       "      <th>4</th>\n",
       "      <td>SHIRT</td>\n",
       "      <td>-155149.02</td>\n",
       "    </tr>\n",
       "  </tbody>\n",
       "</table>\n",
       "</div>"
      ],
      "text/plain": [
       "  CATEGORY      TOTAL\n",
       "0    SCARF -111261.60\n",
       "1    DRESS    1956.40\n",
       "2    DRESS  354550.72\n",
       "3   GLOVES  -24306.85\n",
       "4    SHIRT -155149.02"
      ]
     },
     "execution_count": 54,
     "metadata": {},
     "output_type": "execute_result"
    }
   ],
   "source": [
    "df1.head()"
   ]
  },
  {
   "cell_type": "code",
   "execution_count": 55,
   "metadata": {},
   "outputs": [
    {
     "data": {
      "text/html": [
       "<div>\n",
       "<style scoped>\n",
       "    .dataframe tbody tr th:only-of-type {\n",
       "        vertical-align: middle;\n",
       "    }\n",
       "\n",
       "    .dataframe tbody tr th {\n",
       "        vertical-align: top;\n",
       "    }\n",
       "\n",
       "    .dataframe thead th {\n",
       "        text-align: right;\n",
       "    }\n",
       "</style>\n",
       "<table border=\"1\" class=\"dataframe\">\n",
       "  <thead>\n",
       "    <tr style=\"text-align: right;\">\n",
       "      <th></th>\n",
       "      <th>CATEGORY</th>\n",
       "      <th>TOTAL</th>\n",
       "    </tr>\n",
       "  </thead>\n",
       "  <tbody>\n",
       "    <tr>\n",
       "      <th>0</th>\n",
       "      <td>BELT</td>\n",
       "      <td>1.233618e+08</td>\n",
       "    </tr>\n",
       "    <tr>\n",
       "      <th>1</th>\n",
       "      <td>COAT</td>\n",
       "      <td>2.688407e+07</td>\n",
       "    </tr>\n",
       "    <tr>\n",
       "      <th>2</th>\n",
       "      <td>DRESS</td>\n",
       "      <td>2.842373e+08</td>\n",
       "    </tr>\n",
       "    <tr>\n",
       "      <th>3</th>\n",
       "      <td>GLOVES</td>\n",
       "      <td>1.096553e+08</td>\n",
       "    </tr>\n",
       "    <tr>\n",
       "      <th>4</th>\n",
       "      <td>HAT</td>\n",
       "      <td>1.314296e+08</td>\n",
       "    </tr>\n",
       "  </tbody>\n",
       "</table>\n",
       "</div>"
      ],
      "text/plain": [
       "  CATEGORY         TOTAL\n",
       "0     BELT  1.233618e+08\n",
       "1     COAT  2.688407e+07\n",
       "2    DRESS  2.842373e+08\n",
       "3   GLOVES  1.096553e+08\n",
       "4      HAT  1.314296e+08"
      ]
     },
     "execution_count": 55,
     "metadata": {},
     "output_type": "execute_result"
    }
   ],
   "source": [
    "# Group by CATEGORY\n",
    "df1 = df1.groupby('CATEGORY').sum().reset_index()\n",
    "df1.head()"
   ]
  },
  {
   "cell_type": "code",
   "execution_count": 56,
   "metadata": {},
   "outputs": [],
   "source": [
    "df1.to_csv('category_profit.csv', index=False)"
   ]
  },
  {
   "cell_type": "code",
   "execution_count": 57,
   "metadata": {},
   "outputs": [
    {
     "data": {
      "image/png": "[encoded data removed]",
      "text/plain": [
       "<Figure size 1080x720 with 1 Axes>"
      ]
     },
     "metadata": {},
     "output_type": "display_data"
    }
   ],
   "source": [
    "plt.figure(figsize=(15,10))\n",
    "plt.title('TOTAL PROFIT BY CATEGORY',fontsize=16)\n",
    "\n",
    "sns.barplot(y='TOTAL',x='CATEGORY',data=df1)\n",
    "plt.ylabel('TOTAL PROFIT',fontsize=16)\n",
    "plt.xlabel('CATEGORY',fontsize=16)\n",
    "plt.savefig(\"fig_3.9.png\", dpi=100)"
   ]
  },
  {
   "cell_type": "markdown",
   "metadata": {},
   "source": [
    "### Calculate the total profit by COUNTRY"
   ]
  },
  {
   "cell_type": "code",
   "execution_count": 58,
   "metadata": {},
   "outputs": [],
   "source": [
    "# Groupby ITEM and apply count() funtion\n",
    "df2 = df_trans_price[['TOTAL','USERID']][df_trans_price['PURCHASE']=='YES'].groupby('USERID').sum()\n",
    "df2 = df2.reset_index()\n",
    "df2['USERID'] = df2['USERID'].apply(str)"
   ]
  },
  {
   "cell_type": "code",
   "execution_count": 59,
   "metadata": {},
   "outputs": [
    {
     "name": "stderr",
     "output_type": "stream",
     "text": [
      "/Users/lamdoan/opt/anaconda3/lib/python3.7/site-packages/ipykernel_launcher.py:3: SettingWithCopyWarning: \n",
      "A value is trying to be set on a copy of a slice from a DataFrame.\n",
      "Try using .loc[row_indexer,col_indexer] = value instead\n",
      "\n",
      "See the caveats in the documentation: https://pandas.pydata.org/pandas-docs/stable/user_guide/indexing.html#returning-a-view-versus-a-copy\n",
      "  This is separate from the ipykernel package so we can avoid doing imports until\n"
     ]
    }
   ],
   "source": [
    "# create a dataframe called df_user_country from df_item with two column: USERID and COUNTRY\n",
    "df_user_country = df_customer[['USERID','COUNTRY']]\n",
    "df_user_country['USERID'] = df_user_country['USERID'].apply(str)\n",
    "\n",
    "# convert the dataframe to a dictionary\n",
    "dict_user_country = df_user_country.set_index('USERID').to_dict()['COUNTRY']"
   ]
  },
  {
   "cell_type": "code",
   "execution_count": 60,
   "metadata": {},
   "outputs": [
    {
     "data": {
      "text/html": [
       "<div>\n",
       "<style scoped>\n",
       "    .dataframe tbody tr th:only-of-type {\n",
       "        vertical-align: middle;\n",
       "    }\n",
       "\n",
       "    .dataframe tbody tr th {\n",
       "        vertical-align: top;\n",
       "    }\n",
       "\n",
       "    .dataframe thead th {\n",
       "        text-align: right;\n",
       "    }\n",
       "</style>\n",
       "<table border=\"1\" class=\"dataframe\">\n",
       "  <thead>\n",
       "    <tr style=\"text-align: right;\">\n",
       "      <th></th>\n",
       "      <th>COUNTRY</th>\n",
       "      <th>TOTAL</th>\n",
       "    </tr>\n",
       "  </thead>\n",
       "  <tbody>\n",
       "    <tr>\n",
       "      <th>0</th>\n",
       "      <td></td>\n",
       "      <td>2351808.93</td>\n",
       "    </tr>\n",
       "    <tr>\n",
       "      <th>1</th>\n",
       "      <td>Guinea</td>\n",
       "      <td>2347900.98</td>\n",
       "    </tr>\n",
       "    <tr>\n",
       "      <th>2</th>\n",
       "      <td>Greenland</td>\n",
       "      <td>2422639.71</td>\n",
       "    </tr>\n",
       "    <tr>\n",
       "      <th>3</th>\n",
       "      <td>Guernsey</td>\n",
       "      <td>2343953.73</td>\n",
       "    </tr>\n",
       "    <tr>\n",
       "      <th>4</th>\n",
       "      <td>United Arab Emirates</td>\n",
       "      <td>2362910.12</td>\n",
       "    </tr>\n",
       "  </tbody>\n",
       "</table>\n",
       "</div>"
      ],
      "text/plain": [
       "                COUNTRY       TOTAL\n",
       "0                        2351808.93\n",
       "1                Guinea  2347900.98\n",
       "2             Greenland  2422639.71\n",
       "3              Guernsey  2343953.73\n",
       "4  United Arab Emirates  2362910.12"
      ]
     },
     "execution_count": 60,
     "metadata": {},
     "output_type": "execute_result"
    }
   ],
   "source": [
    "# Mapping USERID column by COUNTRY column\n",
    "df2 = df2.replace(dict_user_country)\n",
    "df2.rename(columns={\"USERID\": \"COUNTRY\"},inplace=True)\n",
    "df2.head()"
   ]
  },
  {
   "cell_type": "code",
   "execution_count": 61,
   "metadata": {},
   "outputs": [
    {
     "data": {
      "text/html": [
       "<div>\n",
       "<style scoped>\n",
       "    .dataframe tbody tr th:only-of-type {\n",
       "        vertical-align: middle;\n",
       "    }\n",
       "\n",
       "    .dataframe tbody tr th {\n",
       "        vertical-align: top;\n",
       "    }\n",
       "\n",
       "    .dataframe thead th {\n",
       "        text-align: right;\n",
       "    }\n",
       "</style>\n",
       "<table border=\"1\" class=\"dataframe\">\n",
       "  <thead>\n",
       "    <tr style=\"text-align: right;\">\n",
       "      <th></th>\n",
       "      <th>COUNTRY</th>\n",
       "      <th>TOTAL</th>\n",
       "    </tr>\n",
       "  </thead>\n",
       "  <tbody>\n",
       "    <tr>\n",
       "      <th>0</th>\n",
       "      <td></td>\n",
       "      <td>2351808.93</td>\n",
       "    </tr>\n",
       "    <tr>\n",
       "      <th>1</th>\n",
       "      <td>Algeria</td>\n",
       "      <td>35074346.10</td>\n",
       "    </tr>\n",
       "    <tr>\n",
       "      <th>2</th>\n",
       "      <td>Andorra</td>\n",
       "      <td>21116434.74</td>\n",
       "    </tr>\n",
       "    <tr>\n",
       "      <th>3</th>\n",
       "      <td>Antarctica</td>\n",
       "      <td>32630297.27</td>\n",
       "    </tr>\n",
       "    <tr>\n",
       "      <th>4</th>\n",
       "      <td>Bahamas</td>\n",
       "      <td>23327074.55</td>\n",
       "    </tr>\n",
       "  </tbody>\n",
       "</table>\n",
       "</div>"
      ],
      "text/plain": [
       "      COUNTRY        TOTAL\n",
       "0               2351808.93\n",
       "1     Algeria  35074346.10\n",
       "2     Andorra  21116434.74\n",
       "3  Antarctica  32630297.27\n",
       "4     Bahamas  23327074.55"
      ]
     },
     "execution_count": 61,
     "metadata": {},
     "output_type": "execute_result"
    }
   ],
   "source": [
    "# Groupby SUPLID column and apply sum()\n",
    "df2 = df2.groupby('COUNTRY').sum()\n",
    "df2 = df2.reset_index()\n",
    "df2.head()"
   ]
  },
  {
   "cell_type": "code",
   "execution_count": 64,
   "metadata": {},
   "outputs": [],
   "source": [
    "df2.to_csv('country_profit.csv', index=False)"
   ]
  },
  {
   "cell_type": "code",
   "execution_count": 65,
   "metadata": {},
   "outputs": [
    {
     "data": {
      "image/png": "[encoded data removed]",
      "text/plain": [
       "<Figure size 720x1080 with 1 Axes>"
      ]
     },
     "metadata": {},
     "output_type": "display_data"
    }
   ],
   "source": [
    "plt.figure(figsize=(10,15))\n",
    "plt.title('TOTAL PROFIT BY COUNTRY',fontsize=16)\n",
    "\n",
    "sns.barplot(x='TOTAL',y='COUNTRY',data=df2)\n",
    "plt.xlabel('TOTAL PROFIT',fontsize=16)\n",
    "plt.ylabel('COUNTRY',fontsize=16)\n",
    "plt.savefig(\"fig_3.10.png\", dpi=100)"
   ]
  },
  {
   "cell_type": "markdown",
   "metadata": {},
   "source": [
    "### Count the number of order items at each CATEGORY"
   ]
  },
  {
   "cell_type": "code",
   "execution_count": 66,
   "metadata": {},
   "outputs": [
    {
     "data": {
      "text/html": [
       "<div>\n",
       "<style scoped>\n",
       "    .dataframe tbody tr th:only-of-type {\n",
       "        vertical-align: middle;\n",
       "    }\n",
       "\n",
       "    .dataframe tbody tr th {\n",
       "        vertical-align: top;\n",
       "    }\n",
       "\n",
       "    .dataframe thead th {\n",
       "        text-align: right;\n",
       "    }\n",
       "</style>\n",
       "<table border=\"1\" class=\"dataframe\">\n",
       "  <thead>\n",
       "    <tr style=\"text-align: right;\">\n",
       "      <th></th>\n",
       "      <th>USERID</th>\n",
       "      <th>ITEM</th>\n",
       "      <th>PROFIT</th>\n",
       "      <th>QTY</th>\n",
       "      <th>TOTAL</th>\n",
       "      <th>PURCHASE</th>\n",
       "      <th>PPC_ADD</th>\n",
       "      <th>DISCOUNT</th>\n",
       "      <th>MONTH</th>\n",
       "      <th>RATING</th>\n",
       "      <th>REVIEW</th>\n",
       "    </tr>\n",
       "  </thead>\n",
       "  <tbody>\n",
       "    <tr>\n",
       "      <th>0</th>\n",
       "      <td>15410</td>\n",
       "      <td>309261</td>\n",
       "      <td>177.68</td>\n",
       "      <td>4</td>\n",
       "      <td>710.72</td>\n",
       "      <td>YES</td>\n",
       "      <td>KEVIN</td>\n",
       "      <td>28</td>\n",
       "      <td>5.0</td>\n",
       "      <td>1</td>\n",
       "      <td>NO</td>\n",
       "    </tr>\n",
       "    <tr>\n",
       "      <th>1</th>\n",
       "      <td>33510</td>\n",
       "      <td>484592</td>\n",
       "      <td>469.10</td>\n",
       "      <td>4</td>\n",
       "      <td>1876.40</td>\n",
       "      <td>YES</td>\n",
       "      <td>SENDI</td>\n",
       "      <td>30</td>\n",
       "      <td>5.0</td>\n",
       "      <td>4</td>\n",
       "      <td>NO</td>\n",
       "    </tr>\n",
       "    <tr>\n",
       "      <th>2</th>\n",
       "      <td>26390</td>\n",
       "      <td>191104</td>\n",
       "      <td>664.31</td>\n",
       "      <td>2</td>\n",
       "      <td>1328.62</td>\n",
       "      <td>YES</td>\n",
       "      <td>KEVIN</td>\n",
       "      <td>4</td>\n",
       "      <td>7.0</td>\n",
       "      <td></td>\n",
       "      <td>YES</td>\n",
       "    </tr>\n",
       "    <tr>\n",
       "      <th>3</th>\n",
       "      <td>48580</td>\n",
       "      <td>124180</td>\n",
       "      <td>333.95</td>\n",
       "      <td>3</td>\n",
       "      <td>1001.85</td>\n",
       "      <td>YES</td>\n",
       "      <td>SENDI</td>\n",
       "      <td>29</td>\n",
       "      <td>2.0</td>\n",
       "      <td>3</td>\n",
       "      <td>NO</td>\n",
       "    </tr>\n",
       "    <tr>\n",
       "      <th>4</th>\n",
       "      <td>14600</td>\n",
       "      <td>223591</td>\n",
       "      <td>853.44</td>\n",
       "      <td>1</td>\n",
       "      <td>853.44</td>\n",
       "      <td>YES</td>\n",
       "      <td>KEVIN</td>\n",
       "      <td>7</td>\n",
       "      <td>1.0</td>\n",
       "      <td></td>\n",
       "      <td>NO</td>\n",
       "    </tr>\n",
       "  </tbody>\n",
       "</table>\n",
       "</div>"
      ],
      "text/plain": [
       "  USERID    ITEM  PROFIT  QTY    TOTAL PURCHASE PPC_ADD DISCOUNT  MONTH  \\\n",
       "0  15410  309261  177.68    4   710.72      YES   KEVIN       28    5.0   \n",
       "1  33510  484592  469.10    4  1876.40      YES   SENDI       30    5.0   \n",
       "2  26390  191104  664.31    2  1328.62      YES   KEVIN        4    7.0   \n",
       "3  48580  124180  333.95    3  1001.85      YES   SENDI       29    2.0   \n",
       "4  14600  223591  853.44    1   853.44      YES   KEVIN        7    1.0   \n",
       "\n",
       "  RATING REVIEW  \n",
       "0      1     NO  \n",
       "1      4     NO  \n",
       "2           YES  \n",
       "3      3     NO  \n",
       "4            NO  "
      ]
     },
     "execution_count": 66,
     "metadata": {},
     "output_type": "execute_result"
    }
   ],
   "source": [
    "df_trans_price.head()"
   ]
  },
  {
   "cell_type": "code",
   "execution_count": 67,
   "metadata": {},
   "outputs": [
    {
     "name": "stderr",
     "output_type": "stream",
     "text": [
      "/Users/lamdoan/opt/anaconda3/lib/python3.7/site-packages/ipykernel_launcher.py:3: SettingWithCopyWarning: \n",
      "A value is trying to be set on a copy of a slice from a DataFrame.\n",
      "Try using .loc[row_indexer,col_indexer] = value instead\n",
      "\n",
      "See the caveats in the documentation: https://pandas.pydata.org/pandas-docs/stable/user_guide/indexing.html#returning-a-view-versus-a-copy\n",
      "  This is separate from the ipykernel package so we can avoid doing imports until\n",
      "/Users/lamdoan/opt/anaconda3/lib/python3.7/site-packages/ipykernel_launcher.py:4: SettingWithCopyWarning: \n",
      "A value is trying to be set on a copy of a slice from a DataFrame\n",
      "\n",
      "See the caveats in the documentation: https://pandas.pydata.org/pandas-docs/stable/user_guide/indexing.html#returning-a-view-versus-a-copy\n",
      "  after removing the cwd from sys.path.\n"
     ]
    }
   ],
   "source": [
    "# create a dataframe called df_item_suplid from df_item with two column: ITEM and suplid\n",
    "df_ic = df_item[['ITEM','CATEGORY']]\n",
    "df_ic['ITEM'] = df_ic['ITEM'].apply(str)\n",
    "df_ic.drop_duplicates(keep='first',inplace=True)\n",
    "\n",
    "# convert the dataframe to a dictionary\n",
    "dict_ic= df_ic.set_index('ITEM').to_dict()['CATEGORY']"
   ]
  },
  {
   "cell_type": "code",
   "execution_count": 68,
   "metadata": {},
   "outputs": [
    {
     "name": "stderr",
     "output_type": "stream",
     "text": [
      "/Users/lamdoan/opt/anaconda3/lib/python3.7/site-packages/ipykernel_launcher.py:2: SettingWithCopyWarning: \n",
      "A value is trying to be set on a copy of a slice from a DataFrame.\n",
      "Try using .loc[row_indexer,col_indexer] = value instead\n",
      "\n",
      "See the caveats in the documentation: https://pandas.pydata.org/pandas-docs/stable/user_guide/indexing.html#returning-a-view-versus-a-copy\n",
      "  \n"
     ]
    }
   ],
   "source": [
    "df=df_trans[['PURCHASE','ITEM']]\n",
    "df['ITEM'] = df['ITEM'].apply(str)\n",
    "# Mapping USERID column by COUNTRY column from df_item\n",
    "df= df.replace(dict_ic)"
   ]
  },
  {
   "cell_type": "code",
   "execution_count": 69,
   "metadata": {
    "scrolled": true
   },
   "outputs": [],
   "source": [
    "df.rename(columns={\"ITEM\": \"CATEGORY\"},inplace=True)"
   ]
  },
  {
   "cell_type": "code",
   "execution_count": 70,
   "metadata": {},
   "outputs": [
    {
     "data": {
      "image/png": "[encoded data removed]",
      "text/plain": [
       "<Figure size 720x720 with 1 Axes>"
      ]
     },
     "metadata": {},
     "output_type": "display_data"
    }
   ],
   "source": [
    "plt.figure(figsize=(10,10))\n",
    "sns.countplot(y='CATEGORY',data=df,hue='PURCHASE')\n",
    "\n",
    "plt.title('The number of ordered items at each category colored by the YES or NO purchase',fontsize=16)\n",
    "plt.xlabel('Number of ordered items',fontsize=16)\n",
    "plt.ylabel('Category',fontsize=16)\n",
    "plt.savefig(\"fig_3.10.png\", dpi=100)"
   ]
  },
  {
   "cell_type": "markdown",
   "metadata": {},
   "source": [
    "### Number of transcation with each PPC_ADD"
   ]
  },
  {
   "cell_type": "code",
   "execution_count": 71,
   "metadata": {},
   "outputs": [
    {
     "data": {
      "image/png": "[encoded data removed]",
      "text/plain": [
       "<Figure size 720x864 with 1 Axes>"
      ]
     },
     "metadata": {},
     "output_type": "display_data"
    }
   ],
   "source": [
    "plt.figure(figsize=(10,12))\n",
    "sns.countplot(data=df_trans_price,x='PPC_ADD',hue=\"PURCHASE\")\n",
    "\n",
    "plt.title('Number of transcation with each PPC_ADD',fontsize=16)\n",
    "plt.xlabel('NUMBER OF ITEMS',fontsize=16)\n",
    "plt.ylabel('CATEGORY',fontsize=16)\n",
    "plt.savefig(\"fig_2.1.png\", dpi=100)"
   ]
  },
  {
   "cell_type": "code",
   "execution_count": null,
   "metadata": {},
   "outputs": [],
   "source": []
  },
  {
   "cell_type": "markdown",
   "metadata": {},
   "source": [
    "# 2. Using Support Vector Machines method to make a model predicting if the transaction has YES or NO status in the PURCHASE column"
   ]
  },
  {
   "cell_type": "code",
   "execution_count": 72,
   "metadata": {},
   "outputs": [
    {
     "data": {
      "text/html": [
       "<div>\n",
       "<style scoped>\n",
       "    .dataframe tbody tr th:only-of-type {\n",
       "        vertical-align: middle;\n",
       "    }\n",
       "\n",
       "    .dataframe tbody tr th {\n",
       "        vertical-align: top;\n",
       "    }\n",
       "\n",
       "    .dataframe thead th {\n",
       "        text-align: right;\n",
       "    }\n",
       "</style>\n",
       "<table border=\"1\" class=\"dataframe\">\n",
       "  <thead>\n",
       "    <tr style=\"text-align: right;\">\n",
       "      <th></th>\n",
       "      <th>USERID</th>\n",
       "      <th>ITEM</th>\n",
       "      <th>PROFIT</th>\n",
       "      <th>QTY</th>\n",
       "      <th>TOTAL</th>\n",
       "      <th>PURCHASE</th>\n",
       "      <th>PPC_ADD</th>\n",
       "      <th>DISCOUNT</th>\n",
       "      <th>MONTH</th>\n",
       "      <th>RATING</th>\n",
       "      <th>REVIEW</th>\n",
       "    </tr>\n",
       "  </thead>\n",
       "  <tbody>\n",
       "    <tr>\n",
       "      <th>0</th>\n",
       "      <td>15410</td>\n",
       "      <td>309261</td>\n",
       "      <td>177.68</td>\n",
       "      <td>4</td>\n",
       "      <td>710.72</td>\n",
       "      <td>YES</td>\n",
       "      <td>KEVIN</td>\n",
       "      <td>28</td>\n",
       "      <td>5.0</td>\n",
       "      <td>1</td>\n",
       "      <td>NO</td>\n",
       "    </tr>\n",
       "    <tr>\n",
       "      <th>1</th>\n",
       "      <td>33510</td>\n",
       "      <td>484592</td>\n",
       "      <td>469.10</td>\n",
       "      <td>4</td>\n",
       "      <td>1876.40</td>\n",
       "      <td>YES</td>\n",
       "      <td>SENDI</td>\n",
       "      <td>30</td>\n",
       "      <td>5.0</td>\n",
       "      <td>4</td>\n",
       "      <td>NO</td>\n",
       "    </tr>\n",
       "    <tr>\n",
       "      <th>2</th>\n",
       "      <td>26390</td>\n",
       "      <td>191104</td>\n",
       "      <td>664.31</td>\n",
       "      <td>2</td>\n",
       "      <td>1328.62</td>\n",
       "      <td>YES</td>\n",
       "      <td>KEVIN</td>\n",
       "      <td>4</td>\n",
       "      <td>7.0</td>\n",
       "      <td></td>\n",
       "      <td>YES</td>\n",
       "    </tr>\n",
       "    <tr>\n",
       "      <th>3</th>\n",
       "      <td>48580</td>\n",
       "      <td>124180</td>\n",
       "      <td>333.95</td>\n",
       "      <td>3</td>\n",
       "      <td>1001.85</td>\n",
       "      <td>YES</td>\n",
       "      <td>SENDI</td>\n",
       "      <td>29</td>\n",
       "      <td>2.0</td>\n",
       "      <td>3</td>\n",
       "      <td>NO</td>\n",
       "    </tr>\n",
       "    <tr>\n",
       "      <th>4</th>\n",
       "      <td>14600</td>\n",
       "      <td>223591</td>\n",
       "      <td>853.44</td>\n",
       "      <td>1</td>\n",
       "      <td>853.44</td>\n",
       "      <td>YES</td>\n",
       "      <td>KEVIN</td>\n",
       "      <td>7</td>\n",
       "      <td>1.0</td>\n",
       "      <td></td>\n",
       "      <td>NO</td>\n",
       "    </tr>\n",
       "  </tbody>\n",
       "</table>\n",
       "</div>"
      ],
      "text/plain": [
       "  USERID    ITEM  PROFIT  QTY    TOTAL PURCHASE PPC_ADD DISCOUNT  MONTH  \\\n",
       "0  15410  309261  177.68    4   710.72      YES   KEVIN       28    5.0   \n",
       "1  33510  484592  469.10    4  1876.40      YES   SENDI       30    5.0   \n",
       "2  26390  191104  664.31    2  1328.62      YES   KEVIN        4    7.0   \n",
       "3  48580  124180  333.95    3  1001.85      YES   SENDI       29    2.0   \n",
       "4  14600  223591  853.44    1   853.44      YES   KEVIN        7    1.0   \n",
       "\n",
       "  RATING REVIEW  \n",
       "0      1     NO  \n",
       "1      4     NO  \n",
       "2           YES  \n",
       "3      3     NO  \n",
       "4            NO  "
      ]
     },
     "execution_count": 72,
     "metadata": {},
     "output_type": "execute_result"
    }
   ],
   "source": [
    "df_trans_price.head()"
   ]
  },
  {
   "cell_type": "code",
   "execution_count": 73,
   "metadata": {},
   "outputs": [
    {
     "name": "stdout",
     "output_type": "stream",
     "text": [
      "<class 'pandas.core.frame.DataFrame'>\n",
      "RangeIndex: 2188800 entries, 0 to 2188799\n",
      "Data columns (total 11 columns):\n",
      " #   Column    Dtype  \n",
      "---  ------    -----  \n",
      " 0   USERID    object \n",
      " 1   ITEM      int64  \n",
      " 2   PROFIT    float64\n",
      " 3   QTY       int8   \n",
      " 4   TOTAL     float64\n",
      " 5   PURCHASE  object \n",
      " 6   PPC_ADD   object \n",
      " 7   DISCOUNT  object \n",
      " 8   MONTH     float64\n",
      " 9   RATING    object \n",
      " 10  REVIEW    object \n",
      "dtypes: float64(3), int64(1), int8(1), object(6)\n",
      "memory usage: 169.1+ MB\n"
     ]
    }
   ],
   "source": [
    "df_trans_price.info()"
   ]
  },
  {
   "cell_type": "markdown",
   "metadata": {},
   "source": [
    "## 2.1 Preprocessing data for the model"
   ]
  },
  {
   "cell_type": "markdown",
   "metadata": {},
   "source": [
    "### Create a new dataframe\n"
   ]
  },
  {
   "cell_type": "code",
   "execution_count": 74,
   "metadata": {},
   "outputs": [
    {
     "data": {
      "text/html": [
       "<div>\n",
       "<style scoped>\n",
       "    .dataframe tbody tr th:only-of-type {\n",
       "        vertical-align: middle;\n",
       "    }\n",
       "\n",
       "    .dataframe tbody tr th {\n",
       "        vertical-align: top;\n",
       "    }\n",
       "\n",
       "    .dataframe thead th {\n",
       "        text-align: right;\n",
       "    }\n",
       "</style>\n",
       "<table border=\"1\" class=\"dataframe\">\n",
       "  <thead>\n",
       "    <tr style=\"text-align: right;\">\n",
       "      <th></th>\n",
       "      <th>QTY</th>\n",
       "      <th>TOTAL</th>\n",
       "      <th>PURCHASE</th>\n",
       "      <th>PPC_ADD</th>\n",
       "      <th>DISCOUNT</th>\n",
       "      <th>MONTH</th>\n",
       "      <th>RATING</th>\n",
       "      <th>REVIEW</th>\n",
       "    </tr>\n",
       "  </thead>\n",
       "  <tbody>\n",
       "    <tr>\n",
       "      <th>0</th>\n",
       "      <td>4</td>\n",
       "      <td>710.72</td>\n",
       "      <td>YES</td>\n",
       "      <td>KEVIN</td>\n",
       "      <td>28</td>\n",
       "      <td>5.0</td>\n",
       "      <td>1</td>\n",
       "      <td>NO</td>\n",
       "    </tr>\n",
       "    <tr>\n",
       "      <th>1</th>\n",
       "      <td>4</td>\n",
       "      <td>1876.40</td>\n",
       "      <td>YES</td>\n",
       "      <td>SENDI</td>\n",
       "      <td>30</td>\n",
       "      <td>5.0</td>\n",
       "      <td>4</td>\n",
       "      <td>NO</td>\n",
       "    </tr>\n",
       "    <tr>\n",
       "      <th>2</th>\n",
       "      <td>2</td>\n",
       "      <td>1328.62</td>\n",
       "      <td>YES</td>\n",
       "      <td>KEVIN</td>\n",
       "      <td>4</td>\n",
       "      <td>7.0</td>\n",
       "      <td></td>\n",
       "      <td>YES</td>\n",
       "    </tr>\n",
       "    <tr>\n",
       "      <th>3</th>\n",
       "      <td>3</td>\n",
       "      <td>1001.85</td>\n",
       "      <td>YES</td>\n",
       "      <td>SENDI</td>\n",
       "      <td>29</td>\n",
       "      <td>2.0</td>\n",
       "      <td>3</td>\n",
       "      <td>NO</td>\n",
       "    </tr>\n",
       "    <tr>\n",
       "      <th>4</th>\n",
       "      <td>1</td>\n",
       "      <td>853.44</td>\n",
       "      <td>YES</td>\n",
       "      <td>KEVIN</td>\n",
       "      <td>7</td>\n",
       "      <td>1.0</td>\n",
       "      <td></td>\n",
       "      <td>NO</td>\n",
       "    </tr>\n",
       "  </tbody>\n",
       "</table>\n",
       "</div>"
      ],
      "text/plain": [
       "   QTY    TOTAL PURCHASE PPC_ADD DISCOUNT  MONTH RATING REVIEW\n",
       "0    4   710.72      YES   KEVIN       28    5.0      1     NO\n",
       "1    4  1876.40      YES   SENDI       30    5.0      4     NO\n",
       "2    2  1328.62      YES   KEVIN        4    7.0           YES\n",
       "3    3  1001.85      YES   SENDI       29    2.0      3     NO\n",
       "4    1   853.44      YES   KEVIN        7    1.0            NO"
      ]
     },
     "execution_count": 74,
     "metadata": {},
     "output_type": "execute_result"
    }
   ],
   "source": [
    "# create a new dataframe\n",
    "df=df_trans_price.drop(['USERID','ITEM','PROFIT'],axis=1)\n",
    "df.head()"
   ]
  },
  {
   "cell_type": "markdown",
   "metadata": {},
   "source": [
    "### Drop the rows with empty cells"
   ]
  },
  {
   "cell_type": "code",
   "execution_count": 75,
   "metadata": {},
   "outputs": [
    {
     "name": "stdout",
     "output_type": "stream",
     "text": [
      "<class 'pandas.core.frame.DataFrame'>\n",
      "Int64Index: 1246631 entries, 0 to 2188795\n",
      "Data columns (total 8 columns):\n",
      " #   Column    Non-Null Count    Dtype  \n",
      "---  ------    --------------    -----  \n",
      " 0   QTY       1246631 non-null  int8   \n",
      " 1   TOTAL     1246631 non-null  float64\n",
      " 2   PURCHASE  1246631 non-null  object \n",
      " 3   PPC_ADD   1246631 non-null  object \n",
      " 4   DISCOUNT  1246631 non-null  object \n",
      " 5   MONTH     1246631 non-null  float64\n",
      " 6   RATING    1246631 non-null  object \n",
      " 7   REVIEW    1246631 non-null  object \n",
      "dtypes: float64(2), int8(1), object(5)\n",
      "memory usage: 77.3+ MB\n"
     ]
    }
   ],
   "source": [
    "# Drop the rows with empty cells\n",
    "import numpy as np\n",
    "df = df.replace(' ', np.nan)\n",
    "df.dropna(inplace=True)\n",
    "df.info()"
   ]
  },
  {
   "cell_type": "markdown",
   "metadata": {},
   "source": [
    "### Split the PPC_ADD comumn into multiple dummy variables"
   ]
  },
  {
   "cell_type": "code",
   "execution_count": 76,
   "metadata": {},
   "outputs": [
    {
     "data": {
      "text/html": [
       "<div>\n",
       "<style scoped>\n",
       "    .dataframe tbody tr th:only-of-type {\n",
       "        vertical-align: middle;\n",
       "    }\n",
       "\n",
       "    .dataframe tbody tr th {\n",
       "        vertical-align: top;\n",
       "    }\n",
       "\n",
       "    .dataframe thead th {\n",
       "        text-align: right;\n",
       "    }\n",
       "</style>\n",
       "<table border=\"1\" class=\"dataframe\">\n",
       "  <thead>\n",
       "    <tr style=\"text-align: right;\">\n",
       "      <th></th>\n",
       "      <th>BIANCA</th>\n",
       "      <th>ISABELLA</th>\n",
       "      <th>KENZA</th>\n",
       "      <th>KEVIN</th>\n",
       "      <th>NO</th>\n",
       "      <th>SENDI</th>\n",
       "    </tr>\n",
       "  </thead>\n",
       "  <tbody>\n",
       "    <tr>\n",
       "      <th>0</th>\n",
       "      <td>0</td>\n",
       "      <td>0</td>\n",
       "      <td>0</td>\n",
       "      <td>1</td>\n",
       "      <td>0</td>\n",
       "      <td>0</td>\n",
       "    </tr>\n",
       "    <tr>\n",
       "      <th>1</th>\n",
       "      <td>0</td>\n",
       "      <td>0</td>\n",
       "      <td>0</td>\n",
       "      <td>0</td>\n",
       "      <td>0</td>\n",
       "      <td>1</td>\n",
       "    </tr>\n",
       "    <tr>\n",
       "      <th>3</th>\n",
       "      <td>0</td>\n",
       "      <td>0</td>\n",
       "      <td>0</td>\n",
       "      <td>0</td>\n",
       "      <td>0</td>\n",
       "      <td>1</td>\n",
       "    </tr>\n",
       "    <tr>\n",
       "      <th>5</th>\n",
       "      <td>0</td>\n",
       "      <td>1</td>\n",
       "      <td>0</td>\n",
       "      <td>0</td>\n",
       "      <td>0</td>\n",
       "      <td>0</td>\n",
       "    </tr>\n",
       "    <tr>\n",
       "      <th>6</th>\n",
       "      <td>0</td>\n",
       "      <td>1</td>\n",
       "      <td>0</td>\n",
       "      <td>0</td>\n",
       "      <td>0</td>\n",
       "      <td>0</td>\n",
       "    </tr>\n",
       "    <tr>\n",
       "      <th>...</th>\n",
       "      <td>...</td>\n",
       "      <td>...</td>\n",
       "      <td>...</td>\n",
       "      <td>...</td>\n",
       "      <td>...</td>\n",
       "      <td>...</td>\n",
       "    </tr>\n",
       "    <tr>\n",
       "      <th>2188787</th>\n",
       "      <td>1</td>\n",
       "      <td>0</td>\n",
       "      <td>0</td>\n",
       "      <td>0</td>\n",
       "      <td>0</td>\n",
       "      <td>0</td>\n",
       "    </tr>\n",
       "    <tr>\n",
       "      <th>2188788</th>\n",
       "      <td>0</td>\n",
       "      <td>0</td>\n",
       "      <td>0</td>\n",
       "      <td>0</td>\n",
       "      <td>0</td>\n",
       "      <td>1</td>\n",
       "    </tr>\n",
       "    <tr>\n",
       "      <th>2188789</th>\n",
       "      <td>0</td>\n",
       "      <td>0</td>\n",
       "      <td>0</td>\n",
       "      <td>0</td>\n",
       "      <td>1</td>\n",
       "      <td>0</td>\n",
       "    </tr>\n",
       "    <tr>\n",
       "      <th>2188792</th>\n",
       "      <td>0</td>\n",
       "      <td>0</td>\n",
       "      <td>0</td>\n",
       "      <td>0</td>\n",
       "      <td>1</td>\n",
       "      <td>0</td>\n",
       "    </tr>\n",
       "    <tr>\n",
       "      <th>2188795</th>\n",
       "      <td>0</td>\n",
       "      <td>0</td>\n",
       "      <td>1</td>\n",
       "      <td>0</td>\n",
       "      <td>0</td>\n",
       "      <td>0</td>\n",
       "    </tr>\n",
       "  </tbody>\n",
       "</table>\n",
       "<p>1246631 rows × 6 columns</p>\n",
       "</div>"
      ],
      "text/plain": [
       "         BIANCA  ISABELLA  KENZA  KEVIN  NO  SENDI\n",
       "0             0         0      0      1   0      0\n",
       "1             0         0      0      0   0      1\n",
       "3             0         0      0      0   0      1\n",
       "5             0         1      0      0   0      0\n",
       "6             0         1      0      0   0      0\n",
       "...         ...       ...    ...    ...  ..    ...\n",
       "2188787       1         0      0      0   0      0\n",
       "2188788       0         0      0      0   0      1\n",
       "2188789       0         0      0      0   1      0\n",
       "2188792       0         0      0      0   1      0\n",
       "2188795       0         0      1      0   0      0\n",
       "\n",
       "[1246631 rows x 6 columns]"
      ]
     },
     "execution_count": 76,
     "metadata": {},
     "output_type": "execute_result"
    }
   ],
   "source": [
    "brach_column=pd.get_dummies(df['PPC_ADD'])\n",
    "brach_column"
   ]
  },
  {
   "cell_type": "code",
   "execution_count": 77,
   "metadata": {},
   "outputs": [
    {
     "data": {
      "text/html": [
       "<div>\n",
       "<style scoped>\n",
       "    .dataframe tbody tr th:only-of-type {\n",
       "        vertical-align: middle;\n",
       "    }\n",
       "\n",
       "    .dataframe tbody tr th {\n",
       "        vertical-align: top;\n",
       "    }\n",
       "\n",
       "    .dataframe thead th {\n",
       "        text-align: right;\n",
       "    }\n",
       "</style>\n",
       "<table border=\"1\" class=\"dataframe\">\n",
       "  <thead>\n",
       "    <tr style=\"text-align: right;\">\n",
       "      <th></th>\n",
       "      <th>QTY</th>\n",
       "      <th>TOTAL</th>\n",
       "      <th>PURCHASE</th>\n",
       "      <th>PPC_ADD</th>\n",
       "      <th>DISCOUNT</th>\n",
       "      <th>MONTH</th>\n",
       "      <th>RATING</th>\n",
       "      <th>REVIEW</th>\n",
       "      <th>BIANCA</th>\n",
       "      <th>ISABELLA</th>\n",
       "      <th>KENZA</th>\n",
       "      <th>KEVIN</th>\n",
       "      <th>NO</th>\n",
       "      <th>SENDI</th>\n",
       "    </tr>\n",
       "  </thead>\n",
       "  <tbody>\n",
       "    <tr>\n",
       "      <th>0</th>\n",
       "      <td>4</td>\n",
       "      <td>710.72</td>\n",
       "      <td>YES</td>\n",
       "      <td>KEVIN</td>\n",
       "      <td>28</td>\n",
       "      <td>5.0</td>\n",
       "      <td>1</td>\n",
       "      <td>NO</td>\n",
       "      <td>0</td>\n",
       "      <td>0</td>\n",
       "      <td>0</td>\n",
       "      <td>1</td>\n",
       "      <td>0</td>\n",
       "      <td>0</td>\n",
       "    </tr>\n",
       "    <tr>\n",
       "      <th>1</th>\n",
       "      <td>4</td>\n",
       "      <td>1876.40</td>\n",
       "      <td>YES</td>\n",
       "      <td>SENDI</td>\n",
       "      <td>30</td>\n",
       "      <td>5.0</td>\n",
       "      <td>4</td>\n",
       "      <td>NO</td>\n",
       "      <td>0</td>\n",
       "      <td>0</td>\n",
       "      <td>0</td>\n",
       "      <td>0</td>\n",
       "      <td>0</td>\n",
       "      <td>1</td>\n",
       "    </tr>\n",
       "    <tr>\n",
       "      <th>3</th>\n",
       "      <td>3</td>\n",
       "      <td>1001.85</td>\n",
       "      <td>YES</td>\n",
       "      <td>SENDI</td>\n",
       "      <td>29</td>\n",
       "      <td>2.0</td>\n",
       "      <td>3</td>\n",
       "      <td>NO</td>\n",
       "      <td>0</td>\n",
       "      <td>0</td>\n",
       "      <td>0</td>\n",
       "      <td>0</td>\n",
       "      <td>0</td>\n",
       "      <td>1</td>\n",
       "    </tr>\n",
       "    <tr>\n",
       "      <th>5</th>\n",
       "      <td>2</td>\n",
       "      <td>1067.22</td>\n",
       "      <td>YES</td>\n",
       "      <td>ISABELLA</td>\n",
       "      <td>4</td>\n",
       "      <td>7.0</td>\n",
       "      <td>4</td>\n",
       "      <td>YES</td>\n",
       "      <td>0</td>\n",
       "      <td>1</td>\n",
       "      <td>0</td>\n",
       "      <td>0</td>\n",
       "      <td>0</td>\n",
       "      <td>0</td>\n",
       "    </tr>\n",
       "    <tr>\n",
       "      <th>6</th>\n",
       "      <td>2</td>\n",
       "      <td>74.26</td>\n",
       "      <td>YES</td>\n",
       "      <td>ISABELLA</td>\n",
       "      <td>11</td>\n",
       "      <td>11.0</td>\n",
       "      <td>2</td>\n",
       "      <td>YES</td>\n",
       "      <td>0</td>\n",
       "      <td>1</td>\n",
       "      <td>0</td>\n",
       "      <td>0</td>\n",
       "      <td>0</td>\n",
       "      <td>0</td>\n",
       "    </tr>\n",
       "  </tbody>\n",
       "</table>\n",
       "</div>"
      ],
      "text/plain": [
       "   QTY    TOTAL PURCHASE   PPC_ADD DISCOUNT  MONTH RATING REVIEW  BIANCA  \\\n",
       "0    4   710.72      YES     KEVIN       28    5.0      1     NO       0   \n",
       "1    4  1876.40      YES     SENDI       30    5.0      4     NO       0   \n",
       "3    3  1001.85      YES     SENDI       29    2.0      3     NO       0   \n",
       "5    2  1067.22      YES  ISABELLA        4    7.0      4    YES       0   \n",
       "6    2    74.26      YES  ISABELLA       11   11.0      2    YES       0   \n",
       "\n",
       "   ISABELLA  KENZA  KEVIN  NO  SENDI  \n",
       "0         0      0      1   0      0  \n",
       "1         0      0      0   0      1  \n",
       "3         0      0      0   0      1  \n",
       "5         1      0      0   0      0  \n",
       "6         1      0      0   0      0  "
      ]
     },
     "execution_count": 77,
     "metadata": {},
     "output_type": "execute_result"
    }
   ],
   "source": [
    "# Concate to the dummy variables to df\n",
    "df=pd.concat([df, brach_column], axis=1)\n",
    "df.head()"
   ]
  },
  {
   "cell_type": "code",
   "execution_count": 78,
   "metadata": {},
   "outputs": [],
   "source": [
    "# drop the original PPC_ADD column\n",
    "df = df.drop('PPC_ADD',axis=1)"
   ]
  },
  {
   "cell_type": "code",
   "execution_count": 79,
   "metadata": {},
   "outputs": [],
   "source": [
    "df['RATING'] = pd.to_numeric(df['RATING'])\n",
    "df['DISCOUNT'] = pd.to_numeric(df['DISCOUNT'])"
   ]
  },
  {
   "cell_type": "code",
   "execution_count": 80,
   "metadata": {},
   "outputs": [
    {
     "name": "stdout",
     "output_type": "stream",
     "text": [
      "<class 'pandas.core.frame.DataFrame'>\n",
      "Int64Index: 1246631 entries, 0 to 2188795\n",
      "Data columns (total 13 columns):\n",
      " #   Column    Non-Null Count    Dtype  \n",
      "---  ------    --------------    -----  \n",
      " 0   QTY       1246631 non-null  int8   \n",
      " 1   TOTAL     1246631 non-null  float64\n",
      " 2   PURCHASE  1246631 non-null  object \n",
      " 3   DISCOUNT  1246631 non-null  int64  \n",
      " 4   MONTH     1246631 non-null  float64\n",
      " 5   RATING    1246631 non-null  int64  \n",
      " 6   REVIEW    1246631 non-null  object \n",
      " 7   BIANCA    1246631 non-null  uint8  \n",
      " 8   ISABELLA  1246631 non-null  uint8  \n",
      " 9   KENZA     1246631 non-null  uint8  \n",
      " 10  KEVIN     1246631 non-null  uint8  \n",
      " 11  NO        1246631 non-null  uint8  \n",
      " 12  SENDI     1246631 non-null  uint8  \n",
      "dtypes: float64(2), int64(2), int8(1), object(2), uint8(6)\n",
      "memory usage: 74.9+ MB\n"
     ]
    }
   ],
   "source": [
    "df.info()"
   ]
  },
  {
   "cell_type": "markdown",
   "metadata": {},
   "source": [
    "### Turn the data from the 'REVIEW' and 'PURCHASE' column into binary data, by mapping the value of 0 to  'NO', and the value of 1 to 'YES' in this column"
   ]
  },
  {
   "cell_type": "code",
   "execution_count": 81,
   "metadata": {},
   "outputs": [],
   "source": [
    "df['REVIEW']=df['REVIEW'].map({'NO':0,'YES':1})"
   ]
  },
  {
   "cell_type": "code",
   "execution_count": 82,
   "metadata": {},
   "outputs": [],
   "source": [
    "df['PURCHASE']=df['PURCHASE'].map({'NO':0,'YES':1})"
   ]
  },
  {
   "cell_type": "code",
   "execution_count": 83,
   "metadata": {},
   "outputs": [
    {
     "data": {
      "text/html": [
       "<div>\n",
       "<style scoped>\n",
       "    .dataframe tbody tr th:only-of-type {\n",
       "        vertical-align: middle;\n",
       "    }\n",
       "\n",
       "    .dataframe tbody tr th {\n",
       "        vertical-align: top;\n",
       "    }\n",
       "\n",
       "    .dataframe thead th {\n",
       "        text-align: right;\n",
       "    }\n",
       "</style>\n",
       "<table border=\"1\" class=\"dataframe\">\n",
       "  <thead>\n",
       "    <tr style=\"text-align: right;\">\n",
       "      <th></th>\n",
       "      <th>QTY</th>\n",
       "      <th>TOTAL</th>\n",
       "      <th>PURCHASE</th>\n",
       "      <th>DISCOUNT</th>\n",
       "      <th>MONTH</th>\n",
       "      <th>RATING</th>\n",
       "      <th>REVIEW</th>\n",
       "      <th>BIANCA</th>\n",
       "      <th>ISABELLA</th>\n",
       "      <th>KENZA</th>\n",
       "      <th>KEVIN</th>\n",
       "      <th>NO</th>\n",
       "      <th>SENDI</th>\n",
       "    </tr>\n",
       "  </thead>\n",
       "  <tbody>\n",
       "    <tr>\n",
       "      <th>0</th>\n",
       "      <td>4</td>\n",
       "      <td>710.72</td>\n",
       "      <td>1</td>\n",
       "      <td>28</td>\n",
       "      <td>5.0</td>\n",
       "      <td>1</td>\n",
       "      <td>0</td>\n",
       "      <td>0</td>\n",
       "      <td>0</td>\n",
       "      <td>0</td>\n",
       "      <td>1</td>\n",
       "      <td>0</td>\n",
       "      <td>0</td>\n",
       "    </tr>\n",
       "    <tr>\n",
       "      <th>1</th>\n",
       "      <td>4</td>\n",
       "      <td>1876.40</td>\n",
       "      <td>1</td>\n",
       "      <td>30</td>\n",
       "      <td>5.0</td>\n",
       "      <td>4</td>\n",
       "      <td>0</td>\n",
       "      <td>0</td>\n",
       "      <td>0</td>\n",
       "      <td>0</td>\n",
       "      <td>0</td>\n",
       "      <td>0</td>\n",
       "      <td>1</td>\n",
       "    </tr>\n",
       "    <tr>\n",
       "      <th>3</th>\n",
       "      <td>3</td>\n",
       "      <td>1001.85</td>\n",
       "      <td>1</td>\n",
       "      <td>29</td>\n",
       "      <td>2.0</td>\n",
       "      <td>3</td>\n",
       "      <td>0</td>\n",
       "      <td>0</td>\n",
       "      <td>0</td>\n",
       "      <td>0</td>\n",
       "      <td>0</td>\n",
       "      <td>0</td>\n",
       "      <td>1</td>\n",
       "    </tr>\n",
       "    <tr>\n",
       "      <th>5</th>\n",
       "      <td>2</td>\n",
       "      <td>1067.22</td>\n",
       "      <td>1</td>\n",
       "      <td>4</td>\n",
       "      <td>7.0</td>\n",
       "      <td>4</td>\n",
       "      <td>1</td>\n",
       "      <td>0</td>\n",
       "      <td>1</td>\n",
       "      <td>0</td>\n",
       "      <td>0</td>\n",
       "      <td>0</td>\n",
       "      <td>0</td>\n",
       "    </tr>\n",
       "    <tr>\n",
       "      <th>6</th>\n",
       "      <td>2</td>\n",
       "      <td>74.26</td>\n",
       "      <td>1</td>\n",
       "      <td>11</td>\n",
       "      <td>11.0</td>\n",
       "      <td>2</td>\n",
       "      <td>1</td>\n",
       "      <td>0</td>\n",
       "      <td>1</td>\n",
       "      <td>0</td>\n",
       "      <td>0</td>\n",
       "      <td>0</td>\n",
       "      <td>0</td>\n",
       "    </tr>\n",
       "  </tbody>\n",
       "</table>\n",
       "</div>"
      ],
      "text/plain": [
       "   QTY    TOTAL  PURCHASE  DISCOUNT  MONTH  RATING  REVIEW  BIANCA  ISABELLA  \\\n",
       "0    4   710.72         1        28    5.0       1       0       0         0   \n",
       "1    4  1876.40         1        30    5.0       4       0       0         0   \n",
       "3    3  1001.85         1        29    2.0       3       0       0         0   \n",
       "5    2  1067.22         1         4    7.0       4       1       0         1   \n",
       "6    2    74.26         1        11   11.0       2       1       0         1   \n",
       "\n",
       "   KENZA  KEVIN  NO  SENDI  \n",
       "0      0      1   0      0  \n",
       "1      0      0   0      1  \n",
       "3      0      0   0      1  \n",
       "5      0      0   0      0  \n",
       "6      0      0   0      0  "
      ]
     },
     "execution_count": 83,
     "metadata": {},
     "output_type": "execute_result"
    }
   ],
   "source": [
    "df.head()"
   ]
  },
  {
   "cell_type": "code",
   "execution_count": 84,
   "metadata": {},
   "outputs": [
    {
     "name": "stdout",
     "output_type": "stream",
     "text": [
      "<class 'pandas.core.frame.DataFrame'>\n",
      "Int64Index: 1246631 entries, 0 to 2188795\n",
      "Data columns (total 13 columns):\n",
      " #   Column    Non-Null Count    Dtype  \n",
      "---  ------    --------------    -----  \n",
      " 0   QTY       1246631 non-null  int8   \n",
      " 1   TOTAL     1246631 non-null  float64\n",
      " 2   PURCHASE  1246631 non-null  int64  \n",
      " 3   DISCOUNT  1246631 non-null  int64  \n",
      " 4   MONTH     1246631 non-null  float64\n",
      " 5   RATING    1246631 non-null  int64  \n",
      " 6   REVIEW    1246631 non-null  int64  \n",
      " 7   BIANCA    1246631 non-null  uint8  \n",
      " 8   ISABELLA  1246631 non-null  uint8  \n",
      " 9   KENZA     1246631 non-null  uint8  \n",
      " 10  KEVIN     1246631 non-null  uint8  \n",
      " 11  NO        1246631 non-null  uint8  \n",
      " 12  SENDI     1246631 non-null  uint8  \n",
      "dtypes: float64(2), int64(4), int8(1), uint8(6)\n",
      "memory usage: 74.9 MB\n"
     ]
    }
   ],
   "source": [
    "df.info()"
   ]
  },
  {
   "cell_type": "markdown",
   "metadata": {},
   "source": [
    "### Reorder the columns"
   ]
  },
  {
   "cell_type": "code",
   "execution_count": 85,
   "metadata": {},
   "outputs": [
    {
     "data": {
      "text/plain": [
       "array(['QTY', 'TOTAL', 'PURCHASE', 'DISCOUNT', 'MONTH', 'RATING',\n",
       "       'REVIEW', 'BIANCA', 'ISABELLA', 'KENZA', 'KEVIN', 'NO', 'SENDI'],\n",
       "      dtype=object)"
      ]
     },
     "execution_count": 85,
     "metadata": {},
     "output_type": "execute_result"
    }
   ],
   "source": [
    "df.columns.values"
   ]
  },
  {
   "cell_type": "code",
   "execution_count": 86,
   "metadata": {},
   "outputs": [],
   "source": [
    "df=df[['QTY', 'TOTAL', 'DISCOUNT', 'MONTH', 'RATING',\n",
    "       'REVIEW', 'BIANCA', 'ISABELLA', 'KENZA', 'KEVIN', 'NO', 'SENDI', 'PURCHASE']]"
   ]
  },
  {
   "cell_type": "code",
   "execution_count": 87,
   "metadata": {},
   "outputs": [
    {
     "data": {
      "text/html": [
       "<div>\n",
       "<style scoped>\n",
       "    .dataframe tbody tr th:only-of-type {\n",
       "        vertical-align: middle;\n",
       "    }\n",
       "\n",
       "    .dataframe tbody tr th {\n",
       "        vertical-align: top;\n",
       "    }\n",
       "\n",
       "    .dataframe thead th {\n",
       "        text-align: right;\n",
       "    }\n",
       "</style>\n",
       "<table border=\"1\" class=\"dataframe\">\n",
       "  <thead>\n",
       "    <tr style=\"text-align: right;\">\n",
       "      <th></th>\n",
       "      <th>QTY</th>\n",
       "      <th>TOTAL</th>\n",
       "      <th>DISCOUNT</th>\n",
       "      <th>MONTH</th>\n",
       "      <th>RATING</th>\n",
       "      <th>REVIEW</th>\n",
       "      <th>BIANCA</th>\n",
       "      <th>ISABELLA</th>\n",
       "      <th>KENZA</th>\n",
       "      <th>KEVIN</th>\n",
       "      <th>NO</th>\n",
       "      <th>SENDI</th>\n",
       "      <th>PURCHASE</th>\n",
       "    </tr>\n",
       "  </thead>\n",
       "  <tbody>\n",
       "    <tr>\n",
       "      <th>0</th>\n",
       "      <td>4</td>\n",
       "      <td>710.72</td>\n",
       "      <td>28</td>\n",
       "      <td>5.0</td>\n",
       "      <td>1</td>\n",
       "      <td>0</td>\n",
       "      <td>0</td>\n",
       "      <td>0</td>\n",
       "      <td>0</td>\n",
       "      <td>1</td>\n",
       "      <td>0</td>\n",
       "      <td>0</td>\n",
       "      <td>1</td>\n",
       "    </tr>\n",
       "    <tr>\n",
       "      <th>1</th>\n",
       "      <td>4</td>\n",
       "      <td>1876.40</td>\n",
       "      <td>30</td>\n",
       "      <td>5.0</td>\n",
       "      <td>4</td>\n",
       "      <td>0</td>\n",
       "      <td>0</td>\n",
       "      <td>0</td>\n",
       "      <td>0</td>\n",
       "      <td>0</td>\n",
       "      <td>0</td>\n",
       "      <td>1</td>\n",
       "      <td>1</td>\n",
       "    </tr>\n",
       "    <tr>\n",
       "      <th>3</th>\n",
       "      <td>3</td>\n",
       "      <td>1001.85</td>\n",
       "      <td>29</td>\n",
       "      <td>2.0</td>\n",
       "      <td>3</td>\n",
       "      <td>0</td>\n",
       "      <td>0</td>\n",
       "      <td>0</td>\n",
       "      <td>0</td>\n",
       "      <td>0</td>\n",
       "      <td>0</td>\n",
       "      <td>1</td>\n",
       "      <td>1</td>\n",
       "    </tr>\n",
       "    <tr>\n",
       "      <th>5</th>\n",
       "      <td>2</td>\n",
       "      <td>1067.22</td>\n",
       "      <td>4</td>\n",
       "      <td>7.0</td>\n",
       "      <td>4</td>\n",
       "      <td>1</td>\n",
       "      <td>0</td>\n",
       "      <td>1</td>\n",
       "      <td>0</td>\n",
       "      <td>0</td>\n",
       "      <td>0</td>\n",
       "      <td>0</td>\n",
       "      <td>1</td>\n",
       "    </tr>\n",
       "    <tr>\n",
       "      <th>6</th>\n",
       "      <td>2</td>\n",
       "      <td>74.26</td>\n",
       "      <td>11</td>\n",
       "      <td>11.0</td>\n",
       "      <td>2</td>\n",
       "      <td>1</td>\n",
       "      <td>0</td>\n",
       "      <td>1</td>\n",
       "      <td>0</td>\n",
       "      <td>0</td>\n",
       "      <td>0</td>\n",
       "      <td>0</td>\n",
       "      <td>1</td>\n",
       "    </tr>\n",
       "  </tbody>\n",
       "</table>\n",
       "</div>"
      ],
      "text/plain": [
       "   QTY    TOTAL  DISCOUNT  MONTH  RATING  REVIEW  BIANCA  ISABELLA  KENZA  \\\n",
       "0    4   710.72        28    5.0       1       0       0         0      0   \n",
       "1    4  1876.40        30    5.0       4       0       0         0      0   \n",
       "3    3  1001.85        29    2.0       3       0       0         0      0   \n",
       "5    2  1067.22         4    7.0       4       1       0         1      0   \n",
       "6    2    74.26        11   11.0       2       1       0         1      0   \n",
       "\n",
       "   KEVIN  NO  SENDI  PURCHASE  \n",
       "0      1   0      0         1  \n",
       "1      0   0      1         1  \n",
       "3      0   0      1         1  \n",
       "5      0   0      0         1  \n",
       "6      0   0      0         1  "
      ]
     },
     "execution_count": 87,
     "metadata": {},
     "output_type": "execute_result"
    }
   ],
   "source": [
    "df.head()"
   ]
  },
  {
   "cell_type": "markdown",
   "metadata": {},
   "source": [
    "### 2.2. Split the data to Train and Test set"
   ]
  },
  {
   "cell_type": "markdown",
   "metadata": {},
   "source": [
    "### Take a random sample of the big dataframe\n",
    "There are quite alot of observations (rows) in the dataframe df. To optimise the time cosuming to train the model, the model will be trained with a random sample of the dataframe df"
   ]
  },
  {
   "cell_type": "code",
   "execution_count": 88,
   "metadata": {},
   "outputs": [
    {
     "data": {
      "text/html": [
       "<div>\n",
       "<style scoped>\n",
       "    .dataframe tbody tr th:only-of-type {\n",
       "        vertical-align: middle;\n",
       "    }\n",
       "\n",
       "    .dataframe tbody tr th {\n",
       "        vertical-align: top;\n",
       "    }\n",
       "\n",
       "    .dataframe thead th {\n",
       "        text-align: right;\n",
       "    }\n",
       "</style>\n",
       "<table border=\"1\" class=\"dataframe\">\n",
       "  <thead>\n",
       "    <tr style=\"text-align: right;\">\n",
       "      <th></th>\n",
       "      <th>QTY</th>\n",
       "      <th>TOTAL</th>\n",
       "      <th>DISCOUNT</th>\n",
       "      <th>MONTH</th>\n",
       "      <th>RATING</th>\n",
       "      <th>REVIEW</th>\n",
       "      <th>BIANCA</th>\n",
       "      <th>ISABELLA</th>\n",
       "      <th>KENZA</th>\n",
       "      <th>KEVIN</th>\n",
       "      <th>NO</th>\n",
       "      <th>SENDI</th>\n",
       "      <th>PURCHASE</th>\n",
       "    </tr>\n",
       "  </thead>\n",
       "  <tbody>\n",
       "    <tr>\n",
       "      <th>0</th>\n",
       "      <td>4</td>\n",
       "      <td>458.32</td>\n",
       "      <td>6</td>\n",
       "      <td>5.0</td>\n",
       "      <td>1</td>\n",
       "      <td>1</td>\n",
       "      <td>0</td>\n",
       "      <td>0</td>\n",
       "      <td>0</td>\n",
       "      <td>0</td>\n",
       "      <td>0</td>\n",
       "      <td>1</td>\n",
       "      <td>1</td>\n",
       "    </tr>\n",
       "    <tr>\n",
       "      <th>1</th>\n",
       "      <td>4</td>\n",
       "      <td>328.20</td>\n",
       "      <td>8</td>\n",
       "      <td>7.0</td>\n",
       "      <td>2</td>\n",
       "      <td>1</td>\n",
       "      <td>1</td>\n",
       "      <td>0</td>\n",
       "      <td>0</td>\n",
       "      <td>0</td>\n",
       "      <td>0</td>\n",
       "      <td>0</td>\n",
       "      <td>1</td>\n",
       "    </tr>\n",
       "    <tr>\n",
       "      <th>2</th>\n",
       "      <td>2</td>\n",
       "      <td>530.30</td>\n",
       "      <td>6</td>\n",
       "      <td>1.0</td>\n",
       "      <td>5</td>\n",
       "      <td>0</td>\n",
       "      <td>0</td>\n",
       "      <td>1</td>\n",
       "      <td>0</td>\n",
       "      <td>0</td>\n",
       "      <td>0</td>\n",
       "      <td>0</td>\n",
       "      <td>0</td>\n",
       "    </tr>\n",
       "    <tr>\n",
       "      <th>3</th>\n",
       "      <td>2</td>\n",
       "      <td>92.36</td>\n",
       "      <td>8</td>\n",
       "      <td>7.0</td>\n",
       "      <td>2</td>\n",
       "      <td>1</td>\n",
       "      <td>0</td>\n",
       "      <td>0</td>\n",
       "      <td>0</td>\n",
       "      <td>0</td>\n",
       "      <td>1</td>\n",
       "      <td>0</td>\n",
       "      <td>0</td>\n",
       "    </tr>\n",
       "    <tr>\n",
       "      <th>4</th>\n",
       "      <td>2</td>\n",
       "      <td>1169.38</td>\n",
       "      <td>18</td>\n",
       "      <td>7.0</td>\n",
       "      <td>5</td>\n",
       "      <td>1</td>\n",
       "      <td>0</td>\n",
       "      <td>0</td>\n",
       "      <td>0</td>\n",
       "      <td>1</td>\n",
       "      <td>0</td>\n",
       "      <td>0</td>\n",
       "      <td>1</td>\n",
       "    </tr>\n",
       "    <tr>\n",
       "      <th>...</th>\n",
       "      <td>...</td>\n",
       "      <td>...</td>\n",
       "      <td>...</td>\n",
       "      <td>...</td>\n",
       "      <td>...</td>\n",
       "      <td>...</td>\n",
       "      <td>...</td>\n",
       "      <td>...</td>\n",
       "      <td>...</td>\n",
       "      <td>...</td>\n",
       "      <td>...</td>\n",
       "      <td>...</td>\n",
       "      <td>...</td>\n",
       "    </tr>\n",
       "    <tr>\n",
       "      <th>8721</th>\n",
       "      <td>3</td>\n",
       "      <td>-372.75</td>\n",
       "      <td>2</td>\n",
       "      <td>7.0</td>\n",
       "      <td>5</td>\n",
       "      <td>0</td>\n",
       "      <td>0</td>\n",
       "      <td>1</td>\n",
       "      <td>0</td>\n",
       "      <td>0</td>\n",
       "      <td>0</td>\n",
       "      <td>0</td>\n",
       "      <td>1</td>\n",
       "    </tr>\n",
       "    <tr>\n",
       "      <th>8722</th>\n",
       "      <td>3</td>\n",
       "      <td>367.35</td>\n",
       "      <td>6</td>\n",
       "      <td>11.0</td>\n",
       "      <td>5</td>\n",
       "      <td>0</td>\n",
       "      <td>0</td>\n",
       "      <td>0</td>\n",
       "      <td>0</td>\n",
       "      <td>1</td>\n",
       "      <td>0</td>\n",
       "      <td>0</td>\n",
       "      <td>1</td>\n",
       "    </tr>\n",
       "    <tr>\n",
       "      <th>8723</th>\n",
       "      <td>1</td>\n",
       "      <td>496.72</td>\n",
       "      <td>24</td>\n",
       "      <td>3.0</td>\n",
       "      <td>2</td>\n",
       "      <td>0</td>\n",
       "      <td>1</td>\n",
       "      <td>0</td>\n",
       "      <td>0</td>\n",
       "      <td>0</td>\n",
       "      <td>0</td>\n",
       "      <td>0</td>\n",
       "      <td>0</td>\n",
       "    </tr>\n",
       "    <tr>\n",
       "      <th>8724</th>\n",
       "      <td>1</td>\n",
       "      <td>270.04</td>\n",
       "      <td>30</td>\n",
       "      <td>12.0</td>\n",
       "      <td>2</td>\n",
       "      <td>0</td>\n",
       "      <td>0</td>\n",
       "      <td>0</td>\n",
       "      <td>0</td>\n",
       "      <td>1</td>\n",
       "      <td>0</td>\n",
       "      <td>0</td>\n",
       "      <td>1</td>\n",
       "    </tr>\n",
       "    <tr>\n",
       "      <th>8725</th>\n",
       "      <td>4</td>\n",
       "      <td>18.36</td>\n",
       "      <td>14</td>\n",
       "      <td>4.0</td>\n",
       "      <td>2</td>\n",
       "      <td>1</td>\n",
       "      <td>0</td>\n",
       "      <td>0</td>\n",
       "      <td>0</td>\n",
       "      <td>0</td>\n",
       "      <td>1</td>\n",
       "      <td>0</td>\n",
       "      <td>0</td>\n",
       "    </tr>\n",
       "  </tbody>\n",
       "</table>\n",
       "<p>8726 rows × 13 columns</p>\n",
       "</div>"
      ],
      "text/plain": [
       "      QTY    TOTAL  DISCOUNT  MONTH  RATING  REVIEW  BIANCA  ISABELLA  KENZA  \\\n",
       "0       4   458.32         6    5.0       1       1       0         0      0   \n",
       "1       4   328.20         8    7.0       2       1       1         0      0   \n",
       "2       2   530.30         6    1.0       5       0       0         1      0   \n",
       "3       2    92.36         8    7.0       2       1       0         0      0   \n",
       "4       2  1169.38        18    7.0       5       1       0         0      0   \n",
       "...   ...      ...       ...    ...     ...     ...     ...       ...    ...   \n",
       "8721    3  -372.75         2    7.0       5       0       0         1      0   \n",
       "8722    3   367.35         6   11.0       5       0       0         0      0   \n",
       "8723    1   496.72        24    3.0       2       0       1         0      0   \n",
       "8724    1   270.04        30   12.0       2       0       0         0      0   \n",
       "8725    4    18.36        14    4.0       2       1       0         0      0   \n",
       "\n",
       "      KEVIN  NO  SENDI  PURCHASE  \n",
       "0         0   0      1         1  \n",
       "1         0   0      0         1  \n",
       "2         0   0      0         0  \n",
       "3         0   1      0         0  \n",
       "4         1   0      0         1  \n",
       "...     ...  ..    ...       ...  \n",
       "8721      0   0      0         1  \n",
       "8722      1   0      0         1  \n",
       "8723      0   0      0         0  \n",
       "8724      1   0      0         1  \n",
       "8725      0   1      0         0  \n",
       "\n",
       "[8726 rows x 13 columns]"
      ]
     },
     "execution_count": 88,
     "metadata": {},
     "output_type": "execute_result"
    }
   ],
   "source": [
    "# Select a random sample of 5% of the df dataframe\n",
    "df_m = df.sample(frac=0.007, replace=False)\n",
    "df_m.reset_index(inplace=True,drop=True)\n",
    "df_m"
   ]
  },
  {
   "cell_type": "markdown",
   "metadata": {},
   "source": [
    "### Split the model dataframe in to Train and Test set"
   ]
  },
  {
   "cell_type": "code",
   "execution_count": 89,
   "metadata": {},
   "outputs": [],
   "source": [
    "X = df_m.drop('PURCHASE',axis=1)\n",
    "y = np.ravel(df_m['PURCHASE'])"
   ]
  },
  {
   "cell_type": "code",
   "execution_count": 90,
   "metadata": {},
   "outputs": [],
   "source": [
    "from sklearn.model_selection import train_test_split"
   ]
  },
  {
   "cell_type": "code",
   "execution_count": 91,
   "metadata": {},
   "outputs": [],
   "source": [
    "X_train, X_test, y_train, y_test = train_test_split(X, y, test_size=0.30, random_state=101)"
   ]
  },
  {
   "cell_type": "markdown",
   "metadata": {},
   "source": [
    "## 2.3. Train the SVM model"
   ]
  },
  {
   "cell_type": "code",
   "execution_count": 92,
   "metadata": {
    "scrolled": true
   },
   "outputs": [
    {
     "data": {
      "text/plain": [
       "SVC(C=1.0, break_ties=False, cache_size=200, class_weight=None, coef0=0.0,\n",
       "    decision_function_shape='ovr', degree=3, gamma='scale', kernel='rbf',\n",
       "    max_iter=-1, probability=False, random_state=None, shrinking=True,\n",
       "    tol=0.001, verbose=False)"
      ]
     },
     "execution_count": 92,
     "metadata": {},
     "output_type": "execute_result"
    }
   ],
   "source": [
    "# Train the Support Vector Classifier\n",
    "from sklearn.svm import SVC\n",
    "model = SVC()\n",
    "model.fit(X_train,y_train)"
   ]
  },
  {
   "cell_type": "markdown",
   "metadata": {},
   "source": [
    "## 2.4. Predictions and Evaluations\n",
    "\n",
    "Now let's predict using the trained model"
   ]
  },
  {
   "cell_type": "markdown",
   "metadata": {},
   "source": [
    "### Confusion_matrix"
   ]
  },
  {
   "cell_type": "code",
   "execution_count": 93,
   "metadata": {},
   "outputs": [
    {
     "name": "stdout",
     "output_type": "stream",
     "text": [
      "[[   0  575]\n",
      " [   0 2043]]\n"
     ]
    }
   ],
   "source": [
    "predictions = model.predict(X_test)\n",
    "\n",
    "from sklearn.metrics import classification_report,confusion_matrix\n",
    "print(confusion_matrix(y_test,predictions))"
   ]
  },
  {
   "cell_type": "markdown",
   "metadata": {},
   "source": [
    "### Classification_report"
   ]
  },
  {
   "cell_type": "code",
   "execution_count": 94,
   "metadata": {
    "scrolled": true
   },
   "outputs": [
    {
     "name": "stdout",
     "output_type": "stream",
     "text": [
      "              precision    recall  f1-score   support\n",
      "\n",
      "           0       0.00      0.00      0.00       575\n",
      "           1       0.78      1.00      0.88      2043\n",
      "\n",
      "    accuracy                           0.78      2618\n",
      "   macro avg       0.39      0.50      0.44      2618\n",
      "weighted avg       0.61      0.78      0.68      2618\n",
      "\n"
     ]
    },
    {
     "name": "stderr",
     "output_type": "stream",
     "text": [
      "/Users/lamdoan/opt/anaconda3/lib/python3.7/site-packages/sklearn/metrics/_classification.py:1272: UndefinedMetricWarning: Precision and F-score are ill-defined and being set to 0.0 in labels with no predicted samples. Use `zero_division` parameter to control this behavior.\n",
      "  _warn_prf(average, modifier, msg_start, len(result))\n"
     ]
    }
   ],
   "source": [
    "print(classification_report(y_test,predictions))"
   ]
  },
  {
   "cell_type": "markdown",
   "metadata": {},
   "source": [
    "## 2.5. Using a built-in function called GridSearchCV to find the best input parameter for the model"
   ]
  },
  {
   "cell_type": "code",
   "execution_count": 95,
   "metadata": {},
   "outputs": [],
   "source": [
    "from sklearn.model_selection import GridSearchCV"
   ]
  },
  {
   "cell_type": "code",
   "execution_count": 96,
   "metadata": {},
   "outputs": [],
   "source": [
    "param_grid={'C':[0.1,1,10,100,1000],'gamma':[1,0.1,0.01,0.001,0.0001]}"
   ]
  },
  {
   "cell_type": "code",
   "execution_count": 97,
   "metadata": {},
   "outputs": [],
   "source": [
    "grid = GridSearchCV(SVC(),param_grid,verbose=3)"
   ]
  },
  {
   "cell_type": "code",
   "execution_count": 98,
   "metadata": {},
   "outputs": [
    {
     "name": "stdout",
     "output_type": "stream",
     "text": [
      "Fitting 5 folds for each of 25 candidates, totalling 125 fits\n",
      "[CV] C=0.1, gamma=1 ..................................................\n"
     ]
    },
    {
     "name": "stderr",
     "output_type": "stream",
     "text": [
      "[Parallel(n_jobs=1)]: Using backend SequentialBackend with 1 concurrent workers.\n"
     ]
    },
    {
     "name": "stdout",
     "output_type": "stream",
     "text": [
      "[CV] ...................... C=0.1, gamma=1, score=0.782, total=   1.2s\n",
      "[CV] C=0.1, gamma=1 ..................................................\n"
     ]
    },
    {
     "name": "stderr",
     "output_type": "stream",
     "text": [
      "[Parallel(n_jobs=1)]: Done   1 out of   1 | elapsed:    1.2s remaining:    0.0s\n"
     ]
    },
    {
     "name": "stdout",
     "output_type": "stream",
     "text": [
      "[CV] ...................... C=0.1, gamma=1, score=0.782, total=   1.0s\n",
      "[CV] C=0.1, gamma=1 ..................................................\n"
     ]
    },
    {
     "name": "stderr",
     "output_type": "stream",
     "text": [
      "[Parallel(n_jobs=1)]: Done   2 out of   2 | elapsed:    2.2s remaining:    0.0s\n"
     ]
    },
    {
     "name": "stdout",
     "output_type": "stream",
     "text": [
      "[CV] ...................... C=0.1, gamma=1, score=0.782, total=   0.9s\n",
      "[CV] C=0.1, gamma=1 ..................................................\n",
      "[CV] ...................... C=0.1, gamma=1, score=0.782, total=   1.0s\n",
      "[CV] C=0.1, gamma=1 ..................................................\n",
      "[CV] ...................... C=0.1, gamma=1, score=0.782, total=   1.0s\n",
      "[CV] C=0.1, gamma=0.1 ................................................\n",
      "[CV] .................... C=0.1, gamma=0.1, score=0.782, total=   1.0s\n",
      "[CV] C=0.1, gamma=0.1 ................................................\n",
      "[CV] .................... C=0.1, gamma=0.1, score=0.782, total=   1.0s\n",
      "[CV] C=0.1, gamma=0.1 ................................................\n",
      "[CV] .................... C=0.1, gamma=0.1, score=0.782, total=   1.0s\n",
      "[CV] C=0.1, gamma=0.1 ................................................\n",
      "[CV] .................... C=0.1, gamma=0.1, score=0.782, total=   1.0s\n",
      "[CV] C=0.1, gamma=0.1 ................................................\n",
      "[CV] .................... C=0.1, gamma=0.1, score=0.782, total=   0.9s\n",
      "[CV] C=0.1, gamma=0.01 ...............................................\n",
      "[CV] ................... C=0.1, gamma=0.01, score=0.782, total=   0.9s\n",
      "[CV] C=0.1, gamma=0.01 ...............................................\n",
      "[CV] ................... C=0.1, gamma=0.01, score=0.782, total=   0.9s\n",
      "[CV] C=0.1, gamma=0.01 ...............................................\n",
      "[CV] ................... C=0.1, gamma=0.01, score=0.782, total=   0.9s\n",
      "[CV] C=0.1, gamma=0.01 ...............................................\n",
      "[CV] ................... C=0.1, gamma=0.01, score=0.782, total=   1.4s\n",
      "[CV] C=0.1, gamma=0.01 ...............................................\n",
      "[CV] ................... C=0.1, gamma=0.01, score=0.782, total=   0.9s\n",
      "[CV] C=0.1, gamma=0.001 ..............................................\n",
      "[CV] .................. C=0.1, gamma=0.001, score=0.782, total=   1.0s\n",
      "[CV] C=0.1, gamma=0.001 ..............................................\n",
      "[CV] .................. C=0.1, gamma=0.001, score=0.782, total=   1.0s\n",
      "[CV] C=0.1, gamma=0.001 ..............................................\n",
      "[CV] .................. C=0.1, gamma=0.001, score=0.782, total=   1.0s\n",
      "[CV] C=0.1, gamma=0.001 ..............................................\n",
      "[CV] .................. C=0.1, gamma=0.001, score=0.782, total=   1.0s\n",
      "[CV] C=0.1, gamma=0.001 ..............................................\n",
      "[CV] .................. C=0.1, gamma=0.001, score=0.782, total=   1.0s\n",
      "[CV] C=0.1, gamma=0.0001 .............................................\n",
      "[CV] ................. C=0.1, gamma=0.0001, score=0.782, total=   0.7s\n",
      "[CV] C=0.1, gamma=0.0001 .............................................\n",
      "[CV] ................. C=0.1, gamma=0.0001, score=0.782, total=   0.7s\n",
      "[CV] C=0.1, gamma=0.0001 .............................................\n",
      "[CV] ................. C=0.1, gamma=0.0001, score=0.782, total=   0.7s\n",
      "[CV] C=0.1, gamma=0.0001 .............................................\n",
      "[CV] ................. C=0.1, gamma=0.0001, score=0.782, total=   0.7s\n",
      "[CV] C=0.1, gamma=0.0001 .............................................\n",
      "[CV] ................. C=0.1, gamma=0.0001, score=0.782, total=   0.7s\n",
      "[CV] C=1, gamma=1 ....................................................\n",
      "[CV] ........................ C=1, gamma=1, score=0.782, total=   1.0s\n",
      "[CV] C=1, gamma=1 ....................................................\n",
      "[CV] ........................ C=1, gamma=1, score=0.782, total=   1.0s\n",
      "[CV] C=1, gamma=1 ....................................................\n",
      "[CV] ........................ C=1, gamma=1, score=0.782, total=   1.0s\n",
      "[CV] C=1, gamma=1 ....................................................\n",
      "[CV] ........................ C=1, gamma=1, score=0.782, total=   1.0s\n",
      "[CV] C=1, gamma=1 ....................................................\n",
      "[CV] ........................ C=1, gamma=1, score=0.782, total=   1.0s\n",
      "[CV] C=1, gamma=0.1 ..................................................\n",
      "[CV] ...................... C=1, gamma=0.1, score=0.780, total=   0.9s\n",
      "[CV] C=1, gamma=0.1 ..................................................\n",
      "[CV] ...................... C=1, gamma=0.1, score=0.782, total=   0.9s\n",
      "[CV] C=1, gamma=0.1 ..................................................\n",
      "[CV] ...................... C=1, gamma=0.1, score=0.783, total=   0.9s\n",
      "[CV] C=1, gamma=0.1 ..................................................\n",
      "[CV] ...................... C=1, gamma=0.1, score=0.781, total=   0.9s\n",
      "[CV] C=1, gamma=0.1 ..................................................\n",
      "[CV] ...................... C=1, gamma=0.1, score=0.781, total=   0.9s\n",
      "[CV] C=1, gamma=0.01 .................................................\n",
      "[CV] ..................... C=1, gamma=0.01, score=0.779, total=   1.0s\n",
      "[CV] C=1, gamma=0.01 .................................................\n",
      "[CV] ..................... C=1, gamma=0.01, score=0.780, total=   1.0s\n",
      "[CV] C=1, gamma=0.01 .................................................\n",
      "[CV] ..................... C=1, gamma=0.01, score=0.777, total=   0.9s\n",
      "[CV] C=1, gamma=0.01 .................................................\n",
      "[CV] ..................... C=1, gamma=0.01, score=0.777, total=   1.0s\n",
      "[CV] C=1, gamma=0.01 .................................................\n",
      "[CV] ..................... C=1, gamma=0.01, score=0.781, total=   1.0s\n",
      "[CV] C=1, gamma=0.001 ................................................\n",
      "[CV] .................... C=1, gamma=0.001, score=0.782, total=   1.7s\n",
      "[CV] C=1, gamma=0.001 ................................................\n",
      "[CV] .................... C=1, gamma=0.001, score=0.781, total=   1.8s\n",
      "[CV] C=1, gamma=0.001 ................................................\n",
      "[CV] .................... C=1, gamma=0.001, score=0.782, total=   1.7s\n",
      "[CV] C=1, gamma=0.001 ................................................\n",
      "[CV] .................... C=1, gamma=0.001, score=0.781, total=   1.7s\n",
      "[CV] C=1, gamma=0.001 ................................................\n",
      "[CV] .................... C=1, gamma=0.001, score=0.782, total=   1.7s\n",
      "[CV] C=1, gamma=0.0001 ...............................................\n",
      "[CV] ................... C=1, gamma=0.0001, score=0.782, total=   1.5s\n",
      "[CV] C=1, gamma=0.0001 ...............................................\n",
      "[CV] ................... C=1, gamma=0.0001, score=0.782, total=   1.6s\n",
      "[CV] C=1, gamma=0.0001 ...............................................\n",
      "[CV] ................... C=1, gamma=0.0001, score=0.782, total=   1.5s\n",
      "[CV] C=1, gamma=0.0001 ...............................................\n",
      "[CV] ................... C=1, gamma=0.0001, score=0.782, total=   1.5s\n",
      "[CV] C=1, gamma=0.0001 ...............................................\n",
      "[CV] ................... C=1, gamma=0.0001, score=0.782, total=   1.6s\n",
      "[CV] C=10, gamma=1 ...................................................\n",
      "[CV] ....................... C=10, gamma=1, score=0.782, total=   1.0s\n",
      "[CV] C=10, gamma=1 ...................................................\n",
      "[CV] ....................... C=10, gamma=1, score=0.782, total=   1.0s\n",
      "[CV] C=10, gamma=1 ...................................................\n",
      "[CV] ....................... C=10, gamma=1, score=0.782, total=   1.0s\n",
      "[CV] C=10, gamma=1 ...................................................\n",
      "[CV] ....................... C=10, gamma=1, score=0.782, total=   1.0s\n",
      "[CV] C=10, gamma=1 ...................................................\n",
      "[CV] ....................... C=10, gamma=1, score=0.782, total=   1.0s\n",
      "[CV] C=10, gamma=0.1 .................................................\n",
      "[CV] ..................... C=10, gamma=0.1, score=0.760, total=   1.0s\n",
      "[CV] C=10, gamma=0.1 .................................................\n",
      "[CV] ..................... C=10, gamma=0.1, score=0.762, total=   1.0s\n",
      "[CV] C=10, gamma=0.1 .................................................\n",
      "[CV] ..................... C=10, gamma=0.1, score=0.757, total=   1.0s\n",
      "[CV] C=10, gamma=0.1 .................................................\n",
      "[CV] ..................... C=10, gamma=0.1, score=0.762, total=   1.0s\n",
      "[CV] C=10, gamma=0.1 .................................................\n",
      "[CV] ..................... C=10, gamma=0.1, score=0.762, total=   1.0s\n",
      "[CV] C=10, gamma=0.01 ................................................\n"
     ]
    },
    {
     "name": "stdout",
     "output_type": "stream",
     "text": [
      "[CV] .................... C=10, gamma=0.01, score=0.682, total=   1.4s\n",
      "[CV] C=10, gamma=0.01 ................................................\n",
      "[CV] .................... C=10, gamma=0.01, score=0.692, total=   1.2s\n",
      "[CV] C=10, gamma=0.01 ................................................\n",
      "[CV] .................... C=10, gamma=0.01, score=0.695, total=   1.3s\n",
      "[CV] C=10, gamma=0.01 ................................................\n",
      "[CV] .................... C=10, gamma=0.01, score=0.692, total=   1.4s\n",
      "[CV] C=10, gamma=0.01 ................................................\n",
      "[CV] .................... C=10, gamma=0.01, score=0.709, total=   1.4s\n",
      "[CV] C=10, gamma=0.001 ...............................................\n",
      "[CV] ................... C=10, gamma=0.001, score=0.775, total=   2.6s\n",
      "[CV] C=10, gamma=0.001 ...............................................\n",
      "[CV] ................... C=10, gamma=0.001, score=0.767, total=   2.7s\n",
      "[CV] C=10, gamma=0.001 ...............................................\n",
      "[CV] ................... C=10, gamma=0.001, score=0.770, total=   2.4s\n",
      "[CV] C=10, gamma=0.001 ...............................................\n",
      "[CV] ................... C=10, gamma=0.001, score=0.769, total=   2.4s\n",
      "[CV] C=10, gamma=0.001 ...............................................\n",
      "[CV] ................... C=10, gamma=0.001, score=0.774, total=   2.4s\n",
      "[CV] C=10, gamma=0.0001 ..............................................\n",
      "[CV] .................. C=10, gamma=0.0001, score=0.780, total=   6.2s\n",
      "[CV] C=10, gamma=0.0001 ..............................................\n",
      "[CV] .................. C=10, gamma=0.0001, score=0.781, total=   5.5s\n",
      "[CV] C=10, gamma=0.0001 ..............................................\n",
      "[CV] .................. C=10, gamma=0.0001, score=0.782, total=   6.0s\n",
      "[CV] C=10, gamma=0.0001 ..............................................\n",
      "[CV] .................. C=10, gamma=0.0001, score=0.782, total=   6.2s\n",
      "[CV] C=10, gamma=0.0001 ..............................................\n",
      "[CV] .................. C=10, gamma=0.0001, score=0.781, total=   6.3s\n",
      "[CV] C=100, gamma=1 ..................................................\n",
      "[CV] ...................... C=100, gamma=1, score=0.782, total=   1.0s\n",
      "[CV] C=100, gamma=1 ..................................................\n",
      "[CV] ...................... C=100, gamma=1, score=0.782, total=   1.0s\n",
      "[CV] C=100, gamma=1 ..................................................\n",
      "[CV] ...................... C=100, gamma=1, score=0.782, total=   1.0s\n",
      "[CV] C=100, gamma=1 ..................................................\n",
      "[CV] ...................... C=100, gamma=1, score=0.782, total=   1.0s\n",
      "[CV] C=100, gamma=1 ..................................................\n",
      "[CV] ...................... C=100, gamma=1, score=0.782, total=   1.0s\n",
      "[CV] C=100, gamma=0.1 ................................................\n",
      "[CV] .................... C=100, gamma=0.1, score=0.760, total=   1.0s\n",
      "[CV] C=100, gamma=0.1 ................................................\n",
      "[CV] .................... C=100, gamma=0.1, score=0.762, total=   1.0s\n",
      "[CV] C=100, gamma=0.1 ................................................\n",
      "[CV] .................... C=100, gamma=0.1, score=0.757, total=   1.0s\n",
      "[CV] C=100, gamma=0.1 ................................................\n",
      "[CV] .................... C=100, gamma=0.1, score=0.762, total=   1.0s\n",
      "[CV] C=100, gamma=0.1 ................................................\n",
      "[CV] .................... C=100, gamma=0.1, score=0.762, total=   1.0s\n",
      "[CV] C=100, gamma=0.01 ...............................................\n",
      "[CV] ................... C=100, gamma=0.01, score=0.654, total=   1.7s\n",
      "[CV] C=100, gamma=0.01 ...............................................\n",
      "[CV] ................... C=100, gamma=0.01, score=0.670, total=   1.9s\n",
      "[CV] C=100, gamma=0.01 ...............................................\n",
      "[CV] ................... C=100, gamma=0.01, score=0.667, total=   1.7s\n",
      "[CV] C=100, gamma=0.01 ...............................................\n",
      "[CV] ................... C=100, gamma=0.01, score=0.664, total=   1.7s\n",
      "[CV] C=100, gamma=0.01 ...............................................\n",
      "[CV] ................... C=100, gamma=0.01, score=0.672, total=   1.7s\n",
      "[CV] C=100, gamma=0.001 ..............................................\n",
      "[CV] .................. C=100, gamma=0.001, score=0.752, total=   4.3s\n",
      "[CV] C=100, gamma=0.001 ..............................................\n",
      "[CV] .................. C=100, gamma=0.001, score=0.727, total=   4.8s\n",
      "[CV] C=100, gamma=0.001 ..............................................\n",
      "[CV] .................. C=100, gamma=0.001, score=0.740, total=   4.1s\n",
      "[CV] C=100, gamma=0.001 ..............................................\n",
      "[CV] .................. C=100, gamma=0.001, score=0.735, total=   4.2s\n",
      "[CV] C=100, gamma=0.001 ..............................................\n",
      "[CV] .................. C=100, gamma=0.001, score=0.740, total=   4.5s\n",
      "[CV] C=100, gamma=0.0001 .............................................\n",
      "[CV] ................. C=100, gamma=0.0001, score=0.781, total=  26.8s\n",
      "[CV] C=100, gamma=0.0001 .............................................\n",
      "[CV] ................. C=100, gamma=0.0001, score=0.774, total=  23.2s\n",
      "[CV] C=100, gamma=0.0001 .............................................\n",
      "[CV] ................. C=100, gamma=0.0001, score=0.780, total=  28.1s\n",
      "[CV] C=100, gamma=0.0001 .............................................\n",
      "[CV] ................. C=100, gamma=0.0001, score=0.778, total=  22.8s\n",
      "[CV] C=100, gamma=0.0001 .............................................\n",
      "[CV] ................. C=100, gamma=0.0001, score=0.781, total=  27.1s\n",
      "[CV] C=1000, gamma=1 .................................................\n",
      "[CV] ..................... C=1000, gamma=1, score=0.782, total=   1.0s\n",
      "[CV] C=1000, gamma=1 .................................................\n",
      "[CV] ..................... C=1000, gamma=1, score=0.782, total=   1.0s\n",
      "[CV] C=1000, gamma=1 .................................................\n",
      "[CV] ..................... C=1000, gamma=1, score=0.782, total=   1.0s\n",
      "[CV] C=1000, gamma=1 .................................................\n",
      "[CV] ..................... C=1000, gamma=1, score=0.782, total=   1.0s\n",
      "[CV] C=1000, gamma=1 .................................................\n",
      "[CV] ..................... C=1000, gamma=1, score=0.782, total=   1.0s\n",
      "[CV] C=1000, gamma=0.1 ...............................................\n",
      "[CV] ................... C=1000, gamma=0.1, score=0.760, total=   1.0s\n",
      "[CV] C=1000, gamma=0.1 ...............................................\n",
      "[CV] ................... C=1000, gamma=0.1, score=0.762, total=   1.0s\n",
      "[CV] C=1000, gamma=0.1 ...............................................\n",
      "[CV] ................... C=1000, gamma=0.1, score=0.757, total=   1.0s\n",
      "[CV] C=1000, gamma=0.1 ...............................................\n",
      "[CV] ................... C=1000, gamma=0.1, score=0.762, total=   1.0s\n",
      "[CV] C=1000, gamma=0.1 ...............................................\n",
      "[CV] ................... C=1000, gamma=0.1, score=0.762, total=   1.0s\n",
      "[CV] C=1000, gamma=0.01 ..............................................\n",
      "[CV] .................. C=1000, gamma=0.01, score=0.655, total=   1.9s\n",
      "[CV] C=1000, gamma=0.01 ..............................................\n",
      "[CV] .................. C=1000, gamma=0.01, score=0.671, total=   1.9s\n",
      "[CV] C=1000, gamma=0.01 ..............................................\n",
      "[CV] .................. C=1000, gamma=0.01, score=0.666, total=   1.7s\n",
      "[CV] C=1000, gamma=0.01 ..............................................\n",
      "[CV] .................. C=1000, gamma=0.01, score=0.663, total=   1.7s\n",
      "[CV] C=1000, gamma=0.01 ..............................................\n",
      "[CV] .................. C=1000, gamma=0.01, score=0.676, total=   1.8s\n",
      "[CV] C=1000, gamma=0.001 .............................................\n",
      "[CV] ................. C=1000, gamma=0.001, score=0.705, total=  13.6s\n",
      "[CV] C=1000, gamma=0.001 .............................................\n",
      "[CV] ................. C=1000, gamma=0.001, score=0.659, total=  14.5s\n",
      "[CV] C=1000, gamma=0.001 .............................................\n",
      "[CV] ................. C=1000, gamma=0.001, score=0.697, total=  13.2s\n",
      "[CV] C=1000, gamma=0.001 .............................................\n"
     ]
    },
    {
     "name": "stdout",
     "output_type": "stream",
     "text": [
      "[CV] ................. C=1000, gamma=0.001, score=0.696, total=  13.9s\n",
      "[CV] C=1000, gamma=0.001 .............................................\n",
      "[CV] ................. C=1000, gamma=0.001, score=0.686, total=17.7min\n",
      "[CV] C=1000, gamma=0.0001 ............................................\n",
      "[CV] ................ C=1000, gamma=0.0001, score=0.776, total=41.4min\n",
      "[CV] C=1000, gamma=0.0001 ............................................\n",
      "[CV] ................ C=1000, gamma=0.0001, score=0.771, total= 1.7min\n",
      "[CV] C=1000, gamma=0.0001 ............................................\n",
      "[CV] ................ C=1000, gamma=0.0001, score=0.769, total= 2.1min\n",
      "[CV] C=1000, gamma=0.0001 ............................................\n",
      "[CV] ................ C=1000, gamma=0.0001, score=0.778, total= 1.5min\n",
      "[CV] C=1000, gamma=0.0001 ............................................\n",
      "[CV] ................ C=1000, gamma=0.0001, score=0.779, total= 2.8min\n"
     ]
    },
    {
     "name": "stderr",
     "output_type": "stream",
     "text": [
      "[Parallel(n_jobs=1)]: Done 125 out of 125 | elapsed: 73.2min finished\n"
     ]
    },
    {
     "data": {
      "text/plain": [
       "GridSearchCV(cv=None, error_score=nan,\n",
       "             estimator=SVC(C=1.0, break_ties=False, cache_size=200,\n",
       "                           class_weight=None, coef0=0.0,\n",
       "                           decision_function_shape='ovr', degree=3,\n",
       "                           gamma='scale', kernel='rbf', max_iter=-1,\n",
       "                           probability=False, random_state=None, shrinking=True,\n",
       "                           tol=0.001, verbose=False),\n",
       "             iid='deprecated', n_jobs=None,\n",
       "             param_grid={'C': [0.1, 1, 10, 100, 1000],\n",
       "                         'gamma': [1, 0.1, 0.01, 0.001, 0.0001]},\n",
       "             pre_dispatch='2*n_jobs', refit=True, return_train_score=False,\n",
       "             scoring=None, verbose=3)"
      ]
     },
     "execution_count": 98,
     "metadata": {},
     "output_type": "execute_result"
    }
   ],
   "source": [
    "grid.fit(X_train,y_train)"
   ]
  },
  {
   "cell_type": "code",
   "execution_count": 99,
   "metadata": {},
   "outputs": [
    {
     "data": {
      "text/plain": [
       "{'C': 0.1, 'gamma': 1}"
      ]
     },
     "execution_count": 99,
     "metadata": {},
     "output_type": "execute_result"
    }
   ],
   "source": [
    "grid.best_params_"
   ]
  },
  {
   "cell_type": "code",
   "execution_count": 100,
   "metadata": {},
   "outputs": [
    {
     "data": {
      "text/plain": [
       "SVC(C=0.1, break_ties=False, cache_size=200, class_weight=None, coef0=0.0,\n",
       "    decision_function_shape='ovr', degree=3, gamma=1, kernel='rbf', max_iter=-1,\n",
       "    probability=False, random_state=None, shrinking=True, tol=0.001,\n",
       "    verbose=False)"
      ]
     },
     "execution_count": 100,
     "metadata": {},
     "output_type": "execute_result"
    }
   ],
   "source": [
    "grid.best_estimator_"
   ]
  },
  {
   "cell_type": "code",
   "execution_count": 101,
   "metadata": {},
   "outputs": [],
   "source": [
    "grid_predictions = grid.predict(X_test)"
   ]
  },
  {
   "cell_type": "markdown",
   "metadata": {},
   "source": [
    "## Evaluation"
   ]
  },
  {
   "cell_type": "code",
   "execution_count": 102,
   "metadata": {},
   "outputs": [
    {
     "name": "stdout",
     "output_type": "stream",
     "text": [
      "[[   0  575]\n",
      " [   0 2043]]\n"
     ]
    }
   ],
   "source": [
    "print(confusion_matrix(y_test,grid_predictions))"
   ]
  },
  {
   "cell_type": "code",
   "execution_count": 103,
   "metadata": {},
   "outputs": [
    {
     "name": "stdout",
     "output_type": "stream",
     "text": [
      "              precision    recall  f1-score   support\n",
      "\n",
      "           0       0.00      0.00      0.00       575\n",
      "           1       0.78      1.00      0.88      2043\n",
      "\n",
      "    accuracy                           0.78      2618\n",
      "   macro avg       0.39      0.50      0.44      2618\n",
      "weighted avg       0.61      0.78      0.68      2618\n",
      "\n"
     ]
    },
    {
     "name": "stderr",
     "output_type": "stream",
     "text": [
      "/Users/lamdoan/opt/anaconda3/lib/python3.7/site-packages/sklearn/metrics/_classification.py:1272: UndefinedMetricWarning: Precision and F-score are ill-defined and being set to 0.0 in labels with no predicted samples. Use `zero_division` parameter to control this behavior.\n",
      "  _warn_prf(average, modifier, msg_start, len(result))\n"
     ]
    }
   ],
   "source": [
    "print(classification_report(y_test,grid_predictions))"
   ]
  },
  {
   "cell_type": "code",
   "execution_count": null,
   "metadata": {},
   "outputs": [],
   "source": []
  },
  {
   "cell_type": "markdown",
   "metadata": {},
   "source": [
    "# 3. Using Logistic regression method to make a model predicting if the transaction has YES or NO status in the PURCHASE column"
   ]
  },
  {
   "cell_type": "markdown",
   "metadata": {},
   "source": [
    "## Training and Predicting"
   ]
  },
  {
   "cell_type": "code",
   "execution_count": 104,
   "metadata": {},
   "outputs": [],
   "source": [
    "from sklearn.linear_model import LogisticRegression"
   ]
  },
  {
   "cell_type": "code",
   "execution_count": 105,
   "metadata": {},
   "outputs": [
    {
     "name": "stderr",
     "output_type": "stream",
     "text": [
      "/Users/lamdoan/opt/anaconda3/lib/python3.7/site-packages/sklearn/linear_model/_logistic.py:940: ConvergenceWarning: lbfgs failed to converge (status=1):\n",
      "STOP: TOTAL NO. of ITERATIONS REACHED LIMIT.\n",
      "\n",
      "Increase the number of iterations (max_iter) or scale the data as shown in:\n",
      "    https://scikit-learn.org/stable/modules/preprocessing.html\n",
      "Please also refer to the documentation for alternative solver options:\n",
      "    https://scikit-learn.org/stable/modules/linear_model.html#logistic-regression\n",
      "  extra_warning_msg=_LOGISTIC_SOLVER_CONVERGENCE_MSG)\n"
     ]
    },
    {
     "data": {
      "text/plain": [
       "LogisticRegression(C=1.0, class_weight=None, dual=False, fit_intercept=True,\n",
       "                   intercept_scaling=1, l1_ratio=None, max_iter=100,\n",
       "                   multi_class='auto', n_jobs=None, penalty='l2',\n",
       "                   random_state=None, solver='lbfgs', tol=0.0001, verbose=0,\n",
       "                   warm_start=False)"
      ]
     },
     "execution_count": 105,
     "metadata": {},
     "output_type": "execute_result"
    }
   ],
   "source": [
    "log_model = LogisticRegression()\n",
    "log_model.fit(X_train,y_train)"
   ]
  },
  {
   "cell_type": "code",
   "execution_count": 106,
   "metadata": {},
   "outputs": [],
   "source": [
    "log_predictions = log_model.predict(X_test)"
   ]
  },
  {
   "cell_type": "markdown",
   "metadata": {},
   "source": [
    "## Evaluation"
   ]
  },
  {
   "cell_type": "code",
   "execution_count": 107,
   "metadata": {},
   "outputs": [
    {
     "name": "stdout",
     "output_type": "stream",
     "text": [
      "[[   0  575]\n",
      " [   0 2043]]\n"
     ]
    }
   ],
   "source": [
    "print(confusion_matrix(y_test,log_predictions))"
   ]
  },
  {
   "cell_type": "code",
   "execution_count": 108,
   "metadata": {},
   "outputs": [
    {
     "name": "stdout",
     "output_type": "stream",
     "text": [
      "              precision    recall  f1-score   support\n",
      "\n",
      "           0       0.00      0.00      0.00       575\n",
      "           1       0.78      1.00      0.88      2043\n",
      "\n",
      "    accuracy                           0.78      2618\n",
      "   macro avg       0.39      0.50      0.44      2618\n",
      "weighted avg       0.61      0.78      0.68      2618\n",
      "\n"
     ]
    },
    {
     "name": "stderr",
     "output_type": "stream",
     "text": [
      "/Users/lamdoan/opt/anaconda3/lib/python3.7/site-packages/sklearn/metrics/_classification.py:1272: UndefinedMetricWarning: Precision and F-score are ill-defined and being set to 0.0 in labels with no predicted samples. Use `zero_division` parameter to control this behavior.\n",
      "  _warn_prf(average, modifier, msg_start, len(result))\n"
     ]
    }
   ],
   "source": [
    "print(classification_report(y_test,log_predictions))"
   ]
  },
  {
   "cell_type": "code",
   "execution_count": null,
   "metadata": {},
   "outputs": [],
   "source": []
  }
 ],
 "metadata": {
  "kernelspec": {
   "display_name": "Python 3",
   "language": "python",
   "name": "python3"
  },
  "language_info": {
   "codemirror_mode": {
    "name": "ipython",
    "version": 3
   },
   "file_extension": ".py",
   "mimetype": "text/x-python",
   "name": "python",
   "nbconvert_exporter": "python",
   "pygments_lexer": "ipython3",
   "version": "3.7.6"
  }
 },
 "nbformat": 4,
 "nbformat_minor": 2
}
