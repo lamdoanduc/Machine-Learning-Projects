{
 "cells": [
  {
   "cell_type": "markdown",
   "metadata": {},
   "source": [
    "# REPORT OF CASE STUDY - 2020_ID029\n",
    "\n",
    "## Overview and Object\n",
    "\n",
    "The data shows the business performance of an online shop in 2018. The shop manager has noticed anomalies in their ERP reports, and she is worried about the reliability of the data. The data consists of three dataset: CustomerData, ItemData, and TransactionData. The case-study goals are:\n",
    "\n",
    "* (1) We need to understand the data and develop a comprehensive understanding of the information provided.\n",
    "* (2) From this understanding we need to identify anomalies, consider important relationships, and report on any concern.\n",
    "* (3) If the anomalies can be normalized in order to add value to the company.\n",
    "* (4) We might be asked to re-perform this check in the future. Therefore, consider creating a solution that can be reused for similar clients.\n",
    "* (5) What opportunities can be identified from the data that can provide value to the client.\n",
    "\n",
    "## Method\n",
    "\n",
    "I have used Python for the exploratory data analysis (with Pandas) and visualization (with Seaborn). I have also reproduced the python plots in Tableau and made interactive dashboards for the presentation. \n",
    "\n",
    "I have utilized ML models in Python to make predictive analysis. The models were used to predict whether the customers eventually decided to purchase items that they had ordered. \n",
    "\n",
    "Several classifier algorithms were selected to test; however, they were all failed because of the imbalance of the training data (majority of data is in one class). Resample technique become handy to oversample the minority class (or under sample the majority one).  I also used grid search for hyperparameter tuning. Random forest classifier overperformed logistic regression and support vector Classifier model in this case. \n",
    "\n",
    "## Code\n",
    "\n",
    "The code for the Exploratory data analysis and ML model is attached below this report. The code can be downloaded from [Here](https://github.com/lamdoanduc/Machine-Learning-Projects/blob/master/CaseData_2020_ID029/Code%20-%202020_ID029.ipynb)\n",
    "\n",
    "# Result from Exploratory data analysis\n",
    "\n",
    "## 1. The CustomerData dataset\n",
    "        \n",
    " The database contains information about the shop customers: COUNTRY, EDUCATION, GENDER, and DAY OF BIRTH. The customer data is visualized in the below dashboard. Click [Here](https://public.tableau.com/profile/duc.lam#!/vizhome/CustomerData_CaseStudy_2020_ID029/Dashboard1) to see an interactive version of the dashboard.\n",
    "\n",
    " The customers come from 45 countries (regions) as shown at the geographical plot in the dashboard. The top countries (regions) having the highest numbers of customers can be seen in the table on the dashboard.\n",
    " \n",
    " A significant fraction of the customers is female (about 53%, the upper-right plot). The customer ages are from 17 to 55 yrs, and have the peak distribution at around 36 yrs (the upper right plot). There is no significant difference in customer education as seen in the lower right plot. \n",
    " \n",
    "<img src=\"Dashboard1_1.png\" width=\"700\">\n",
    "\n",
    "_Dashboard 1. The customer data. Click [Here](https://public.tableau.com/profile/duc.lam#!/vizhome/CustomerData_CaseStudy_2020_ID029/Dashboard1) to see an interactive version of the dashboard_.\n",
    "\n",
    "## 2. The ItemData dataset\n",
    "\n",
    "The dataset contains information about the selling products (ITEM), CATEGORY, supplier (SUPLID), COLOR, PURCHASEPRICE, and SALEPRICE. The dataset has many duplicated rows. The data preprocessing was done before visualization as shown in the python code at the end of this report. A short summary of the dataset is visualized in the below dashboard (click [Here](https://public.tableau.com/profile/duc.lam#!/vizhome/Itemdata_CaseStudy_2020_ID029/Dashboard1) for an interactive version). \n",
    " \n",
    "The stacked-bar chart (upper-left chart) shows the number of unique items with different colors at each category. All the categories have more GULD items than other color ones. Dress, scarf, and belt have the highest numbers of unique items.\n",
    "\n",
    "The sale price does not show a significant difference between categories (upper-right box plot). The median value of STOCKINGS sale price is even higher than that of DRESS and COAT.\n",
    "\n",
    "The profit of each unique item is calculated by subtracting the purchase price from the sale price. The profit distribution of each unique item at categories is shown in the lower box plot on the dashboard. The whiskers extend to 1.5 times the IQR. DRESS, HAT, and BELT have many outliners on the positive side. This means the categories have high-profit items. \n",
    "\n",
    "\n",
    "<img src=\"Dashboard1_2.png\" width=\"700\">\n",
    "\n",
    "_Dashboard 2. The Items dataset. Click [Here](https://public.tableau.com/profile/duc.lam#!/vizhome/Itemdata_CaseStudy_2020_ID029/Dashboard1) to see an interactive version of the dashboard_.\n",
    "\n",
    "## 3. The TransactionsData dataset\n",
    "\n",
    "The dataset contains information about the customer ID (USERID), the ITEMs, number of ITEMs, the PAYMENT method, time of the transactions, RATING, REVIEW from the customers, and delivery (SHIPDAYS, TIMESTAMP). The data preprocessing was performed before visualization as shown in the python code at the end of this report. The data was visualized in the dashboard 3 and 4. \n",
    "\n",
    "There are more than 2 million transactions in the data. It is almost the same number of transactions using different payment methods (upper-left pie chart). The shipments might take up to 10 days (upper-middle pie chart).\n",
    "\n",
    "Approximately, 40% of the transactions, the customers left reviews (upper-right pie chart). The ratings are shown in the lower-right bar chart. \n",
    "\n",
    "There is about 40% of transactions that were done via mobile app compared to about 53% via web browsers. The shop may want to improve and deploy its mobile app. \n",
    "\n",
    "<img src=\"Dashboard1_3.png\" width=\"600\">\n",
    "\n",
    "_Dashboard 3. The Transactions dataset. Click [Here](https://public.tableau.com/profile/duc.lam#!/vizhome/Trans_CaseStudy_2020_ID029/Dashboard1) to see an interactive version of the dashboard_.\n",
    "\n",
    "The calculated total profit by countries (regions) can be seen in a table in the dashboard 4. The calculation only counts for transactions marked by 'YES' in the PURCHASE field, e.g., only transactions that customers decided to purchase eventually. Macedonia and Martinique having the highest numbers of customers are found at the top of the total profit table. \n",
    "\n",
    "The total profit by categories is shown in the upper-right bar chart. The DRESS category brought the most profit to the shop. The total profit was also calculated for each providing braches (lower-right bar chart). \n",
    "\n",
    "As shown in the lower-left bar chart, the data does not contain any information about business performance in June, August, and September. This would be a fault in the data collection. The highest profit is in May. \n",
    "\n",
    "<img src=\"Dashboard1_4.png\" width=\"600\">\n",
    "\n",
    "_Dashboard 4. The calculated profit. Click [Here](https://public.tableau.com/profile/duc.lam#!/vizhome/Profit_CaseStudy_2020_ID029/Dashboard1) to see an interactive version of the dashboard_.\n",
    "\n",
    "# Predictive analysis\n",
    "\n",
    "## Select model\n",
    "\n",
    "The goals of the selected ML models are to _(1)_ predict whether the customers eventually decided to purchase items that they had ordered and _(2)_ which factors (fields) will affect the customer's decision, e.g. the total amount of the transaction, quantity of ordered items, etc. This may help the shop to improve its services and make better business performance in the future. Support Vector Classifier, logistic regression, and random forest classifier were selected to the perform predictive analysis.\n",
    "\n",
    "## Data preprocessing\n",
    "\n",
    "The transaction data includes more than 2 million observations (rows). The head of the data is shown in the following table. \n",
    "\n",
    "<img src=\"fig5.png\" width=\"600\">\n",
    "\n",
    "_The head of data used to train the model._\n",
    "\n",
    "The binary data of the 'REVIEW' and 'PURCHASE' fields are resulted by mapping the value of 0 to 'NO', and the value of 1 to 'YES' in the columns in the provided data. The multiple dummy variables ('BIANCA', 'ISABELLA', 'KENZA', 'KEVIN', 'NO', and 'SENDI') are resulted by splitting the 'PPC_ADD' column from the provided data. The target that the models try to predict is the 'PURCHASE' feature. The data was split into a train set and a test set. \n",
    "\n",
    "## Train the model\n",
    "\n",
    "* Use resample technique to deal with the imbalaced data\n",
    "* Grid search for hyperparameter tuning\n",
    "\n",
    "## Prediction and evaluation\n",
    "\n",
    "A Confusion matrix and a classification report were used to evaluate the models. "
   ]
  },
  {
   "cell_type": "markdown",
   "metadata": {},
   "source": [
    "#########################################################################"
   ]
  },
  {
   "cell_type": "markdown",
   "metadata": {},
   "source": [
    "# Code for this CASE STUDY"
   ]
  },
  {
   "cell_type": "code",
   "execution_count": null,
   "metadata": {},
   "outputs": [],
   "source": []
  },
  {
   "cell_type": "code",
   "execution_count": 1,
   "metadata": {},
   "outputs": [],
   "source": [
    "# import libraries\n",
    "import pandas as pd\n",
    "import seaborn as sns\n",
    "import matplotlib.pyplot as plt\n",
    "%matplotlib inline"
   ]
  },
  {
   "cell_type": "markdown",
   "metadata": {},
   "source": [
    "# 1. Exploratory data analysis"
   ]
  },
  {
   "cell_type": "markdown",
   "metadata": {},
   "source": [
    "## 1.1 The Customer data"
   ]
  },
  {
   "cell_type": "markdown",
   "metadata": {},
   "source": [
    "### Import the data as a dataframe and check for the head() and and info \n"
   ]
  },
  {
   "cell_type": "code",
   "execution_count": 2,
   "metadata": {},
   "outputs": [],
   "source": [
    "missing_values = [\"n/a\", \"na\", \" \"]\n",
    "df_customer=pd.read_csv('Data/CustomerData.txt',na_values = missing_values, sep='|')"
   ]
  },
  {
   "cell_type": "code",
   "execution_count": 3,
   "metadata": {},
   "outputs": [
    {
     "data": {
      "text/html": [
       "<div>\n",
       "<style scoped>\n",
       "    .dataframe tbody tr th:only-of-type {\n",
       "        vertical-align: middle;\n",
       "    }\n",
       "\n",
       "    .dataframe tbody tr th {\n",
       "        vertical-align: top;\n",
       "    }\n",
       "\n",
       "    .dataframe thead th {\n",
       "        text-align: right;\n",
       "    }\n",
       "</style>\n",
       "<table border=\"1\" class=\"dataframe\">\n",
       "  <thead>\n",
       "    <tr style=\"text-align: right;\">\n",
       "      <th></th>\n",
       "      <th>USERID</th>\n",
       "      <th>GENDER</th>\n",
       "      <th>DOB</th>\n",
       "      <th>COUNTRY</th>\n",
       "      <th>EDUCATION</th>\n",
       "      <th>HOBBY</th>\n",
       "    </tr>\n",
       "  </thead>\n",
       "  <tbody>\n",
       "    <tr>\n",
       "      <th>0</th>\n",
       "      <td>39060</td>\n",
       "      <td>F</td>\n",
       "      <td>1982-09-18</td>\n",
       "      <td>Ethiopia</td>\n",
       "      <td>NaN</td>\n",
       "      <td>Laser tag</td>\n",
       "    </tr>\n",
       "    <tr>\n",
       "      <th>1</th>\n",
       "      <td>26050</td>\n",
       "      <td>M</td>\n",
       "      <td>1988-11-22</td>\n",
       "      <td>United Arab Emirates</td>\n",
       "      <td>NaN</td>\n",
       "      <td>Ultra running</td>\n",
       "    </tr>\n",
       "    <tr>\n",
       "      <th>2</th>\n",
       "      <td>48580</td>\n",
       "      <td>M</td>\n",
       "      <td>1975-12-06</td>\n",
       "      <td>Martinique</td>\n",
       "      <td>Bachelor</td>\n",
       "      <td>Pottery</td>\n",
       "    </tr>\n",
       "    <tr>\n",
       "      <th>3</th>\n",
       "      <td>40220</td>\n",
       "      <td>F</td>\n",
       "      <td>1984-11-16</td>\n",
       "      <td>Germany</td>\n",
       "      <td>Master</td>\n",
       "      <td>Pottery</td>\n",
       "    </tr>\n",
       "    <tr>\n",
       "      <th>4</th>\n",
       "      <td>25160</td>\n",
       "      <td>M</td>\n",
       "      <td>1977-12-05</td>\n",
       "      <td>Madagascar</td>\n",
       "      <td>Master</td>\n",
       "      <td>Hamsters</td>\n",
       "    </tr>\n",
       "  </tbody>\n",
       "</table>\n",
       "</div>"
      ],
      "text/plain": [
       "   USERID GENDER         DOB               COUNTRY EDUCATION          HOBBY\n",
       "0   39060      F  1982-09-18              Ethiopia       NaN      Laser tag\n",
       "1   26050      M  1988-11-22  United Arab Emirates       NaN  Ultra running\n",
       "2   48580      M  1975-12-06            Martinique  Bachelor        Pottery\n",
       "3   40220      F  1984-11-16               Germany    Master        Pottery\n",
       "4   25160      M  1977-12-05            Madagascar    Master       Hamsters"
      ]
     },
     "execution_count": 3,
     "metadata": {},
     "output_type": "execute_result"
    }
   ],
   "source": [
    "df_customer.head()"
   ]
  },
  {
   "cell_type": "code",
   "execution_count": 4,
   "metadata": {},
   "outputs": [
    {
     "name": "stdout",
     "output_type": "stream",
     "text": [
      "<class 'pandas.core.frame.DataFrame'>\n",
      "RangeIndex: 574 entries, 0 to 573\n",
      "Data columns (total 6 columns):\n",
      " #   Column     Non-Null Count  Dtype \n",
      "---  ------     --------------  ----- \n",
      " 0   USERID     574 non-null    int64 \n",
      " 1   GENDER     574 non-null    object\n",
      " 2   DOB        574 non-null    object\n",
      " 3   COUNTRY    574 non-null    object\n",
      " 4   EDUCATION  464 non-null    object\n",
      " 5   HOBBY      556 non-null    object\n",
      "dtypes: int64(1), object(5)\n",
      "memory usage: 27.0+ KB\n"
     ]
    }
   ],
   "source": [
    "df_customer.info()"
   ]
  },
  {
   "cell_type": "code",
   "execution_count": 5,
   "metadata": {},
   "outputs": [
    {
     "data": {
      "text/plain": [
       "0"
      ]
     },
     "execution_count": 5,
     "metadata": {},
     "output_type": "execute_result"
    }
   ],
   "source": [
    "# Check duplicated rows\n",
    "df_customer.duplicated().sum()"
   ]
  },
  {
   "cell_type": "code",
   "execution_count": 6,
   "metadata": {},
   "outputs": [
    {
     "data": {
      "text/plain": [
       "USERID         0\n",
       "GENDER         0\n",
       "DOB            0\n",
       "COUNTRY        0\n",
       "EDUCATION    110\n",
       "HOBBY         18\n",
       "dtype: int64"
      ]
     },
     "execution_count": 6,
     "metadata": {},
     "output_type": "execute_result"
    }
   ],
   "source": [
    "# check for missing values\n",
    "df_customer.isnull().sum()"
   ]
  },
  {
   "cell_type": "code",
   "execution_count": 7,
   "metadata": {},
   "outputs": [],
   "source": [
    "#df_customer=df_customer.dropna()"
   ]
  },
  {
   "cell_type": "markdown",
   "metadata": {},
   "source": [
    "### Total number of customers"
   ]
  },
  {
   "cell_type": "code",
   "execution_count": 8,
   "metadata": {},
   "outputs": [
    {
     "data": {
      "text/plain": [
       "574"
      ]
     },
     "execution_count": 8,
     "metadata": {},
     "output_type": "execute_result"
    }
   ],
   "source": [
    "df_customer['USERID'].nunique()"
   ]
  },
  {
   "cell_type": "markdown",
   "metadata": {},
   "source": [
    "### The number of customer by COUNTRY"
   ]
  },
  {
   "cell_type": "code",
   "execution_count": 9,
   "metadata": {},
   "outputs": [
    {
     "data": {
      "image/png": "[encoded data removed]",
      "text/plain": [
       "<Figure size 720x720 with 1 Axes>"
      ]
     },
     "metadata": {
      "needs_background": "light"
     },
     "output_type": "display_data"
    }
   ],
   "source": [
    "plt.figure(figsize=(10,10))\n",
    "ax=sns.countplot(data=df_customer,y='COUNTRY')\n",
    "plt.title('Number Customer for countries',fontsize=16)\n",
    "plt.xlabel('Number of Customer',fontsize=16)\n",
    "plt.ylabel('Country',fontsize=16)\n",
    "plt.savefig(\"fig_1.1.png\", dpi=100)"
   ]
  },
  {
   "cell_type": "markdown",
   "metadata": {},
   "source": [
    "### The number of customers by HOBBY"
   ]
  },
  {
   "cell_type": "code",
   "execution_count": 10,
   "metadata": {},
   "outputs": [
    {
     "data": {
      "image/png": "[encoded data removed]",
      "text/plain": [
       "<Figure size 720x720 with 1 Axes>"
      ]
     },
     "metadata": {
      "needs_background": "light"
     },
     "output_type": "display_data"
    }
   ],
   "source": [
    "# Plot the number of customer for each country\n",
    "plt.figure(figsize=(10,10))\n",
    "ax=sns.countplot(data=df_customer,y='HOBBY')\n",
    "plt.title('Number of Customers with Hobbies',fontsize=16)\n",
    "plt.xlabel('Number of Customer',fontsize=16)\n",
    "plt.ylabel('Country',fontsize=16)\n",
    "plt.savefig(\"fig_1.1.png\", dpi=100)"
   ]
  },
  {
   "cell_type": "markdown",
   "metadata": {},
   "source": [
    "###  A pie chart shows the education of the customers"
   ]
  },
  {
   "cell_type": "code",
   "execution_count": 11,
   "metadata": {},
   "outputs": [
    {
     "data": {
      "image/png": "[encoded data removed]",
      "text/plain": [
       "<Figure size 432x432 with 1 Axes>"
      ]
     },
     "metadata": {},
     "output_type": "display_data"
    }
   ],
   "source": [
    "plt.figure(figsize=(6,6))\n",
    "plt.title('Customers Education')\n",
    "df=df_customer.groupby('EDUCATION').count().reset_index()\n",
    "plt.pie(df['USERID'],labels=df['EDUCATION'],autopct='%1.1f%%')\n",
    "plt.axis('equal')\n",
    "plt.show()"
   ]
  },
  {
   "cell_type": "markdown",
   "metadata": {},
   "source": [
    "### The customer gender\n"
   ]
  },
  {
   "cell_type": "code",
   "execution_count": 12,
   "metadata": {},
   "outputs": [
    {
     "data": {
      "text/plain": [
       "array(['F', 'M', 'N'], dtype=object)"
      ]
     },
     "execution_count": 12,
     "metadata": {},
     "output_type": "execute_result"
    }
   ],
   "source": [
    "df_customer['GENDER'].unique()"
   ]
  },
  {
   "cell_type": "code",
   "execution_count": 13,
   "metadata": {},
   "outputs": [
    {
     "data": {
      "image/png": "[encoded data removed]",
      "text/plain": [
       "<Figure size 720x576 with 1 Axes>"
      ]
     },
     "metadata": {
      "needs_background": "light"
     },
     "output_type": "display_data"
    }
   ],
   "source": [
    "plt.figure(figsize=(10,8))\n",
    "sns.countplot(data=df_customer,x='GENDER')\n",
    "plt.title('Customers Gender',fontsize=16)\n",
    "plt.xlabel('GENDER',fontsize=16)\n",
    "plt.ylabel('Count',fontsize=16)\n",
    "plt.savefig(\"fig_1.3.png\", dpi=100)"
   ]
  },
  {
   "cell_type": "markdown",
   "metadata": {},
   "source": [
    "### Age distribution of the customers"
   ]
  },
  {
   "cell_type": "code",
   "execution_count": 14,
   "metadata": {},
   "outputs": [
    {
     "data": {
      "image/png": "[encoded data removed]",
      "text/plain": [
       "<Figure size 720x432 with 1 Axes>"
      ]
     },
     "metadata": {
      "needs_background": "light"
     },
     "output_type": "display_data"
    }
   ],
   "source": [
    "plt.figure(figsize=(10,6))\n",
    "sns.set_style('darkgrid')\n",
    "\n",
    "df_customer['DOB'] = pd.to_datetime(df_customer['DOB'])\n",
    "\n",
    "# create year of birth column\n",
    "df_customer['YOB']=pd.to_datetime(df_customer['DOB']).dt.year\n",
    "sns.distplot(2020-df_customer['YOB'],bins=20)\n",
    "#plt.title('Distribution of year of birth',fontsize=16)\n",
    "plt.xlabel('Age',fontsize=16)\n",
    "plt.savefig(\"fig_1.4.png\", dpi=100)"
   ]
  },
  {
   "cell_type": "markdown",
   "metadata": {},
   "source": [
    "## 1.2 The Item data"
   ]
  },
  {
   "cell_type": "markdown",
   "metadata": {},
   "source": [
    "###  import the database as  a dataframe and check for the head() and the info()"
   ]
  },
  {
   "cell_type": "code",
   "execution_count": 15,
   "metadata": {},
   "outputs": [],
   "source": [
    "missing_values = [\"n/a\", \"na\", \" \"]\n",
    "df_item=pd.read_csv('Data/ItemData.txt',na_values = missing_values, sep='|')"
   ]
  },
  {
   "cell_type": "code",
   "execution_count": 16,
   "metadata": {},
   "outputs": [
    {
     "data": {
      "text/html": [
       "<div>\n",
       "<style scoped>\n",
       "    .dataframe tbody tr th:only-of-type {\n",
       "        vertical-align: middle;\n",
       "    }\n",
       "\n",
       "    .dataframe tbody tr th {\n",
       "        vertical-align: top;\n",
       "    }\n",
       "\n",
       "    .dataframe thead th {\n",
       "        text-align: right;\n",
       "    }\n",
       "</style>\n",
       "<table border=\"1\" class=\"dataframe\">\n",
       "  <thead>\n",
       "    <tr style=\"text-align: right;\">\n",
       "      <th></th>\n",
       "      <th>ITEM</th>\n",
       "      <th>CATEGORY</th>\n",
       "      <th>COLOR</th>\n",
       "      <th>SUPLID</th>\n",
       "      <th>PURCHASEPRICE</th>\n",
       "      <th>SALEPRICE</th>\n",
       "    </tr>\n",
       "  </thead>\n",
       "  <tbody>\n",
       "    <tr>\n",
       "      <th>0</th>\n",
       "      <td>127521</td>\n",
       "      <td>PAJAMAS</td>\n",
       "      <td>PINK</td>\n",
       "      <td>41560EE</td>\n",
       "      <td>1867.09</td>\n",
       "      <td>2800.0</td>\n",
       "    </tr>\n",
       "    <tr>\n",
       "      <th>1</th>\n",
       "      <td>151662</td>\n",
       "      <td>SOCKS</td>\n",
       "      <td>GOLD</td>\n",
       "      <td>16091ZZ</td>\n",
       "      <td>1862.08</td>\n",
       "      <td>2050.0</td>\n",
       "    </tr>\n",
       "    <tr>\n",
       "      <th>2</th>\n",
       "      <td>453756</td>\n",
       "      <td>COAT</td>\n",
       "      <td>GOLD</td>\n",
       "      <td>11370LL</td>\n",
       "      <td>914.81</td>\n",
       "      <td>1370.0</td>\n",
       "    </tr>\n",
       "    <tr>\n",
       "      <th>3</th>\n",
       "      <td>434386</td>\n",
       "      <td>PAJAMAS</td>\n",
       "      <td>SILVER</td>\n",
       "      <td>41560EE</td>\n",
       "      <td>1913.00</td>\n",
       "      <td>1430.0</td>\n",
       "    </tr>\n",
       "    <tr>\n",
       "      <th>4</th>\n",
       "      <td>422712</td>\n",
       "      <td>DRESS</td>\n",
       "      <td>SILVER</td>\n",
       "      <td>48094JJ</td>\n",
       "      <td>851.43</td>\n",
       "      <td>940.0</td>\n",
       "    </tr>\n",
       "  </tbody>\n",
       "</table>\n",
       "</div>"
      ],
      "text/plain": [
       "     ITEM CATEGORY   COLOR   SUPLID  PURCHASEPRICE  SALEPRICE\n",
       "0  127521  PAJAMAS    PINK  41560EE        1867.09     2800.0\n",
       "1  151662    SOCKS    GOLD  16091ZZ        1862.08     2050.0\n",
       "2  453756     COAT    GOLD  11370LL         914.81     1370.0\n",
       "3  434386  PAJAMAS  SILVER  41560EE        1913.00     1430.0\n",
       "4  422712    DRESS  SILVER  48094JJ         851.43      940.0"
      ]
     },
     "execution_count": 16,
     "metadata": {},
     "output_type": "execute_result"
    }
   ],
   "source": [
    "df_item.head()"
   ]
  },
  {
   "cell_type": "code",
   "execution_count": 17,
   "metadata": {},
   "outputs": [
    {
     "name": "stdout",
     "output_type": "stream",
     "text": [
      "<class 'pandas.core.frame.DataFrame'>\n",
      "RangeIndex: 2188800 entries, 0 to 2188799\n",
      "Data columns (total 6 columns):\n",
      " #   Column         Dtype  \n",
      "---  ------         -----  \n",
      " 0   ITEM           int64  \n",
      " 1   CATEGORY       object \n",
      " 2   COLOR          object \n",
      " 3   SUPLID         object \n",
      " 4   PURCHASEPRICE  float64\n",
      " 5   SALEPRICE      float64\n",
      "dtypes: float64(2), int64(1), object(3)\n",
      "memory usage: 100.2+ MB\n"
     ]
    }
   ],
   "source": [
    "df_item.info()"
   ]
  },
  {
   "cell_type": "code",
   "execution_count": 18,
   "metadata": {},
   "outputs": [
    {
     "data": {
      "text/plain": [
       "ITEM                 0\n",
       "CATEGORY             0\n",
       "COLOR                0\n",
       "SUPLID           80945\n",
       "PURCHASEPRICE      200\n",
       "SALEPRICE          200\n",
       "dtype: int64"
      ]
     },
     "execution_count": 18,
     "metadata": {},
     "output_type": "execute_result"
    }
   ],
   "source": [
    "df_item.isnull().sum()"
   ]
  },
  {
   "cell_type": "code",
   "execution_count": 19,
   "metadata": {},
   "outputs": [],
   "source": [
    "#df_item=df_item.dropna()"
   ]
  },
  {
   "cell_type": "markdown",
   "metadata": {},
   "source": [
    "### Change the data type of the  \"PURCHASEPRICE\" column to float "
   ]
  },
  {
   "cell_type": "code",
   "execution_count": 20,
   "metadata": {},
   "outputs": [],
   "source": [
    "df_item['PURCHASEPRICE'] = pd.to_numeric(df_item['PURCHASEPRICE'],errors='coerce')"
   ]
  },
  {
   "cell_type": "markdown",
   "metadata": {},
   "source": [
    "###  Check for the dudplicated rows in the dataframe"
   ]
  },
  {
   "cell_type": "code",
   "execution_count": 21,
   "metadata": {},
   "outputs": [
    {
     "data": {
      "text/plain": [
       "1904410"
      ]
     },
     "execution_count": 21,
     "metadata": {},
     "output_type": "execute_result"
    }
   ],
   "source": [
    "# Check duplicated lines\n",
    "df_item.duplicated().sum()"
   ]
  },
  {
   "cell_type": "code",
   "execution_count": 22,
   "metadata": {},
   "outputs": [],
   "source": [
    "# drop duplicated lines\n",
    "df_item.drop_duplicates(keep='first',inplace=True)"
   ]
  },
  {
   "cell_type": "code",
   "execution_count": 23,
   "metadata": {},
   "outputs": [],
   "source": [
    "# Drop duplicated lines with duplicated values of ITEM\n",
    "df_item_no_dupItem = df_item.drop_duplicates(subset = 'ITEM', keep='first')"
   ]
  },
  {
   "cell_type": "code",
   "execution_count": 24,
   "metadata": {},
   "outputs": [
    {
     "data": {
      "text/plain": [
       "ITEM               0\n",
       "CATEGORY           0\n",
       "COLOR              0\n",
       "SUPLID           403\n",
       "PURCHASEPRICE      1\n",
       "SALEPRICE          1\n",
       "dtype: int64"
      ]
     },
     "execution_count": 24,
     "metadata": {},
     "output_type": "execute_result"
    }
   ],
   "source": [
    "df_item_no_dupItem.isnull().sum()"
   ]
  },
  {
   "cell_type": "code",
   "execution_count": 25,
   "metadata": {},
   "outputs": [
    {
     "data": {
      "text/plain": [
       "array(['41560EE', '16091ZZ', '11370LL', '48094JJ', '41560MM', '11370TT',\n",
       "       '42596VV', '43136JJ', '42258KK', nan, '46396EE', '41560GG',\n",
       "       '18767CC', '46848VV', '42596PP', '16091DD', '46848AA', '48094CC',\n",
       "       '42258WW', '13205GG', '18767GG', '14656DD', '46396XX', '43136TT',\n",
       "       '14656UU', '13205VV'], dtype=object)"
      ]
     },
     "execution_count": 25,
     "metadata": {},
     "output_type": "execute_result"
    }
   ],
   "source": [
    "df_item_no_dupItem['SUPLID'].unique()"
   ]
  },
  {
   "cell_type": "code",
   "execution_count": 26,
   "metadata": {},
   "outputs": [],
   "source": [
    "# Check for missing values\n",
    "df_item_no_dupItem=df_item_no_dupItem.reset_index()"
   ]
  },
  {
   "cell_type": "code",
   "execution_count": 27,
   "metadata": {},
   "outputs": [
    {
     "data": {
      "text/html": [
       "<div>\n",
       "<style scoped>\n",
       "    .dataframe tbody tr th:only-of-type {\n",
       "        vertical-align: middle;\n",
       "    }\n",
       "\n",
       "    .dataframe tbody tr th {\n",
       "        vertical-align: top;\n",
       "    }\n",
       "\n",
       "    .dataframe thead th {\n",
       "        text-align: right;\n",
       "    }\n",
       "</style>\n",
       "<table border=\"1\" class=\"dataframe\">\n",
       "  <thead>\n",
       "    <tr style=\"text-align: right;\">\n",
       "      <th></th>\n",
       "      <th>index</th>\n",
       "      <th>ITEM</th>\n",
       "      <th>CATEGORY</th>\n",
       "      <th>COLOR</th>\n",
       "      <th>SUPLID</th>\n",
       "      <th>PURCHASEPRICE</th>\n",
       "      <th>SALEPRICE</th>\n",
       "    </tr>\n",
       "  </thead>\n",
       "  <tbody>\n",
       "    <tr>\n",
       "      <th>0</th>\n",
       "      <td>0</td>\n",
       "      <td>127521</td>\n",
       "      <td>PAJAMAS</td>\n",
       "      <td>PINK</td>\n",
       "      <td>41560EE</td>\n",
       "      <td>1867.09</td>\n",
       "      <td>2800.0</td>\n",
       "    </tr>\n",
       "    <tr>\n",
       "      <th>1</th>\n",
       "      <td>1</td>\n",
       "      <td>151662</td>\n",
       "      <td>SOCKS</td>\n",
       "      <td>GOLD</td>\n",
       "      <td>16091ZZ</td>\n",
       "      <td>1862.08</td>\n",
       "      <td>2050.0</td>\n",
       "    </tr>\n",
       "    <tr>\n",
       "      <th>2</th>\n",
       "      <td>2</td>\n",
       "      <td>453756</td>\n",
       "      <td>COAT</td>\n",
       "      <td>GOLD</td>\n",
       "      <td>11370LL</td>\n",
       "      <td>914.81</td>\n",
       "      <td>1370.0</td>\n",
       "    </tr>\n",
       "    <tr>\n",
       "      <th>3</th>\n",
       "      <td>3</td>\n",
       "      <td>434386</td>\n",
       "      <td>PAJAMAS</td>\n",
       "      <td>SILVER</td>\n",
       "      <td>41560EE</td>\n",
       "      <td>1913.00</td>\n",
       "      <td>1430.0</td>\n",
       "    </tr>\n",
       "    <tr>\n",
       "      <th>4</th>\n",
       "      <td>4</td>\n",
       "      <td>422712</td>\n",
       "      <td>DRESS</td>\n",
       "      <td>SILVER</td>\n",
       "      <td>48094JJ</td>\n",
       "      <td>851.43</td>\n",
       "      <td>940.0</td>\n",
       "    </tr>\n",
       "    <tr>\n",
       "      <th>...</th>\n",
       "      <td>...</td>\n",
       "      <td>...</td>\n",
       "      <td>...</td>\n",
       "      <td>...</td>\n",
       "      <td>...</td>\n",
       "      <td>...</td>\n",
       "      <td>...</td>\n",
       "    </tr>\n",
       "    <tr>\n",
       "      <th>10939</th>\n",
       "      <td>10939</td>\n",
       "      <td>130914</td>\n",
       "      <td>BELT</td>\n",
       "      <td>RAINBOW</td>\n",
       "      <td>16091DD</td>\n",
       "      <td>1118.81</td>\n",
       "      <td>1680.0</td>\n",
       "    </tr>\n",
       "    <tr>\n",
       "      <th>10940</th>\n",
       "      <td>10940</td>\n",
       "      <td>110127</td>\n",
       "      <td>SCARF</td>\n",
       "      <td>VIOLET</td>\n",
       "      <td>42258WW</td>\n",
       "      <td>1373.89</td>\n",
       "      <td>2060.0</td>\n",
       "    </tr>\n",
       "    <tr>\n",
       "      <th>10941</th>\n",
       "      <td>10941</td>\n",
       "      <td>224241</td>\n",
       "      <td>BELT</td>\n",
       "      <td>RAINBOW</td>\n",
       "      <td>18767CC</td>\n",
       "      <td>79.87</td>\n",
       "      <td>120.0</td>\n",
       "    </tr>\n",
       "    <tr>\n",
       "      <th>10942</th>\n",
       "      <td>10942</td>\n",
       "      <td>247888</td>\n",
       "      <td>DRESS</td>\n",
       "      <td>GOLD</td>\n",
       "      <td>46848VV</td>\n",
       "      <td>488.12</td>\n",
       "      <td>730.0</td>\n",
       "    </tr>\n",
       "    <tr>\n",
       "      <th>10943</th>\n",
       "      <td>10943</td>\n",
       "      <td>150219</td>\n",
       "      <td>SCARF</td>\n",
       "      <td>GOLD</td>\n",
       "      <td>42258WW</td>\n",
       "      <td>856.59</td>\n",
       "      <td>1280.0</td>\n",
       "    </tr>\n",
       "  </tbody>\n",
       "</table>\n",
       "<p>10944 rows × 7 columns</p>\n",
       "</div>"
      ],
      "text/plain": [
       "       index    ITEM CATEGORY    COLOR   SUPLID  PURCHASEPRICE  SALEPRICE\n",
       "0          0  127521  PAJAMAS     PINK  41560EE        1867.09     2800.0\n",
       "1          1  151662    SOCKS     GOLD  16091ZZ        1862.08     2050.0\n",
       "2          2  453756     COAT     GOLD  11370LL         914.81     1370.0\n",
       "3          3  434386  PAJAMAS   SILVER  41560EE        1913.00     1430.0\n",
       "4          4  422712    DRESS   SILVER  48094JJ         851.43      940.0\n",
       "...      ...     ...      ...      ...      ...            ...        ...\n",
       "10939  10939  130914     BELT  RAINBOW  16091DD        1118.81     1680.0\n",
       "10940  10940  110127    SCARF   VIOLET  42258WW        1373.89     2060.0\n",
       "10941  10941  224241     BELT  RAINBOW  18767CC          79.87      120.0\n",
       "10942  10942  247888    DRESS     GOLD  46848VV         488.12      730.0\n",
       "10943  10943  150219    SCARF     GOLD  42258WW         856.59     1280.0\n",
       "\n",
       "[10944 rows x 7 columns]"
      ]
     },
     "execution_count": 27,
     "metadata": {},
     "output_type": "execute_result"
    }
   ],
   "source": [
    "df_item_no_dupItem"
   ]
  },
  {
   "cell_type": "code",
   "execution_count": 28,
   "metadata": {},
   "outputs": [
    {
     "name": "stdout",
     "output_type": "stream",
     "text": [
      "<class 'pandas.core.frame.DataFrame'>\n",
      "RangeIndex: 10944 entries, 0 to 10943\n",
      "Data columns (total 7 columns):\n",
      " #   Column         Non-Null Count  Dtype  \n",
      "---  ------         --------------  -----  \n",
      " 0   index          10944 non-null  int64  \n",
      " 1   ITEM           10944 non-null  int64  \n",
      " 2   CATEGORY       10944 non-null  object \n",
      " 3   COLOR          10944 non-null  object \n",
      " 4   SUPLID         10541 non-null  object \n",
      " 5   PURCHASEPRICE  10943 non-null  float64\n",
      " 6   SALEPRICE      10943 non-null  float64\n",
      "dtypes: float64(2), int64(2), object(3)\n",
      "memory usage: 598.6+ KB\n"
     ]
    }
   ],
   "source": [
    "df_item_no_dupItem.info()"
   ]
  },
  {
   "cell_type": "code",
   "execution_count": 29,
   "metadata": {},
   "outputs": [
    {
     "data": {
      "text/html": [
       "<div>\n",
       "<style scoped>\n",
       "    .dataframe tbody tr th:only-of-type {\n",
       "        vertical-align: middle;\n",
       "    }\n",
       "\n",
       "    .dataframe tbody tr th {\n",
       "        vertical-align: top;\n",
       "    }\n",
       "\n",
       "    .dataframe thead th {\n",
       "        text-align: right;\n",
       "    }\n",
       "</style>\n",
       "<table border=\"1\" class=\"dataframe\">\n",
       "  <thead>\n",
       "    <tr style=\"text-align: right;\">\n",
       "      <th></th>\n",
       "      <th>index</th>\n",
       "      <th>ITEM</th>\n",
       "      <th>CATEGORY</th>\n",
       "      <th>COLOR</th>\n",
       "      <th>SUPLID</th>\n",
       "      <th>PURCHASEPRICE</th>\n",
       "      <th>SALEPRICE</th>\n",
       "    </tr>\n",
       "  </thead>\n",
       "  <tbody>\n",
       "    <tr>\n",
       "      <th>0</th>\n",
       "      <td>0</td>\n",
       "      <td>127521</td>\n",
       "      <td>PAJAMAS</td>\n",
       "      <td>PINK</td>\n",
       "      <td>41560EE</td>\n",
       "      <td>1867.09</td>\n",
       "      <td>2800.0</td>\n",
       "    </tr>\n",
       "    <tr>\n",
       "      <th>1</th>\n",
       "      <td>1</td>\n",
       "      <td>151662</td>\n",
       "      <td>SOCKS</td>\n",
       "      <td>GOLD</td>\n",
       "      <td>16091ZZ</td>\n",
       "      <td>1862.08</td>\n",
       "      <td>2050.0</td>\n",
       "    </tr>\n",
       "  </tbody>\n",
       "</table>\n",
       "</div>"
      ],
      "text/plain": [
       "   index    ITEM CATEGORY COLOR   SUPLID  PURCHASEPRICE  SALEPRICE\n",
       "0      0  127521  PAJAMAS  PINK  41560EE        1867.09     2800.0\n",
       "1      1  151662    SOCKS  GOLD  16091ZZ        1862.08     2050.0"
      ]
     },
     "execution_count": 29,
     "metadata": {},
     "output_type": "execute_result"
    }
   ],
   "source": [
    "df_item_no_dupItem.head(2)"
   ]
  },
  {
   "cell_type": "code",
   "execution_count": 30,
   "metadata": {},
   "outputs": [
    {
     "data": {
      "text/plain": [
       "index            10944\n",
       "ITEM             10944\n",
       "CATEGORY            18\n",
       "COLOR                5\n",
       "SUPLID              25\n",
       "PURCHASEPRICE     6794\n",
       "SALEPRICE          360\n",
       "dtype: int64"
      ]
     },
     "execution_count": 30,
     "metadata": {},
     "output_type": "execute_result"
    }
   ],
   "source": [
    "# number on unique values in the columns\n",
    "df_item_no_dupItem.nunique()"
   ]
  },
  {
   "cell_type": "markdown",
   "metadata": {},
   "source": [
    "### Number of the items at different categories and colors"
   ]
  },
  {
   "cell_type": "code",
   "execution_count": 31,
   "metadata": {},
   "outputs": [
    {
     "data": {
      "image/png": "[encoded data removed]",
      "text/plain": [
       "<Figure size 720x864 with 1 Axes>"
      ]
     },
     "metadata": {},
     "output_type": "display_data"
    }
   ],
   "source": [
    "plt.figure(figsize=(10,12))\n",
    "sns.countplot(data=df_item_no_dupItem,y='CATEGORY')\n",
    "\n",
    "plt.title('NUMBER OF ITEMS BY CATEGORY',fontsize=16)\n",
    "plt.xlabel('NUMBER OF ITEMS',fontsize=16)\n",
    "plt.ylabel('CATEGORY',fontsize=16)\n",
    "plt.savefig(\"fig_2.1.png\", dpi=100)"
   ]
  },
  {
   "cell_type": "markdown",
   "metadata": {},
   "source": [
    "- DRESS has the highest number of unique sale ITEM"
   ]
  },
  {
   "cell_type": "markdown",
   "metadata": {},
   "source": [
    "### The SALEPRICE distribution of the items"
   ]
  },
  {
   "cell_type": "code",
   "execution_count": 32,
   "metadata": {},
   "outputs": [
    {
     "data": {
      "image/png": "[encoded data removed]",
      "text/plain": [
       "<Figure size 720x432 with 1 Axes>"
      ]
     },
     "metadata": {},
     "output_type": "display_data"
    }
   ],
   "source": [
    "plt.figure(figsize=(10,6))\n",
    "sns.set_style('darkgrid')\n",
    "sns.distplot(df_item_no_dupItem['SALEPRICE'],bins=30)\n",
    "\n",
    "plt.title('PRICE OF ITEMS',fontsize=16)\n",
    "plt.xlabel('PRICE',fontsize=16)\n",
    "plt.savefig(\"fig_2.3.png\", dpi=100)"
   ]
  },
  {
   "cell_type": "markdown",
   "metadata": {},
   "source": [
    "### There are many items having the SALEPRICE less than PURCHASEPRICE. We now create a new column called PROFIT showing the difference of the prices. \n",
    "\n",
    "Check for the ITEMS, CATEGORY with negative PROFIT (PURCHASEPRICE higher than SALEPRICE) to give an answer for the question: What is the maximum nagative PROFIT when the company sells an item of each category?"
   ]
  },
  {
   "cell_type": "code",
   "execution_count": 33,
   "metadata": {},
   "outputs": [],
   "source": [
    "# Create a column called PROFIT by subtracting PURCHASEPRICE from SALEPRICE\n",
    "df_item_no_dupItem['PROFIT'] = df_item_no_dupItem['SALEPRICE'] - df_item_no_dupItem['PURCHASEPRICE']\n",
    "\n",
    "# Create the a new data frame with PROFIT < 0\n",
    "df_item_minus = df_item_no_dupItem[df_item_no_dupItem['PROFIT']<0]"
   ]
  },
  {
   "cell_type": "code",
   "execution_count": 34,
   "metadata": {},
   "outputs": [
    {
     "data": {
      "image/png": "[encoded data removed]",
      "text/plain": [
       "<Figure size 1080x504 with 1 Axes>"
      ]
     },
     "metadata": {},
     "output_type": "display_data"
    }
   ],
   "source": [
    "# Groupby CATEGORY  \n",
    "df_category = df_item_minus[['CATEGORY','PROFIT']].groupby('CATEGORY').max()\n",
    "df_category.reset_index(inplace=True)\n",
    "\n",
    "# Plot the minus PROFIT\n",
    "plt.figure(figsize=(15,7))\n",
    "sns.barplot(data=df_category,x='CATEGORY',y='PROFIT')\n",
    "#sns.set(font_scale = 1)\n",
    "\n",
    "plt.xlabel('CATEGORY',fontsize=16)\n",
    "plt.ylabel('MINUS PROFIT',fontsize=16)\n",
    "plt.savefig(\"fig_2.4.png\", dpi=100)"
   ]
  },
  {
   "cell_type": "markdown",
   "metadata": {},
   "source": [
    "Shoes is the category which has the maximum vaulue of nagative profit per item"
   ]
  },
  {
   "cell_type": "markdown",
   "metadata": {},
   "source": [
    "Here we do the same calulation by for the maximum positve PROFIT when the company sells an item of each category."
   ]
  },
  {
   "cell_type": "code",
   "execution_count": 35,
   "metadata": {},
   "outputs": [
    {
     "data": {
      "image/png": "[encoded data removed]",
      "text/plain": [
       "<Figure size 1080x504 with 1 Axes>"
      ]
     },
     "metadata": {},
     "output_type": "display_data"
    }
   ],
   "source": [
    "# Create the a new data frame with PROFIT > 0 \n",
    "df_item_positive = df_item_no_dupItem[df_item_no_dupItem['PROFIT']>0]\n",
    "\n",
    "# Groupby CATEGORY  \n",
    "df_category = df_item_positive[['CATEGORY','PROFIT']].groupby('CATEGORY').max()\n",
    "df_category.reset_index(inplace=True)\n",
    "\n",
    "# Plot the minus PROFIT\n",
    "plt.figure(figsize=(15,7))\n",
    "sns.barplot(data=df_category,x='CATEGORY',y='PROFIT')\n",
    "#sns.set(font_scale = 1)\n",
    "\n",
    "plt.title('SUM OF MINUS PROFIT PER CATEGORY',fontsize=16)\n",
    "plt.xlabel('CATEGORY',fontsize=16)\n",
    "plt.ylabel('MINUS PROFIT',fontsize=16)\n",
    "plt.savefig(\"fig_2.4.png\", dpi=100)"
   ]
  },
  {
   "cell_type": "markdown",
   "metadata": {},
   "source": [
    "The maximum of profits of the cetegories per item are slightly different!"
   ]
  },
  {
   "cell_type": "markdown",
   "metadata": {},
   "source": [
    "## 1.3. The transaction data"
   ]
  },
  {
   "cell_type": "markdown",
   "metadata": {},
   "source": [
    "###  import the database as  a dataframe and check for the head(), the info(), and the duplicated rows"
   ]
  },
  {
   "cell_type": "code",
   "execution_count": 36,
   "metadata": {},
   "outputs": [],
   "source": [
    "missing_values = [\"n/a\", \"na\", \" \"]\n",
    "df_trans = pd.read_csv(\"Data/TransactionsData.txt\", na_values = missing_values, sep='|')"
   ]
  },
  {
   "cell_type": "code",
   "execution_count": 37,
   "metadata": {},
   "outputs": [],
   "source": [
    "# replace white space with NaN\n",
    "#import numpy as np\n",
    "#df_trans = df_trans.replace(r'^\\s*$', np.nan, regex=True)"
   ]
  },
  {
   "cell_type": "code",
   "execution_count": 38,
   "metadata": {},
   "outputs": [
    {
     "name": "stdout",
     "output_type": "stream",
     "text": [
      "<class 'pandas.core.frame.DataFrame'>\n",
      "RangeIndex: 2188800 entries, 0 to 2188799\n",
      "Data columns (total 15 columns):\n",
      " #   Column        Dtype  \n",
      "---  ------        -----  \n",
      " 0   USERID        float64\n",
      " 1   WEBBROWSER    object \n",
      " 2   PPC_ADD       object \n",
      " 3   ITEM          int64  \n",
      " 4   PURCHASE      object \n",
      " 5   QTY           float64\n",
      " 6   DISCOUNT      float64\n",
      " 7   PAYMENT       object \n",
      " 8   WAREHOUSE     object \n",
      " 9   SHIPDAYS      float64\n",
      " 10  DELIVERYDATE  object \n",
      " 11  REVIEW        object \n",
      " 12  RATING        float64\n",
      " 13  TRACKNO       float64\n",
      " 14  TIMESTAMP     object \n",
      "dtypes: float64(6), int64(1), object(8)\n",
      "memory usage: 250.5+ MB\n"
     ]
    }
   ],
   "source": [
    "df_trans.info()"
   ]
  },
  {
   "cell_type": "code",
   "execution_count": 39,
   "metadata": {},
   "outputs": [
    {
     "data": {
      "text/plain": [
       "0"
      ]
     },
     "execution_count": 39,
     "metadata": {},
     "output_type": "execute_result"
    }
   ],
   "source": [
    "# duplicated rows\n",
    "df_trans.duplicated().sum()"
   ]
  },
  {
   "cell_type": "code",
   "execution_count": 40,
   "metadata": {},
   "outputs": [
    {
     "data": {
      "text/plain": [
       "USERID            3803\n",
       "WEBBROWSER      146192\n",
       "PPC_ADD          15482\n",
       "ITEM                 0\n",
       "PURCHASE        218913\n",
       "QTY             199101\n",
       "DISCOUNT         21731\n",
       "PAYMENT         438436\n",
       "WAREHOUSE       364427\n",
       "SHIPDAYS        219189\n",
       "DELIVERYDATE     75492\n",
       "REVIEW          219272\n",
       "RATING          566753\n",
       "TRACKNO              9\n",
       "TIMESTAMP        36655\n",
       "dtype: int64"
      ]
     },
     "execution_count": 40,
     "metadata": {},
     "output_type": "execute_result"
    }
   ],
   "source": [
    "# missing values\n",
    "df_trans.isnull().sum()"
   ]
  },
  {
   "cell_type": "code",
   "execution_count": 41,
   "metadata": {},
   "outputs": [
    {
     "data": {
      "text/plain": [
       "array([ 1.,  4., nan,  3.,  2.,  5.])"
      ]
     },
     "execution_count": 41,
     "metadata": {},
     "output_type": "execute_result"
    }
   ],
   "source": [
    "df_trans['RATING'].unique()"
   ]
  },
  {
   "cell_type": "code",
   "execution_count": 42,
   "metadata": {},
   "outputs": [
    {
     "data": {
      "text/plain": [
       "USERID            3803\n",
       "WEBBROWSER      146192\n",
       "PPC_ADD          15482\n",
       "ITEM                 0\n",
       "PURCHASE        218913\n",
       "QTY             199101\n",
       "DISCOUNT         21731\n",
       "PAYMENT         438436\n",
       "WAREHOUSE       364427\n",
       "SHIPDAYS        219189\n",
       "DELIVERYDATE     75492\n",
       "REVIEW          219272\n",
       "RATING          566753\n",
       "TRACKNO              9\n",
       "TIMESTAMP        36655\n",
       "dtype: int64"
      ]
     },
     "execution_count": 42,
     "metadata": {},
     "output_type": "execute_result"
    }
   ],
   "source": [
    "df_trans.isna().sum()"
   ]
  },
  {
   "cell_type": "markdown",
   "metadata": {},
   "source": [
    "### Check for the payment methods used by the customers"
   ]
  },
  {
   "cell_type": "code",
   "execution_count": 43,
   "metadata": {},
   "outputs": [
    {
     "data": {
      "image/png": "[encoded data removed]",
      "text/plain": [
       "<Figure size 432x432 with 1 Axes>"
      ]
     },
     "metadata": {},
     "output_type": "display_data"
    }
   ],
   "source": [
    "plt.figure(figsize=(6,6))\n",
    "plt.title('Payment methods')\n",
    "df=df_trans.groupby('PAYMENT').count().reset_index()\n",
    "plt.pie(df['ITEM'],labels=df['PAYMENT'],autopct='%1.1f%%')\n",
    "plt.axis('equal')\n",
    "plt.show()"
   ]
  },
  {
   "cell_type": "markdown",
   "metadata": {},
   "source": [
    "With more than 2 millions transaction and they are equally distributed in the different payment methods."
   ]
  },
  {
   "cell_type": "code",
   "execution_count": 44,
   "metadata": {},
   "outputs": [
    {
     "data": {
      "text/plain": [
       "Text(0.5, 0, 'PAYMENT')"
      ]
     },
     "execution_count": 44,
     "metadata": {},
     "output_type": "execute_result"
    },
    {
     "data": {
      "image/png": "[encoded data removed]",
      "text/plain": [
       "<Figure size 720x576 with 1 Axes>"
      ]
     },
     "metadata": {},
     "output_type": "display_data"
    }
   ],
   "source": [
    "plt.figure(figsize=(10,8))\n",
    "plt.title('The number PAYMENT colored by the PURCHASE column',fontsize=16)\n",
    "\n",
    "sns.countplot(x='PAYMENT',data=df_trans,hue='PURCHASE')\n",
    "plt.ylabel('NUMBER OF PAYMENT',fontsize=16)\n",
    "plt.xlabel('PAYMENT',fontsize=16)"
   ]
  },
  {
   "cell_type": "code",
   "execution_count": 45,
   "metadata": {},
   "outputs": [],
   "source": [
    "# The feature doesnot effect the purchasing decision of the customer, so we romove this feature\n",
    "df_trans = df_trans.drop('PAYMENT',axis=1)"
   ]
  },
  {
   "cell_type": "markdown",
   "metadata": {},
   "source": [
    "### Check for the most common WEBBROWSER used by the customers\n"
   ]
  },
  {
   "cell_type": "code",
   "execution_count": 46,
   "metadata": {},
   "outputs": [
    {
     "data": {
      "image/png": "[encoded data removed]",
      "text/plain": [
       "<Figure size 720x576 with 1 Axes>"
      ]
     },
     "metadata": {},
     "output_type": "display_data"
    }
   ],
   "source": [
    "plt.figure(figsize=(10,8))\n",
    "plt.title('COUNT OF TRANSACTIONS WITH WEBBROWSER',fontsize=16)\n",
    "\n",
    "sns.countplot(x='WEBBROWSER',data=df_trans,hue='PURCHASE')\n",
    "plt.ylabel('NUMBER OF TRANSACTIONS',fontsize=16)\n",
    "plt.xlabel('WEBBROWSER',fontsize=16)\n",
    "plt.savefig(\"fig_3.1.png\", dpi=100)"
   ]
  },
  {
   "cell_type": "code",
   "execution_count": 47,
   "metadata": {},
   "outputs": [],
   "source": [
    "# Percentage of 'YES' or 'NO' at each WEBBROWER method\n",
    "num_YES = df_trans[df_trans['PURCHASE']=='YES'].groupby('WEBBROWSER')['ITEM'].count()"
   ]
  },
  {
   "cell_type": "code",
   "execution_count": 48,
   "metadata": {},
   "outputs": [],
   "source": [
    "num_NO = df_trans[df_trans['PURCHASE']=='NO'].groupby('WEBBROWSER')['ITEM'].count()"
   ]
  },
  {
   "cell_type": "code",
   "execution_count": 49,
   "metadata": {},
   "outputs": [
    {
     "name": "stdout",
     "output_type": "stream",
     "text": [
      "0.7768379018921988\n",
      "0.7774570206559146\n",
      "0.7771863079243979\n",
      "0.7785535988797735\n"
     ]
    }
   ],
   "source": [
    "#Percentage of 'YES'\n",
    "for i in range(len(num_YES)):\n",
    "    print(num_YES[i]/(num_NO[i]+num_YES[i]))"
   ]
  },
  {
   "cell_type": "code",
   "execution_count": 50,
   "metadata": {},
   "outputs": [],
   "source": [
    "# The feature doesnot effect the purchasing decision of the customer, so we romove this feature\n",
    "df_trans = df_trans.drop('WEBBROWSER',axis=1)"
   ]
  },
  {
   "cell_type": "markdown",
   "metadata": {},
   "source": [
    "## Warehouse feature"
   ]
  },
  {
   "cell_type": "code",
   "execution_count": 51,
   "metadata": {},
   "outputs": [
    {
     "data": {
      "text/plain": [
       "Text(0.5, 0, 'WAREHOUSE')"
      ]
     },
     "execution_count": 51,
     "metadata": {},
     "output_type": "execute_result"
    },
    {
     "data": {
      "image/png": "[encoded data removed]",
      "text/plain": [
       "<Figure size 720x576 with 1 Axes>"
      ]
     },
     "metadata": {},
     "output_type": "display_data"
    }
   ],
   "source": [
    "plt.figure(figsize=(10,8))\n",
    "plt.title('COUNT OF TRANSACTIONS WITH WAREHOUSE',fontsize=16)\n",
    "\n",
    "sns.countplot(x='WAREHOUSE',data=df_trans,hue='PURCHASE')\n",
    "plt.ylabel('NUMBER OF WAREHOUSE',fontsize=16)\n",
    "plt.xlabel('WAREHOUSE',fontsize=16)\n",
    "#plt.savefig(\"fig_3.1.png\", dpi=100)"
   ]
  },
  {
   "cell_type": "code",
   "execution_count": 52,
   "metadata": {},
   "outputs": [],
   "source": [
    "# The feature doesnot effect the purchasing decision of the customer, so we romove this feature\n",
    "df_trans = df_trans.drop('WAREHOUSE',axis=1)"
   ]
  },
  {
   "cell_type": "markdown",
   "metadata": {},
   "source": [
    "### Shipdays"
   ]
  },
  {
   "cell_type": "code",
   "execution_count": 53,
   "metadata": {},
   "outputs": [
    {
     "data": {
      "text/plain": [
       "[1.0, 2.0, 3.0, 4.0, 5.0, 6.0, 7.0, nan, 8.0, 10.0]"
      ]
     },
     "execution_count": 53,
     "metadata": {},
     "output_type": "execute_result"
    }
   ],
   "source": [
    "sorted(df_trans['SHIPDAYS'].unique())"
   ]
  },
  {
   "cell_type": "code",
   "execution_count": 54,
   "metadata": {},
   "outputs": [
    {
     "data": {
      "image/png": "[encoded data removed]",
      "text/plain": [
       "<Figure size 432x432 with 1 Axes>"
      ]
     },
     "metadata": {},
     "output_type": "display_data"
    }
   ],
   "source": [
    "plt.figure(figsize=(6,6))\n",
    "plt.title('Percentage of Shipdays')\n",
    "df=df_trans.groupby('SHIPDAYS').count().reset_index()\n",
    "plt.pie(df['USERID'],labels=df['SHIPDAYS'],autopct='%1.1f%%')\n",
    "plt.axis('equal')\n",
    "plt.show()"
   ]
  },
  {
   "cell_type": "code",
   "execution_count": 55,
   "metadata": {},
   "outputs": [
    {
     "data": {
      "text/plain": [
       "Text(0.5, 0, 'SHIPDAYS')"
      ]
     },
     "execution_count": 55,
     "metadata": {},
     "output_type": "execute_result"
    },
    {
     "data": {
      "image/png": "[encoded data removed]",
      "text/plain": [
       "<Figure size 720x576 with 1 Axes>"
      ]
     },
     "metadata": {},
     "output_type": "display_data"
    }
   ],
   "source": [
    "plt.figure(figsize=(10,8))\n",
    "plt.title('COUNT OF TRANSACTIONS WITH SHIPDAYS',fontsize=16)\n",
    "\n",
    "sns.countplot(x='SHIPDAYS',data=df_trans,hue='PURCHASE')\n",
    "plt.ylabel('NUMBER OF SHIPDAYS',fontsize=16)\n",
    "plt.xlabel('SHIPDAYS',fontsize=16)\n",
    "#plt.savefig(\"fig_3.1.png\", dpi=100)"
   ]
  },
  {
   "cell_type": "code",
   "execution_count": 56,
   "metadata": {},
   "outputs": [],
   "source": [
    "# The feature doesnot effect the purchasing decision of the customer, so we romove this feature\n",
    "df_trans = df_trans.drop('SHIPDAYS',axis=1)"
   ]
  },
  {
   "cell_type": "code",
   "execution_count": 57,
   "metadata": {},
   "outputs": [
    {
     "data": {
      "text/plain": [
       "USERID            3803\n",
       "PPC_ADD          15482\n",
       "ITEM                 0\n",
       "PURCHASE        218913\n",
       "QTY             199101\n",
       "DISCOUNT         21731\n",
       "DELIVERYDATE     75492\n",
       "REVIEW          219272\n",
       "RATING          566753\n",
       "TRACKNO              9\n",
       "TIMESTAMP        36655\n",
       "dtype: int64"
      ]
     },
     "execution_count": 57,
     "metadata": {},
     "output_type": "execute_result"
    }
   ],
   "source": [
    "df_trans.isnull().sum()"
   ]
  },
  {
   "cell_type": "markdown",
   "metadata": {},
   "source": [
    "## PPC_ADD feature"
   ]
  },
  {
   "cell_type": "code",
   "execution_count": 58,
   "metadata": {},
   "outputs": [
    {
     "data": {
      "text/plain": [
       "array(['KEVIN', 'SENDI', 'ISABELLA', 'NO', nan, 'BIANCA', 'KENZA'],\n",
       "      dtype=object)"
      ]
     },
     "execution_count": 58,
     "metadata": {},
     "output_type": "execute_result"
    }
   ],
   "source": [
    "df_trans['PPC_ADD'].unique()"
   ]
  },
  {
   "cell_type": "code",
   "execution_count": 59,
   "metadata": {},
   "outputs": [
    {
     "data": {
      "text/plain": [
       "Text(0.5, 0, 'PPC_ADD')"
      ]
     },
     "execution_count": 59,
     "metadata": {},
     "output_type": "execute_result"
    },
    {
     "data": {
      "image/png": "[encoded data removed]",
      "text/plain": [
       "<Figure size 720x576 with 1 Axes>"
      ]
     },
     "metadata": {},
     "output_type": "display_data"
    }
   ],
   "source": [
    "plt.figure(figsize=(10,8))\n",
    "plt.title('COUNT OF TRANSACTIONS WITH PPC_ADD',fontsize=16)\n",
    "\n",
    "sns.countplot(x='PPC_ADD',data=df_trans,hue='PURCHASE')\n",
    "plt.ylabel('NUMBER OF PPC_ADD',fontsize=16)\n",
    "plt.xlabel('PPC_ADD',fontsize=16)\n",
    "#plt.savefig(\"fig_3.1.png\", dpi=100)"
   ]
  },
  {
   "cell_type": "code",
   "execution_count": 60,
   "metadata": {},
   "outputs": [],
   "source": [
    "# Percentage of 'YES' or 'NO' at each WEBBROWER method\n",
    "num_YES = df_trans[df_trans['PURCHASE']=='YES'].groupby('PPC_ADD')['ITEM'].count()"
   ]
  },
  {
   "cell_type": "code",
   "execution_count": 61,
   "metadata": {},
   "outputs": [],
   "source": [
    "num_NO = df_trans[df_trans['PURCHASE']=='NO'].groupby('PPC_ADD')['ITEM'].count()"
   ]
  },
  {
   "cell_type": "code",
   "execution_count": 62,
   "metadata": {},
   "outputs": [
    {
     "name": "stdout",
     "output_type": "stream",
     "text": [
      "0.7767275556796727\n",
      "0.777153424089163\n",
      "0.7786702748365942\n",
      "0.777640295929678\n",
      "0.7766281758497822\n",
      "0.7783257931508418\n"
     ]
    }
   ],
   "source": [
    "#Percentage of 'YES'\n",
    "for i in range(len(num_YES)):\n",
    "    print(num_YES[i]/(num_NO[i]+num_YES[i]))"
   ]
  },
  {
   "cell_type": "code",
   "execution_count": 63,
   "metadata": {},
   "outputs": [],
   "source": [
    "# The feature doesnot effect the purchasing decision of the customer, so we romove this feature\n",
    "#df_trans = df_trans.drop('WEBBROWSER',axis=1)"
   ]
  },
  {
   "cell_type": "markdown",
   "metadata": {},
   "source": [
    "### DELIVERYDATE"
   ]
  },
  {
   "cell_type": "code",
   "execution_count": 64,
   "metadata": {},
   "outputs": [
    {
     "data": {
      "text/plain": [
       "array(['2018-5-25', '2018-5-1', '2018-7-7', '2018-2-13', '2018-1-10',\n",
       "       '2018-7-20', '2018-11-21', '2018-2-6', '2018-3-26', '2018-10-3',\n",
       "       '2018-10-7', '2018-5-14', '2018-5-20', '2018-3-24', '2018-4-24',\n",
       "       '2018-12-8', '2018-1-27', '2018-10-21', '2018-10-19', '2018-3-13',\n",
       "       '2018-5-17', '2018-4-23', '2018-12-19', '2018-11-23', '2018-3-28',\n",
       "       '2018-7-3', '2018-1-13', nan], dtype=object)"
      ]
     },
     "execution_count": 64,
     "metadata": {},
     "output_type": "execute_result"
    }
   ],
   "source": [
    "df_trans['DELIVERYDATE'].unique()"
   ]
  },
  {
   "cell_type": "markdown",
   "metadata": {},
   "source": [
    "### TIMESTAMP"
   ]
  },
  {
   "cell_type": "code",
   "execution_count": 65,
   "metadata": {},
   "outputs": [
    {
     "data": {
      "text/plain": [
       "array(['21:54:45', '5:44:25', '6:58:15', '12:50:23', '5:23:37', '2:47:2',\n",
       "       '2:31:39', '7:56:56', '0:31:21', '12:18:21', '12:48:46', '19:2:37',\n",
       "       '1:26:31', '23:7:53', '15:18:22', '1:18:40', '0:3:15', '11:56:58',\n",
       "       '11:9:59', '12:16:2', '1:31:40', '20:11:54', '7:2:59', '12:9:28',\n",
       "       '12:7:37', '10:30:9', '0:28:54', '9:2:29', '11:23:13', '7:5:34',\n",
       "       '12:3:51', '13:9:53', '23:41:5', '20:18:53', '13:24:6', '13:57:21',\n",
       "       '12:25:54', '2:30:52', '1:45:36', '20:16:1', '9:54:58', '5:50:52',\n",
       "       nan, '9:42:18', '9:9:58', '0:44:26', '21:9:24', '9:42:39',\n",
       "       '1:47:18', '12:25:23', '23:16:25', '5:56:53', '11:50:25',\n",
       "       '19:34:14', '10:0:5', '6:16:2', '1:13:51', '5:55:3', '2:8:26',\n",
       "       '15:20:4'], dtype=object)"
      ]
     },
     "execution_count": 65,
     "metadata": {},
     "output_type": "execute_result"
    }
   ],
   "source": [
    "df_trans['TIMESTAMP'].unique()"
   ]
  },
  {
   "cell_type": "code",
   "execution_count": null,
   "metadata": {},
   "outputs": [],
   "source": []
  },
  {
   "cell_type": "markdown",
   "metadata": {},
   "source": [
    "### Check for the distribution of TRANSACTION by HOURs\n"
   ]
  },
  {
   "cell_type": "code",
   "execution_count": 66,
   "metadata": {},
   "outputs": [
    {
     "data": {
      "image/png": "[encoded data removed]",
      "text/plain": [
       "<Figure size 720x576 with 1 Axes>"
      ]
     },
     "metadata": {},
     "output_type": "display_data"
    }
   ],
   "source": [
    "# Create 'Month' column from the 'Deliverydate' column\n",
    "\n",
    "df_trans['MONTH']=df_trans['DELIVERYDATE'].str.split(pat='-',expand=True)[1]\n",
    "df_trans['MONTH']=pd.to_numeric(df_trans['MONTH'],errors='coerce',downcast='integer')\n",
    "\n",
    "# Create 'HOUR' column from the 'TIMESTAMP' column\n",
    "\n",
    "df_trans['HOUR']=df_trans['TIMESTAMP'].str.split(pat=':',expand=True)[0]\n",
    "df_trans['HOUR']=pd.to_numeric(df_trans['HOUR'],errors='coerce',downcast='integer')\n",
    "\n",
    "plt.figure(figsize=(10,8))\n",
    "plt.title('The number TRANSACTIONS by HOURS colored by the PURCHASE column',fontsize=16)\n",
    "\n",
    "sns.countplot(x='HOUR',data=df_trans,hue='PURCHASE')\n",
    "plt.ylabel('NUMBER OF TRANSACTIONS',fontsize=16)\n",
    "plt.xlabel('HOUR',fontsize=16)\n",
    "plt.savefig(\"fig_3.6.png\", dpi=100)"
   ]
  },
  {
   "cell_type": "markdown",
   "metadata": {},
   "source": [
    "### Percentage of customers giving review on the services"
   ]
  },
  {
   "cell_type": "code",
   "execution_count": 67,
   "metadata": {},
   "outputs": [
    {
     "data": {
      "text/plain": [
       "219272"
      ]
     },
     "execution_count": 67,
     "metadata": {},
     "output_type": "execute_result"
    }
   ],
   "source": [
    "df_trans['REVIEW'].isnull().sum()"
   ]
  },
  {
   "cell_type": "code",
   "execution_count": 68,
   "metadata": {},
   "outputs": [
    {
     "data": {
      "image/png": "[encoded data removed]",
      "text/plain": [
       "<Figure size 720x576 with 1 Axes>"
      ]
     },
     "metadata": {},
     "output_type": "display_data"
    }
   ],
   "source": [
    "plt.figure(figsize=(10,8))\n",
    "plt.title('The number TRANSACTIONS by REVIEW colored by the PURCHASE column',fontsize=16)\n",
    "\n",
    "sns.countplot(x='REVIEW',data=df_trans,hue='PURCHASE')\n",
    "plt.ylabel('NUMBER OF REVIEW',fontsize=16)\n",
    "plt.xlabel('HOUR',fontsize=16)\n",
    "plt.savefig(\"fig_3.6.png\", dpi=100)"
   ]
  },
  {
   "cell_type": "code",
   "execution_count": 69,
   "metadata": {},
   "outputs": [
    {
     "data": {
      "text/plain": [
       "REVIEW\n",
       "NO     764499\n",
       "YES    613152\n",
       "Name: ITEM, dtype: int64"
      ]
     },
     "execution_count": 69,
     "metadata": {},
     "output_type": "execute_result"
    }
   ],
   "source": [
    "# Percentage of 'YES' or 'NO' at each WEBBROWER method\n",
    "num_YES = df_trans[df_trans['PURCHASE']=='YES'].groupby('REVIEW')['ITEM'].count()\n",
    "num_YES"
   ]
  },
  {
   "cell_type": "code",
   "execution_count": 70,
   "metadata": {},
   "outputs": [
    {
     "data": {
      "text/plain": [
       "REVIEW\n",
       "NO     219427\n",
       "YES    175503\n",
       "Name: ITEM, dtype: int64"
      ]
     },
     "execution_count": 70,
     "metadata": {},
     "output_type": "execute_result"
    }
   ],
   "source": [
    "num_NO = df_trans[df_trans['PURCHASE']=='NO'].groupby('REVIEW')['ITEM'].count()\n",
    "num_NO"
   ]
  },
  {
   "cell_type": "code",
   "execution_count": 71,
   "metadata": {},
   "outputs": [
    {
     "name": "stdout",
     "output_type": "stream",
     "text": [
      "0.7769883100964909\n",
      "0.7774654316526237\n"
     ]
    }
   ],
   "source": [
    "#Percentage of 'YES'\n",
    "for i in range(len(num_YES)):\n",
    "    print(num_YES[i]/(num_NO[i]+num_YES[i]))"
   ]
  },
  {
   "cell_type": "code",
   "execution_count": 72,
   "metadata": {},
   "outputs": [
    {
     "data": {
      "text/html": [
       "<div>\n",
       "<style scoped>\n",
       "    .dataframe tbody tr th:only-of-type {\n",
       "        vertical-align: middle;\n",
       "    }\n",
       "\n",
       "    .dataframe tbody tr th {\n",
       "        vertical-align: top;\n",
       "    }\n",
       "\n",
       "    .dataframe thead th {\n",
       "        text-align: right;\n",
       "    }\n",
       "</style>\n",
       "<table border=\"1\" class=\"dataframe\">\n",
       "  <thead>\n",
       "    <tr style=\"text-align: right;\">\n",
       "      <th></th>\n",
       "      <th>REVIEW</th>\n",
       "      <th>USERID</th>\n",
       "      <th>PPC_ADD</th>\n",
       "      <th>ITEM</th>\n",
       "      <th>PURCHASE</th>\n",
       "      <th>QTY</th>\n",
       "      <th>DISCOUNT</th>\n",
       "      <th>DELIVERYDATE</th>\n",
       "      <th>RATING</th>\n",
       "      <th>TRACKNO</th>\n",
       "      <th>TIMESTAMP</th>\n",
       "      <th>MONTH</th>\n",
       "      <th>HOUR</th>\n",
       "    </tr>\n",
       "  </thead>\n",
       "  <tbody>\n",
       "    <tr>\n",
       "      <th>0</th>\n",
       "      <td>NO</td>\n",
       "      <td>1091360</td>\n",
       "      <td>1085508</td>\n",
       "      <td>1093218</td>\n",
       "      <td>983926</td>\n",
       "      <td>993648</td>\n",
       "      <td>1082407</td>\n",
       "      <td>1055633</td>\n",
       "      <td>810280</td>\n",
       "      <td>1093214</td>\n",
       "      <td>1074913</td>\n",
       "      <td>1055633</td>\n",
       "      <td>1074913</td>\n",
       "    </tr>\n",
       "    <tr>\n",
       "      <th>1</th>\n",
       "      <td>YES</td>\n",
       "      <td>874750</td>\n",
       "      <td>870091</td>\n",
       "      <td>876310</td>\n",
       "      <td>788655</td>\n",
       "      <td>796546</td>\n",
       "      <td>867636</td>\n",
       "      <td>845936</td>\n",
       "      <td>649363</td>\n",
       "      <td>876307</td>\n",
       "      <td>861598</td>\n",
       "      <td>845936</td>\n",
       "      <td>861598</td>\n",
       "    </tr>\n",
       "  </tbody>\n",
       "</table>\n",
       "</div>"
      ],
      "text/plain": [
       "  REVIEW   USERID  PPC_ADD     ITEM  PURCHASE     QTY  DISCOUNT  DELIVERYDATE  \\\n",
       "0     NO  1091360  1085508  1093218    983926  993648   1082407       1055633   \n",
       "1    YES   874750   870091   876310    788655  796546    867636        845936   \n",
       "\n",
       "   RATING  TRACKNO  TIMESTAMP    MONTH     HOUR  \n",
       "0  810280  1093214    1074913  1055633  1074913  \n",
       "1  649363   876307     861598   845936   861598  "
      ]
     },
     "execution_count": 72,
     "metadata": {},
     "output_type": "execute_result"
    }
   ],
   "source": [
    "df=df_trans.groupby('REVIEW').count().reset_index()\n",
    "df"
   ]
  },
  {
   "cell_type": "code",
   "execution_count": 73,
   "metadata": {},
   "outputs": [
    {
     "data": {
      "image/png": "[encoded data removed]",
      "text/plain": [
       "<Figure size 432x432 with 1 Axes>"
      ]
     },
     "metadata": {},
     "output_type": "display_data"
    }
   ],
   "source": [
    "plt.figure(figsize=(6,6))\n",
    "plt.title('Percentage of customers giving their review')\n",
    "df=df_trans.groupby('REVIEW').count().reset_index()\n",
    "plt.pie(df['USERID'],labels=df['REVIEW'],autopct='%1.1f%%')\n",
    "plt.axis('equal')\n",
    "plt.show()"
   ]
  },
  {
   "cell_type": "markdown",
   "metadata": {},
   "source": [
    "### RATING counts"
   ]
  },
  {
   "cell_type": "code",
   "execution_count": 74,
   "metadata": {},
   "outputs": [
    {
     "data": {
      "text/plain": [
       "<matplotlib.axes._subplots.AxesSubplot at 0x1a1bf01bd0>"
      ]
     },
     "execution_count": 74,
     "metadata": {},
     "output_type": "execute_result"
    },
    {
     "data": {
      "image/png": "[encoded data removed]",
      "text/plain": [
       "<Figure size 720x576 with 1 Axes>"
      ]
     },
     "metadata": {},
     "output_type": "display_data"
    }
   ],
   "source": [
    "plt.figure(figsize=(10,8))\n",
    "plt.title('The number TRANSACTIONS by RATING colored by the PURCHASE column',fontsize=16)\n",
    "sns.countplot(x='RATING',data=df_trans,hue=\"PURCHASE\")"
   ]
  },
  {
   "cell_type": "code",
   "execution_count": 75,
   "metadata": {},
   "outputs": [
    {
     "name": "stdout",
     "output_type": "stream",
     "text": [
      "0.7769786389155142\n",
      "0.7773129961703457\n",
      "0.7760419526659711\n",
      "0.7781186875366135\n",
      "0.777303684253713\n"
     ]
    }
   ],
   "source": [
    "# Percentage of 'YES' or 'NO' at each WEBBROWER method\n",
    "num_YES = df_trans[df_trans['PURCHASE']=='YES'].groupby('RATING')['ITEM'].count()\n",
    "num_NO = df_trans[df_trans['PURCHASE']=='NO'].groupby('RATING')['ITEM'].count()\n",
    "\n",
    "#Percentage of 'YES'\n",
    "for i in range(1, len(num_YES)+1):\n",
    "    print(num_YES[i]/(num_NO[i]+num_YES[i]))"
   ]
  },
  {
   "cell_type": "markdown",
   "metadata": {},
   "source": [
    "## Handle the missing data"
   ]
  },
  {
   "cell_type": "code",
   "execution_count": 76,
   "metadata": {},
   "outputs": [
    {
     "name": "stdout",
     "output_type": "stream",
     "text": [
      "<class 'pandas.core.frame.DataFrame'>\n",
      "RangeIndex: 2188800 entries, 0 to 2188799\n",
      "Data columns (total 13 columns):\n",
      " #   Column        Dtype  \n",
      "---  ------        -----  \n",
      " 0   USERID        float64\n",
      " 1   PPC_ADD       object \n",
      " 2   ITEM          int64  \n",
      " 3   PURCHASE      object \n",
      " 4   QTY           float64\n",
      " 5   DISCOUNT      float64\n",
      " 6   DELIVERYDATE  object \n",
      " 7   REVIEW        object \n",
      " 8   RATING        float64\n",
      " 9   TRACKNO       float64\n",
      " 10  TIMESTAMP     object \n",
      " 11  MONTH         float64\n",
      " 12  HOUR          float64\n",
      "dtypes: float64(7), int64(1), object(5)\n",
      "memory usage: 217.1+ MB\n"
     ]
    }
   ],
   "source": [
    "df_trans.info()"
   ]
  },
  {
   "cell_type": "code",
   "execution_count": 77,
   "metadata": {},
   "outputs": [
    {
     "data": {
      "text/plain": [
       "USERID            3803\n",
       "PPC_ADD          15482\n",
       "ITEM                 0\n",
       "PURCHASE        218913\n",
       "QTY             199101\n",
       "DISCOUNT         21731\n",
       "DELIVERYDATE     75492\n",
       "REVIEW          219272\n",
       "RATING          566753\n",
       "TRACKNO              9\n",
       "TIMESTAMP        36655\n",
       "MONTH            75492\n",
       "HOUR             36655\n",
       "dtype: int64"
      ]
     },
     "execution_count": 77,
     "metadata": {},
     "output_type": "execute_result"
    }
   ],
   "source": [
    "df_trans.isnull().sum()"
   ]
  },
  {
   "cell_type": "markdown",
   "metadata": {},
   "source": [
    "###  We now create a new database to calculate the profit. \n",
    "   1. Create a new copy of df_trans called df_trans_price included \"USERID\" and \"ITEM\" columns\n",
    "   \n",
    "   2. Map the profit (PROFIT column) per an item from the item dataframe to the newly created dataframe\n",
    "   \n",
    "   3. Calculate a \"TOTAL\" profit column by mutiplying the profit per an item with the number of the item ordered (\"QTY\" column). In case of empty value in the \"QTY\" column, the missing values are filled with 1.\n",
    "   \n",
    "   4. Copy the \"PURCHASE\", \"PPC_ADD\", \"DISCOUNT\" and \"MONTH\" columns from transaction dataframe to the newly created dataframe\n",
    "   \n",
    "   5. Create a columns called \"MONTH\"\n"
   ]
  },
  {
   "cell_type": "code",
   "execution_count": 78,
   "metadata": {},
   "outputs": [],
   "source": [
    "# Fill empty value of 'QTY' with 1\n",
    "df_trans['QTY'] = df_trans['QTY'].fillna(1)"
   ]
  },
  {
   "cell_type": "code",
   "execution_count": 79,
   "metadata": {},
   "outputs": [],
   "source": [
    "# create a temporal datafram from  df_item_no_dupItem\n",
    "df_tem = df_item_no_dupItem[['ITEM','PROFIT']]"
   ]
  },
  {
   "cell_type": "code",
   "execution_count": 80,
   "metadata": {},
   "outputs": [],
   "source": [
    "# add the PROFIT colum from df_item_no_dupItem to df_trans\n",
    "df_trans = df_trans.join(df_tem.set_index('ITEM'), on='ITEM')"
   ]
  },
  {
   "cell_type": "code",
   "execution_count": 81,
   "metadata": {},
   "outputs": [],
   "source": [
    "# Create a new column called TOTAL  by multiply PROFIT by QTY\n",
    "df_trans['TOTAL'] = df_trans['PROFIT'] * df_trans['QTY']"
   ]
  },
  {
   "cell_type": "code",
   "execution_count": 82,
   "metadata": {},
   "outputs": [
    {
     "data": {
      "text/html": [
       "<div>\n",
       "<style scoped>\n",
       "    .dataframe tbody tr th:only-of-type {\n",
       "        vertical-align: middle;\n",
       "    }\n",
       "\n",
       "    .dataframe tbody tr th {\n",
       "        vertical-align: top;\n",
       "    }\n",
       "\n",
       "    .dataframe thead th {\n",
       "        text-align: right;\n",
       "    }\n",
       "</style>\n",
       "<table border=\"1\" class=\"dataframe\">\n",
       "  <thead>\n",
       "    <tr style=\"text-align: right;\">\n",
       "      <th></th>\n",
       "      <th>index</th>\n",
       "      <th>ITEM</th>\n",
       "      <th>CATEGORY</th>\n",
       "      <th>COLOR</th>\n",
       "      <th>SUPLID</th>\n",
       "      <th>PURCHASEPRICE</th>\n",
       "      <th>SALEPRICE</th>\n",
       "      <th>PROFIT</th>\n",
       "    </tr>\n",
       "  </thead>\n",
       "  <tbody>\n",
       "    <tr>\n",
       "      <th>0</th>\n",
       "      <td>0</td>\n",
       "      <td>127521</td>\n",
       "      <td>PAJAMAS</td>\n",
       "      <td>PINK</td>\n",
       "      <td>41560EE</td>\n",
       "      <td>1867.09</td>\n",
       "      <td>2800.0</td>\n",
       "      <td>932.91</td>\n",
       "    </tr>\n",
       "    <tr>\n",
       "      <th>1</th>\n",
       "      <td>1</td>\n",
       "      <td>151662</td>\n",
       "      <td>SOCKS</td>\n",
       "      <td>GOLD</td>\n",
       "      <td>16091ZZ</td>\n",
       "      <td>1862.08</td>\n",
       "      <td>2050.0</td>\n",
       "      <td>187.92</td>\n",
       "    </tr>\n",
       "    <tr>\n",
       "      <th>2</th>\n",
       "      <td>2</td>\n",
       "      <td>453756</td>\n",
       "      <td>COAT</td>\n",
       "      <td>GOLD</td>\n",
       "      <td>11370LL</td>\n",
       "      <td>914.81</td>\n",
       "      <td>1370.0</td>\n",
       "      <td>455.19</td>\n",
       "    </tr>\n",
       "    <tr>\n",
       "      <th>3</th>\n",
       "      <td>3</td>\n",
       "      <td>434386</td>\n",
       "      <td>PAJAMAS</td>\n",
       "      <td>SILVER</td>\n",
       "      <td>41560EE</td>\n",
       "      <td>1913.00</td>\n",
       "      <td>1430.0</td>\n",
       "      <td>-483.00</td>\n",
       "    </tr>\n",
       "    <tr>\n",
       "      <th>4</th>\n",
       "      <td>4</td>\n",
       "      <td>422712</td>\n",
       "      <td>DRESS</td>\n",
       "      <td>SILVER</td>\n",
       "      <td>48094JJ</td>\n",
       "      <td>851.43</td>\n",
       "      <td>940.0</td>\n",
       "      <td>88.57</td>\n",
       "    </tr>\n",
       "  </tbody>\n",
       "</table>\n",
       "</div>"
      ],
      "text/plain": [
       "   index    ITEM CATEGORY   COLOR   SUPLID  PURCHASEPRICE  SALEPRICE  PROFIT\n",
       "0      0  127521  PAJAMAS    PINK  41560EE        1867.09     2800.0  932.91\n",
       "1      1  151662    SOCKS    GOLD  16091ZZ        1862.08     2050.0  187.92\n",
       "2      2  453756     COAT    GOLD  11370LL         914.81     1370.0  455.19\n",
       "3      3  434386  PAJAMAS  SILVER  41560EE        1913.00     1430.0 -483.00\n",
       "4      4  422712    DRESS  SILVER  48094JJ         851.43      940.0   88.57"
      ]
     },
     "execution_count": 82,
     "metadata": {},
     "output_type": "execute_result"
    }
   ],
   "source": [
    "df_item_no_dupItem.head()"
   ]
  },
  {
   "cell_type": "code",
   "execution_count": 83,
   "metadata": {},
   "outputs": [
    {
     "data": {
      "text/html": [
       "<div>\n",
       "<style scoped>\n",
       "    .dataframe tbody tr th:only-of-type {\n",
       "        vertical-align: middle;\n",
       "    }\n",
       "\n",
       "    .dataframe tbody tr th {\n",
       "        vertical-align: top;\n",
       "    }\n",
       "\n",
       "    .dataframe thead th {\n",
       "        text-align: right;\n",
       "    }\n",
       "</style>\n",
       "<table border=\"1\" class=\"dataframe\">\n",
       "  <thead>\n",
       "    <tr style=\"text-align: right;\">\n",
       "      <th></th>\n",
       "      <th>ITEM</th>\n",
       "      <th>CATEGORY</th>\n",
       "    </tr>\n",
       "  </thead>\n",
       "  <tbody>\n",
       "    <tr>\n",
       "      <th>0</th>\n",
       "      <td>127521</td>\n",
       "      <td>PAJAMAS</td>\n",
       "    </tr>\n",
       "    <tr>\n",
       "      <th>1</th>\n",
       "      <td>151662</td>\n",
       "      <td>SOCKS</td>\n",
       "    </tr>\n",
       "    <tr>\n",
       "      <th>2</th>\n",
       "      <td>453756</td>\n",
       "      <td>COAT</td>\n",
       "    </tr>\n",
       "    <tr>\n",
       "      <th>3</th>\n",
       "      <td>434386</td>\n",
       "      <td>PAJAMAS</td>\n",
       "    </tr>\n",
       "    <tr>\n",
       "      <th>4</th>\n",
       "      <td>422712</td>\n",
       "      <td>DRESS</td>\n",
       "    </tr>\n",
       "    <tr>\n",
       "      <th>...</th>\n",
       "      <td>...</td>\n",
       "      <td>...</td>\n",
       "    </tr>\n",
       "    <tr>\n",
       "      <th>10939</th>\n",
       "      <td>130914</td>\n",
       "      <td>BELT</td>\n",
       "    </tr>\n",
       "    <tr>\n",
       "      <th>10940</th>\n",
       "      <td>110127</td>\n",
       "      <td>SCARF</td>\n",
       "    </tr>\n",
       "    <tr>\n",
       "      <th>10941</th>\n",
       "      <td>224241</td>\n",
       "      <td>BELT</td>\n",
       "    </tr>\n",
       "    <tr>\n",
       "      <th>10942</th>\n",
       "      <td>247888</td>\n",
       "      <td>DRESS</td>\n",
       "    </tr>\n",
       "    <tr>\n",
       "      <th>10943</th>\n",
       "      <td>150219</td>\n",
       "      <td>SCARF</td>\n",
       "    </tr>\n",
       "  </tbody>\n",
       "</table>\n",
       "<p>10944 rows × 2 columns</p>\n",
       "</div>"
      ],
      "text/plain": [
       "         ITEM CATEGORY\n",
       "0      127521  PAJAMAS\n",
       "1      151662    SOCKS\n",
       "2      453756     COAT\n",
       "3      434386  PAJAMAS\n",
       "4      422712    DRESS\n",
       "...       ...      ...\n",
       "10939  130914     BELT\n",
       "10940  110127    SCARF\n",
       "10941  224241     BELT\n",
       "10942  247888    DRESS\n",
       "10943  150219    SCARF\n",
       "\n",
       "[10944 rows x 2 columns]"
      ]
     },
     "execution_count": 83,
     "metadata": {},
     "output_type": "execute_result"
    }
   ],
   "source": [
    "df_item_no_dupItem[['ITEM','CATEGORY']]"
   ]
  },
  {
   "cell_type": "code",
   "execution_count": 84,
   "metadata": {},
   "outputs": [],
   "source": [
    "# create a temporal datafram from  df_item_no_dupItem\n",
    "df_tem = df_item_no_dupItem[['ITEM','CATEGORY']]\n",
    "\n",
    "# add the CATEGORY colum from df_item_no_dupItem to df_trans\n",
    "df_trans = df_trans.join(df_tem.set_index('ITEM'), on='ITEM')"
   ]
  },
  {
   "cell_type": "markdown",
   "metadata": {},
   "source": [
    "### Calculate the total profit by MONTH"
   ]
  },
  {
   "cell_type": "code",
   "execution_count": 85,
   "metadata": {},
   "outputs": [],
   "source": [
    "# groupby MONTH\n",
    "data = df_trans[['MONTH','TOTAL']][df_trans['PURCHASE']=='YES'].groupby('MONTH').sum()\n",
    "data = data.reset_index()"
   ]
  },
  {
   "cell_type": "code",
   "execution_count": 86,
   "metadata": {},
   "outputs": [
    {
     "data": {
      "image/png": "[encoded data removed]",
      "text/plain": [
       "<Figure size 720x576 with 1 Axes>"
      ]
     },
     "metadata": {},
     "output_type": "display_data"
    }
   ],
   "source": [
    "plt.figure(figsize=(10,8))\n",
    "plt.title('TOTAL PROFIT BY MONTH',fontsize=16)\n",
    "\n",
    "sns.barplot(x='MONTH',y='TOTAL',data=data)\n",
    "plt.xlabel('MONTH',fontsize=16)\n",
    "plt.ylabel('TOTAL PROFIT',fontsize=16)\n",
    "plt.savefig(\"fig_3.11.png\", dpi=100)"
   ]
  },
  {
   "cell_type": "markdown",
   "metadata": {},
   "source": [
    "### Calculate the total profit by CATEGORY"
   ]
  },
  {
   "cell_type": "code",
   "execution_count": 87,
   "metadata": {},
   "outputs": [],
   "source": [
    "# groupby MONTH\n",
    "data = df_trans[['CATEGORY','TOTAL']][df_trans['PURCHASE']=='YES'].groupby('CATEGORY').sum()\n",
    "data = data.reset_index()"
   ]
  },
  {
   "cell_type": "code",
   "execution_count": 88,
   "metadata": {},
   "outputs": [
    {
     "data": {
      "image/png": "[encoded data removed]",
      "text/plain": [
       "<Figure size 720x576 with 1 Axes>"
      ]
     },
     "metadata": {},
     "output_type": "display_data"
    }
   ],
   "source": [
    "plt.figure(figsize=(10,8))\n",
    "plt.title('TOTAL PROFIT BY MONTH',fontsize=16)\n",
    "\n",
    "sns.barplot(y='CATEGORY',x='TOTAL',data=data)\n",
    "plt.xlabel('CATEGORY',fontsize=16)\n",
    "plt.ylabel('TOTAL PROFIT',fontsize=16)\n",
    "plt.savefig(\"fig_3.11.png\", dpi=100)"
   ]
  },
  {
   "cell_type": "markdown",
   "metadata": {},
   "source": [
    "### Calculate the total profit by Country"
   ]
  },
  {
   "cell_type": "code",
   "execution_count": 89,
   "metadata": {},
   "outputs": [],
   "source": [
    "df_trans = df_trans.dropna(subset=['USERID'],axis = 0)"
   ]
  },
  {
   "cell_type": "code",
   "execution_count": 90,
   "metadata": {},
   "outputs": [],
   "source": [
    "# create a temporal datafram from  df_item_no_dupItem\n",
    "df_tem = df_customer[['USERID','COUNTRY']]"
   ]
  },
  {
   "cell_type": "code",
   "execution_count": 91,
   "metadata": {},
   "outputs": [],
   "source": [
    "# add the PROFIT colum from df_item_no_dupItem to df_trans\n",
    "df_trans = df_trans.join(df_tem.set_index('USERID'), on='USERID')"
   ]
  },
  {
   "cell_type": "code",
   "execution_count": 92,
   "metadata": {},
   "outputs": [],
   "source": [
    "# groupby Country\n",
    "data = df_trans[['COUNTRY','TOTAL']][df_trans['PURCHASE']=='YES'].groupby('COUNTRY').sum()\n",
    "data = data.reset_index()"
   ]
  },
  {
   "cell_type": "code",
   "execution_count": 93,
   "metadata": {},
   "outputs": [
    {
     "data": {
      "image/png": "[encoded data removed]",
      "text/plain": [
       "<Figure size 720x576 with 1 Axes>"
      ]
     },
     "metadata": {},
     "output_type": "display_data"
    }
   ],
   "source": [
    "plt.figure(figsize=(10,8))\n",
    "plt.title('TOTAL PROFIT BY COUNTRY',fontsize=16)\n",
    "\n",
    "sns.barplot(y='COUNTRY',x='TOTAL',data=data)\n",
    "plt.xlabel('COUNTRY',fontsize=16)\n",
    "plt.ylabel('TOTAL PROFIT',fontsize=16)\n",
    "plt.savefig(\"fig_3.11.png\", dpi=100)"
   ]
  },
  {
   "cell_type": "markdown",
   "metadata": {},
   "source": [
    "# 2. Using  ML model to make models predicting if the transaction has YES or NO status in the PURCHASE column"
   ]
  },
  {
   "cell_type": "markdown",
   "metadata": {},
   "source": [
    "## 2.1. Data preparation"
   ]
  },
  {
   "cell_type": "code",
   "execution_count": 94,
   "metadata": {},
   "outputs": [],
   "source": [
    "df = df_trans.copy()"
   ]
  },
  {
   "cell_type": "code",
   "execution_count": 95,
   "metadata": {},
   "outputs": [
    {
     "data": {
      "text/plain": [
       "USERID               0\n",
       "PPC_ADD          15458\n",
       "ITEM                 0\n",
       "PURCHASE        218527\n",
       "QTY                  0\n",
       "DISCOUNT         21686\n",
       "DELIVERYDATE     75361\n",
       "REVIEW          218887\n",
       "RATING          565783\n",
       "TRACKNO              9\n",
       "TIMESTAMP        36586\n",
       "MONTH            75361\n",
       "HOUR             36586\n",
       "PROFIT             216\n",
       "TOTAL              216\n",
       "CATEGORY             0\n",
       "COUNTRY              0\n",
       "dtype: int64"
      ]
     },
     "execution_count": 95,
     "metadata": {},
     "output_type": "execute_result"
    }
   ],
   "source": [
    "df.isnull().sum()"
   ]
  },
  {
   "cell_type": "code",
   "execution_count": 96,
   "metadata": {},
   "outputs": [],
   "source": [
    "# remove rows with missing values in PURCHASE column \n",
    "df = df.dropna(subset = ['PURCHASE'], axis = 0)"
   ]
  },
  {
   "cell_type": "code",
   "execution_count": 97,
   "metadata": {},
   "outputs": [
    {
     "data": {
      "text/plain": [
       "USERID               0\n",
       "PPC_ADD          13868\n",
       "ITEM                 0\n",
       "PURCHASE             0\n",
       "QTY                  0\n",
       "DISCOUNT         19485\n",
       "DELIVERYDATE     67839\n",
       "REVIEW          196974\n",
       "RATING          509242\n",
       "TRACKNO              9\n",
       "TIMESTAMP        32835\n",
       "MONTH            67839\n",
       "HOUR             32835\n",
       "PROFIT             194\n",
       "TOTAL              194\n",
       "CATEGORY             0\n",
       "COUNTRY              0\n",
       "dtype: int64"
      ]
     },
     "execution_count": 97,
     "metadata": {},
     "output_type": "execute_result"
    }
   ],
   "source": [
    "df.isnull().sum()"
   ]
  },
  {
   "cell_type": "code",
   "execution_count": 98,
   "metadata": {},
   "outputs": [
    {
     "data": {
      "text/html": [
       "<div>\n",
       "<style scoped>\n",
       "    .dataframe tbody tr th:only-of-type {\n",
       "        vertical-align: middle;\n",
       "    }\n",
       "\n",
       "    .dataframe tbody tr th {\n",
       "        vertical-align: top;\n",
       "    }\n",
       "\n",
       "    .dataframe thead th {\n",
       "        text-align: right;\n",
       "    }\n",
       "</style>\n",
       "<table border=\"1\" class=\"dataframe\">\n",
       "  <thead>\n",
       "    <tr style=\"text-align: right;\">\n",
       "      <th></th>\n",
       "      <th>RATING</th>\n",
       "    </tr>\n",
       "    <tr>\n",
       "      <th>REVIEW</th>\n",
       "      <th></th>\n",
       "    </tr>\n",
       "  </thead>\n",
       "  <tbody>\n",
       "    <tr>\n",
       "      <th>NO</th>\n",
       "      <td>3.001430</td>\n",
       "    </tr>\n",
       "    <tr>\n",
       "      <th>YES</th>\n",
       "      <td>2.999311</td>\n",
       "    </tr>\n",
       "  </tbody>\n",
       "</table>\n",
       "</div>"
      ],
      "text/plain": [
       "          RATING\n",
       "REVIEW          \n",
       "NO      3.001430\n",
       "YES     2.999311"
      ]
     },
     "execution_count": 98,
     "metadata": {},
     "output_type": "execute_result"
    }
   ],
   "source": [
    "# Caculate mean Rating for group YES and NO reviewing\n",
    "df[['REVIEW','RATING']].groupby('REVIEW').mean()"
   ]
  },
  {
   "cell_type": "code",
   "execution_count": 99,
   "metadata": {},
   "outputs": [],
   "source": [
    "# fill the Nan values with 3 for RATING column\n",
    "df['RATING'] = df['RATING'].fillna(3)"
   ]
  },
  {
   "cell_type": "code",
   "execution_count": 100,
   "metadata": {},
   "outputs": [
    {
     "data": {
      "text/plain": [
       "126208"
      ]
     },
     "execution_count": 100,
     "metadata": {},
     "output_type": "execute_result"
    }
   ],
   "source": [
    "df['TRACKNO'].nunique()"
   ]
  },
  {
   "cell_type": "code",
   "execution_count": 101,
   "metadata": {},
   "outputs": [],
   "source": [
    "# drop unimportant columns\n",
    "df = df[['PURCHASE', 'QTY', 'DISCOUNT', 'REVIEW', 'RATING', 'MONTH',\n",
    "       'HOUR', 'PROFIT', 'TOTAL', 'CATEGORY']]"
   ]
  },
  {
   "cell_type": "code",
   "execution_count": 102,
   "metadata": {},
   "outputs": [],
   "source": [
    "# Drop the Nan\n",
    "df = df.dropna(axis = 0)"
   ]
  },
  {
   "cell_type": "code",
   "execution_count": 103,
   "metadata": {},
   "outputs": [
    {
     "name": "stdout",
     "output_type": "stream",
     "text": [
      "<class 'pandas.core.frame.DataFrame'>\n",
      "Int64Index: 1663075 entries, 0 to 2188799\n",
      "Data columns (total 10 columns):\n",
      " #   Column    Non-Null Count    Dtype  \n",
      "---  ------    --------------    -----  \n",
      " 0   PURCHASE  1663075 non-null  object \n",
      " 1   QTY       1663075 non-null  float64\n",
      " 2   DISCOUNT  1663075 non-null  float64\n",
      " 3   REVIEW    1663075 non-null  object \n",
      " 4   RATING    1663075 non-null  float64\n",
      " 5   MONTH     1663075 non-null  float64\n",
      " 6   HOUR      1663075 non-null  float64\n",
      " 7   PROFIT    1663075 non-null  float64\n",
      " 8   TOTAL     1663075 non-null  float64\n",
      " 9   CATEGORY  1663075 non-null  object \n",
      "dtypes: float64(7), object(3)\n",
      "memory usage: 139.6+ MB\n"
     ]
    }
   ],
   "source": [
    "df.info()"
   ]
  },
  {
   "cell_type": "code",
   "execution_count": 104,
   "metadata": {},
   "outputs": [],
   "source": [
    "# Encode PURCHASE column\n",
    "map_pur = {'YES':1,'NO':0}\n",
    "df['PURCHASE'] = df['PURCHASE'].map(map_pur)"
   ]
  },
  {
   "cell_type": "code",
   "execution_count": 105,
   "metadata": {},
   "outputs": [],
   "source": [
    "# Encode REVIEW column\n",
    "map_rev = {'YES':1,'NO':0}\n",
    "df['REVIEW'] = df['REVIEW'].map(map_rev)"
   ]
  },
  {
   "cell_type": "code",
   "execution_count": 106,
   "metadata": {},
   "outputs": [
    {
     "data": {
      "text/html": [
       "<div>\n",
       "<style scoped>\n",
       "    .dataframe tbody tr th:only-of-type {\n",
       "        vertical-align: middle;\n",
       "    }\n",
       "\n",
       "    .dataframe tbody tr th {\n",
       "        vertical-align: top;\n",
       "    }\n",
       "\n",
       "    .dataframe thead th {\n",
       "        text-align: right;\n",
       "    }\n",
       "</style>\n",
       "<table border=\"1\" class=\"dataframe\">\n",
       "  <thead>\n",
       "    <tr style=\"text-align: right;\">\n",
       "      <th></th>\n",
       "      <th>PURCHASE</th>\n",
       "      <th>QTY</th>\n",
       "      <th>DISCOUNT</th>\n",
       "      <th>REVIEW</th>\n",
       "      <th>RATING</th>\n",
       "      <th>MONTH</th>\n",
       "      <th>HOUR</th>\n",
       "      <th>PROFIT</th>\n",
       "      <th>TOTAL</th>\n",
       "      <th>CATEGORY</th>\n",
       "      <th>...</th>\n",
       "      <th>PANTS</th>\n",
       "      <th>SCARF</th>\n",
       "      <th>SHIRT</th>\n",
       "      <th>SHOES</th>\n",
       "      <th>SKIRT</th>\n",
       "      <th>SOCKS</th>\n",
       "      <th>STOCKINGS</th>\n",
       "      <th>SUIT</th>\n",
       "      <th>TIE</th>\n",
       "      <th>UNDERPANTS</th>\n",
       "    </tr>\n",
       "  </thead>\n",
       "  <tbody>\n",
       "    <tr>\n",
       "      <th>0</th>\n",
       "      <td>1</td>\n",
       "      <td>4.0</td>\n",
       "      <td>28.0</td>\n",
       "      <td>0</td>\n",
       "      <td>1.0</td>\n",
       "      <td>5.0</td>\n",
       "      <td>21.0</td>\n",
       "      <td>177.68</td>\n",
       "      <td>710.72</td>\n",
       "      <td>HAT</td>\n",
       "      <td>...</td>\n",
       "      <td>0</td>\n",
       "      <td>0</td>\n",
       "      <td>0</td>\n",
       "      <td>0</td>\n",
       "      <td>0</td>\n",
       "      <td>0</td>\n",
       "      <td>0</td>\n",
       "      <td>0</td>\n",
       "      <td>0</td>\n",
       "      <td>0</td>\n",
       "    </tr>\n",
       "    <tr>\n",
       "      <th>1</th>\n",
       "      <td>1</td>\n",
       "      <td>4.0</td>\n",
       "      <td>30.0</td>\n",
       "      <td>0</td>\n",
       "      <td>4.0</td>\n",
       "      <td>5.0</td>\n",
       "      <td>5.0</td>\n",
       "      <td>469.10</td>\n",
       "      <td>1876.40</td>\n",
       "      <td>GLOVES</td>\n",
       "      <td>...</td>\n",
       "      <td>0</td>\n",
       "      <td>0</td>\n",
       "      <td>0</td>\n",
       "      <td>0</td>\n",
       "      <td>0</td>\n",
       "      <td>0</td>\n",
       "      <td>0</td>\n",
       "      <td>0</td>\n",
       "      <td>0</td>\n",
       "      <td>0</td>\n",
       "    </tr>\n",
       "    <tr>\n",
       "      <th>2</th>\n",
       "      <td>1</td>\n",
       "      <td>2.0</td>\n",
       "      <td>4.0</td>\n",
       "      <td>1</td>\n",
       "      <td>3.0</td>\n",
       "      <td>7.0</td>\n",
       "      <td>6.0</td>\n",
       "      <td>664.31</td>\n",
       "      <td>1328.62</td>\n",
       "      <td>DRESS</td>\n",
       "      <td>...</td>\n",
       "      <td>0</td>\n",
       "      <td>0</td>\n",
       "      <td>0</td>\n",
       "      <td>0</td>\n",
       "      <td>0</td>\n",
       "      <td>0</td>\n",
       "      <td>0</td>\n",
       "      <td>0</td>\n",
       "      <td>0</td>\n",
       "      <td>0</td>\n",
       "    </tr>\n",
       "    <tr>\n",
       "      <th>3</th>\n",
       "      <td>1</td>\n",
       "      <td>3.0</td>\n",
       "      <td>29.0</td>\n",
       "      <td>0</td>\n",
       "      <td>3.0</td>\n",
       "      <td>2.0</td>\n",
       "      <td>12.0</td>\n",
       "      <td>333.95</td>\n",
       "      <td>1001.85</td>\n",
       "      <td>SOCKS</td>\n",
       "      <td>...</td>\n",
       "      <td>0</td>\n",
       "      <td>0</td>\n",
       "      <td>0</td>\n",
       "      <td>0</td>\n",
       "      <td>0</td>\n",
       "      <td>1</td>\n",
       "      <td>0</td>\n",
       "      <td>0</td>\n",
       "      <td>0</td>\n",
       "      <td>0</td>\n",
       "    </tr>\n",
       "    <tr>\n",
       "      <th>4</th>\n",
       "      <td>1</td>\n",
       "      <td>1.0</td>\n",
       "      <td>7.0</td>\n",
       "      <td>0</td>\n",
       "      <td>3.0</td>\n",
       "      <td>1.0</td>\n",
       "      <td>5.0</td>\n",
       "      <td>853.44</td>\n",
       "      <td>853.44</td>\n",
       "      <td>SKIRT</td>\n",
       "      <td>...</td>\n",
       "      <td>0</td>\n",
       "      <td>0</td>\n",
       "      <td>0</td>\n",
       "      <td>0</td>\n",
       "      <td>1</td>\n",
       "      <td>0</td>\n",
       "      <td>0</td>\n",
       "      <td>0</td>\n",
       "      <td>0</td>\n",
       "      <td>0</td>\n",
       "    </tr>\n",
       "  </tbody>\n",
       "</table>\n",
       "<p>5 rows × 28 columns</p>\n",
       "</div>"
      ],
      "text/plain": [
       "   PURCHASE  QTY  DISCOUNT  REVIEW  RATING  MONTH  HOUR  PROFIT    TOTAL  \\\n",
       "0         1  4.0      28.0       0     1.0    5.0  21.0  177.68   710.72   \n",
       "1         1  4.0      30.0       0     4.0    5.0   5.0  469.10  1876.40   \n",
       "2         1  2.0       4.0       1     3.0    7.0   6.0  664.31  1328.62   \n",
       "3         1  3.0      29.0       0     3.0    2.0  12.0  333.95  1001.85   \n",
       "4         1  1.0       7.0       0     3.0    1.0   5.0  853.44   853.44   \n",
       "\n",
       "  CATEGORY  ...  PANTS  SCARF  SHIRT  SHOES  SKIRT  SOCKS  STOCKINGS  SUIT  \\\n",
       "0      HAT  ...      0      0      0      0      0      0          0     0   \n",
       "1   GLOVES  ...      0      0      0      0      0      0          0     0   \n",
       "2    DRESS  ...      0      0      0      0      0      0          0     0   \n",
       "3    SOCKS  ...      0      0      0      0      0      1          0     0   \n",
       "4    SKIRT  ...      0      0      0      0      1      0          0     0   \n",
       "\n",
       "   TIE  UNDERPANTS  \n",
       "0    0           0  \n",
       "1    0           0  \n",
       "2    0           0  \n",
       "3    0           0  \n",
       "4    0           0  \n",
       "\n",
       "[5 rows x 28 columns]"
      ]
     },
     "execution_count": 106,
     "metadata": {},
     "output_type": "execute_result"
    }
   ],
   "source": [
    "# Get dummy the CATEGORY column\n",
    "dummy_cat=pd.get_dummies(df['CATEGORY'])\n",
    "\n",
    "# Concate to the dummy variables to df\n",
    "df=pd.concat([df, dummy_cat], axis=1)\n",
    "df.head()"
   ]
  },
  {
   "cell_type": "code",
   "execution_count": 107,
   "metadata": {},
   "outputs": [],
   "source": [
    "# drop the CATEGORY column\n",
    "df = df.drop('CATEGORY',axis = 1)"
   ]
  },
  {
   "cell_type": "markdown",
   "metadata": {},
   "source": [
    "### Split the train, test sets"
   ]
  },
  {
   "cell_type": "code",
   "execution_count": 108,
   "metadata": {},
   "outputs": [],
   "source": [
    "from sklearn.model_selection import train_test_split"
   ]
  },
  {
   "cell_type": "code",
   "execution_count": 109,
   "metadata": {},
   "outputs": [],
   "source": [
    "X = df.drop('PURCHASE',axis = 1).values\n",
    "y = df['PURCHASE'].values"
   ]
  },
  {
   "cell_type": "code",
   "execution_count": 110,
   "metadata": {},
   "outputs": [],
   "source": [
    "X_train, X_test, y_train, y_test = train_test_split(X, y, test_size=0.30, random_state=101)"
   ]
  },
  {
   "cell_type": "code",
   "execution_count": null,
   "metadata": {},
   "outputs": [],
   "source": []
  },
  {
   "cell_type": "code",
   "execution_count": 111,
   "metadata": {},
   "outputs": [],
   "source": [
    "# Normalize the data\n",
    "from sklearn.preprocessing import MinMaxScaler\n",
    "scaler = MinMaxScaler()\n",
    "\n",
    "X_train = scaler.fit_transform(X_train)\n",
    "X_test = scaler.transform(X_test)"
   ]
  },
  {
   "cell_type": "markdown",
   "metadata": {},
   "source": [
    "## 2.2 Logistic regresstion model"
   ]
  },
  {
   "cell_type": "code",
   "execution_count": 112,
   "metadata": {},
   "outputs": [],
   "source": [
    "from sklearn.linear_model import LogisticRegression"
   ]
  },
  {
   "cell_type": "code",
   "execution_count": 113,
   "metadata": {},
   "outputs": [
    {
     "data": {
      "text/plain": [
       "LogisticRegression(C=1.0, class_weight=None, dual=False, fit_intercept=True,\n",
       "                   intercept_scaling=1, l1_ratio=None, max_iter=100,\n",
       "                   multi_class='auto', n_jobs=None, penalty='l2',\n",
       "                   random_state=None, solver='lbfgs', tol=0.0001, verbose=0,\n",
       "                   warm_start=False)"
      ]
     },
     "execution_count": 113,
     "metadata": {},
     "output_type": "execute_result"
    }
   ],
   "source": [
    "log_model = LogisticRegression()\n",
    "log_model.fit(X_train,y_train)"
   ]
  },
  {
   "cell_type": "code",
   "execution_count": 114,
   "metadata": {},
   "outputs": [],
   "source": [
    "log_pred = log_model.predict(X_test)"
   ]
  },
  {
   "cell_type": "markdown",
   "metadata": {},
   "source": [
    "### Evaluation"
   ]
  },
  {
   "cell_type": "code",
   "execution_count": 115,
   "metadata": {},
   "outputs": [],
   "source": [
    "from sklearn.metrics import classification_report,confusion_matrix,plot_confusion_matrix, plot_roc_curve"
   ]
  },
  {
   "cell_type": "code",
   "execution_count": 116,
   "metadata": {},
   "outputs": [
    {
     "name": "stdout",
     "output_type": "stream",
     "text": [
      "[[     0 111354]\n",
      " [     0 387569]]\n"
     ]
    }
   ],
   "source": [
    "print(confusion_matrix(y_test,log_pred))"
   ]
  },
  {
   "cell_type": "code",
   "execution_count": 117,
   "metadata": {
    "scrolled": true
   },
   "outputs": [
    {
     "name": "stderr",
     "output_type": "stream",
     "text": [
      "/Users/lamdoan/opt/anaconda3/lib/python3.7/site-packages/sklearn/metrics/_classification.py:1272: UndefinedMetricWarning: Precision and F-score are ill-defined and being set to 0.0 in labels with no predicted samples. Use `zero_division` parameter to control this behavior.\n",
      "  _warn_prf(average, modifier, msg_start, len(result))\n"
     ]
    },
    {
     "name": "stdout",
     "output_type": "stream",
     "text": [
      "              precision    recall  f1-score   support\n",
      "\n",
      "           0       0.00      0.00      0.00    111354\n",
      "           1       0.78      1.00      0.87    387569\n",
      "\n",
      "    accuracy                           0.78    498923\n",
      "   macro avg       0.39      0.50      0.44    498923\n",
      "weighted avg       0.60      0.78      0.68    498923\n",
      "\n"
     ]
    }
   ],
   "source": [
    "print(classification_report(y_test,log_pred))"
   ]
  },
  {
   "cell_type": "markdown",
   "metadata": {},
   "source": [
    "## 2.3 Resample techique and re-train the logistic model\n",
    "- Since the data is imbalanced"
   ]
  },
  {
   "cell_type": "code",
   "execution_count": 118,
   "metadata": {},
   "outputs": [
    {
     "data": {
      "text/plain": [
       "<matplotlib.axes._subplots.AxesSubplot at 0x1a2a207dd0>"
      ]
     },
     "execution_count": 118,
     "metadata": {},
     "output_type": "execute_result"
    },
    {
     "data": {
      "image/png": "[encoded data removed]",
      "text/plain": [
       "<Figure size 432x288 with 1 Axes>"
      ]
     },
     "metadata": {},
     "output_type": "display_data"
    }
   ],
   "source": [
    "sns.countplot(x='PURCHASE',data = df)"
   ]
  },
  {
   "cell_type": "markdown",
   "metadata": {},
   "source": [
    "### 2.3.1. Over-sample the minority and re-train the logistic model"
   ]
  },
  {
   "cell_type": "code",
   "execution_count": 114,
   "metadata": {},
   "outputs": [],
   "source": [
    "from sklearn.utils import resample\n",
    "import numpy as np"
   ]
  },
  {
   "cell_type": "code",
   "execution_count": 252,
   "metadata": {},
   "outputs": [],
   "source": [
    "X_train.shape\n",
    "y_train_re=y_train.reshape(X_train.shape[0],1)\n",
    "# re-Concate X_train and y_train \n",
    "sampled = np.concatenate((X_train,y_train_re),axis = 1)\n",
    "\n",
    "X_train_1 = sampled[y_train==1]\n",
    "X_train_0 = sampled[y_train==0]"
   ]
  },
  {
   "cell_type": "code",
   "execution_count": 253,
   "metadata": {},
   "outputs": [],
   "source": [
    "# over-sample the minority class\n",
    "X_train_0_over =  resample(X_train_0,\n",
    "                          replace=True, # sample with replacement\n",
    "                          n_samples=len(X_train_1), # match number in majority class\n",
    "                          random_state=27) # reproducible results"
   ]
  },
  {
   "cell_type": "code",
   "execution_count": 254,
   "metadata": {},
   "outputs": [],
   "source": [
    "data_train = np.concatenate((X_train_1,X_train_0_over),axis = 0)"
   ]
  },
  {
   "cell_type": "code",
   "execution_count": 255,
   "metadata": {},
   "outputs": [],
   "source": [
    "# re-create the train set\n",
    "X_train = data_train[:,0:(data_train.shape[1]-1)]\n",
    "y_train = data_train[:,-1]"
   ]
  },
  {
   "cell_type": "code",
   "execution_count": 256,
   "metadata": {},
   "outputs": [],
   "source": [
    "# Re-train the logistic regression model\n",
    "log_model = LogisticRegression()\n",
    "log_model.fit(X_train,y_train)\n",
    "\n",
    "# predict\n",
    "log_pred = log_model.predict(X_test)"
   ]
  },
  {
   "cell_type": "code",
   "execution_count": 257,
   "metadata": {},
   "outputs": [
    {
     "name": "stdout",
     "output_type": "stream",
     "text": [
      "[[ 54161  57193]\n",
      " [189135 198434]]\n",
      "\n",
      "              precision    recall  f1-score   support\n",
      "\n",
      "           0       0.22      0.49      0.31    111354\n",
      "           1       0.78      0.51      0.62    387569\n",
      "\n",
      "    accuracy                           0.51    498923\n",
      "   macro avg       0.50      0.50      0.46    498923\n",
      "weighted avg       0.65      0.51      0.55    498923\n",
      "\n"
     ]
    }
   ],
   "source": [
    "# Evaluate\n",
    "print(confusion_matrix(y_test,log_pred))\n",
    "print()\n",
    "print(classification_report(y_test,log_pred))"
   ]
  },
  {
   "cell_type": "markdown",
   "metadata": {},
   "source": [
    "### 2.3.2. Under-sample the majority and re-train the logistic model"
   ]
  },
  {
   "cell_type": "code",
   "execution_count": 293,
   "metadata": {},
   "outputs": [],
   "source": [
    "# Seclect a sample 10% of the training data\n",
    "#data = df.sample(frac=0.1,replace=True)\n",
    "\n",
    "X = df.drop('PURCHASE',axis = 1).values\n",
    "y = df['PURCHASE'].values\n",
    "\n",
    "X_train, X_test, y_train, y_test = train_test_split(X, y, test_size=0.30, random_state=101)\n",
    "\n",
    "# Normalize the data\n",
    "from sklearn.preprocessing import MinMaxScaler\n",
    "scaler = MinMaxScaler()\n",
    "\n",
    "X_train = scaler.fit_transform(X_train)\n",
    "X_test = scaler.transform(X_test)\n",
    "\n",
    "\n",
    "y_train_re=y_train.reshape(X_train.shape[0],1)\n",
    "# re-Concate X_train and y_train \n",
    "sampled = np.concatenate((X_train,y_train_re),axis = 1)\n",
    "\n",
    "X_train_1 = sampled[y_train==1]\n",
    "X_train_0 = sampled[y_train==0]\n",
    "\n",
    "# under-sample the majority class\n",
    "X_train_1_over = resample(X_train_1,\n",
    "                                replace = False, # sample without replacement\n",
    "                                n_samples = len(X_train_0), # match minority n\n",
    "                                random_state = 27) # reproducible results\n",
    "\n",
    "\n",
    "data_train = np.concatenate((X_train_1_over,X_train_0),axis = 0)\n",
    "\n",
    "# re-create the train set\n",
    "X_train = data_train[:,0:(data_train.shape[1]-1)]\n",
    "y_train = data_train[:,-1]"
   ]
  },
  {
   "cell_type": "code",
   "execution_count": 294,
   "metadata": {},
   "outputs": [],
   "source": [
    "# Re-train the logistic regression model\n",
    "log_model_1 = LogisticRegression()\n",
    "log_model.fit(X_train,y_train)\n",
    "\n",
    "# predict\n",
    "\n",
    "log_pred_1 = log_model.predict(X_test)"
   ]
  },
  {
   "cell_type": "code",
   "execution_count": 295,
   "metadata": {},
   "outputs": [
    {
     "name": "stdout",
     "output_type": "stream",
     "text": [
      "[[ 61358  49996]\n",
      " [213534 174035]]\n",
      "\n",
      "              precision    recall  f1-score   support\n",
      "\n",
      "           0       0.22      0.55      0.32    111354\n",
      "           1       0.78      0.45      0.57    387569\n",
      "\n",
      "    accuracy                           0.47    498923\n",
      "   macro avg       0.50      0.50      0.44    498923\n",
      "weighted avg       0.65      0.47      0.51    498923\n",
      "\n"
     ]
    }
   ],
   "source": [
    "# Evaluate\n",
    "print(confusion_matrix(y_test,log_pred_1))\n",
    "print()\n",
    "print(classification_report(y_test,log_pred_1))"
   ]
  },
  {
   "cell_type": "markdown",
   "metadata": {},
   "source": [
    "## 2.4.  SVM model with over-sample minority class"
   ]
  },
  {
   "cell_type": "code",
   "execution_count": 262,
   "metadata": {},
   "outputs": [],
   "source": [
    "# Seclect a sample 10% of the training data\n",
    "data = df.sample(frac=0.1,replace=True)\n",
    "\n",
    "X = data.drop('PURCHASE',axis = 1).values\n",
    "y = data['PURCHASE'].values\n",
    "\n",
    "X_train, X_test, y_train, y_test = train_test_split(X, y, test_size=0.30, random_state=101)\n",
    "\n",
    "# Normalize the data\n",
    "from sklearn.preprocessing import MinMaxScaler\n",
    "scaler = MinMaxScaler()\n",
    "\n",
    "X_train = scaler.fit_transform(X_train)\n",
    "X_test = scaler.transform(X_test)\n",
    "\n",
    "\n",
    "y_train_re=y_train.reshape(X_train.shape[0],1)\n",
    "# re-Concate X_train and y_train \n",
    "sampled = np.concatenate((X_train,y_train_re),axis = 1)\n",
    "\n",
    "X_train_1 = sampled[y_train==1]\n",
    "X_train_0 = sampled[y_train==0]\n",
    "\n",
    "# over-sample the minority class\n",
    "X_train_0_over =  resample(X_train_0,\n",
    "                          replace=True, # sample with replacement\n",
    "                          n_samples=len(X_train_1), # match number in majority class\n",
    "                          random_state=27) # reproducible results\n",
    "\n",
    "data_train = np.concatenate((X_train_1,X_train_0_over),axis = 0)\n",
    "\n",
    "# re-create the train set\n",
    "X_train = data_train[:,0:(data_train.shape[1]-1)]\n",
    "y_train = data_train[:,-1]"
   ]
  },
  {
   "cell_type": "code",
   "execution_count": 265,
   "metadata": {
    "scrolled": true
   },
   "outputs": [
    {
     "data": {
      "text/plain": [
       "SVC(C=1.0, break_ties=False, cache_size=200, class_weight=None, coef0=0.0,\n",
       "    decision_function_shape='ovr', degree=3, gamma='scale', kernel='rbf',\n",
       "    max_iter=-1, probability=False, random_state=None, shrinking=True,\n",
       "    tol=0.001, verbose=False)"
      ]
     },
     "execution_count": 265,
     "metadata": {},
     "output_type": "execute_result"
    }
   ],
   "source": [
    "# Train the Support Vector Classifier\n",
    "from sklearn.svm import SVC\n",
    "model = SVC()\n",
    "model.fit(X_train,y_train)"
   ]
  },
  {
   "cell_type": "code",
   "execution_count": 266,
   "metadata": {},
   "outputs": [
    {
     "name": "stdout",
     "output_type": "stream",
     "text": [
      "[[ 5440  5735]\n",
      " [18848 19870]]\n"
     ]
    }
   ],
   "source": [
    "# Evaluate model \n",
    "predictions = model.predict(X_test)\n",
    "\n",
    "from sklearn.metrics import classification_report,confusion_matrix\n",
    "print(confusion_matrix(y_test,predictions))"
   ]
  },
  {
   "cell_type": "code",
   "execution_count": 267,
   "metadata": {},
   "outputs": [
    {
     "name": "stdout",
     "output_type": "stream",
     "text": [
      "              precision    recall  f1-score   support\n",
      "\n",
      "           0       0.22      0.49      0.31     11175\n",
      "           1       0.78      0.51      0.62     38718\n",
      "\n",
      "    accuracy                           0.51     49893\n",
      "   macro avg       0.50      0.50      0.46     49893\n",
      "weighted avg       0.65      0.51      0.55     49893\n",
      "\n"
     ]
    }
   ],
   "source": [
    "print(classification_report(y_test,predictions))"
   ]
  },
  {
   "cell_type": "markdown",
   "metadata": {},
   "source": [
    "### 2.4.1. Train the SVM model with under-sample majority class using GridSearchCV"
   ]
  },
  {
   "cell_type": "code",
   "execution_count": 115,
   "metadata": {},
   "outputs": [],
   "source": [
    "import numpy as np\n",
    "data = df.sample(frac=0.05,replace=True)\n",
    "\n",
    "X = data.drop('PURCHASE',axis = 1).values\n",
    "y = data['PURCHASE'].values\n",
    "\n",
    "X_train, X_test, y_train, y_test = train_test_split(X, y, test_size=0.30, random_state=101)\n",
    "\n",
    "# Normalize the data\n",
    "from sklearn.preprocessing import MinMaxScaler\n",
    "scaler = MinMaxScaler()\n",
    "\n",
    "X_train = scaler.fit_transform(X_train)\n",
    "X_test = scaler.transform(X_test)\n",
    "\n",
    "\n",
    "y_train_re=y_train.reshape(X_train.shape[0],1)\n",
    "# re-Concate X_train and y_train \n",
    "sampled = np.concatenate((X_train,y_train_re),axis = 1)\n",
    "\n",
    "X_train_1 = sampled[y_train==1]\n",
    "X_train_0 = sampled[y_train==0]\n",
    "\n",
    "# under-sample the majority class\n",
    "X_train_1_over = resample(X_train_1,\n",
    "                                replace = False, # sample without replacement\n",
    "                                n_samples = len(X_train_0), # match minority n\n",
    "                                random_state = 27) # reproducible results\n",
    "\n",
    "\n",
    "data_train = np.concatenate((X_train_1_over,X_train_0),axis = 0)\n",
    "\n",
    "# re-create the train set\n",
    "X_train = data_train[:,0:(data_train.shape[1]-1)]\n",
    "y_train = data_train[:,-1]"
   ]
  },
  {
   "cell_type": "code",
   "execution_count": 116,
   "metadata": {},
   "outputs": [
    {
     "data": {
      "text/plain": [
       "(25662, 26)"
      ]
     },
     "execution_count": 116,
     "metadata": {},
     "output_type": "execute_result"
    }
   ],
   "source": [
    "X_train.shape"
   ]
  },
  {
   "cell_type": "code",
   "execution_count": 117,
   "metadata": {},
   "outputs": [
    {
     "name": "stdout",
     "output_type": "stream",
     "text": [
      "Fitting 5 folds for each of 48 candidates, totalling 240 fits\n",
      "[CV] C=0.1, gamma=1, kernel=rbf ......................................\n"
     ]
    },
    {
     "name": "stderr",
     "output_type": "stream",
     "text": [
      "[Parallel(n_jobs=1)]: Using backend SequentialBackend with 1 concurrent workers.\n"
     ]
    },
    {
     "name": "stdout",
     "output_type": "stream",
     "text": [
      "[CV] ....................... C=0.1, gamma=1, kernel=rbf, total=  32.5s\n",
      "[CV] C=0.1, gamma=1, kernel=rbf ......................................\n"
     ]
    },
    {
     "name": "stderr",
     "output_type": "stream",
     "text": [
      "[Parallel(n_jobs=1)]: Done   1 out of   1 | elapsed:   32.5s remaining:    0.0s\n"
     ]
    },
    {
     "name": "stdout",
     "output_type": "stream",
     "text": [
      "[CV] ....................... C=0.1, gamma=1, kernel=rbf, total=  37.2s\n",
      "[CV] C=0.1, gamma=1, kernel=rbf ......................................\n",
      "[CV] ....................... C=0.1, gamma=1, kernel=rbf, total=  52.5s\n",
      "[CV] C=0.1, gamma=1, kernel=rbf ......................................\n",
      "[CV] ....................... C=0.1, gamma=1, kernel=rbf, total=  46.0s\n",
      "[CV] C=0.1, gamma=1, kernel=rbf ......................................\n",
      "[CV] ....................... C=0.1, gamma=1, kernel=rbf, total=  44.3s\n",
      "[CV] C=0.1, gamma=1, kernel=poly .....................................\n",
      "[CV] ...................... C=0.1, gamma=1, kernel=poly, total=  34.7s\n",
      "[CV] C=0.1, gamma=1, kernel=poly .....................................\n",
      "[CV] ...................... C=0.1, gamma=1, kernel=poly, total=  35.2s\n",
      "[CV] C=0.1, gamma=1, kernel=poly .....................................\n",
      "[CV] ...................... C=0.1, gamma=1, kernel=poly, total=  34.5s\n",
      "[CV] C=0.1, gamma=1, kernel=poly .....................................\n",
      "[CV] ...................... C=0.1, gamma=1, kernel=poly, total=  32.7s\n",
      "[CV] C=0.1, gamma=1, kernel=poly .....................................\n",
      "[CV] ...................... C=0.1, gamma=1, kernel=poly, total=  31.1s\n",
      "[CV] C=0.1, gamma=1, kernel=sigmoid ..................................\n",
      "[CV] ................... C=0.1, gamma=1, kernel=sigmoid, total=  29.6s\n",
      "[CV] C=0.1, gamma=1, kernel=sigmoid ..................................\n",
      "[CV] ................... C=0.1, gamma=1, kernel=sigmoid, total=  31.3s\n",
      "[CV] C=0.1, gamma=1, kernel=sigmoid ..................................\n",
      "[CV] ................... C=0.1, gamma=1, kernel=sigmoid, total=  31.9s\n",
      "[CV] C=0.1, gamma=1, kernel=sigmoid ..................................\n",
      "[CV] ................... C=0.1, gamma=1, kernel=sigmoid, total=  32.5s\n",
      "[CV] C=0.1, gamma=1, kernel=sigmoid ..................................\n",
      "[CV] ................... C=0.1, gamma=1, kernel=sigmoid, total=  30.9s\n",
      "[CV] C=0.1, gamma=0.1, kernel=rbf ....................................\n",
      "[CV] ..................... C=0.1, gamma=0.1, kernel=rbf, total=  42.2s\n",
      "[CV] C=0.1, gamma=0.1, kernel=rbf ....................................\n",
      "[CV] ..................... C=0.1, gamma=0.1, kernel=rbf, total=  41.4s\n",
      "[CV] C=0.1, gamma=0.1, kernel=rbf ....................................\n",
      "[CV] ..................... C=0.1, gamma=0.1, kernel=rbf, total=  42.5s\n",
      "[CV] C=0.1, gamma=0.1, kernel=rbf ....................................\n",
      "[CV] ..................... C=0.1, gamma=0.1, kernel=rbf, total=  40.6s\n",
      "[CV] C=0.1, gamma=0.1, kernel=rbf ....................................\n",
      "[CV] ..................... C=0.1, gamma=0.1, kernel=rbf, total=  38.3s\n",
      "[CV] C=0.1, gamma=0.1, kernel=poly ...................................\n",
      "[CV] .................... C=0.1, gamma=0.1, kernel=poly, total=  30.2s\n",
      "[CV] C=0.1, gamma=0.1, kernel=poly ...................................\n",
      "[CV] .................... C=0.1, gamma=0.1, kernel=poly, total=  31.0s\n",
      "[CV] C=0.1, gamma=0.1, kernel=poly ...................................\n",
      "[CV] .................... C=0.1, gamma=0.1, kernel=poly, total=  29.4s\n",
      "[CV] C=0.1, gamma=0.1, kernel=poly ...................................\n",
      "[CV] .................... C=0.1, gamma=0.1, kernel=poly, total=  32.0s\n",
      "[CV] C=0.1, gamma=0.1, kernel=poly ...................................\n",
      "[CV] .................... C=0.1, gamma=0.1, kernel=poly, total=  30.5s\n",
      "[CV] C=0.1, gamma=0.1, kernel=sigmoid ................................\n",
      "[CV] ................. C=0.1, gamma=0.1, kernel=sigmoid, total=  47.7s\n",
      "[CV] C=0.1, gamma=0.1, kernel=sigmoid ................................\n",
      "[CV] ................. C=0.1, gamma=0.1, kernel=sigmoid, total=  49.9s\n",
      "[CV] C=0.1, gamma=0.1, kernel=sigmoid ................................\n",
      "[CV] ................. C=0.1, gamma=0.1, kernel=sigmoid, total=  48.2s\n",
      "[CV] C=0.1, gamma=0.1, kernel=sigmoid ................................\n",
      "[CV] ................. C=0.1, gamma=0.1, kernel=sigmoid, total=  37.9s\n",
      "[CV] C=0.1, gamma=0.1, kernel=sigmoid ................................\n",
      "[CV] ................. C=0.1, gamma=0.1, kernel=sigmoid, total=  36.9s\n",
      "[CV] C=0.1, gamma=0.01, kernel=rbf ...................................\n",
      "[CV] .................... C=0.1, gamma=0.01, kernel=rbf, total=  28.5s\n",
      "[CV] C=0.1, gamma=0.01, kernel=rbf ...................................\n",
      "[CV] .................... C=0.1, gamma=0.01, kernel=rbf, total=  41.2s\n",
      "[CV] C=0.1, gamma=0.01, kernel=rbf ...................................\n",
      "[CV] .................... C=0.1, gamma=0.01, kernel=rbf, total=  36.8s\n",
      "[CV] C=0.1, gamma=0.01, kernel=rbf ...................................\n",
      "[CV] .................... C=0.1, gamma=0.01, kernel=rbf, total=  28.3s\n",
      "[CV] C=0.1, gamma=0.01, kernel=rbf ...................................\n",
      "[CV] .................... C=0.1, gamma=0.01, kernel=rbf, total=  30.1s\n",
      "[CV] C=0.1, gamma=0.01, kernel=poly ..................................\n",
      "[CV] ................... C=0.1, gamma=0.01, kernel=poly, total=  26.0s\n",
      "[CV] C=0.1, gamma=0.01, kernel=poly ..................................\n",
      "[CV] ................... C=0.1, gamma=0.01, kernel=poly, total=  24.5s\n",
      "[CV] C=0.1, gamma=0.01, kernel=poly ..................................\n",
      "[CV] ................... C=0.1, gamma=0.01, kernel=poly, total=  23.0s\n",
      "[CV] C=0.1, gamma=0.01, kernel=poly ..................................\n",
      "[CV] ................... C=0.1, gamma=0.01, kernel=poly, total=  21.3s\n",
      "[CV] C=0.1, gamma=0.01, kernel=poly ..................................\n",
      "[CV] ................... C=0.1, gamma=0.01, kernel=poly, total=  30.1s\n",
      "[CV] C=0.1, gamma=0.01, kernel=sigmoid ...............................\n",
      "[CV] ................ C=0.1, gamma=0.01, kernel=sigmoid, total=  28.2s\n",
      "[CV] C=0.1, gamma=0.01, kernel=sigmoid ...............................\n",
      "[CV] ................ C=0.1, gamma=0.01, kernel=sigmoid, total=  37.2s\n",
      "[CV] C=0.1, gamma=0.01, kernel=sigmoid ...............................\n",
      "[CV] ................ C=0.1, gamma=0.01, kernel=sigmoid, total=  33.0s\n",
      "[CV] C=0.1, gamma=0.01, kernel=sigmoid ...............................\n",
      "[CV] ................ C=0.1, gamma=0.01, kernel=sigmoid, total=  32.1s\n",
      "[CV] C=0.1, gamma=0.01, kernel=sigmoid ...............................\n",
      "[CV] ................ C=0.1, gamma=0.01, kernel=sigmoid, total=  28.9s\n",
      "[CV] C=0.1, gamma=0.001, kernel=rbf ..................................\n",
      "[CV] ................... C=0.1, gamma=0.001, kernel=rbf, total=  34.8s\n",
      "[CV] C=0.1, gamma=0.001, kernel=rbf ..................................\n",
      "[CV] ................... C=0.1, gamma=0.001, kernel=rbf, total=  36.3s\n",
      "[CV] C=0.1, gamma=0.001, kernel=rbf ..................................\n",
      "[CV] ................... C=0.1, gamma=0.001, kernel=rbf, total=  34.2s\n",
      "[CV] C=0.1, gamma=0.001, kernel=rbf ..................................\n",
      "[CV] ................... C=0.1, gamma=0.001, kernel=rbf, total=  37.8s\n",
      "[CV] C=0.1, gamma=0.001, kernel=rbf ..................................\n",
      "[CV] ................... C=0.1, gamma=0.001, kernel=rbf, total=  27.4s\n",
      "[CV] C=0.1, gamma=0.001, kernel=poly .................................\n",
      "[CV] .................. C=0.1, gamma=0.001, kernel=poly, total=  25.6s\n",
      "[CV] C=0.1, gamma=0.001, kernel=poly .................................\n",
      "[CV] .................. C=0.1, gamma=0.001, kernel=poly, total=  23.5s\n",
      "[CV] C=0.1, gamma=0.001, kernel=poly .................................\n",
      "[CV] .................. C=0.1, gamma=0.001, kernel=poly, total=  23.3s\n",
      "[CV] C=0.1, gamma=0.001, kernel=poly .................................\n",
      "[CV] .................. C=0.1, gamma=0.001, kernel=poly, total=  24.2s\n",
      "[CV] C=0.1, gamma=0.001, kernel=poly .................................\n",
      "[CV] .................. C=0.1, gamma=0.001, kernel=poly, total=  20.9s\n",
      "[CV] C=0.1, gamma=0.001, kernel=sigmoid ..............................\n",
      "[CV] ............... C=0.1, gamma=0.001, kernel=sigmoid, total=  23.8s\n",
      "[CV] C=0.1, gamma=0.001, kernel=sigmoid ..............................\n",
      "[CV] ............... C=0.1, gamma=0.001, kernel=sigmoid, total=  23.7s\n",
      "[CV] C=0.1, gamma=0.001, kernel=sigmoid ..............................\n",
      "[CV] ............... C=0.1, gamma=0.001, kernel=sigmoid, total=  24.3s\n",
      "[CV] C=0.1, gamma=0.001, kernel=sigmoid ..............................\n",
      "[CV] ............... C=0.1, gamma=0.001, kernel=sigmoid, total=  23.9s\n",
      "[CV] C=0.1, gamma=0.001, kernel=sigmoid ..............................\n"
     ]
    },
    {
     "name": "stdout",
     "output_type": "stream",
     "text": [
      "[CV] ............... C=0.1, gamma=0.001, kernel=sigmoid, total=  23.8s\n",
      "[CV] C=1, gamma=1, kernel=rbf ........................................\n",
      "[CV] ......................... C=1, gamma=1, kernel=rbf, total=  28.8s\n",
      "[CV] C=1, gamma=1, kernel=rbf ........................................\n",
      "[CV] ......................... C=1, gamma=1, kernel=rbf, total=  28.9s\n",
      "[CV] C=1, gamma=1, kernel=rbf ........................................\n",
      "[CV] ......................... C=1, gamma=1, kernel=rbf, total=  32.4s\n",
      "[CV] C=1, gamma=1, kernel=rbf ........................................\n",
      "[CV] ......................... C=1, gamma=1, kernel=rbf, total=  29.3s\n",
      "[CV] C=1, gamma=1, kernel=rbf ........................................\n",
      "[CV] ......................... C=1, gamma=1, kernel=rbf, total=  30.2s\n",
      "[CV] C=1, gamma=1, kernel=poly .......................................\n",
      "[CV] ........................ C=1, gamma=1, kernel=poly, total=  49.1s\n",
      "[CV] C=1, gamma=1, kernel=poly .......................................\n",
      "[CV] ........................ C=1, gamma=1, kernel=poly, total=  48.0s\n",
      "[CV] C=1, gamma=1, kernel=poly .......................................\n",
      "[CV] ........................ C=1, gamma=1, kernel=poly, total=  47.3s\n",
      "[CV] C=1, gamma=1, kernel=poly .......................................\n",
      "[CV] ........................ C=1, gamma=1, kernel=poly, total=  47.3s\n",
      "[CV] C=1, gamma=1, kernel=poly .......................................\n",
      "[CV] ........................ C=1, gamma=1, kernel=poly, total=  51.7s\n",
      "[CV] C=1, gamma=1, kernel=sigmoid ....................................\n",
      "[CV] ..................... C=1, gamma=1, kernel=sigmoid, total=  27.9s\n",
      "[CV] C=1, gamma=1, kernel=sigmoid ....................................\n",
      "[CV] ..................... C=1, gamma=1, kernel=sigmoid, total=  25.5s\n",
      "[CV] C=1, gamma=1, kernel=sigmoid ....................................\n",
      "[CV] ..................... C=1, gamma=1, kernel=sigmoid, total=  22.6s\n",
      "[CV] C=1, gamma=1, kernel=sigmoid ....................................\n",
      "[CV] ..................... C=1, gamma=1, kernel=sigmoid, total=  31.0s\n",
      "[CV] C=1, gamma=1, kernel=sigmoid ....................................\n",
      "[CV] ..................... C=1, gamma=1, kernel=sigmoid, total=  26.3s\n",
      "[CV] C=1, gamma=0.1, kernel=rbf ......................................\n",
      "[CV] ....................... C=1, gamma=0.1, kernel=rbf, total=  33.9s\n",
      "[CV] C=1, gamma=0.1, kernel=rbf ......................................\n",
      "[CV] ....................... C=1, gamma=0.1, kernel=rbf, total=  35.1s\n",
      "[CV] C=1, gamma=0.1, kernel=rbf ......................................\n",
      "[CV] ....................... C=1, gamma=0.1, kernel=rbf, total=  36.3s\n",
      "[CV] C=1, gamma=0.1, kernel=rbf ......................................\n",
      "[CV] ....................... C=1, gamma=0.1, kernel=rbf, total=  33.0s\n",
      "[CV] C=1, gamma=0.1, kernel=rbf ......................................\n",
      "[CV] ....................... C=1, gamma=0.1, kernel=rbf, total=  35.4s\n",
      "[CV] C=1, gamma=0.1, kernel=poly .....................................\n",
      "[CV] ...................... C=1, gamma=0.1, kernel=poly, total=  24.8s\n",
      "[CV] C=1, gamma=0.1, kernel=poly .....................................\n",
      "[CV] ...................... C=1, gamma=0.1, kernel=poly, total=  24.5s\n",
      "[CV] C=1, gamma=0.1, kernel=poly .....................................\n",
      "[CV] ...................... C=1, gamma=0.1, kernel=poly, total=  24.9s\n",
      "[CV] C=1, gamma=0.1, kernel=poly .....................................\n",
      "[CV] ...................... C=1, gamma=0.1, kernel=poly, total=  28.7s\n",
      "[CV] C=1, gamma=0.1, kernel=poly .....................................\n",
      "[CV] ...................... C=1, gamma=0.1, kernel=poly, total=  27.3s\n",
      "[CV] C=1, gamma=0.1, kernel=sigmoid ..................................\n",
      "[CV] ................... C=1, gamma=0.1, kernel=sigmoid, total=  47.4s\n",
      "[CV] C=1, gamma=0.1, kernel=sigmoid ..................................\n",
      "[CV] ................... C=1, gamma=0.1, kernel=sigmoid, total=  44.1s\n",
      "[CV] C=1, gamma=0.1, kernel=sigmoid ..................................\n",
      "[CV] ................... C=1, gamma=0.1, kernel=sigmoid, total=  47.2s\n",
      "[CV] C=1, gamma=0.1, kernel=sigmoid ..................................\n",
      "[CV] ................... C=1, gamma=0.1, kernel=sigmoid, total=  44.5s\n",
      "[CV] C=1, gamma=0.1, kernel=sigmoid ..................................\n",
      "[CV] ................... C=1, gamma=0.1, kernel=sigmoid, total=  35.8s\n",
      "[CV] C=1, gamma=0.01, kernel=rbf .....................................\n",
      "[CV] ...................... C=1, gamma=0.01, kernel=rbf, total=  26.7s\n",
      "[CV] C=1, gamma=0.01, kernel=rbf .....................................\n",
      "[CV] ...................... C=1, gamma=0.01, kernel=rbf, total=  27.0s\n",
      "[CV] C=1, gamma=0.01, kernel=rbf .....................................\n",
      "[CV] ...................... C=1, gamma=0.01, kernel=rbf, total=  27.5s\n",
      "[CV] C=1, gamma=0.01, kernel=rbf .....................................\n",
      "[CV] ...................... C=1, gamma=0.01, kernel=rbf, total=  26.9s\n",
      "[CV] C=1, gamma=0.01, kernel=rbf .....................................\n",
      "[CV] ...................... C=1, gamma=0.01, kernel=rbf, total=  27.3s\n",
      "[CV] C=1, gamma=0.01, kernel=poly ....................................\n",
      "[CV] ..................... C=1, gamma=0.01, kernel=poly, total=  19.8s\n",
      "[CV] C=1, gamma=0.01, kernel=poly ....................................\n",
      "[CV] ..................... C=1, gamma=0.01, kernel=poly, total=  20.0s\n",
      "[CV] C=1, gamma=0.01, kernel=poly ....................................\n",
      "[CV] ..................... C=1, gamma=0.01, kernel=poly, total=  20.3s\n",
      "[CV] C=1, gamma=0.01, kernel=poly ....................................\n",
      "[CV] ..................... C=1, gamma=0.01, kernel=poly, total=  20.4s\n",
      "[CV] C=1, gamma=0.01, kernel=poly ....................................\n",
      "[CV] ..................... C=1, gamma=0.01, kernel=poly, total=  20.3s\n",
      "[CV] C=1, gamma=0.01, kernel=sigmoid .................................\n",
      "[CV] .................. C=1, gamma=0.01, kernel=sigmoid, total=  23.7s\n",
      "[CV] C=1, gamma=0.01, kernel=sigmoid .................................\n",
      "[CV] .................. C=1, gamma=0.01, kernel=sigmoid, total=  23.5s\n",
      "[CV] C=1, gamma=0.01, kernel=sigmoid .................................\n",
      "[CV] .................. C=1, gamma=0.01, kernel=sigmoid, total=  23.8s\n",
      "[CV] C=1, gamma=0.01, kernel=sigmoid .................................\n",
      "[CV] .................. C=1, gamma=0.01, kernel=sigmoid, total=  23.7s\n",
      "[CV] C=1, gamma=0.01, kernel=sigmoid .................................\n",
      "[CV] .................. C=1, gamma=0.01, kernel=sigmoid, total=  22.9s\n",
      "[CV] C=1, gamma=0.001, kernel=rbf ....................................\n",
      "[CV] ..................... C=1, gamma=0.001, kernel=rbf, total=  26.9s\n",
      "[CV] C=1, gamma=0.001, kernel=rbf ....................................\n",
      "[CV] ..................... C=1, gamma=0.001, kernel=rbf, total=  27.2s\n",
      "[CV] C=1, gamma=0.001, kernel=rbf ....................................\n",
      "[CV] ..................... C=1, gamma=0.001, kernel=rbf, total=  26.9s\n",
      "[CV] C=1, gamma=0.001, kernel=rbf ....................................\n",
      "[CV] ..................... C=1, gamma=0.001, kernel=rbf, total=  27.1s\n",
      "[CV] C=1, gamma=0.001, kernel=rbf ....................................\n",
      "[CV] ..................... C=1, gamma=0.001, kernel=rbf, total=  26.8s\n",
      "[CV] C=1, gamma=0.001, kernel=poly ...................................\n",
      "[CV] .................... C=1, gamma=0.001, kernel=poly, total=  19.9s\n",
      "[CV] C=1, gamma=0.001, kernel=poly ...................................\n",
      "[CV] .................... C=1, gamma=0.001, kernel=poly, total=  20.1s\n",
      "[CV] C=1, gamma=0.001, kernel=poly ...................................\n",
      "[CV] .................... C=1, gamma=0.001, kernel=poly, total=  20.4s\n",
      "[CV] C=1, gamma=0.001, kernel=poly ...................................\n",
      "[CV] .................... C=1, gamma=0.001, kernel=poly, total=  20.5s\n",
      "[CV] C=1, gamma=0.001, kernel=poly ...................................\n",
      "[CV] .................... C=1, gamma=0.001, kernel=poly, total=  19.7s\n",
      "[CV] C=1, gamma=0.001, kernel=sigmoid ................................\n",
      "[CV] ................. C=1, gamma=0.001, kernel=sigmoid, total=  23.4s\n",
      "[CV] C=1, gamma=0.001, kernel=sigmoid ................................\n",
      "[CV] ................. C=1, gamma=0.001, kernel=sigmoid, total=  23.4s\n",
      "[CV] C=1, gamma=0.001, kernel=sigmoid ................................\n"
     ]
    },
    {
     "name": "stdout",
     "output_type": "stream",
     "text": [
      "[CV] ................. C=1, gamma=0.001, kernel=sigmoid, total=  23.6s\n",
      "[CV] C=1, gamma=0.001, kernel=sigmoid ................................\n",
      "[CV] ................. C=1, gamma=0.001, kernel=sigmoid, total=  23.5s\n",
      "[CV] C=1, gamma=0.001, kernel=sigmoid ................................\n",
      "[CV] ................. C=1, gamma=0.001, kernel=sigmoid, total=  22.7s\n",
      "[CV] C=10, gamma=1, kernel=rbf .......................................\n",
      "[CV] ........................ C=10, gamma=1, kernel=rbf, total=  42.1s\n",
      "[CV] C=10, gamma=1, kernel=rbf .......................................\n",
      "[CV] ........................ C=10, gamma=1, kernel=rbf, total=  41.5s\n",
      "[CV] C=10, gamma=1, kernel=rbf .......................................\n",
      "[CV] ........................ C=10, gamma=1, kernel=rbf, total=  42.4s\n",
      "[CV] C=10, gamma=1, kernel=rbf .......................................\n",
      "[CV] ........................ C=10, gamma=1, kernel=rbf, total=  41.7s\n",
      "[CV] C=10, gamma=1, kernel=rbf .......................................\n",
      "[CV] ........................ C=10, gamma=1, kernel=rbf, total=  41.6s\n",
      "[CV] C=10, gamma=1, kernel=poly ......................................\n",
      "[CV] ....................... C=10, gamma=1, kernel=poly, total= 4.8min\n",
      "[CV] C=10, gamma=1, kernel=poly ......................................\n",
      "[CV] ....................... C=10, gamma=1, kernel=poly, total= 4.8min\n",
      "[CV] C=10, gamma=1, kernel=poly ......................................\n",
      "[CV] ....................... C=10, gamma=1, kernel=poly, total= 4.8min\n",
      "[CV] C=10, gamma=1, kernel=poly ......................................\n",
      "[CV] ....................... C=10, gamma=1, kernel=poly, total= 4.7min\n",
      "[CV] C=10, gamma=1, kernel=poly ......................................\n",
      "[CV] ....................... C=10, gamma=1, kernel=poly, total= 4.9min\n",
      "[CV] C=10, gamma=1, kernel=sigmoid ...................................\n",
      "[CV] .................... C=10, gamma=1, kernel=sigmoid, total=  20.3s\n",
      "[CV] C=10, gamma=1, kernel=sigmoid ...................................\n",
      "[CV] .................... C=10, gamma=1, kernel=sigmoid, total=  20.4s\n",
      "[CV] C=10, gamma=1, kernel=sigmoid ...................................\n",
      "[CV] .................... C=10, gamma=1, kernel=sigmoid, total=  20.8s\n",
      "[CV] C=10, gamma=1, kernel=sigmoid ...................................\n",
      "[CV] .................... C=10, gamma=1, kernel=sigmoid, total=  20.6s\n",
      "[CV] C=10, gamma=1, kernel=sigmoid ...................................\n",
      "[CV] .................... C=10, gamma=1, kernel=sigmoid, total=  20.4s\n",
      "[CV] C=10, gamma=0.1, kernel=rbf .....................................\n",
      "[CV] ...................... C=10, gamma=0.1, kernel=rbf, total=  28.0s\n",
      "[CV] C=10, gamma=0.1, kernel=rbf .....................................\n",
      "[CV] ...................... C=10, gamma=0.1, kernel=rbf, total=  28.8s\n",
      "[CV] C=10, gamma=0.1, kernel=rbf .....................................\n",
      "[CV] ...................... C=10, gamma=0.1, kernel=rbf, total=  28.1s\n",
      "[CV] C=10, gamma=0.1, kernel=rbf .....................................\n",
      "[CV] ...................... C=10, gamma=0.1, kernel=rbf, total=  27.8s\n",
      "[CV] C=10, gamma=0.1, kernel=rbf .....................................\n",
      "[CV] ...................... C=10, gamma=0.1, kernel=rbf, total=  28.0s\n",
      "[CV] C=10, gamma=0.1, kernel=poly ....................................\n",
      "[CV] ..................... C=10, gamma=0.1, kernel=poly, total=  20.2s\n",
      "[CV] C=10, gamma=0.1, kernel=poly ....................................\n",
      "[CV] ..................... C=10, gamma=0.1, kernel=poly, total=  19.8s\n",
      "[CV] C=10, gamma=0.1, kernel=poly ....................................\n",
      "[CV] ..................... C=10, gamma=0.1, kernel=poly, total=  20.0s\n",
      "[CV] C=10, gamma=0.1, kernel=poly ....................................\n",
      "[CV] ..................... C=10, gamma=0.1, kernel=poly, total=  19.6s\n",
      "[CV] C=10, gamma=0.1, kernel=poly ....................................\n",
      "[CV] ..................... C=10, gamma=0.1, kernel=poly, total=  20.0s\n",
      "[CV] C=10, gamma=0.1, kernel=sigmoid .................................\n",
      "[CV] .................. C=10, gamma=0.1, kernel=sigmoid, total=  47.3s\n",
      "[CV] C=10, gamma=0.1, kernel=sigmoid .................................\n",
      "[CV] .................. C=10, gamma=0.1, kernel=sigmoid, total=  46.9s\n",
      "[CV] C=10, gamma=0.1, kernel=sigmoid .................................\n",
      "[CV] .................. C=10, gamma=0.1, kernel=sigmoid, total=  48.2s\n",
      "[CV] C=10, gamma=0.1, kernel=sigmoid .................................\n",
      "[CV] .................. C=10, gamma=0.1, kernel=sigmoid, total=  46.3s\n",
      "[CV] C=10, gamma=0.1, kernel=sigmoid .................................\n",
      "[CV] .................. C=10, gamma=0.1, kernel=sigmoid, total=  41.0s\n",
      "[CV] C=10, gamma=0.01, kernel=rbf ....................................\n",
      "[CV] ..................... C=10, gamma=0.01, kernel=rbf, total=  27.6s\n",
      "[CV] C=10, gamma=0.01, kernel=rbf ....................................\n",
      "[CV] ..................... C=10, gamma=0.01, kernel=rbf, total=  28.3s\n",
      "[CV] C=10, gamma=0.01, kernel=rbf ....................................\n",
      "[CV] ..................... C=10, gamma=0.01, kernel=rbf, total=  27.8s\n",
      "[CV] C=10, gamma=0.01, kernel=rbf ....................................\n",
      "[CV] ..................... C=10, gamma=0.01, kernel=rbf, total=  27.3s\n",
      "[CV] C=10, gamma=0.01, kernel=rbf ....................................\n",
      "[CV] ..................... C=10, gamma=0.01, kernel=rbf, total=  28.0s\n",
      "[CV] C=10, gamma=0.01, kernel=poly ...................................\n",
      "[CV] .................... C=10, gamma=0.01, kernel=poly, total=  19.5s\n",
      "[CV] C=10, gamma=0.01, kernel=poly ...................................\n",
      "[CV] .................... C=10, gamma=0.01, kernel=poly, total=  20.3s\n",
      "[CV] C=10, gamma=0.01, kernel=poly ...................................\n",
      "[CV] .................... C=10, gamma=0.01, kernel=poly, total=  20.0s\n",
      "[CV] C=10, gamma=0.01, kernel=poly ...................................\n",
      "[CV] .................... C=10, gamma=0.01, kernel=poly, total=  20.3s\n",
      "[CV] C=10, gamma=0.01, kernel=poly ...................................\n",
      "[CV] .................... C=10, gamma=0.01, kernel=poly, total=  19.6s\n",
      "[CV] C=10, gamma=0.01, kernel=sigmoid ................................\n",
      "[CV] ................. C=10, gamma=0.01, kernel=sigmoid, total=  25.0s\n",
      "[CV] C=10, gamma=0.01, kernel=sigmoid ................................\n",
      "[CV] ................. C=10, gamma=0.01, kernel=sigmoid, total=  27.1s\n",
      "[CV] C=10, gamma=0.01, kernel=sigmoid ................................\n",
      "[CV] ................. C=10, gamma=0.01, kernel=sigmoid, total=  24.3s\n",
      "[CV] C=10, gamma=0.01, kernel=sigmoid ................................\n",
      "[CV] ................. C=10, gamma=0.01, kernel=sigmoid, total=  24.9s\n",
      "[CV] C=10, gamma=0.01, kernel=sigmoid ................................\n",
      "[CV] ................. C=10, gamma=0.01, kernel=sigmoid, total=  25.0s\n",
      "[CV] C=10, gamma=0.001, kernel=rbf ...................................\n",
      "[CV] .................... C=10, gamma=0.001, kernel=rbf, total=  26.6s\n",
      "[CV] C=10, gamma=0.001, kernel=rbf ...................................\n",
      "[CV] .................... C=10, gamma=0.001, kernel=rbf, total=  27.0s\n",
      "[CV] C=10, gamma=0.001, kernel=rbf ...................................\n",
      "[CV] .................... C=10, gamma=0.001, kernel=rbf, total=  26.9s\n",
      "[CV] C=10, gamma=0.001, kernel=rbf ...................................\n",
      "[CV] .................... C=10, gamma=0.001, kernel=rbf, total=  27.1s\n",
      "[CV] C=10, gamma=0.001, kernel=rbf ...................................\n",
      "[CV] .................... C=10, gamma=0.001, kernel=rbf, total=  26.9s\n",
      "[CV] C=10, gamma=0.001, kernel=poly ..................................\n",
      "[CV] ................... C=10, gamma=0.001, kernel=poly, total=  19.7s\n",
      "[CV] C=10, gamma=0.001, kernel=poly ..................................\n",
      "[CV] ................... C=10, gamma=0.001, kernel=poly, total=  20.0s\n",
      "[CV] C=10, gamma=0.001, kernel=poly ..................................\n",
      "[CV] ................... C=10, gamma=0.001, kernel=poly, total=  20.1s\n",
      "[CV] C=10, gamma=0.001, kernel=poly ..................................\n",
      "[CV] ................... C=10, gamma=0.001, kernel=poly, total=  20.1s\n",
      "[CV] C=10, gamma=0.001, kernel=poly ..................................\n",
      "[CV] ................... C=10, gamma=0.001, kernel=poly, total=  19.8s\n",
      "[CV] C=10, gamma=0.001, kernel=sigmoid ...............................\n"
     ]
    },
    {
     "name": "stdout",
     "output_type": "stream",
     "text": [
      "[CV] ................ C=10, gamma=0.001, kernel=sigmoid, total=  23.2s\n",
      "[CV] C=10, gamma=0.001, kernel=sigmoid ...............................\n",
      "[CV] ................ C=10, gamma=0.001, kernel=sigmoid, total=  23.2s\n",
      "[CV] C=10, gamma=0.001, kernel=sigmoid ...............................\n",
      "[CV] ................ C=10, gamma=0.001, kernel=sigmoid, total=  23.7s\n",
      "[CV] C=10, gamma=0.001, kernel=sigmoid ...............................\n",
      "[CV] ................ C=10, gamma=0.001, kernel=sigmoid, total=  22.9s\n",
      "[CV] C=10, gamma=0.001, kernel=sigmoid ...............................\n",
      "[CV] ................ C=10, gamma=0.001, kernel=sigmoid, total=  23.0s\n",
      "[CV] C=100, gamma=1, kernel=rbf ......................................\n",
      "[CV] ....................... C=100, gamma=1, kernel=rbf, total= 2.8min\n",
      "[CV] C=100, gamma=1, kernel=rbf ......................................\n",
      "[CV] ....................... C=100, gamma=1, kernel=rbf, total= 2.7min\n",
      "[CV] C=100, gamma=1, kernel=rbf ......................................\n",
      "[CV] ....................... C=100, gamma=1, kernel=rbf, total= 2.7min\n",
      "[CV] C=100, gamma=1, kernel=rbf ......................................\n",
      "[CV] ....................... C=100, gamma=1, kernel=rbf, total= 2.8min\n",
      "[CV] C=100, gamma=1, kernel=rbf ......................................\n",
      "[CV] ....................... C=100, gamma=1, kernel=rbf, total= 2.8min\n",
      "[CV] C=100, gamma=1, kernel=poly .....................................\n",
      "[CV] ...................... C=100, gamma=1, kernel=poly, total=48.7min\n",
      "[CV] C=100, gamma=1, kernel=poly .....................................\n",
      "[CV] ...................... C=100, gamma=1, kernel=poly, total=49.5min\n",
      "[CV] C=100, gamma=1, kernel=poly .....................................\n",
      "[CV] ...................... C=100, gamma=1, kernel=poly, total=49.2min\n",
      "[CV] C=100, gamma=1, kernel=poly .....................................\n",
      "[CV] ...................... C=100, gamma=1, kernel=poly, total=50.2min\n",
      "[CV] C=100, gamma=1, kernel=poly .....................................\n",
      "[CV] ...................... C=100, gamma=1, kernel=poly, total=51.0min\n",
      "[CV] C=100, gamma=1, kernel=sigmoid ..................................\n",
      "[CV] ................... C=100, gamma=1, kernel=sigmoid, total=  22.0s\n",
      "[CV] C=100, gamma=1, kernel=sigmoid ..................................\n",
      "[CV] ................... C=100, gamma=1, kernel=sigmoid, total=  22.2s\n",
      "[CV] C=100, gamma=1, kernel=sigmoid ..................................\n",
      "[CV] ................... C=100, gamma=1, kernel=sigmoid, total=  22.6s\n",
      "[CV] C=100, gamma=1, kernel=sigmoid ..................................\n",
      "[CV] ................... C=100, gamma=1, kernel=sigmoid, total=  22.4s\n",
      "[CV] C=100, gamma=1, kernel=sigmoid ..................................\n",
      "[CV] ................... C=100, gamma=1, kernel=sigmoid, total=  22.5s\n",
      "[CV] C=100, gamma=0.1, kernel=rbf ....................................\n",
      "[CV] ..................... C=100, gamma=0.1, kernel=rbf, total=  43.0s\n",
      "[CV] C=100, gamma=0.1, kernel=rbf ....................................\n",
      "[CV] ..................... C=100, gamma=0.1, kernel=rbf, total=  42.7s\n",
      "[CV] C=100, gamma=0.1, kernel=rbf ....................................\n",
      "[CV] ..................... C=100, gamma=0.1, kernel=rbf, total=  46.9s\n",
      "[CV] C=100, gamma=0.1, kernel=rbf ....................................\n",
      "[CV] ..................... C=100, gamma=0.1, kernel=rbf, total=  40.4s\n",
      "[CV] C=100, gamma=0.1, kernel=rbf ....................................\n",
      "[CV] ..................... C=100, gamma=0.1, kernel=rbf, total=  40.8s\n",
      "[CV] C=100, gamma=0.1, kernel=poly ...................................\n",
      "[CV] .................... C=100, gamma=0.1, kernel=poly, total=  21.3s\n",
      "[CV] C=100, gamma=0.1, kernel=poly ...................................\n",
      "[CV] .................... C=100, gamma=0.1, kernel=poly, total=  21.0s\n",
      "[CV] C=100, gamma=0.1, kernel=poly ...................................\n",
      "[CV] .................... C=100, gamma=0.1, kernel=poly, total=  21.1s\n",
      "[CV] C=100, gamma=0.1, kernel=poly ...................................\n",
      "[CV] .................... C=100, gamma=0.1, kernel=poly, total=  20.8s\n",
      "[CV] C=100, gamma=0.1, kernel=poly ...................................\n",
      "[CV] .................... C=100, gamma=0.1, kernel=poly, total=  21.4s\n",
      "[CV] C=100, gamma=0.1, kernel=sigmoid ................................\n",
      "[CV] ................. C=100, gamma=0.1, kernel=sigmoid, total=  41.2s\n",
      "[CV] C=100, gamma=0.1, kernel=sigmoid ................................\n",
      "[CV] ................. C=100, gamma=0.1, kernel=sigmoid, total=  40.5s\n",
      "[CV] C=100, gamma=0.1, kernel=sigmoid ................................\n",
      "[CV] ................. C=100, gamma=0.1, kernel=sigmoid, total=  41.9s\n",
      "[CV] C=100, gamma=0.1, kernel=sigmoid ................................\n",
      "[CV] ................. C=100, gamma=0.1, kernel=sigmoid, total=  39.7s\n",
      "[CV] C=100, gamma=0.1, kernel=sigmoid ................................\n",
      "[CV] ................. C=100, gamma=0.1, kernel=sigmoid, total=  39.4s\n",
      "[CV] C=100, gamma=0.01, kernel=rbf ...................................\n",
      "[CV] .................... C=100, gamma=0.01, kernel=rbf, total=  27.6s\n",
      "[CV] C=100, gamma=0.01, kernel=rbf ...................................\n",
      "[CV] .................... C=100, gamma=0.01, kernel=rbf, total=  28.0s\n",
      "[CV] C=100, gamma=0.01, kernel=rbf ...................................\n",
      "[CV] .................... C=100, gamma=0.01, kernel=rbf, total=  27.6s\n",
      "[CV] C=100, gamma=0.01, kernel=rbf ...................................\n",
      "[CV] .................... C=100, gamma=0.01, kernel=rbf, total=  27.2s\n",
      "[CV] C=100, gamma=0.01, kernel=rbf ...................................\n",
      "[CV] .................... C=100, gamma=0.01, kernel=rbf, total=  27.4s\n",
      "[CV] C=100, gamma=0.01, kernel=poly ..................................\n",
      "[CV] ................... C=100, gamma=0.01, kernel=poly, total=  20.1s\n",
      "[CV] C=100, gamma=0.01, kernel=poly ..................................\n",
      "[CV] ................... C=100, gamma=0.01, kernel=poly, total=  20.0s\n",
      "[CV] C=100, gamma=0.01, kernel=poly ..................................\n",
      "[CV] ................... C=100, gamma=0.01, kernel=poly, total=  20.1s\n",
      "[CV] C=100, gamma=0.01, kernel=poly ..................................\n",
      "[CV] ................... C=100, gamma=0.01, kernel=poly, total=  20.1s\n",
      "[CV] C=100, gamma=0.01, kernel=poly ..................................\n",
      "[CV] ................... C=100, gamma=0.01, kernel=poly, total=  19.5s\n",
      "[CV] C=100, gamma=0.01, kernel=sigmoid ...............................\n",
      "[CV] ................ C=100, gamma=0.01, kernel=sigmoid, total=  25.8s\n",
      "[CV] C=100, gamma=0.01, kernel=sigmoid ...............................\n",
      "[CV] ................ C=100, gamma=0.01, kernel=sigmoid, total=  28.0s\n",
      "[CV] C=100, gamma=0.01, kernel=sigmoid ...............................\n",
      "[CV] ................ C=100, gamma=0.01, kernel=sigmoid, total=  26.6s\n",
      "[CV] C=100, gamma=0.01, kernel=sigmoid ...............................\n",
      "[CV] ................ C=100, gamma=0.01, kernel=sigmoid, total=  26.4s\n",
      "[CV] C=100, gamma=0.01, kernel=sigmoid ...............................\n",
      "[CV] ................ C=100, gamma=0.01, kernel=sigmoid, total=  27.4s\n",
      "[CV] C=100, gamma=0.001, kernel=rbf ..................................\n",
      "[CV] ................... C=100, gamma=0.001, kernel=rbf, total=  28.0s\n",
      "[CV] C=100, gamma=0.001, kernel=rbf ..................................\n",
      "[CV] ................... C=100, gamma=0.001, kernel=rbf, total=  30.0s\n",
      "[CV] C=100, gamma=0.001, kernel=rbf ..................................\n",
      "[CV] ................... C=100, gamma=0.001, kernel=rbf, total=  28.0s\n",
      "[CV] C=100, gamma=0.001, kernel=rbf ..................................\n",
      "[CV] ................... C=100, gamma=0.001, kernel=rbf, total=  28.6s\n",
      "[CV] C=100, gamma=0.001, kernel=rbf ..................................\n",
      "[CV] ................... C=100, gamma=0.001, kernel=rbf, total=  28.7s\n",
      "[CV] C=100, gamma=0.001, kernel=poly .................................\n",
      "[CV] .................. C=100, gamma=0.001, kernel=poly, total=  19.6s\n",
      "[CV] C=100, gamma=0.001, kernel=poly .................................\n",
      "[CV] .................. C=100, gamma=0.001, kernel=poly, total=  20.0s\n",
      "[CV] C=100, gamma=0.001, kernel=poly .................................\n",
      "[CV] .................. C=100, gamma=0.001, kernel=poly, total=  19.9s\n",
      "[CV] C=100, gamma=0.001, kernel=poly .................................\n"
     ]
    },
    {
     "name": "stdout",
     "output_type": "stream",
     "text": [
      "[CV] .................. C=100, gamma=0.001, kernel=poly, total=  20.4s\n",
      "[CV] C=100, gamma=0.001, kernel=poly .................................\n",
      "[CV] .................. C=100, gamma=0.001, kernel=poly, total=  20.0s\n",
      "[CV] C=100, gamma=0.001, kernel=sigmoid ..............................\n",
      "[CV] ............... C=100, gamma=0.001, kernel=sigmoid, total=  22.9s\n",
      "[CV] C=100, gamma=0.001, kernel=sigmoid ..............................\n",
      "[CV] ............... C=100, gamma=0.001, kernel=sigmoid, total=  23.0s\n",
      "[CV] C=100, gamma=0.001, kernel=sigmoid ..............................\n",
      "[CV] ............... C=100, gamma=0.001, kernel=sigmoid, total=  23.7s\n",
      "[CV] C=100, gamma=0.001, kernel=sigmoid ..............................\n",
      "[CV] ............... C=100, gamma=0.001, kernel=sigmoid, total=  23.9s\n",
      "[CV] C=100, gamma=0.001, kernel=sigmoid ..............................\n",
      "[CV] ............... C=100, gamma=0.001, kernel=sigmoid, total=  22.8s\n"
     ]
    },
    {
     "name": "stderr",
     "output_type": "stream",
     "text": [
      "[Parallel(n_jobs=1)]: Done 240 out of 240 | elapsed: 396.3min finished\n"
     ]
    },
    {
     "data": {
      "text/plain": [
       "GridSearchCV(cv=None, error_score=nan,\n",
       "             estimator=SVC(C=1.0, break_ties=False, cache_size=200,\n",
       "                           class_weight=None, coef0=0.0,\n",
       "                           decision_function_shape='ovr', degree=3,\n",
       "                           gamma='scale', kernel='rbf', max_iter=-1,\n",
       "                           probability=False, random_state=None, shrinking=True,\n",
       "                           tol=0.001, verbose=False),\n",
       "             iid='deprecated', n_jobs=None,\n",
       "             param_grid={'C': [0.1, 1, 10, 100], 'gamma': [1, 0.1, 0.01, 0.001],\n",
       "                         'kernel': ['rbf', 'poly', 'sigmoid']},\n",
       "             pre_dispatch='2*n_jobs', refit=True, return_train_score=False,\n",
       "             scoring=None, verbose=2)"
      ]
     },
     "execution_count": 117,
     "metadata": {},
     "output_type": "execute_result"
    }
   ],
   "source": [
    "from sklearn.svm import SVC\n",
    "from sklearn.model_selection import GridSearchCV\n",
    "\n",
    "# create a parameter grid\n",
    "param_grid = {'C': [0.1,1, 10, 100], 'gamma': [1,0.1,0.01,0.001],'kernel': ['rbf', 'poly', 'sigmoid']}\n",
    "grid = GridSearchCV(SVC(),param_grid,verbose=2)\n",
    "\n",
    "# train svc model with the\n",
    "grid.fit(X_train,y_train)"
   ]
  },
  {
   "cell_type": "code",
   "execution_count": 118,
   "metadata": {},
   "outputs": [
    {
     "data": {
      "text/plain": [
       "{'C': 10, 'gamma': 1, 'kernel': 'rbf'}"
      ]
     },
     "execution_count": 118,
     "metadata": {},
     "output_type": "execute_result"
    }
   ],
   "source": [
    "grid.best_params_"
   ]
  },
  {
   "cell_type": "code",
   "execution_count": 119,
   "metadata": {},
   "outputs": [
    {
     "data": {
      "text/plain": [
       "SVC(C=10, break_ties=False, cache_size=200, class_weight=None, coef0=0.0,\n",
       "    decision_function_shape='ovr', degree=3, gamma=1, kernel='rbf', max_iter=-1,\n",
       "    probability=False, random_state=None, shrinking=True, tol=0.001,\n",
       "    verbose=False)"
      ]
     },
     "execution_count": 119,
     "metadata": {},
     "output_type": "execute_result"
    }
   ],
   "source": [
    "grid.best_estimator_"
   ]
  },
  {
   "cell_type": "code",
   "execution_count": 120,
   "metadata": {},
   "outputs": [],
   "source": [
    "grid_pred = grid.predict(X_test)"
   ]
  },
  {
   "cell_type": "code",
   "execution_count": 123,
   "metadata": {},
   "outputs": [
    {
     "name": "stdout",
     "output_type": "stream",
     "text": [
      "[[2907 2680]\n",
      " [9971 9389]]\n",
      "\n",
      "              precision    recall  f1-score   support\n",
      "\n",
      "           0       0.23      0.52      0.31      5587\n",
      "           1       0.78      0.48      0.60     19360\n",
      "\n",
      "    accuracy                           0.49     24947\n",
      "   macro avg       0.50      0.50      0.46     24947\n",
      "weighted avg       0.65      0.49      0.53     24947\n",
      "\n"
     ]
    }
   ],
   "source": [
    "from sklearn.metrics import classification_report,confusion_matrix,plot_confusion_matrix, plot_roc_curve\n",
    "print(confusion_matrix(y_test,grid_pred))\n",
    "print()\n",
    "print(classification_report(y_test,grid_pred))"
   ]
  },
  {
   "cell_type": "markdown",
   "metadata": {},
   "source": [
    "## 2.6. Radom forest classifier  model  "
   ]
  },
  {
   "cell_type": "markdown",
   "metadata": {},
   "source": [
    "### 2.6.1. Train model with over-sample minority class"
   ]
  },
  {
   "cell_type": "code",
   "execution_count": 273,
   "metadata": {},
   "outputs": [],
   "source": [
    "X = df.drop('PURCHASE',axis = 1).values\n",
    "y = df['PURCHASE'].values\n",
    "\n",
    "X_train, X_test, y_train, y_test = train_test_split(X, y, test_size=0.30, random_state=101)\n",
    "\n",
    "# Normalize the data\n",
    "from sklearn.preprocessing import MinMaxScaler\n",
    "scaler = MinMaxScaler()\n",
    "\n",
    "X_train = scaler.fit_transform(X_train)\n",
    "X_test = scaler.transform(X_test)\n",
    "\n",
    "y_train_re=y_train.reshape(X_train.shape[0],1)\n",
    "# re-Concate X_train and y_train \n",
    "sampled = np.concatenate((X_train,y_train_re),axis = 1)\n",
    "\n",
    "X_train_1 = sampled[y_train==1]\n",
    "X_train_0 = sampled[y_train==0]\n",
    "\n",
    "# over-sample the minority class\n",
    "X_train_0_over =  resample(X_train_0,\n",
    "                          replace=True, # sample with replacement\n",
    "                          n_samples=len(X_train_1), # match number in majority class\n",
    "                          random_state=27) # reproducible results\n",
    "\n",
    "data_train = np.concatenate((X_train_1,X_train_0_over),axis = 0)\n",
    "\n",
    "# re-create the train set\n",
    "X_train = data_train[:,0:(data_train.shape[1]-1)]\n",
    "y_train = data_train[:,-1]"
   ]
  },
  {
   "cell_type": "code",
   "execution_count": 274,
   "metadata": {},
   "outputs": [],
   "source": [
    "from sklearn.ensemble import RandomForestClassifier\n",
    "rfc_model = RandomForestClassifier(n_estimators=10).fit(X_train,y_train)"
   ]
  },
  {
   "cell_type": "code",
   "execution_count": 275,
   "metadata": {},
   "outputs": [
    {
     "name": "stdout",
     "output_type": "stream",
     "text": [
      "              precision    recall  f1-score   support\n",
      "\n",
      "           0       0.22      0.17      0.20    111354\n",
      "           1       0.78      0.82      0.80    387569\n",
      "\n",
      "    accuracy                           0.68    498923\n",
      "   macro avg       0.50      0.50      0.50    498923\n",
      "weighted avg       0.65      0.68      0.66    498923\n",
      "\n",
      "\n",
      "[[ 19415  91939]\n",
      " [ 68276 319293]]\n"
     ]
    }
   ],
   "source": [
    "# predict\n",
    "y_pred_rfc = rfc_model.predict(X_test)\n",
    "\n",
    "# evaluate the model\n",
    "print(classification_report(y_test,y_pred_rfc))\n",
    "print()\n",
    "print(confusion_matrix(y_test,y_pred_rfc))"
   ]
  },
  {
   "cell_type": "markdown",
   "metadata": {},
   "source": [
    "### 2.6.2. Random forest model with original data (without resample)"
   ]
  },
  {
   "cell_type": "code",
   "execution_count": 284,
   "metadata": {},
   "outputs": [],
   "source": [
    "X = df.drop('PURCHASE',axis = 1).values\n",
    "y = df['PURCHASE'].values\n",
    "\n",
    "X_train, X_test, y_train, y_test = train_test_split(X, y, test_size=0.30, random_state=101)\n",
    "\n",
    "# Normalize the data\n",
    "from sklearn.preprocessing import MinMaxScaler\n",
    "scaler = MinMaxScaler().fit(X_train)\n",
    "\n",
    "X_train = scaler.transform(X_train)\n",
    "X_test = scaler.transform(X_test)"
   ]
  },
  {
   "cell_type": "code",
   "execution_count": 285,
   "metadata": {},
   "outputs": [],
   "source": [
    "rfc_model_1 = RandomForestClassifier(n_estimators=10).fit(X_train,y_train)"
   ]
  },
  {
   "cell_type": "code",
   "execution_count": 286,
   "metadata": {},
   "outputs": [
    {
     "name": "stdout",
     "output_type": "stream",
     "text": [
      "              precision    recall  f1-score   support\n",
      "\n",
      "           0       0.22      0.60      0.33    111354\n",
      "           1       0.78      0.40      0.52    387569\n",
      "\n",
      "    accuracy                           0.44    498923\n",
      "   macro avg       0.50      0.50      0.42    498923\n",
      "weighted avg       0.65      0.44      0.48    498923\n",
      "\n",
      "\n",
      "[[ 67365  43989]\n",
      " [234475 153094]]\n"
     ]
    }
   ],
   "source": [
    "# predict\n",
    "y_pred_rfc = rfc_model.predict(X_test)\n",
    "\n",
    "# evaluate the model\n",
    "print(classification_report(y_test,y_pred_rfc))\n",
    "print()\n",
    "print(confusion_matrix(y_test,y_pred_rfc))"
   ]
  },
  {
   "cell_type": "code",
   "execution_count": null,
   "metadata": {},
   "outputs": [],
   "source": []
  }
 ],
 "metadata": {
  "kernelspec": {
   "display_name": "Python 3",
   "language": "python",
   "name": "python3"
  },
  "language_info": {
   "codemirror_mode": {
    "name": "ipython",
    "version": 3
   },
   "file_extension": ".py",
   "mimetype": "text/x-python",
   "name": "python",
   "nbconvert_exporter": "python",
   "pygments_lexer": "ipython3",
   "version": "3.7.6"
  }
 },
 "nbformat": 4,
 "nbformat_minor": 2
}
